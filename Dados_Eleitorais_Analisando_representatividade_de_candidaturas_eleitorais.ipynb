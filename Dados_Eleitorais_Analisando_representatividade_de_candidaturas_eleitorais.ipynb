{
  "nbformat": 4,
  "nbformat_minor": 0,
  "metadata": {
    "colab": {
      "provenance": []
    },
    "kernelspec": {
      "name": "ir",
      "display_name": "R"
    },
    "language_info": {
      "name": "R"
    }
  },
  "cells": [
    {
      "cell_type": "markdown",
      "source": [
        "*Este tutorial é uma adaptação do conteúdo do webinar **[Analisando representatividade de candidaturas eleitorais](https://escoladedados.org/webinar/analisando-representatividade-de-candidaturas-eleitorais/)** realizado por Polinho Mota (data_labe). O texto e a organização deste notebook foi feito pela Escola de Dados em abril de 2024.*"
      ],
      "metadata": {
        "id": "uktErH1SjnEB"
      }
    },
    {
      "cell_type": "markdown",
      "source": [
        " Neste notebook, veremos como utilizar a linguagem R para analisar dados de eleições. No ano em que este tutorial está sendo escrito acontecerá as eleições municipais, mas independente de qual seja o momento que você está lendo, saber o indicativo de representatividade das candidaturas é muito importante até, em muitos casos, para compreender o motivo de ausência ou presença de eficiência em algumas políticas públicas.\n",
        "\n",
        "O tutorial foi construído de maneira que qualquer pessoa possa executar os códigos, apenas adaptando a sua cidade. No webinar, Polinho analisa os dados relacionados a cidade do Rio de Janeiro. Aqui utilizaremos dados do estado de Pernambuco.\n",
        "\n",
        "Iremos coletar os dados, tratar, analisar e exportar. No final teremos uma base de dados totalmente personalizada que será capaz de responder algumas pergunta sobre o assunto proposto."
      ],
      "metadata": {
        "id": "fjUw36pFprVc"
      }
    },
    {
      "cell_type": "markdown",
      "source": [
        "# Como utilizar este notebook 🧭"
      ],
      "metadata": {
        "id": "vXsQtcaGnKmy"
      }
    },
    {
      "cell_type": "markdown",
      "source": [
        "Eu não sei qual o seu nível de conhecimento na linhaguagem R, mas este notebook foi construído pensando em pessoas que nunca usaram ou pessoas com conhecimentos básicos. Se você já tem um conhecimento avançado, talvez ache muito monótono. E por falar em monotomia, pode haver trechos que poderiam ser feitos ou de uma maneira mais compacta ou menos explicativa, mas  é de propósito. Optamos por escrever assim para tentar deixar o mais didático possível\n",
        "\n",
        "Bem, se você é uma pessoa iniciante, sugerimos que:\n",
        "\n",
        "\n",
        "- Siga todos o conteúdo em sequência enquanto executa os scripts. Cada etapa é pensada para que você consiga compreender o processo básico de análises.\n",
        "\n",
        "Se você é uma pessoa que já tem algum conhecimento da linguagem:\n",
        "\n",
        "- Opcionalmente leia a seção *Introdução*, que te dará um contexto sobre a análise que você quer fazer;\n",
        "- Pegue os dados na seção *links úteis*; e\n",
        "- Pule para seção *Acelera*, onde estarão os mesmos scripts das etapas anteriores, porém apenas comentados.\n",
        "\n",
        "\n",
        "Vamos começar?!"
      ],
      "metadata": {
        "id": "3xpqW4kFnYDV"
      }
    },
    {
      "cell_type": "markdown",
      "source": [
        "# Links úteis 🔗"
      ],
      "metadata": {
        "id": "TV_9P_Vhp4dh"
      }
    },
    {
      "cell_type": "markdown",
      "source": [
        "Aqui estão todos os links que podem apoiar você neste tutorial:\n",
        "\n",
        "\n",
        "\n",
        "* Cartilha [Dados sem caô](https://datalabe.org/cms/wp-content/uploads/2022/05/guia_dados_sem_cao.pdf)\n",
        "*   Webinar: [Analisando representatividade de candidaturas eleitorais](https://escoladedados.org/webinar/analisando-representatividade-de-candidaturas-eleitorais/)\n",
        "*   [Scripts](https://github.com/escola-de-dados/tutorial-eleicoes/tree/main/webinar-analisando-representatividade-eleitorais) usados no webinar\n",
        "* [Bases de dados](https://github.com/escola-de-dados/tutorial-eleicoes/tree/main) usadas neste notebook\n",
        "* Site da [Base dos Dados](https://basedosdados.org/) (BD)\n",
        "\n",
        "\n",
        "\n",
        "\n",
        "\n"
      ],
      "metadata": {
        "id": "LOTCq5qfp-L-"
      }
    },
    {
      "cell_type": "markdown",
      "source": [
        "# Introdução 📚"
      ],
      "metadata": {
        "id": "O2uvbhHfmTR8"
      }
    },
    {
      "cell_type": "markdown",
      "source": [
        "A análise de dados sempre vai começar respondendo uma pergunta. A pergunta é muito importante, pois é a partir dela que temos um direcionamento de quais dados vamos utilizar. No nosso caso, a pergunta é: *quantas candidatas negras foram eleitas nos municípios de Pernambuco?*. Se estamos falando de eleição, consequentemente os dados neste caso serão dados eleitorais.\n",
        "\n",
        "Os dados eleitorais estão disponíveis no portal de dados abertos do [Tribunal Superior Eleitoral](https:/https://dadosabertos.tse.jus.br). Ter os dados disponíveis já é ótimo, nos polpa o trabalho de adquiri-los de maneira mais complexa. No entanto, mesmo embora exista esta disponibilidade, não temos como garantir se os dados estão bons o suficiente para serem analisados.\n",
        "\n",
        "Atualmente temos iniciativas muito interessantes que tem facilitado cada vez mais os processos de análise, tentando ao máximo diminuir as etapas mais complexas (como as de limpeza, por exemplo) para tornar mais simples qualquer pessoa com conhecimentos técnicos mínimos conseguir analisar. Uma dessas iniciativas é a [Base dos Dados](https://basedosdados.org/) (BD).\n",
        "\n",
        "Na BD, os dados já vem tratados e organizados, de maneira que você só precisa se preocupar em filtar exatamente os dados que utilizará para suas análises.\n",
        "\n",
        "Não vamos aqui nos estender explicando como funciona a BD, mas convidamos você a conhecer e utilizar as bases organizadas por eles.\n",
        "\n",
        "Sem mais delongas, vamos começar! o/"
      ],
      "metadata": {
        "id": "16WeERoAso7a"
      }
    },
    {
      "cell_type": "markdown",
      "source": [
        "# Coletando os dados ⛏"
      ],
      "metadata": {
        "id": "uFMzkzQAlNjT"
      }
    },
    {
      "cell_type": "markdown",
      "source": [
        "Os dados da BD estão armazenados na [BigQuery](https://basedosdados.github.io/mais/access_data_bq/), um serviço de banco de dados em nuvem da Google. Para acessar, basicamente só precisa ter uma conta Gmail.\n",
        "\n",
        "**Spoiler:** vamos utilizar R para analisar, mas para coletar os dados que precisamos, vamos utilizar SQL. Não se preocupe, vai dar tudo certo! 😁"
      ],
      "metadata": {
        "id": "_pjw7G_jqpCe"
      }
    },
    {
      "cell_type": "markdown",
      "source": [
        "## Primeira etapa: buscando dados na BD"
      ],
      "metadata": {
        "id": "wKbFmkxfv3zJ"
      }
    },
    {
      "cell_type": "markdown",
      "source": [
        "Vamos começar acessando o site da BD para encontrar a base que queremos: **https://basedosdados.org/**.\n",
        "\n",
        "Logo na tela inicial vai aparecer um campo de busca para você dizer qual base você quer visualizar. Neste campo escreva **eleições**. Seu resultado de busca deve ser semelhante a este baixo.\n",
        "\n"
      ],
      "metadata": {
        "id": "sKzI6wudvNXK"
      }
    },
    {
      "cell_type": "markdown",
      "source": [
        "![image.png](data:image/png;base64,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)"
      ],
      "metadata": {
        "id": "4kMYEr2KwvId"
      }
    },
    {
      "cell_type": "markdown",
      "source": [
        "A base que queremos é exatamente **Eleições Brasileiras**, vamos clicar nela. Ao fazer isso, ele vai abrir uma nova área com informações mais detalhadas sobre a base, vamos entende-las."
      ],
      "metadata": {
        "id": "fkRPfzNCwvFr"
      }
    },
    {
      "cell_type": "markdown",
      "source": [
        "![image.png](data:image/png;base64,iVBORw0KGgoAAAANSUhEUgAABlcAAAMKCAYAAAAYhRKbAAAAAXNSR0IArs4c6QAAAARnQU1BAACxjwv8YQUAAAAJcEhZcwAAEnQAABJ0Ad5mH3gAAP+lSURBVHhe7N0JYFNV+jbwJ+kGhZZ9bQHLbhEQsFg2QVRARrCOwLggM8AwIm7DMIx+IALDoPB3EBdEHKQq1g1QKyhLxQqyVSq7VArWCrTsa0sL3ZLvnpuTNklv0qRN2yR9fhhzz8ltcnO33Jw357w6owJERERERERERERERETkFL28JyIiIiIiIiIiIiIiIicwuEJEREREREREREREROQCBleIiIiIiIiIiIiIiIhcwOAKERERERERERERERGRCxhcISIiIiIiIiIiIiIicgGDK0RERERERERERERERC5gcIWIiIiIiIiIiIiIiMgFDK4QERERERERERERERG5QGdUyGmqIlzlRJ5Pp9PJKSIiIiIiIiIiIiJrDK64EVclUc3DIAwREREREREREVHNw+BKBTiz6nTKPzOj8o+IvIurxzCDLURERERERERERL6PwRUXOVpdohHWmcZXrnIiz+dMkKSsY56BFiIiIiIiIiIiIt/E4IqTtFaTvYbVslZp6cfZAEtU/ayPy7ICI1qP2zsnMMhCRERERERERETkWxhcKYPt6tFqPLWdR5TFfOI/c5mIvFtxgEQ5nMU5wDZgUqqsca5gkIWIiIiIiIiIiMg3MLhiR1mrxfJxMSnaTK3/RqfWWTamsmGVyPtYH+tG9XhXptSyII5r8znArKxjnecCIiIiIiIiIiIi78bgig1Hq8PqMTGpK6kz91QRjaZsOCXyfeLYV49/9T95HhDHvjw3mDk6H/BcQURERERERERE5J0YXJEcrQbzY+JObTuVZXMghQ2kRCTOC+abIM4L5nOGuWwPzyFERERERERERETehcEVheUqED1QzL9CN9ebG0hFWdxEQ6her2eDKBGVIs4RBoOh+FwhbuZziGA+b1ieawSeT6pJXjoSVm7A1p+3Y++hxpjw4RsYHSYfI6qBsnavworvD2DfnkNIuX0WfpoWJR8hIiIiIiIiIkt6eV9jmQMoZqKx0xxEKXnI1Fgq+Pn5qTc2hBKRFnFuMJ8nBNO5w3QyEeeU4vOLrDOzPRdRFblwAHGvrcDqzalIO5svKytZ7kHETh6Crl36oO/kOOzLlfVElSxj00LE9O+Fjv0fwdxNmbLWWsq2hXh75UYkHc5ElqyrbM4sFxEREREREZGnqbHBFXMDpyB+QW5mWa+U1IZRy8ZSBlU8l8FgRF5+IbKv3cD5S9nIPHsZv2dcwK+/n8OR387gl19PIeWYclPuf0k7jaPpZ/DbifM4ceoizpy/iktXc5B7PR+FhUXKPiCflKicbM8b1kEWy/NMyTnItp58U9qaBViw7SLykI8L2xZj6aaL8pFKciEZsdPHo29UL3TsMgiDn52Hjzan43ye6eHz25Zi3Bil7kAlLwdVr7wdePsfq5ByWZm+nIqPXvgK+0yPVC9PXS4iIiIiIiKiMtTIYcG03nJxnXInflFuLjOg4plEIOVKVi5+z7ygBkjST17AqXOXkXXtBgoLTUMyqVtQbk+VvFNZbFK1YVv8p950qB0UgEYN6qJ1y0Zo17oJ2rZqgpbN6qOWUk9UXmKfLCoqUqfFfmbe78xlWzzv2JOMBV0mI1aWXNJ3FhKXxyBcFlWZ8Rg3ZB6S1EIU5icsq/RhwdJWPoJ7F6bKEjDwPwlY/kAjWXIz5f1NipmHrWX2jgnBiNc/x6K7K2k5qlpeJrau+Qq79h9E0vEs5F1IL90zqUEYIlvWRfjNd2HggP7oM6ATwoPkY74obwdm9nwGq2URwRPxWfIU9JBFs6RFvTDOfIBNWIajlT0smJPLRURERERERORpalxwRevtWtaJaVEU7ZoisELVSwRRLly+hvQMUwBF9DARvVIuKnXXcvPUx6tCYIA/6ocGo0nDusotBK1aNETb1k0QrtzXqR0o5yIqmwiwmM8xlgEUBlic5f3BFXVYsH/8E4u3ZSNkwJN469Wx6BEsH3M30WvlpcXY0nEqlkyKQijycf637UiI24AV3yUi43IgGveMwdSZUzC6c4j8Ix9gtV2dFYLoyfOxaEo/NPHRj38x/NZT81YhBZ3w6KxXMHto6Z29yoMrCmeWi4iIiIiIiMjT1Kjgivmtil+Mm3szmIMpypTpceU/vZ9eTVhPVa+gsEgd1ksEUfb/chLJB9Nx7mJ28bbzNEGBAejUthlu794W7W9qiob16qB27UDo2ShODoghwgxFBnEykgEU5axUPG19jmKAxZYPBFeo8pUruGIS1Hkiln84BdGVFfDycNURXCEiIiIiIiLyRjUmuGJ+m+ZGy+K3rdwVl5X//Pw5DFh1OHshC9uSj2Lf4RO4eCUH13JvVFmvFHcJCvRHvZDaaq+WAVEdcWtkK7XHC5EWcc4pKiwSJyX1nCP+if8Ec5kBFi3WwZXouWuxclQFoiEMrvgmm+DKo8v2YPYAWTDLy0bW2VPYunklVsRuNOX8kIIeegM/zeoHXx4lzB4GV4iIiIiIiIicUyO6Z5QdWBEFHfz8/dmIWUVE0vj0k+exLvEA5ry+FtNe+gxfbNqL9IwLyLp23esCK4JIpi962ez5+Thee+9bPD3nY7zz8RYk7UvD5au5cj8jMhHnGnHOEecesW+ogRS5j4hzlPinBlxkmYjKL0grShIUgtDWnTBiwnzEb12L+YNKhnjM+3Q9tloEW4iIiIiIiIiIbPl8cMVuYEWhlmUjvp+fHoyrVD4RVPnp0O/454JVmLnoS3yy9kccTT/jlcGUsmTn3MDW3Ufxxgff4ek5H2HZx9/jkhpkYUM5mYhzjjj3COJcJP6ZMcBCVIX8wjD6n08iUhaBjdh7TE4SEREREREREWnw6WHBzG9NM7AiGi7NgRUOBVapxGr/7eR5fLcjBYd/PYXzF7PlIzWPv58e7do0Re/uEbgjqiPqBNfEQWfIljgfqUOEKXR65YxlcT4S0+ZzmLlcs3nAsGBF2Uj7fgNi18Vj155UZKg9HALRuEN39Bk5BlMeGIx2DdQ5tZXnNbPTkbA2Dmu/SkbS4UxkqZXiNSPQvkN/jHjgXgy9PQKhdhKx52UexNovPsO675Kx79hF5InKBmGI7jMMIx6+HyO7hyHIlSTuFV0HkuZyIQThXVoi8ua7MHBAfwy6s5PrCeZthgWb8N4ePN9bFuyy3rcc/U3eiVQkbPsOSbu34/DRU0g5Yf5cM2+TKIye+CRGdC7pDZOVnoxNm7cjaWcyUo6nI+1svnxErre7hmHsH4ejR1jJ39hT3vXmzJBf5RoW7OxBrF5Vev+K7HUnHv3zmDL3L2dfM+9COvZtScSWH5Xj4NhvSCt+71B7IYV3vBkj/zQFE/o2krWKs6lYt1lrW5n+Jrp3DEaOvRdDOoTIWgfyMrFv3VeI+yYRu35Ox4VcU7X5tYcO6IeBgwYjsrGpnoiIiIiIiHybzwZXbN+WZVlMm38lHhAQIGvJ3W7kFajDfK37bj8O/JJRapvUdCKwMmJwd/Tp0Q6NGtSFXs8AX01XUFCgBlK0AiyWanaApXqDK3nH4vHv5xdi9RFzw7iWCIx45XUsGm7niVx5zaJspHz6b4x7KVEGVOyx8zxFmVg3ezpmfJla3AitJahzDF5c8BxGd3CiYd8d6wD52LfscYx786DD5QKGYcn2+RjiRKDGSnmCK+lxiLlvMVLUgr3tchGrnxyCmVtk0a4wTF21Fk90kUVF0sJeGLdSFuwKRI+n38HKyd3s5Hup2Hpze3Cl6CKSls7EU8uSHe6fQT2nYOXSiehhJ37hzGvue60P/rTc0T5nMuLVLVg0tOSFMtZMxuDZybJkX7uRr2D5fwYj3F6A8sAKjPvrUuyTARV7bF+fiIiIiIiIfFeNyLlSzGgdWPHzc/WnsOQMMcRX8sF0zF78FV5e+g32p5xkYEVDTm4ePvt6N2Yu+gLvfLJFzctCNZs4J6lnJ3GOEscMDxuPkrd7MWJi5pURVBDSsW76KExakynL5VSUjaTXxiOmzMCKonN/9LQNBOQmY/GYUZhWRmBFyDsSj5mP/AWLdzt+b+5aBxlr/ulEgEAR1hbhrgZWyqMoE6v/+5YMrCi6Dy69PlU3RHzDCV3RrqWclJq06CSnHMnHvjcfx1PesN7EOnvmPowrI7Ai5O1dij89vBhJFfiYyytyZsWHoX24dWCjSWN7AT5raWunY9JrydrrNjMeTzkRWNF6fSIiIiIiIvJdPhlcsW3INzdSFjdaKv/89H7Q62tWbKmyFRYZsGtfGl5a+jVee28zTp65pNaRfWJPvZabh23Jx/CvBavw4Zc7kXmGWZRrKnFOEucmy3OV+p/WOY2q1oVEzHgyDmmyiAZReOL1Ndixdw+OHlZuB3dhR/wreKKnuedHPrYuXIqEC7JYDhlfzsSk2HRZAkL7jsX8D9fiJ/NrKrdDSQnYsHwWnvhzFNrJ+UzE6z+Dt4uDIIGIfOA5fLZhV/HfHk1ei8/mjkGPYDlLbirefnKu/WV21zooSkbcwh3FjdihfSdiSXwCDh2UzyPe1/a1iH/lOYwe283mfblRUT6yLmciZX0cnhozCjO3yHUV3AlP/DPGqdeNHPcKNiRusV52sU0+/CuibYIbTW4Zg/mvf4zE7dbzH92rzP/6xJLtoK63OGy1beX3lPUmpSx/tmSd2du/ZgwrWY70OMxdmSoLFTR0KuI32KzH5C1IXPUfjGgv55GC2vTD7FfeK7WdxP6a+OFzGBEhZ1SkxS7FmpJDrljSpwux1RxYsd3vi197PmaPUo4nm9cnIiIiIiIi3+Vz0QVzo6MYWkcQZVNspeReDKmjl0mkqeJET5XfMy9g+sur8OYH3yHl19Ns/C2HnOv52LD1Zzz/yudYs/4n5CplqnnEuUmcoyzPWeq9PKYsz20EJM0eiY5depV5G1ehXiT5SPrgNawzN65GjMXKhGWYencEmpjHbvILRJMOgzH1/TWYP0gGF3I3YsUmjZZaZ1xIxGKLhvR2E5Zhx/KpGN0zDKEW40UFhTRCu74xmDrSplfEgXcxd01Jw/fAuWsQ/58x6NHaYtiv4DD0GPUcPoufhYHFAZaNWPCB1q/33bgOzmQipbgHQAwWLZmCIR0aWeXkCBL5OoaPwfxxUXaGx3JN7HiN/aJbH9zWfyRipi9GggxCieHR5n/8PqYWB4gcC23XCe2ahVgvu9gmPSMQKstmoT1jMPruTghvYD0/gpT5756Cz96fUhKIyI3H3sNy2qwa1ptdmfFY8KZ5uzrYvx6dj/j3xha/r7QV8aWDRuUR1gmRrW3WY7DIOdMN4bZvPGIwHh3erdR2EvtreM8xWPT+KxhRHNg6iC37L8pps0yctOipNfo/b1jv94L62sPw6NyxiK7UFU9ERERERESexKciDJaNjaYGSXPZNG00mnpR+Pv7q/dUcWcvZOHNDzZj7hvr1GmquKIiA75M2IsXXv0SG7YcUoNXVLOYz1HinGU6j5n2AfU8JqcFy3MeVaLL27E61hycCcOEF59EdHFjrA2/MIz+22MIl8V9Ww4gQ067Im3ThyWBjO5TseTvrjSW52Pr2g+LXzdo1H+xxFFemrAYLHklpvj5M2LjsdW2A10lroO8IjlR7SIwcFAUujR2LrDidl2GYUJxXph87PvNcUCwOtdbyrrY4nw26PscZjvYv4J6j8OUobKQG49dB+S0p2g8GKNHyWnF1t9+k1N2FMp7IiIiIiIiqvFqRPeN4gZI5Y55VtxD5Av55vsD+NeC1fjxQDry8grkI+QOYo89c/4qPozfhTlvfIXU387AwIb0GkU9V5lPXdz21euXA1gnJxF8Jwb1KqPxvXN39JGT2JlejuBKJvZuOSingSFj70U7Vz66ig5g16clvVYe/UO/MgMzQQPux4Ti9vGN2HrApuecO9dB4yZoVxyYice06XFI8YjRENORsGwmYvoPwlMfKZ9rsrbqhKFVZzmpxWPWWyYO/1gS+IkeGlUcSNPWCJG3mntW5SPlREV6kVWO8HYOkvajCZpa9MhZ/f/+idjD2bJERERERERENZnPBFfMjY9WQ+aI/+S9+PW/OhwY86xUWNrxc5jxyuf4eO1uFBR6zE+Ofdavv5/Dy29/g+WfbEV+Ptd3TSHOVeKcpfZcsjiXaZ7rarDouWtL8h44uK101HOjDBmnLPJE5MZhXDeNIaYsbz2fwWo5O5CKky63JZ9C2k45iU7oeXMjOe0kMXyUnASGo093OemIX2f0LI6GACcvnJdTJm5dB0H9MPbpbrIA5G1ZrAY0Bj+7GKt3piOrEk5zE97T3i9E3o2fEtdg5dyJGNLZ3ICejYSXHsGkj8o5pJsDeZmpWPfRPDXHS9+okvV1272PYNx05f076tVRDetNm7J/7paTiiQnhua7d2HJ/pN0/JScqkKX05G0ZimmjX8Eg/uXLFfXwaMQ8+w8rPje0TIFYuDYJ9FDlpC7AwvGDFK22XQsWJOMNKZJIyIiIiIiqrF8LtKgDppjlDd12lQn/u/nz14rFSFygMTF78K/l6zD+cvXanyjblXKLyjC1t1HMfv1ePx06HdZ65gx+0cYzrzDm52bMfdnuaY8l+mcZX0uszy/UdXIOJ4sp6pIpmVwJBQhro5SlZleMmQT6iLIqfHEAhFkkSTEtgHc3eug3aNv4LOnu1n0qMlGxuY4zJw0Crd1G4SY6XFISK+C3gF+gQhtFoHoUVOwZNXXWP6QObt5PpJeWop19pL7u6ooEwkvPILbhjyCaS/FI+FwOi4U508Bsk6kIml9HNaVMWSWR6w3q/3T0+VjX+xk3NZ/FMbNXoF1u1ORYREMyTubjpTN8fhoSxkR0IixWP7hFPSwGAov60QiYmdPxr39e+G2MTMRu7kqA1xERERERETkCXwiuKLVyK8mhFYbIQ2iRbL4V+DkOrEe006cw9T/fIr1Ww6hoICtB9XleOZFLI5NwIdf7iwz4b0uuCuMF+JhPDZFuU3mzeaGq1vlmvJcxb3tRGBF5l/ROo9pnQOJPJpfCHpMfg8/JbyH+eMGI7yBrFdlI2X9Yjx13xDEvJCIjKr6yPFrhIFP/BVDZBFIRNLPjs+zzrmIhOdH4akvUys+1JgnrjcPlrLsEfxpUTLckREutOdEfLZ9LT6bOxZDWofIWpOswxux4NlR6DdmHhI8b9QzIiIiIiIiqiS+13NFDajIxkb1HjAYDcy1Uk5i2K9Pv96NBW9vQHbODVlL1Uns0xu3/ox5S9Yh7bj10D1W/ILhF/k5dOH/AnTc/72VOHeJc5jY7qZzmsU5jqpEeBuLfAzjlpUeWsrhbRlGuzoiWfMwRMpJIAvZrrbvh0UgWk4C15DnVIt+PvIsWqCj27SUUyaVtQ6Cwrph9HOvIHHrLuyIfwXPD++Ekg40+Uj5cjomLbcYkqyyNe6KgcVJ5UsPj1YuBz7DgvUlGzG070QsiU/AT3ut19Oh7Wsx35z4vQzVut6s9s8ozE+wfh9l3qY5ym/iRhc2YumbJUO7BXWOwewP1+KnZOvlOZSUgJWTzTlhyhAUhh6jpmLJhi04tHUNlkwbhkiLAFfekXg89fgKpDCwRUREREREVCN4fXBFq4FR/LBbbYAULZHKzU/vx14r5XD2/FUsWZmIrxMPIOd61af2JfvEni16sSx4Zz22/phqvzeRPhj6iJeV23+VaafGBiIPI85d4hwmtrr6Tzm3aZ3OGGypPE0aW0QGdqciTU5WGr/GaFqc2DwVe3+5KKedZNX4vR67yhhqSlV0BHt3yWlFq8ZN5JRJpa8Dv0A06TAYE175GD9t/xjPDyoZCy1tRTy2VtlHUD6y3dHNwULKro0lCf37zkL8sikY0qERQm1OyUENwtDK1UBcdaw3q/0zGfuPuaN3j/tl7dmGBDmNMDGs1yw82jMMoRZDewlBIY0Q3sJiTDwnBTWOwJAJ8xG/dQvin+tXMlRb+rtYvdMz1wkRERERERG5l0/1XFEDKsaSRkbTNJhrpRxOn7uCuW+uRfLBdHUdkmfKyc3D/z79AStWb4PBwYbShT0LfZdNyhFfW9aQNxHnMPP5TLA911HlCureDyPkNI6swurdld1wGoHoe0pa2RPiNiDNlV/C+3VHn1FyGvn46JsdZQ5HlbftK8QWD2c0DAO7Wyd6qdJ10KATJsydXTI8V246zrkr90lZ0ndg0xE5rYhs6Wq0o7SsHItxojqHIbyyLkmqbL1Z75+rP1pfEjzyIFnZFkHJNhEItwmquI1fCCLHzcZLxb2O8pF21g09noiIiIiIiMjjeXVwRathsbjXivqYKT8Be604T6y3hG2H8f9e+RxXsq7LWvJkYpv9sPso/vPmOpw5f1XW2lKOg/p3QH/zKiCgsawjb1FyHjOd28RN67RmOu+RS/xhkRz8FDK0GqMb9MfIh8zBhkzE/nsxtlZyY3/k0LHoIadxYDGeei3ZhWTZgRj4x4kIl6W8Nf/EU2scJILIjMdT0+OLAzDhE2Iw0CqXh6Kq10FICOrJySpzYQfmPr0Y+2QRwWPQp5ecroDQOhYBmsyLqNRmdzestyA/i8CaneW12j93LsTclekVzyfjZqEhjeSU4vgpnK/UobpClNeTk0RERERERFRj+EzPFVODo2xcVO9NNz8/n0srU2nyCwrx4Ze78P7nO5RpDhjubY78dgazX/sKacfPyRpbOuga3gf9zV8C/vVlHXkLcS4zn9dM5zj2XnGLZm0RWfyL9kzE/ncpEo5dRJ7VKTAQAyc8h4Hm+dJXYdK9j2DmR8lIO5ttPW9RPrJOpCJhzWIsWFuBzNYRMXh+UoQsAGmxkzH44YX4aG8msnJlpVD8equw1fLluv8Vs0eZG8nzsXX2KMS8sAr7Tlj0OMnNxL41C/GnmHnYan7O4GF4/s9RFgEnMzeug7wdmDv4GeVvE+387UF8NGcxVssqIAxNKxgTzsvV6GkjXuvyRaTt3YiPZk/GbQOfwUclKTrQ4+kxGOiG0RQje95Zsj43zcUkdTvYvG8hNxtZjiIUVbTerPLrbHoXCz46iAzbxD/K/jl1gnn/VPavhaPQb9JSrDtss38q8rJN6zh2ehz22b7nShR6S1RJ7qHMFZg02XRsl1rHecp6t1lma8r7mzcEk2avMv297fu7rBxHH83FgjWyQmE7rB4RERERERH5Jp3RS1vmzIutU/4Z5a+5BYNBJH42lY0GI4JquaFlpAYQOVVef28zUn49paxDNtZ6s7rBQZj00B2I6lbSMGtNOTauHYTh56FAwVlZV/Po2y+BrsWTsuQd8m7kQac39WIRN73eFDxWy/JcaC77rmQs6DIZsbLksgnLbBJqi4bTgZj0qU3j8aBZ2PFWDCybSPN2L0bM+Djn842IxO/PaSTvzozHuCHzkKQWREJwOwnfizKx+plRmLnFuSG4Jizfg+f7yoKQm4zFjz2Dt4849/cI7oQn3nofU3tbDwlmyS3r4PAKDB6z1OmhpNo9/TE2OJtw3MxqHbuu3UNvYOWMfmhSaggvZZtMGomZO02l6LlrsXJUGUOHubgdzUo9txvWW9KiXhhnPnhKHQtS+ir86b6FJT14VIF44sNdmNpTFgWX35f9fd2Z5XJq2a3kK3/ziPI3FhEzZ5R67lS8PeQRLHY2VhoxBfFfTUQkR6QlIiIiIiLyeV7frcPcmCioARbxn3ozFjc8kmOXruTgtdhv8fPRTAZWfMC13DwsVranGN5NOw+LDrq63aHvtBLwbyjryBuIc5opeKwU5HnOzPJcSK4IxMAn/otHbWORbcOsAitCUO+piI+fhdGd7QcfrBzJrFguCr8wjH7ja6ycHAVn0m2nnLJp/Q2OwtRVa7DogU4aPVGsBXWOwfyPHQdWBHesg/NHDzi5XgIR+egbWDnJxcBKBQQ164cnliVgwyytwEo5ie34yjuY2tPJdWZHla23iDF4aUY3m32mO8KbyUkzF/dPERhNOy4nq0Qgov/+OpaMtPdDAyed/QV7nQysBHUeg+XvM7BCRERERERUU3h9zxVBnVb/E42Oys1gVHuwiCTQ/v7+ci7ScvlqLv7fK2uQde2GrCFfMuKuW/HQfVH2ezLkHETR/r6AIUdW1Bze2HOlsLAQRYVFapCluAeL8k/9z2Ibs+eKA/Z+8V50EVs/XYrVXyUj6XAmIh31SCjKR8aRRGxd9R1WHziANDGMmHwotHUnhHe8GUMHDMOQu6LQzjZ3ieBszxVLl9ORsD4emzZ/j627M5Elq516PUVe5kGs/eIzrPsuGfvMy9sgDNF9hmHEw/djZPcwBLnSIFyRdWD5t7+kIkMMJSUfQnAjtIvojp739MOo4cPRI6ycAYm8TGxd8xV27T+IpONZyLuQjrSztj0sQhDepSVCW9yMgb2jMKh3P/ToUFbijHL0XLFwfm881ny1A5t2JyPlRLasVajvuzGC6kQgumcYWrWLQmT37tbv3w3rzZXeH1lHNmLFingk7FG279kxWHl4askwW7aU/TPpuw1Y/c12Zf9Slu2yrFeXqy0iew3GoPv6YUhn7f2scnqulMhKT8Q6Zb1t2mWx/6vkPoAwdBkQgfAWndGjexSibfaDPDHM3bZV2PTVL0g5ZfH+EIjGHSLQs/tdGHj/MNePIyIiIiIiIvJqXh1cMQ+DY34LlkOCiemgoCAfb2SsmN8zL+CtlYnIPHtF1pCv8ffzw9A7uuBP9/VWprV6cinHy4UvYEgdpxxADged9zneGFwR57a8vDxTcEUEVpSb1tBgPO/5sMMrcO+YpUgLHoPl259zS04QIiIiIiIiIiJynVeOm2UOpohGRDO1TvwnbwIbGO07fzFLzbHCwIpvKywqwjffH8RnX++2M+SbDrrGD0LX9jVlmsPoeTrzOa34PKfel2xX8znRso58ST62fvGuKd9J7gas+F8yzldhgnAiIiIiIiIiIirh9a2pohGxuB1RtDuKgnJjYMW+jDOXMGtxPM5eKB5QhHzcxq0/Y8WqbSgyGGSNNX3z8dDdNF+Z4nHj6dRzmzzPmTeXqWg+EZLvCsTApz7GkkkiH0Y2kpZNxlOfupism4iIiIiIiIiI3MInfqpuamsUQRZTY6P49TaT2Ws7c/4qlqxMZI6VGkYEVbb+mIr4hH3aPVh0/tC3eg66po/JCvJUalJ70UPF4rzHWHINkJuN8yJRRIMIDBnWH+1Mtdh35oKcIiIiIiIiIiKiquR1EQjzr7NFbgEzU52pbGpsVEo6BldsZefcwIJlG3Di1CVZQzWJQTkwPt+4B2u/268eI6XpoO/4LlCnuyyTJxLnNrH9zOdCsd1KpkWp5FxIviNj/XT069kLHbsotweXIkXWR7dpKaeIiIiIiIiIiKgqeW0EQv3ltiWjKahiblrU6/lTbks5uXlY9O4mnLvIocBquq++3Y8de47Jkg1dAPwiPwcCm8sK8jTi3GY6u4mginJnE0QpdW4kn5CHEES2DpElILT1YEx4ZQ2WjwqTNUREREREREREVJV0Ri/7ebPl4oppc1mdNhhhMBjUW1CtIA4NJon18Vbc99i1V02DTKR6fvJwdOscLkvWjFe+gyHlAaAoW9b4Hn37JdC1eFKWvIc4nvNu5KnnN3HTiWCLHBdM3Fvmm7KcJiIiIiIiIiIiIvfx+uiD+A23Ochi/id+1q3nsGAqsV7e/3wHftz3m6whMnkrLhGXr+bKkjVd/bugazVTlsiTqOc25RxXfMaT5z9zfxYiIiIiIiIiIiKqfN4fgdBoTzSKzixsZ1T9sPsoEncdUfNtEFnKvnYDL7/9Da5mX5c11vQtnwIaDJMl8hgisKJ1OPOcR0REREREREREVGV8qnuH+PW2aGE03VP6yQt497NtMBi4PkhbxpnLeP/z7SgqMsgaC3514Nf5UyCojawgT8FzHRERERERERERUfXyyuBK6eFvSsqm4XFIJLB/68NEFBk0Gs2JLPy4Px1fJuyVJRv+9aCL+K8ywaPKk4itYR1Ysd4+HCKMiIiIiIiIiIiocnl9zxW1gVG5mdoZ2aAo5OUX4p2Pt+DUuSuyhsixDVsOIe34OVmypm8yCroWTyhTPL48j+i9otyp50D2YiEiIiIiIiIiIqoqPjcsGJt/gW93pOCnn4/LElHZrucVYN6Sr3HxyjVZY03f+gXAL0SWyBOIcx0DKkRERERERERERNXDq4Ir5oZEo/LPlmhoNDc21uQGR5FnZe3mfbJE5Lz8gkJ8sna39vET2AL6m1cpB1mgrKDqZD7Pmc97tsznyJp8LiQiIiIiIiIiIqpMXttzxdy4qEmrtbEGyL2ej8XvJeBaTp6sIXLNzr2/YvOOFI3wpXJYNRgKXeNRskTVys45zuF5kYiIiIiIiIiIiNzGN4YFK9XQWDOjK+u3HMTFyzmyRFQ+X2zai8tXtfcjXZs5yv/Ye6X62ZzjamhAmYiIiIiIiIiIqLr4VM6VmuxI2mnEf7uPv1qnCruafR3vfrYNBYVFsqaErnYH6NouUqZ46iAiIiIiIiIiIqKay8tbSDV+rl0Df8EtAiofr/sRBgMDK+Qe+1NOYFvyMVmypm/6GFCrnSxRtdE817ELCxERERERERERUVXgz899wKYfDiPt+HlZInKPdd/tV5Pcl+JfD/qbXlIm2JBPRERERERERERENZPPBFdq6nBYp85dwcovd3I4MHK7sxeyELt6u2aPKF2TUWqCe6p+PPaJiIiIiIiIiIiqHnuueLn13x+UU0Tut2tvGn7PvCBL1nRhU+UUERERERERERERUc3C4IoX+/X3s9i6+6gsEbmfSGr/+YY9MGj0jtDVvxMIuV2WiIiIiIiIiIiIiGoOBle8VGFhEWLXbEdRkUHWEFWOfSknkHwgXZYs6ALgF/mVek9ERERERERERERUkzC44qVS088g48wVWSKqXF9/fxCFWoG8wKbQ1b9bFoiIiIiIiIiIiIhqBgZXvFB+QRE++GKX2nuFqCr8duIcjvx6SpYs6aBr+bR6T0RERERERERERFRTMLjihZL2pyHj9CVZIqp8IuXK6x98h7z8QllTQtdgCHSh/WSJiIiIiIiIiIiIyPcxuOKFtiQdkVNEVScnNw+7NXOv+EHX6jnl3l9WEBEREREREREREfk2Ble8zLHfz+JI2hlZIqpaiTt/UXux2NKF9gECmsoSERERERERERERkW9jcMWLFBQW4Z2Pt8gSUdU7+vtZHDxyUpYs+DeCrvlfZYGIaoqMNZMxbk2mLJG34fYjourEc1D14HqvObitiWq6ZCzoshhJskRElYPBFS/y28nzOHsxW5aIqp7RaMSaDT+hsLBI1pTQh08H/OvLElFlyMTqSb3QsYu9W+VfOHrel1SxTiZjtZd+bxbrs6LbLWmRafubt0vSomr6ArF7MTpOikeGLHoUsWxd3L+fuGP7VaXqPX6r4MttZjzGObmdzceN6ebivqHuT/bfi2m/sHx+883Z9295rvfe81vZxD5Rcu4qk1jvi5JlgUor6xrB8lZ6v7I+JpSb5vm87Nco3znG2xq/XNx3S6msaxdPvCby5oZNub9rnHcy1iz2nnNzDT93al37uHb9VvHjyqv2l5pCuWZcUJnXxLxmqSTKZ0oVr1fz9dGC3eayt36mVS4GV7zItuRjKCoyyBJVp8YNQuRUzZNx5rJ2kM+vLnQNR8gCUWWJwvyEPTh6WOOWEIGlonGDF3JeI+O4sq36KhPlvbZXvhhsabNW3f4vYZ6pYQv9ES0frnKdwxAuJz1JxolUOeVeFd5+5D7iS+ycdESK7eGIGoDphS0DLM+fs4A5zjaUKl/qtkVgvoPXyTgOO+fpqU4cm6IRZyTWDTUd10cPL8PoMPmQr8nMRIqcJHcIw+jltvvcWmVf1bpusNyvTA3IS+VnSfFtDjBDM7jn4DpEua0c5as7rAXuuzXEKaTthHretg00ZhyvnOsKqhpVff3G/cUDZabzPO6Nqvrz1+K79qBt8kck1fld24MxuOIlLl3NwY6fjskSVbcHhvZAw3p1ZKlmycsvxPe7fpEla7pGMXKKqBqExWClaNjAZAZYvET0tD04unwqosvbFqVs8+dlQ1b4qGWmxq1pUWqZSpjWjfsbqSu8/cgt1F+gbuuvbIsxaCfrtGVi9Zx0TFGOk+d7yyqVqVF6yvF5ZfyyVDRCb8egaWFqg5u2TJw80gmtyr1PiMa8sZhSExqozZ9ZNeG9erLdqzCz87LS20HdPj4c3KsI7rs1RBSeF9tZua7yxB+OUPnx+o2InGLxXVs9b/C7tl0MrniJzdtT1EZt8gyR7Vvi2fF3w9/PD3qdDoEB/qhTO1A+6vs2/fAzcnLzZKmErsE9ylklWJaIqkf0tLWYf2RycddVIiJfJbrqz8As577oZCZjXWf7vzYLbwOs22U/upK0aB4wp6zeJ6eQhgg2xJHXED37otu0lCUiKpsIostJojJxf/FEldWrnSpZZjqH5PJQDK54gfyCIuxLOSFLVN1q1wpAk4Yh6HBTM8yYMhyznh6BuX+/H1061JyffhQZjNiu1ZPKLwS6lk/LAlF1CcPoSWMRu02r94ppnHDz2OiOcmTY5g1wPGSOzfM6ml8Oy1M8r9N5OkxDl5S8RhnjH6t5ESzmdykfiO37cXWsZdtlLRmn1YqD8XhL5W3QnK/06zjqteTccyrKvY0EZ7aTmMc0Xq3VMtm+js02tLdPlbmvivdTGdtfa/spdabXt34O2+1vu8zawVDb5XB+jN8y14kVZ/d3Z5fHteV2er/UIH5F5vSvxyvyhUzZrlsGOPErfjFcQbmGxzMfN5MRiziL46/0tii1vjTXrzPHmLKdZNk234bd4LzNMenw3FDmvGIZHRxbln/rcJ+wPec4mr88x1QlrydNtstZ1jFcfuGtOyHp+ClZ8jTlWPel1p2985klB/ui+ny2+4mj+W3Z7p9l/J3NvmN/u1fseR3N79rnhyXbdV955373H2Pa60Psd5b7mmmZR2LmzmTMHFLy96X3R9vnt7celfm09nGbdWG7rpw+95SxTkttA6fOiY44t16d2c/Fsqnv04VrUtv3Y3ffFa+vuW5cPK5s36/NspW9v7h67nHn/mK7rcq57ZV1aVrP1s9X6jWdPWbL2t6OruntblcL8vkHz05G0uyRJa9T6u9s9wUH68f2vTlcBtvndTR/+bdRqWO7rPWiEstmeg1njiUxT+ljVGN/dsu2l+tifBwQa7FsGs/l3P6vcHK5nH6+UtvLlc9P78fgihc4fykbp85ekSWqDnq9Dq1bNsTgPp0x/W/D1LLQuV0LRLRqjO92pmD3wXS1rqbY+/NxOWVN32Ky8r/askRUTcIiEH0k0/oCQb2A2I5Bojur+TYpHYM1LiTEBfvg4xNL5lNuIqeHuBAtRb0QWoF2NmOwTzmuXLDaXsiJeecAL1nMp47rXuYFn7hYGYm0SRZ/p+ZJEF9Y5CwW1Iug5RFItH0dZy5KNd+PKSeD/YspS1rLahqn1dkLLK31f3TAdo2LzNKvk9hmhebFoXPPqSj3NhK2K8skft1v8bcJw7BuiPYXx5PKdlJ7HZjnXR5T3CitfmkUQz2ZH1NuYp+yXYdiW1s9h3IT+6pz20pDhbe/ILaN9bFWMgyV6UuV9TKvRbvlts9f+jmOHu6PLXYu/C1V/PjVer9OLo/m8ynzKV+2YuUslpzeL92hd39MiN1u5xyQiV2bkhHZWiN6It6Tsi9aDyVmhwjgWH7pk7ey9x1zvoxlmICx6pBDpvVhHdDRXF9qvi3XjzGTdMQp+6N1DpplwPjSy+zKebUi52DNvxX7hPhCXYor58HyH1Pa68l03Gqdk8r9+SNoHkN2PlPdofcYtbdrpTy3Wzi/j7rn/O1OWvun/WsXZz/3XH1ezX3y8ESkDdE+zsv1mVqF5/7KOcac209Mw4yWzmVk9flQjmN4l7I+rPbx4t6Yzl4zuHrudP3zpExOrlfn93PFNuW7i7JtLa9JE4durPh3F02uHVfOfK9yan8ph4rvLxX5PNRS+vks36PTx6zYh2y2tzqfOz+f5LCOiXOjED3XIteYZQ9odV+2/T4jjg0nr3eq+ZqlIudXYYvy97afA3bPXydst5n1dav7tr1pmMaj740FJsihsMXN6rq2gufLUsvl/POV57zvaxhc8QJff7cfBYVFskRVTgcMuK0D/t8Tf8Bf/3QHOrdtIR8wOZp+Ft/trHl9XY+kn0GRwSBLFgKaQlervSwQVZOwMETuTLe6gEqC+CJjM6SNaFTBRliNhKN8WRh3ZBYSbYbZEV8QxIWoNeWiY848RL5X+hfdWsOTZezaiMhJNo174iK3jCF9khZNRopyAWz9ZUQ0RoovLLJoplzczNg0DIm2jYjidd4DljoMcIj3sxEjEmzfj3itZcByZy5oJwPvlf7iJNbHiE2rSl2Ul2Jn/aP3VJvgg9Y6MW2nlZ3nYYbl+xTPCeVCVOM5xZfUODdsI1UslC8BNutOXe+dMPNT2wvLOMxULvy1ex0o84ovjTavGf2Q8iV3U7LFNhAN4p1K5acQ66B8X1wrvv2FpNkblYtrO8NHZZ5CK+XLmvX71uhttnu7sn3H2DyH8sWiVOO4DZePXyffr1PLY+98IL4QiaCBDRf2S/eIwqAJcZq/eExaJBpPxmJQqf1GeU+fKl/2nNn/FRlhY6y+VJlupoZgzYYjV9g7N5iPsTm278vRMSbtTEU7ZX+0Pl6U7aV8ebXaH105r4p5Z3fCSq15y0rqb+9vxflPfKG24dp5sJzHlKC5npTjZI5yTpptcV6v0OePYO8YqswhP8XxLht3nAoGWv8C2/Lm/mVTOLuP2l13pvdXvs+EinHp2sXpzz0Xn9feMSXWYcIspIy3bkgq32dqFZ773XKMVfxz3r5yHMM752Fdm9LnMZWz1wwunjtd/zwpi7PHn/P7uRArvrvYvKfwUbMq+N1Fm2vHqzK/s9+r3M0d+0tFPg81OL7udf6YrdB3EDfKyAzDSxrfZ6Yo15BbLI9fF4+7KrlmqfC1dZx6jNpeO0ZPU87lsStKBV5jZ6djir1lquptX9HzpXg9y2Pa2ecrz3nfBzG44uGyrl3Hjj2/yhJVCyOwdfdRPDk7DrNe/RJfbNojHzBp26qJOkxYTVNQUISvvt0vSxb8agOhmpcWRNUqurfWxUkYWnWWk1LStjhMsL24sUfkMMAsjNW6wNe4+BDDj8SOd/UXccnYEut8gmdxcYahdpKPhkUAjoY/Ud/PMPTRfKmWaAfrgFVppmUt3UAriHWdipNlvHfn1r/jdWL7JVV9zgHaF6dim6ScKFmo8m0jqa+dXBOaPQaiMP8hexfMUcr+KictiaChnDQR61S7sbxcKrz9pQkTS11cFwtT3pvWY6K3mZxUiX119kiXL8ZdP36dfL/OLI/D80FpruyX7qIOI6Z8gR1s0yi89Ij4BaPtl1hlGUWelYecXJ+KcGUfLc3UwBg5u6yE+Y453LaaDTqOjjEzO8n3bXo/unJeVefVWJfOcO1vXTsPlveYMrG3nqIwom/Jeb1Cnz+Ci5+p7iQad8wBQdHTUhwX2gFB619gW940G/sqzLl91NXzT+Vz7drF+c+9clwT2TumSjUWlvMztQrP/e45xtzwOW9PuY5hB9vTyWsGV8+7rn+elMHpfcDZ/dxEOx+U2E+TkWaxfC5d+2hy9Xh1/nuV+1V8f1GPlXJ/HmpwcN3ryjFboe8gbhSubFut5Q1vY73NXTvuquaapeLX1lFop7mI4gdK1sedoHXtbFbl297d50tnj6dynfd9D4MrHi7l19MoLNLoHUBVzmAwIu3Eeeza+5tavpFXgLWb9+Na7g0Mv7OrWlfTfJ14QKNXlQ66phq/ECKqSmLcfzsN3Wo3WItGxXFW4zWIpIv2Lqo0iCFwHOUXEBcflo0f4lczc2Hxq9fS3atLcfBetGQctxlD1/I2ZB6SbIdLsyTez87SDa+mm/hlexnBEbGsVvkSrG/jYktflFpzcv2XtU6sei6ZEmnGjtdeJtFt3Wq8/fJso0qTqXbHLlne0sOLqL8IEsM+mOepSNfrim5/l4ju/hbPL/ZN+YhK/VWXcjFevN2c+cJRjuPX2ffrzPKUdT6w4uJ+6UYiwGLVKJygfKHFMLxk84VXnCudyrPiFO0vpc4ra9uWbmxyJ1fOq2JezeHVnODS37p0HlSU65gqi/V6r9Dnj+DqZ2olMR0jIiDoxsa3yubS+acKuHjtUqKMz71yXBM5OqZEY6FlY1u5PlOr8NzvlmOsMj/nK+0YdnzN4Np5txI+T1w+/sq+vnOei9c+Wsp9vCrr3uH3qupSGdeY5ePSMetR30EUu61zctgOMefScVcl1yyVe21t+3lRlurb9u48XwplHE+Vdt73LgyueLjDRyvpLE8VIgIKLy39Bp9+vRszF32Jy1dyEN68gXy05sjPL8SJUxdlqYQutB90QeW5PCNyE60PeXmBaDuG6spS4zVULstfxybOTVUDERUeLsfGhPdK3l+pW1ndqS3HcS11c6Khte8s6/FbbW6V88vestj/pbF60xhGwfxYZW2jsqhjctuOd6w1vIj4RZCaq0LcTF2vK/QlsaLbv0zmBgWbcZQTZpX+BZXyRaP4cTFMh/jC4e5xe115v25fHtf2y8qhfGEaojWkQTLilC/R2l9QRSNQSRC1qo+N6lKh86qnqIJjyifWkyoKY+e61pBCFeP8515lcvNnqqaKnfsrfIxV+ue8O7lwzeAlPGM/dwMP+V5lzcOuMSVXjllP+A4iho1Sr/FscgM5O8Sc25RrG3nCtXWJqt327j5f+t75tzIxuOLhDqXygt7zGLHuu/1IO3FOLeXk5uGrzfuRceayWq5JDEYjfv3dtB6s6PyAhvfJAlFVUy4Eltt2CU7GgvFQE/jZjqFqzcVfq5X1S4wyfsmhXkQpFyha4ywXs/0lTxlc/VWNlYr+ssTFZS3NyfVf1utY/TqqYr9od2oblcXVXwSaxwt2uZHD1Cgkfvm0rjwDXlfBL4sy1szDuqEigWYZuSdsqV+wxHjH9hKyC24+fh3RWh6Xnq9i+6W7iPGv8Z7WthBDeVl8kbK6iUagkqTzjs+pliryy9qy1pcbfrnrgCvn1Yqcg136W5fOgxqcOqbKYr3eK/T5I1TwM7VGq4Lzt0tcvR5w9nPPzddEjn/B6+RnahWe+yv9GKsoNx/Dzl4zuLZeKuHzxNn1Wu7rO0fccD3h8vW7s9+rqlblXmOWT0WOWbd8B3GZ8j1azcukXOOVEYhw6b1VyTVL5V5bu9rjo6q3vbvPl04fT24+73srBlc82G8nzuPcxSxZIk9x6twVrNmwB0ajrKjh9hw6Lqes6RoMEf83FYiqkJqYubNN8lEXGrfFBYe9cUHFRZUVMd485tlJjqcV5NEgLjblpLaWaNfXJoFgsVNI2yknpfBRExFpmWDYFWExmNLZ3vtxhvilb6oTCVXtix4wFrFlJlQ1Jea29zpJn86zGuNWjOObUpEkrWVuI8ccjrmrIeNEqp1xtp0jxu0tlwpv/7K53hXdkjgW5KQdrh2/FX2/NsujfnG0M067OAfJSbMK75cVJIbyEI08VdKbLDMeS4/YG+ffOQ7PDbtXYabdPAIV58p5NbzPMFgleXeBOHaT7HyRFucFa66dB7WVfUw5ZLPeK/T5I7jjM9VtRHJzYERl7VTu5nDdlcVBg5TGucs5rl27OP+55+I1kaPjUZyXYu3liStR5mdqFZ77K36MVfLnvJuPYWevGVw7d1bC54mTx19Fr+/scenaR5Nrx5Ur36scc++5p7KvMcuj4seszXcQ9XyjHaTQ2tddJ7a3nVxfNjzxmqXSrq2d/Lyw5PZtXwanz5dOXqc6fTx51LVb9WFwxYN9t/MXOUWehEEVa6npZ5Cdc0OWSuhqdVT+FyBLRFVAdmFWfxFm+0sbzQ990/ihtmMDiwuhCbGTS42zLrrxb4FtPqEwjJ6jXMRpJKDTCvKI5yj9vJOR4vBiUnkNkQhuvO3Yq2L5t6P0OAKmAIdWQlZ1XOQyulOrF6VaCfXU9Vv2+K+mC0mtcerF8joxtIaaSHQeBtsup83rR0/THg9fbTA+Mss6f4RsTCj1nAqxTSy7XJdvG0k752GG7ZeG3YsxeHYnl5KEal70qsMv2I7JLdapxn4xPrXcDYIV3f5l0WrQUPdL2/GAxXa0WZfiF1QzO/d3/Gssl45f59+vc8sjjj1g5hybY08815x0RNp+IXRhv3Q7ZZlmKPvlSrcOj2DnGBfvf8hGjJhTwSGhek81JePXOjco+/z8ij6/Qy6cV5Xt+pLmvE6cA+X5z/Y8Il5jxvFOpfZ9V86D5T2mTOIwzqn1XrHPH1c/UytMvAcx9InmMShez36SYqfI87bDbe42jtZd2ecT9dxse50h1s+cjbLgKteuXZz/3HPxmsjR8ah87kRa9dwTz6HxvGV+plblub+ix5g7PudtG8QzkVE87d5j2NlrBlfPnS59nqjrpazj2Lnjz/n93DWuXvuU5upx5fz3Ksf7i3vPPe69xsxUh0Qq69xZNuePWbG9yv4OYgpS2H4mq/v6JllwghoYscg/kpFpfp9aQRDTurDNueKR1ywVvrZOLn0uF/t2qc8LZ7h72ytseomUbDcXzpdiHYl9SOtz0eJc5/Tzufm8760YXPFQIpfFoVTbQ5DI84j8M3t/1ui9Urst4FdHFojcRbngEeOtisYQ25vIGyCGqdFsLFQ+9JcvA6zyB5jGD02ca/uLRDEcju28ypeTAXvw/AA5iyXlAmXl4YlIs1mupW3W2ixLJsIf2oNB26znE89bZpd60RX6PZgagYpvYvmnYpCcxZLalXgOMMNqfjkuclmNqer7mQXMsf7bjsrzveRUN3vTcEK279O0vM4MgyC2lbJd2qyw/vtSry9eZy3aLbeYR7kNPj5Rc8xxNUHxgO1W84qb9fqvwDYSJizDS8qXDMu/7bg8AolOrTcLYhvYbm913OO1mN9ZziNktsTYw/2xxXI+p9ezHRXe/mVQ9uXEoRutkumaxusWQ01Z6KN8ybJZl07tv+U6fp14v04ujzj2bN+f+lzLx6CdnMeSc/ulA2qjj/nvlC8wOy3PkXYag0RDTrm+JJZB3R/trUv3DIEi1lepc4N67nfnECvaXDmvqvNOSrdJGu3MsSnOf2sxYpN1AlTxGisfipDzWHLhPFjuY0oYi5W2+6md9V6hzx/B6c9UN1Bfy/4xqP16Dq5DlJtlw43pl7vJ5RumsTzsrDunzida1xnquWsWRpT319yuXLuIZXfmc08ozzVRqeNxBdol2OSBq8BnalWe+91zjFXsc94UoDH/7TzEWTTwufUYdvaaweVzpwufJ2JIG+U4LnOoIWeOP1f2c5e4eO2jxaXjypXvVWXsL+489zi7vzj1eWjqsWMZgCgv545Z57+DiH13JSZbzafu63OGOX9dJwIjak4p+fefnipuRI+eZnssyRxB72n8yNADr1kqdm0dhfmTbLeVxueFk9y97cU5RA0emZ9nTnJJoMPp86VcR2Vdp7rwfG4973spnVEhpz2e5aKKaVNR3BthKDKY7o0GGAxG1KkTrM7nrc5cuIoX/vslcm/kyxoiz9Xzljb451+HylIJQ+qjMJ77WJY8i779EuhaPClL3iUnJxd6vQ56nR46nXLvZ7oXw7CJO9O0ieU0kfdJxoJFwPM15KKMiMjzmH65LBrY3BqMIyLyFrvjsTospswgG/maZKxe0xKjy2yQJ98geuiIQFLZAXXfobznRcnoM630DxPJNey54qHOXczG9bwCWSLybGcvZOGGxv6qa/KonCIiKgfxK1L1l0fODFNBRERERORGorfntjAGVmoc0w8LWjGwQj6uzwDRs6asoQ+pLAyueKhDRzKseuoQebIrV3O0gysN71XOMkGyRETkorAwhIsuyXNT7STZJCIiIiKqJGLYKvagroHEEFbssUm+TnzXFsMVdqq6IUx9FIMrHurALyflFJHny7mej1PnrsiSJR1Qq4OcJiJyhfjFmGm8VpEQflANSIRHREREREREVLnEMGgyP8r4VIzow15aFcGcKx4oK/s6Js/6UJaIvMPwQV0xNqaPLJUwpDwA48V4WfIczLlCRERERERERERE5cWeKx4o7cR5OUXkPfan2OltVaudnCAiIiIiIiIiIiLyDQyueKD0jAtyish7iGHBsnNuyFIJXXAXOUVERERERERERETkGxhc8UCZZy7LKSLvopl3JbiznCAiIiIiIiIiIiLyDQyueBiRRubi1RxTgcjLnDl/VU5ZqN1RThARERERERERERH5BgZXPI3RiCsMrpCXOnchW06V0AU0AgKayRIRERERERERERGR92NwxQNdyboup4i8y4XLpYMrgq5udzlFRERERERERERE5P0YXPEw5y5mI7+gUJaIvMvFy3Z6XTGpPREREREREREREfkQBlc8TNrxc3KKyPtctjOknS74ZjlFRERERERERERE5P0YXPEwv2dckFNE3udKdq6cslGrvZwgIiIiIiIiIiIi8n4MrniYk6cvySki73P9RgFyrufJkoWAJoDOXxaIiIiIiIiIiIiIvBuDKx4m8+wVOUXknc6euyqnSuj0Qcr/lBsRERERERERERGRD2BwxYMYDEZcumInITiRlzh/+ZqcsqALVM42yo2oUmRi9aTJWJ0piz4jGQsWJctpIiIiIiIiIiLyJAyueJAb+QUwGI2yRJ6qXkhtBPj7yRLZuqgVXNEHmAIsROS8zEykyEkiIiIiIiIiIvIsDK54kLy8AjlFnqxucC3cGtkKndq2QP2QYFlLZpezNJLa60RwRbkRERERERERERER+QAGVzxIfkGRnCJPJYIqTz52J54adxdC6gbhSrZGIKGGy865IacsiGT2TGhP5JrMdCTJSSIiIiIiIiIi8iwMrniQgkIGVzzd4aOniodui+7eFjqdTp2mEjm5eXLKkh+g41Bq5A4iv0ovdOxivpWRa2X3Yot5ldukeGTIh8pm+1q9sGC3fMiS7WvYWyZlvnFrxAPJWGA1/2KbIIp8fHwcEDu5ZD6NZc9YY/G4ctNcvjJfj4iIiIiIiIiIXMXgigcpKjLIKfJUIq6ScuwUZrzyObbvOYagQPbGsHVda3g7nXKqETeiChFBgpFIm7QHRw+bb7OAOSMxc6ecxYIaeFgegcTieZXbHGCGU8EFrdfag0HbeskAiYnmaxyeiLQhdgIdx1dhXJftGGQ5/3tQ6iyXKQrPq/VjgQnLSuZbHoNwOYc58DMDs0oeP7wW7Zbbvq54Hzavd7g/trgUZCIiIiIiIiIiIlts7fQgRQYGVzxdYVERPlm3G5lnr2B/ykncYJ6cUrSHtxM9fNjLhyomadFkpMxdi+d7ywpVGEYvX4v5fWXRLDMeMzYNQ6JVQEIRFoOV7wFLLQIkWrRfC4ietgcrR4WZCuI1ZnfCStvXEMGRhFlIGV86iJN0JAIvHZ6KaFlW9Z6KlRPisEWz14kdmafQao7FsqiUdTFpLGK3JcuyYvd25X2MsX49sXyllpmIiIiIiIiIiFzB4IoHMcrhpsizcTs5ptkDSx0+jcEVqohkbIkdiylWwQT7MnZtBIZGaQcQwiKA46dkQYtzr6W+RqnAhRQWgylaAZPOYZrLFN4mCiknHAd8rIRFIVpr8ZT3ZrU84r3OHmlnuDAiIiIiIiIiIiovBlc8CNvsyRcw+ESVIjMTKX0jnO5tkXE8GUmzR1rkGbG4DZmHpCOZ9ofFcvK1xGtEtrYfgHE5YFIuNvlUxHuTj6jUnjpjETvePE8ZOWqIiIiIiIiIiMgpDK54EOZGJ1+g19qR1YALgy5UtSa8Z5lnxObm9cNimZPt2+RTSZhVuidN76klj7/XCTOHKH+3yGLoMCIiIiIiIiIichmDKx5Es1GayMv4+2udVsRQYcwpRBUQFobInelOJ2GvUK8RJ1+rrNcoq2dLRWSsmYd1Q9fiqG3+lrKogZZlmBC73Ymk/kREREREREREZA+DKx7Ez4+bg7xfUGCAnLJgNJhuROXWEu362kv6fgppO+WkFD5qIiJnrypnACEKgybElZn0PrzPMMDea2TGY2nsWAyySYjvLhUL3Ih1KSeJiIiIiIiIiKhc2JrvQfz9/OQUkfeqXUsjuIIiwKjciMotDKMnidwhi22CGSLnyHZggiwWi8LYuakYNym+VA+UjDWTyxwWK3raMkRqJIK3+tuwGLyk+RrKMg2Zh8j3XOxVYkskp7fIDZORWRLsiR6grIvl1q+rLptNzhVRN84mSCR6vczs3L9iy0ZEREREREREVMMxuOJBAgIqHlwZPTwKgQH+skRU9eoGB8kpC8YC042oIsSQVu8B4ywTuKs5R6ZikJzFUvioZTg6B5hhNX8vzMAsHJ0WJeeyJwrPH16Ldssd/636GpPSMdhino5dVqBdwh48X9FeK2ExmNJ5XvFzz5iTXBI4UdZF4tCNVq+rLpsY8kvOouozCy9hXvE8xfOV+f6JiIiIiIiIiMgRnVEhpz2e5aKKaVNR3BthKDKY7o0GGAxG1KkTrM7nTa5mX8cTsz6UpfJ5efqD2Hv4OFav/0kt63Q61KkdiGu5eWqZqLI9cE8PjP6DTcNtXiaK9vUECs7Jiuqnb78EuhZPypJ3ycnJhV6vg16nV49xvZ/pXjnilXvTcW9mOU1ERERERERERETuwZ4rHqRWkHt6nPzhzm64/da2uCmsMZ79y924pVO4fISo8tWvV0dOWTDmm25EREREREREREREPoDBFQ8SGBCAAP/yDw3WuEFd1AoKUIcFe3rcYMybFoNmjUPx08F0OQdR5RP7YSkisGJg7ykiIiIiIiIiIiLyDQyueBAxeo8IhriqXZummP/PP2LxCw8V/71er4efcvti0x4UFhnUOqKq0LRxiJwqYRSBFQZXiIiIiIiIiIiIyEcwuOJhwprXl1POET1dQurUwsFfTuLilRxZW0IzuThRJRH5PZo21AgQ5mUo/2OQj4iIiIiIiIiIiHwDgysepk2LRnLKOQWFRdifcgKffZOMaS99hpOnL8FgMODshSwUFRnwhzu7IyjQPblc3KVeSG3UYdDHY+l1Iil6+ZKgh9QJQkCAxtB214/KCSIiIiIiIiIiIiLvx+CKh7mpdRM55ToRTDEYjDjwSwZmLvoCc15fiz0//46Rd98q5/AMDevVwfCBXdWgT9+e7dGovkaODqo2TRuHKttEIym9E+qHBsspa8bcX+QUERERERERERERkfdjcMXDtG3VRM29Ul4GoxFfbd6H3Ov5SDtxDp+s242vvt0vH61+jRuGILJDS4y851a8OvMh6P10uHT1mnyUKosYPs5Z4c0b4OERt+P+u2/FXx7s51LPJxE402LM+VlOEREREREREREREXk/Blc8jBhWKbhW+YfM+ub7gziaflaWTPILCuVU9WrZrAEmjOqHMcOj1GT7v2dewI6fjsFolDNUsSYNQ1wKOnizZo1DcUvHcFmyr9ctbTDuj33Rp2c7PDisF+K/3Ye8fOf3n0YNtHohKRs454CcJiIiIiIiIiIiIvJ+DK54HB3qh9aW067btTdNTnmeU2cv45Xlm/D+5ztw+vxV1AoMwD39u8hHq17jhnUx8PZOCAz0R4/I1mqwxWfpdJgwuj9q1wqQFaXp9TrcyCvAWWXbCCLoFda8vjrtLM11KJLZG3JkgYiIiIiIiIiIiMj7MbjiYcSQYA3sDK3kDGN1dQNxkli+iFaNsfTD7/Hy298gK/s6GtjJ01GZQurWQsum9fHYA32wbN5j+NvDA3Et94Z81Dc1bRSCm9u1RFBggLoNBt3eySoYIvL1HD52CmknzuODL3aotwG3dURggPPDgokeMraM11PlFBEREREREREREZFvYHDFA2kPreQ7fj1+Dr+dPI/CIgOS9v+Gy1m58pGq0fvWCLz0zwfx5z/2VYcFqxUUgLc/2oLrNwrkHL5J9EwRvVcW/OtBzHnmfvgr7/38pWz5aAkRXEnceQSJu47gnU+2ujSsXPOm9eSUhdwjcoKIiIiIiIiIiIjINzC44oHatGwkp3zTtuSj1drDZvf+dLXXTPLB39WyWJZG9cvfW8hTNVTe04i7umPaX4dg+l+HFtc1bRyKH5RtsCVJO+ix59DvKCgsUqdd2U7+/no0b1w6uGLM/UVOEREREREREREREfkGBlc8UNtWjeWUb/KEkctOnb2CxF2/YO/Px7H80224Z0AXNGtUekgrb3bpSg6+3Z6iBpGMIqm8VFBQiK+/P6D2HNJiKOcGatemKYICNYYQu+G5eYCIiIiIiIiIiIiIyoPBFQ/UJryxOmQTVS4xDNhHXyVhy49H8MJ/v9AcIsvbiQT1P+w+iuWfbZM1UHOovPjUCDRv4t5gUq8ubeSUNeP1Y3KKiIiIiIiIiIiIyDcwuOKBxK//O0U0kyWqLL9nXsDp81fVadFbQ6vHhsjJ4qf3/sOkUb06KCoyYOUXOxG7ejsyzlzGfXd2R906QWjbuomcq/xEPpfunVvJkoXCy0DecVkgIiIiIiIiIiIi8g0MrnioWyNbyymqLAZD2cNfNagXjCEDusiS92rcMATLP/sBm7YdxuYdKVj4zgZ8vO5HtRfL4w8PQusK5vkJrVsb9UKDZamE4cKXgNGUv4WIiIiIiIiIiIjIVzC44qE6RjSDnx83T3XTKf9EUvjRw2/Dk+MGI7xFA/mId9m591d1eDBzgnoRWMq9nq8OGxYY4IfHHxmImHt64K9/GoBn/3I3mjQMUedzVoPQYNSuFSBLFs59KCeIiIiIiIiIiIiIfAdb7z1Uo/p1EVwrUJaoqonA1s3tWuAvo/qhfmgwHhjSEwX5hcg4fVnO4V3OyOHPzMRQZ43q18HQAV3U3jkR4Y0x5g9R6N29Lb5OPOBy/pmIVo3VIdSsFF6BMXu3LBARERERERERERH5DgZXPFS9kNqoH1pblqiq6ZTblezrSD6YbqpQBAVp9MzwQjqdDv2jOmD+tD9i9PAodWgws4/idyHtxHlZcl7v7hFyqoSayN5YIEtEREREREREREREvoPBFQ8lek706dFOlqg8Wjarj7rBQbLkmsIiA06fu4LDR0/heOZFvPVhImoHBaBZ41A5h/cSQ4Nt/TEVL74Wj2++P4j8/EL5CNC3V3uXE/iLpPiRHcJkyULOIQZXiIiIiIiIiIiIyCcxuOLBBveNNHWhoHJp1ihUTUbfvGk9RPdsK2tdY1Bu7372A3bs+RWvLN+Eq9nXTQ/4gHMXs7F+y0HcyC/Ekd9OY8PWQ+pQaHf1u1nO4ZzunVvDXyM/kPHyRjlFRERERERERERE5FsYXPFgoXVroV3rprJEztLrdLgpvBF6RLbGA0N74plxd2HPwePyUddcuJRdPEyW6PEhEsB7K5FjRQwJZkn07DmSdhqvxW7Gh1/uwjP//gSnz12FXu98VO/WyFZyykJRDoyXE2SBiIiIiIiIiIiIyLcwuOLhunXSGG6JHBLDgd3Tv4va6C+GuBI9NAoKi+SjrhEBFV/RrXMrdG7XXJZMAvz98b9PtyLrmqlHzpWsXBxKzYDB4Nz7FkGYtq0ay1IJ46X1QJF1En0iIiIiIiIiIiIiX8HgiofropXLghzKOHMZ7376A1Z+sQu/Hj+Ha7k30K1zuHy05vL398MTjwxSe0TVqR2EW282BVsKCsoXeBJaNK2HZo3ryZKZEcbzn8ppIiIiIiIiIiIiIt/D4IqHa39TU9SrW1uWyFmi30V27g01X8q7n21D6m9nTA9YaNGkHhqEBqNeiO+v3zrBQQhv3gCNG4Zg8cyHsHTeWDwa0wcHj2SUu1ePMPreqNJDiBVdgzHngCwQERERERERERER+R4GVzxcYIA//jC4qyxVv4Zq3g5Z8HCi18qJU5fU6bz8QvXerE7tQIy9Pxr/nTlG7dHhqwKU9/bgsJ54bdZDuKd/pFpXW3nvIiDy6opNai+f8hKBqd7dI2TJQt4J4Ea6LBARERERERERERH5HgZXvED/qI7qME7VTfR++PMf++HhkberQR9PV1RkkFOl5RcU4XJ2LvannFSTuvsqfz89Tp27qvbcscwfk59fpNysA06uurl9CzllzXBivvi/qUBERERERERERETkgxhc8QIhwbXQJryRLFWfoEB/BPjr0aJJfRi8PNF7YVERPvh8J9784Dtknrkia33P9bwC7NqbhkXvbsKn3ySrdecvZavb8Z4BXdRyed1+azs5VcKYfwrGC5/JEhEREREREREREZFvYnDFC/j56THgtg6yVH0uX83Fso+34H+fbIXB4N09E0RsyJxrRARafJ14vzduFCDtxHnMXPQlXnj1S9QOCkCzxqFyDtc0blAHPbq0kiULl9YrL8ZeK0REREREREREROTbGFzxEn16tkOjBnVlqXKI/Bz+/vZ3CTGsVNa1G8jOuQGDwbt7rng7nU6HwADHuWJatWwop0xu5BWoCf6vKdtP5KJ5//MduHjlmnzUeSLnzv339IC/X+nXN16Ml1NEREREREREREREvovBFS8hcpwMreAwTmUROTTatW4qS+TJRGDl7n6mBPX2/GFQN/jp9epNBM527k3D8cyL8lFTb5bCQtd7mdQNroVbb24tSxbyz8J4eZMsEBEREREREREREfkuBle8SM8ubRBQRm+FiujSIQx/ebCf2hAv6PU6tG3dBLWCAtRyTSACEWK4LE8nejE9OOw2tGxaHy2a1EOHm0oHxZo0rIupE4fgucn34o7eHVHkpuHPunQMQ4P6dWSphCH9X4CxYknyiYiIiIiIiIiIiLwBgytepEXT+ujWKVyW3K9zu+ZoE9YIf7ovCg8M6YlXnh+NPj3aIb+g5jSYi/w2D4+8vcwht6qLXqfDXX1vxj8nDUPtWgH49z9i8Mxf7saVrOvq42LIrvZtmuKJRwcholUT9OzSWr0XSe3dQfSg+tPw29TlsGTMy4Dx8jeyREREREREREREROTbGFzxIqI9+28PD1QbuN3F398PHSOa4ZGRt6u9VIR7B3bD6OG34fipS/h03e4al1/l5nYtMCi6sywBTRuGILJDS1mqXiLvzenzV9EgNFgtB/j5YXHstzh/KVsti6G+Tp6+hNUbfsIZZT5B9MSxzb9SXr27R6BZk3qyZOHK90DBJVkgIiIiIiIiIiIi8m0MrniZkDq1cFvXNrJUcWJYqdu7t8Xtt7ZVh8QSzJ0SPt/4E4oMrufkMPPm4cTuHdhVDTD9Z9oDeGLsnfg944J8pHqJMFfKsVP48MtdaqDlsDL98IjeVus6L78QFy5dw7mL2fj3m+vwamwCgmsFykcrZtDtneSUBcN1GE7+R5moWUE4IiIiIiIiIiIiqrkYXPFCd/ePhM5mWKbyOnHqIj6M34XpL68q1UOlbbipJ0t59bm1LerWDoKfXqcOYeWmRXY7MRRYePMGaoL4J8YOQpOGIWjWOFQdGk30Wlka9z1yr+fLuStf+zZN1Hw3jhQUFOGrzfvxf//bgDdXJqJQI59KfMJeHEk7jb0/H8e+lBOytvw63NQMN7dvIUsljOc/Ba4flSUiIiIiIiIiIiIi38fgihfqFNEcfXq0lSX3yC8oaZw/+MtJZJ69jD8O64WgCgxBFlK3NmY9MwLPPT4c40f1h172jPE0In9IndpBalL42265CYGBJe/5i017i4fcqipD7+iKvzzYF3WCg9C1U5istXb4WCa+TNirThsMBhQWlu5h9HvmRTlVcaJnzJSxd5YO6hkNMJxZIQtERERERERERERENQODK15INHCPuvc2BNd2z1BPlg4fzVRzeDy3YA3eX7Mdnds3l484r2mjEDUp/j39I9GqRUPc0ikM325PQVFR+YcYq0wFhUVITT+Dtz/aghWrtslakztu7+SW4c3EtiqrN4pIoh/WvIGaT+WuvpFYMudR3NJRO7hy6WqO2ntFED1KGjWoo05Xlm6dw9UePbaM2T8C4kZERERERERERERUgzC44qXEsFXdOreSJfe4lnsDyz7ZiryCQhiMRhw4koEDv2TIR5134fI1fJWwHz8e+E3WAK1aNJBTnu1GfqF6n3nmMr7YtAfNlfX8xyE91bqK6N+rA/r1ai9Lpfn56fCXB/vh5X/+ETe3b6kG0EQnkXXfHZBz2BcaUhsP33e7LLmfWJYxw6NKB4cMeTCkxABG0zojIiIiIiIiIiIiqin85ijktFcTyb3Ve/FPmQwM9N5k6s4QDd4dI5pj595fcSOvQNZWzNH0s8g4fVmWyk+s/8IiA1q3bIRde9Pw44F0tG3dBIePniqV18XThLdoiK6dw/HG+99h+0/H8H1SKvLyC3DpSo4acCoPsa0eGNID0T3aokG9Ourzp5+8UNzzRBBPvf+Xk2qC+ratG6NeSLDa0+enn4/j8tVcOZe2ls3qY/S9tyG0bm10j2yFIf27oHGDuvjt5Hm3rO/7774VfXq2k6USxgufw3juA1nyPrqGw6EL6S1L3qWgoEAG4ORNb7pX3pVyb9rnzCyniYiIiIiIiIiIyD10RnNUwgtYLqqYNhXFvRGGIoPpXuSAMBhRp06wOp+vW7/lIOLik2TJs4ghwU6evqROi14PJdvMc93W9SZljwL2HPrdVFFBIm+KCHbcN7gbatcKVBPPiyHXTp+/Kuco7cnHBiP95Hk190utwAB89vVudZls1VWeu01YI/zpvt5o36aprAV27UvDmx98J0sVE1KnFub/8wE0bmAzJJixAEX7+wPXdssKL6ILUFbebdDf/Cl0Qa1lpXfJyclVjym9Tq8GT/R+pnsGV4iIiIiIiIiIiKoGhwXzcgN7d0Jo3Vqy5FnMgRVBBLw8PbAipPx6CvsPn5CliissLMLB1Axk59xQyzrln8jx4ogIjmzY+jPiE/Zh1TfJmoGVWrUC8PjDA/H85OFWgZWsa9ex4jPrvDEV8fDI20sHVhTGU0uAa8my5EUCW0B/8yr4df3WawMrREREREREREREVP0YXPFyomfEtL8ORVCgv6xxTAwXdWuke3O1+JLc6/koMrgv8X5efiFOnLqoPu/ew8cRF78LHSOayUe17Tt8Qu3lI9gbiuzGjQK89v5m/N//NuDgkZK8OGJosOiebWWpYkQyfRG8K6XgHAyZrykTXhAtMwtoDF2r56HvdRi6RjGAXx35ABEREREREREREZHrGFzxAR1uaoaet7SRJcdu69oGD93XGwEBfujdPQJdOrSUj1Blupabh7c/2oJN2w7jx/3pslabObBSFpGT5VBqJr7dkaKWv0k8gN8zLuAPg7q7ZSioUffepjyPLFgwZL4F5Lmvd0+lqzcYfrf9Cv1NL0Pn30BWEhEREREREREREZUfc674iIuXr+HF177C5as5ssZacO1AdfgoEVi5Kbwxrt8owFff7sPXiQfKnajdGQH+fmpuCNGDo6YS779+SDAu2dk2FdWr600Y0j8SC9/ZABELEUn5r+XcwMUr5Xs9EVARgZWYe3qWCq4Ys5JgODQIMOTJGs+lq9sbujYvQtdgiFIIkLW+gTlXiIiIiIiIiIiIqhd7rviIRg3qYsKofvDz096knds2x8DbO6F5k3pqWfRc2bHnWKUGVoS6dWrhDq2hpWoQEewrK7Dib2e7OcOoPP/azfvV1ylSbsczL5Y7sCK0adkIw+7oqjbSWzPCePI/Hh5YURY6KBy6iIXQ35oEXcM/+FxghYiIiIiIiIiIiKofgys+pHtka9x6s3Y+lb2HT2DJyu/UJPOid8sPu1PR65ab5KOVR/xq/tH7b1eHH+vUtjlaNDUFd8hay2YN0K51E1lyzS9pp/HLr6dlqWL8/f3wt4cHonat0gEJw7k4GC9vlCVP5Addy6fgd+tu6MOni51P1hMRERERERERERG5F4MrPkT0fnji0TvRqoV2XgnRSUUMH7ZkZSJWrNqG9IwL8hH30+t0aNooRE2KHhjgj389fi8eGNoTF5TXp9LEEE8PDOmprquw5g3QoJ7zw9pdv5Gv9kCKbN8SwbUCZW35jL63lzpsnC3j9TQY055WJopkjQfRBUDXYDj03b6Hvt0bQGALUWl6jIiIiIiIiIiIiKgSMLjiY0RulUfvj1aDG1qWfvS92tNBBFqO/X5W1rpfWPP6GP2HKIyNiVbLIvfKFxv3oqDAucb5WkEBaFivjiz5NhFYEeun+82tsGTuo3jub/ci+9oN+WjZxJYWgbW2bZqg320d0LltCzRpWNf0oAvCmzfAsIFdZcmSAcYT84DCq7LsKZR3HtAY+s6fQn/LN9DVGyDrHRO5mU6fP4/9R36RNURERERERERERESuYXDFB3XtFI5H7r9dM8BSWGiQU5Xr5OnLeGtlIl5cHK/2Vvn5aCb+9vAdCAzwk3M4JoIFjz3QRw08+DIRQBLJ46eMvVPNl1M3OAibd6agsMi57SQ2cfubmuHxRwbh/rt7YJyyzvpHtcf5S671EGreOBQvPDVCDfLYMpx+F8bzcbLkIfwbQhexAH49f4au8R9lZdmuZGXhndWrMPON13D24kVZS0REREREREREROQaBld8kMhzMqR/F9wa2VrWVJ8beQWI+3InFi7bgM++3o1mjZ3PudKjS2tEhDeGn16POsFBajJ+rVwg3kwkul/1TTL+98lW5BcU4uKVa+rwXs4y90B6+6Pv8dPBdDWfTgsX11NAgB8euT8aoXVryRoLeSdhPDnPc4YD09eBrtFI6LvvhD78X0BgM/mAY9dyc7Fpxw5MfWUhvt/9I3KuX5ePEBEREREREREREblOZxRj5HgJy0UV06aiuDfCUGQw3RsNMBiMqFPH+ZwVvir3ej5mLf4Sp89V33BOer1eHbaqyOBajxnRg+N/L/0ZV7OvK7dc1A8NRsrRU1j68RYUFnpg3o8KEnlOhg7ogrivknBHVEf8duI8UtPPyEedM3/aA3jjg++Qk5unlq/Je0dEIG78qH64q2+k2gvGiiEfRfv7ADl7ZUX10gXfAl3HWOjq9lAK/rK2bAePpqq9VS5duaLmpjGb8MAfMbRff1nyLjk5uWqvLr1OOb6UDaf3M90rK0bdjqZpE8tpIiIiIiIiIiIicg8GV3ycaKT/z1tfqz1IPJ2/vx/atW6iDmsmbh1uaiofAQ78chJvxSXiWk7ZAQNvJIJHImhkDoiIIcKKnBwaTAgKDEDjBnWQefaKrHFOv17tMekhMVxb6WCF8fi/YTgxW5aqUa120LV8Fvpmf1Z2klBZ6Zg4F6SdPIm13yfip8M/awb3GFwhIiIiIiIiIiKi8uKwYD6ubesm+MfEIZq5NDxN+9ZNMXr4bRh6xy1qkMVMNJR/sWmPzwZWhCtZuVY9TVwJrAh5+QUuB1ZubtcCTzx6p3ZgJWsnDCf/I0vVRAwB1mwC9D32QB/2tFOBFRFvzcnNRdzX69S8Kj8eOuhyrykiIiIiIiIiIiKisrDnSg2xfstBxMUnyZLnEr/GF0neb25vavg3u3QlB/9+Yy3OXcqWNVQRYh2/+MxING0UImss3PgNRQfuAPIzZUU1aDgC+jZzoKvTXTlLORcYLCgsxKYd27Fx+3acv3xJ1trHnitERERERERERERUXuy5UkPcO7Ar7hvcXU0O78lEYOzC5Wu4eDlH7b2xZsNP+N+nPyA94wIevPc21K4VKOek8mrcoC5efGaEdmCl8DKKjv61mgIrOqBON+g7fQi/yC+gq9vTqcCKCKocPHoUc5YuwYfr1joVWCEiIiIiIiIiIiKqCPZcqUEKlXX01spE/HjgN1njuYYN7IpbOrbE4hXfqsM6iV/fi6HNxI/w8/IL5VzkKrEORY8Vy2HXSijHT+qfYTz3oSxXIV0AdDe9DH3LJwF9LVlZtitZWVjyycc4nParcty7NvwXe64QERERERERERFRebHnSg3i76fHlLGD0P+2DrLGc4nk7ss//aE4X4YInOUXFDKwUgFBgf6YOnGIdmDFWATDyZdhPP+ZrKgiOn9TXpWe+6AP/4fTgZVLV68gbt1aTPvv/+HQsaMuB1aIiIiIiIiIiIiIKoI9V2ogkfz8//63EUfSzlitU08ifm3vqcvmjYJrBeLpP9+F7je3kjXWjOc+gSH1EVmqAjp/ZaFugb7DO9CF9JaVZbuRn4f9R47gvS+/wJXsiuXfYc8VIiIiIiIiIiIiKi/2XKmBggID8K/H78VtXdvIGs/DwIr7+Pnp8cSjg+wHVi5vhCFtiixVAf/60HV8H37dt7oUWDmk5lV5C69/uLLCgRUiIiIiIiIiIiKiimBwpYYKCvDHE4/eib492/GX7T4spG4tTPvrUPTqepOssWbMTobh6F+AwiuyphL5N4Cu5TPQ35YGfdNHAb9Q+YBjx0+fwrJVn2Jh7LtIz8iAgYE3IiIiIiIiIiIiqmYMrtRgtYICMPnROxFlp+GdvJvIsfL84/fiVns9VnKPwHDwDiD/rKypRCFR8Ot1GPp2r0MX0FBWOlZYWIhP1n+D5xe/iu9370aBUiYiIiIiIiIiIiLyBAyu1HAiyf0zf7kbMff0UHM1kG9oUC8YM5+8DxGtNJLXK4zXf4XhlwcAww1ZUxmUHUrkVbl5Nfy6bwcCW8h6x0Ry+s1Ju/D8a6/iq+8TmayeiIiIiIiIiIiIPA4T2lOxTT/8jM++ScaNvAJZQ1pE4ELsYwUFRci9kS9rPUfbVk3w/6YMR53aQbLGmjH3FxgODgQKzsuaShDQDLoWf4O+9YvKWcZfVjpWVFSE3zIz8N6XXyLt5AlZW3mY0J6IiIiIiIiIiIjKiz1XqNiQAV0wdcIQBNcOlDVkSwy1FXN3D8x6egSaNXYuZ0hViu7RFs9PvtdBYCUFhp+HVV5gRecHXdNx0N/6I/Rt5jodWMnKycHiD1fiP8verpLACpF3uoiEF4aga5dBiFmZKus8TGYiZj7YBx37P4K5Hx3E+SKl7kQ8pk1egX2XTbMQEREREREREfkCBleomPiFe9dOYZg55T60CWska8lSXn4hvtv1Cy5evoZ8D8oBIoI+I++6FY8/PAh169SStdbU5PWH71PeRCUEL0QQpd5g6Lush77TB9DVaiMqTY85kJ2Tg/jvvsPUBS8j+edDuJHveT2ByHNlpSfio9nTEXPvIHTs0ku93XbvZEx7Mx77qiCVENkoSsXbj0/H6iPKcXw5FR+9NB79uinb5d55WFfUCE0ayPmIiIiIiIiIiHwAhwUjTWJdvroiAXsPn1CnqYSfnw5FRZ6zTgL89XjysbvQu3uErCnNeHULDAfvUqYqIX+JfwPo2i6Gvtk4peDcEFQij8rPx45hcdxK5F6/LmurFocF82JFmUiYPR3TvkxFnqwqLRA9nn4Hyyd1Q6ifrKLKdXYH5v5zPSLnz8foZpnY+tFrWPx2ItJaj8GSd57DwMZyPiIiIiIiIiIiH8DgCtklemls/TEVn3y9G3nMw+KROkY0w4TRA9C6ZUNZY0M5Hoxn34Ph9+eBgguy0k38QqEL+wf0zScAQa1kpWPiGE07cQKfbdqIw78eQ1E1JqtncMVLFWVi9TOjMHNLPhDcCaP//jyeGNkZ4SGm4QzzLqRj6ycLMWNZMrKUcrsJyxA/LQraA+URERERERERERGVD4MrVKYjv53G+2t24MSpS7KGqltAgB8G3d4JY+/vo05rMtyA4fQ7MKb/SzlM3Djclj4IqDcI+psWQle3u6x0TByb5y9fxvoftmLD9m2ytnoxuOKdMtZMxuDZyUBwP8z//A2Mbi0fsJG3ezFixschDYEY/dZWzB/EXFJEREREREREROQ+DK6QU3Kv52PVN8nYvDNFXb9UfRrVr4OpE4bgpvBG0OvtpU1SjoUjj8F44VNlUmSUdpPaHaDv8B50oVHK2cO5xurCokKs/+EHrP3+e2Tn5sja6sfgihfK24G5/Z/BR7mBGPHq11g01HFuqLSV43HvwoNA9+ew4eMxaCfrkZuJpPUbsW7bd9i1JxUZMtF6aOtOeHTu+5jau2TfFnld1ixdhbhdyVbzRd4ShaF3xmDE8AiEmqqBywcR+9JSrN5zAGlnTQHNoGbdMGTsX/H8n/uhiU0cNOtwPD76OllZhkNIOZyp9rQRQltHYcTYKZjyULdSf5O0qBfGxQLRc9di5agwta444GRXFOYnLMNo0+xI2zQPi1ckI6n4NUMQfvf9mPrEXzGic4haU0rRRez7ciVWxG3A1mMX1eHYxHIOHP4Ypj7dD+FiHhffv9n5bXFYELsKW3eL5QlE4w79MfJvf8WUoZ04pBsREREREREReSwmtCenBNcOxJ8f7Ie/j78HrZnsvlqIHip39bsZs58Zibatm9gNrBhzU2A4OBjG8x+5L7ASFA5dxEL43ZoEXb1+TgVWCgoLsXP/Psx680189M3XHhVYIS91YDfW5Cr3wWMw+u6yz0Pthv8JQ8TEgXhsTVerTH5ehXGzl2L15pLAipB14hpq1SnZtzO+nI7B903HgvUlgRUh60QqktbHYe70eKTIOlX+b9ilzGsOLAh5Zw9i3aJnMPiZeGTYHI4pG+dh8cqNFkEOk6wTyWoyePVvZJ07Zf2yHglWr5mNjM1xmPbgeCzYrdHLLTcZi8fchz/NjkOCDKwIYjnXHTwvSwoX3z+KspG0aBT6TV6MdWpgRcjHhWOJiJ3+CPr9ZQX2ie1NREREREREROSBGFwhp4kfwN/W9SbMffZ+DOzdCYEB/vIRqmxNGobgX3+7FxNHD0BjZVqbAcarO2A4MEBNYO8W+iDoGo+GvufP0If/C/C3k9vFguhBdubCBSxcsRyvx32I3zJOykeIKibjhExgP6g7Ip3p0dC4q3KuEhOpSDuuETToPRXxyXtw9LDpdijpPTza3vRQ3t6lmPRCIrIQgRFzP8aOvRbzxU9FtGk2a83uwuz4BBw6WDLvT6tmYUSY8nxbFmLFTo1lUEQ/t6bkbw7uQuLrpl426t9s0/4bS+GjlhW/XvHt4BasnBChPBqIgc89h5Gy14oQOfpjJCbtKpl371osn9BNeSQdsa/FI800m5SJ1dOfwdtH8hHUcyKWb7D4u+S1iP/XXaZeK4KL7z9j7UxMik0HgrvhiWVri//u0IZX8GjnQHUbjFu4oziYQ0RERERERETkSRhcIZcFBfrjbw8PxAtP3YfI9i19a9ghDyN6DD0W0wfz/hGDLh1ayloNhuswpP8/GA4PBQrdlBun/l3Qd90CfeePoPOvJysdu5x1FW9/9ilmvL4Yh44dk7VE7pFxXA591TykZCiussgY8MkLFj0szPzrItRiBMmgkEYIVTPfX0RC3Ao1yBA993UsGtUJTSwy4gcF15VTtkIQ3qERgiwCP6FdYjD1b1HKVD72pWeaKm0FB5b8jV8gwu9+Di9NFtGQfKzZc8RU75J8JL02HuNiMxE56Q0sGRdhldA/KCwC4SEWvc+CwjDw71MwQUwfSEWGZTTjwFd4e0s+EDYWy9+ZgoGtLf4uOAyRHSyDvS68/6KDWP22CJyEYcLr72DqgLDivwtqPRiz35mPEcq2yVvzLtZY9joiIiIiIiIiIvIQDK5QuYh4Svs2TfH/pgzHhFH9EN68ARhicR8RwLq9e1vMefZ+3DuoK0Lr1paP2DLCmPsLDCkxMGb8H1BU0aG3lK1YuxN07d+G3y0boQuNVqoC5GP2Xbuei+9+TMKM1xZj60/JyLl+XT5C5IUuH8CWTWJiGMbeZdHlwwkif8i08aPQN6oXOnbpha6DR2HS0gPqYynnL6j3zojsKgISQN6x36ARFnIoY80/1R4h7Sa8gc/+HmUVWFFlp2LdwumIuXeQuowduwzC4IfnYY36YCbOWSxmyq6N6tBkkWNjEO1EKjOn3/+RZKwTsZbOYzC6r8Ywg40HY/RDov4gtuy/aKojIiIiIiIiIvIgDK5Qhfjp9birXyTm/eMBjH0gGrWCym6IJ8fatW6Cl6c/iKf/fJcatHLEeDYOhv23w3g5QdZUhA661rPg12MP9C0mK0Xnhn07/Ouv+Nd//4vla1bjUpZl5ggi9wpvYwo44Ey2VY4ShwpNd60aNzFNOCM3yxTQ6Hwz2jk+BC3kW+QPSccFmSsk72y6VQ4SZxX3jlH+1JVhsbJ2Lsak2TuAQbOwXCuwkhmPSYMfwbSViUg5kS0rs5Fhk/fFLCvH1Nskur0YYswRF99/TpYpn0zvTuoQaFrC23RX77f+9pt6T0RERERERETkSRhcIbcQPS3uHdhNDQo8OKwX6luOtUNl8tPrcEvHMPx9/D148ZmRaN6kHvRKnT3G67/C8MtoGI7+RU0KXSE6f+iaPAR9j5+gbzNHWZg68gHH0k6ewGsrP8DL7/4PF69eUXOtEFWm8NadTMGCLQeQYpscXcuFQ9i6W0x0Qrs2Gr0jyhJat3Rwwp7DH2KGyB+CCDz6yhr8ZJFDZcNzMihU2Q6vwJ8mxSEtYiyWvxKD8FJ5abKR8No8bM1VztmDpuCzBMv8Ka/gUTlXuXjC+yciIiIiIiIiqkIMrpBbNWscqgZXXpv1EP5wZ3fUq1sbeuZksSswwA83hTfG85OHY8aUP6B39wgE+JdqES1RlAvDmXdh2NMZxgtiEB+Dqb48dMrr1O4I/S0J0Hf+BLq6PUWl6TEHsq5dwycb1uOFN9/AroMHUFAouwYQVbbuvTFKxG1zV2H15rKHikpb/xnUPl3dYzCwrI4XlvxhCqrsPoQ0J7uNZPySbOqJMe45zB4egVDzYewXiKCqiDXnJmPBc0uRFtwP89+ZamcIryPYu17cR+HFGRPRI8wyf0qIZiApSFl+IelXx4lPXH7/dUJNifB3p9ok0C+Rcdw0nNjAtm3VeyIiIiIiIiIiT8LgClWKwAB/PHL/7XjpXw/ib48MRIum9eUjJIgASv+oDpj19Aj8++/3o0vHsvM6GLN2oOjQnTD+OlkpOPOzfQf8QqBv9xb8bk2Crv6dstIx0TNl/bYfMOON1/BV4ncwGCoQ2CEqj6B+mKj2gsjHuhfmYvUJU7WWvN2L8dTCg8pUIEb/Lcbu0FOamnVHn85iYj3WbvGCfB9FmVg9/RnEpkdgwlv/xWjX0sQ4FNkrRg26pMTFI0kO9eUWnaMwQiznkVVYvVNj2LALiVj9qajvhkG3NjLVERERERERERF5EAZXqNKIPhANQoNxR1RHLPyXKYdIVLebEFKnVo1Mfu/np1dzqIy4qzsWPjcKUx69E+1aN4W/o54qMMB4PRWGY0/AcOAOIHt3xQIrfqHQNf8r9FG/QtficcC/7IQShUVFOJB6BLOWvIEPvorH+UuXOAQYVZvwB2Zh/qBAIHcHZj74CGZ+dBAZ2SWN83kX0pHw5mT0Gx+n9ogQSd1fFPO7JAJDHjYHcZ7G3M2ZyJOHnfr8q7/CPlOxWPjNUaaeGGuWYvG2kvlVriRNKYeMLxfi31vyET33dTzf29F77Yyew8V9MmKXxCPlslppUpSvuZhBfcdgqkh9khmHSY8vRcKxiyXvLS8b54+ZcrW4/P79umH0E/0QhEzEPvu41d/knUjE3MdnYp0YvmzUXzHKlV5HRERERERERERVRGf0olZSy0UV06aiuDfCUGQw3RsNMBiMqFOHOT88kdhmYhipb7el4JstB3Ely50/hfZMYli0zu1bYOz90WjdspHDXCpWjPkwHP83jBkLlWk3DL0lhgDr8g10tcVv+J1bhpzr17Hog/eQkpamHl++ZMIDf8TQfv1lybvk5OSq+5Fep4dO2b/0fqZ7sV3FnWnaxHLaZxRlImH2dEz7MtVB3CIQPZ5+B8sndSsZosps92J0HB8H9J2FxOUxpqCALdEb5B+PYuZmRzmNxmLl4amIVqeV+Z8chZlbNHphmE1YhqPTSvKPJC3qhXGxQPTctVg5yqa7iZ1lLP03yutOGomZO02P2zPhvT14vjeQt3cpYh5bYXcoLjFk2PyEZda9XzITMe3x6VinOTLYMCzZPh9DGrj+/k1J8B9R3o/2kGNBPadg5TsT0YMf50RERERERETkgdhzhaqUaOcVQ4b9YXA3NS/LC0/dhzF/iEJEeGP4+/nO7ih65/Tp0Q5Txt6JV1/4E2ZO+YOaW8WpwEr+WRiOz0bRT51hPDm/4oGV2h2g7xQHv14/Q1e7vVJR9jJk5+Tgo2++xjMvz8fhX3/1ucAKeTm/MAz5z8fY8fUrmD1qMCJbh8gHgNDWURgxeRY+S9yFzyZrBFacpbzG6FfXIf6VsRjSoZHMRxKC8N7D8PzciaaASlgoQtV6QZn/jQSb+QXlb7p0QuTdMXjilsayrvqIgMWGxDfw/PAohFt0XAtqFoHILsq6GzcY7W2DGWGDseirBCyfEYMhXcKK33No604YMkp5HnX+8rz/QERPW4Mdy6ZiRG/z8waicYfBmPCKsn3fZ2CFiIiIiIiIiDwXe66Qx7hw+RoSd/6Cn49m4vylbOTk5qFQ2a6eTvQMEAGj+qG10ap5Q/S7rT163XIT/P1dCBYp+y0KTsNwcR2Mx19Qpt2Q58G/EXRNx0If8TKgry0rHbuRl4f9qUfw7po1yM7NkbW+iT1XqNx2L0bX8XHIG/4KfnplsEWApQZIj0PMfaswdNVaPNFF1hERERERERER1UAMrpDHKVK25dXs67iSnYufUzORfDAdGWcuIy/fDUNjuYlosK4XUgud27VAv57t0bJZfYSGBKNObVdzOyjyT8Pw+wswXt6gTJ9RKip4SOr8gIb3QR/xX6eHABOv+HtGBpavWY30U5k1Ilk9gyvk0IWDSNgfhMjbIxAeIo/ronycP7IeC56bpw6RNeSVBCwZXrOSrWesmYzBs5MR2ncqlr8+lj1LiIiIiIiIiKjGYnCFvMKNvAL8dvI8jmdcVHu1nL2QhXMXs3D12nXk5RWisLCooiGJUkTjdaC/H4KDg9CwXh00bxKKJo1C0bxxKDq0aYZmSrncDddF2TBe2QLjhTUwnv9E2Y0L5AMVoQdC+0IfPg26RjGyzjFxzGScPYv1P2zF98m71XJNweAKOZK3ZR66PhkvS6WF3j0L8a/GILy8w455o7x8wD8PSa+NV/OkmPO4EBERERERERHVRAyukNe7fqMAZ85fwdH0szieeRHnLl9DVnYurl/PR35BkTq0mOiJoe4/5l1IZwqe6PV6BAT4oVZgAOrUDkKDesFqL5R2rZuibesmSrkO/JT53MMAFOXAcCbWNPRX0TVZ7wZ+IdC1eQn6sClKwbnhyAoKC7Fx+zZ8smE9ioqKZG3NweAKOZKXnojY9zdg0+5kpJyQSe2DG6HdLVEY/ehfMerOiPLnc/FKF5HwwsOY9uVF5CEEkQ/9HYv+FYN2JclViIiIiIiIiIhqFAZXyGep+4OyLxQZDMpNTIt9RI2ryAZpHfz0evUmGqorh7J/5p+G8fxnwOVNMGYlAUVX5WNuoA+GruXT0DX/G3S128pKxwoLC/HDnp+wftsPOHlGDENWMzG4QkREREREREREROXF4ApVv/zTapAA/iFKwYUk8B5J2SmLcmDMOwlc2w/D+Tjg0kal3s05THQB0IX2hS7i/6ALcW5cHhFc+i3jJD7buBEHj6bK2pqLwRUiIiIiIiIiIiIqLwZXqNoZjv3NlMy9Tk/oWz4JXb1+gL6OfNRLGG7AeG0vDKfeArJ3AgUX5bBflXB4BbWCvtNH0IVEKeuplqx07Gp2NpatXoWfjx1FfoE78rt4PwZXiIiIiIiIiIiIqLwYXKFqZ0h9DMZzcbKk8KsDhPSFru6t0NWOVKZvg65Wa0BfV9ljq7tni7LTGa7DmHcKyNkH47WDMOYeBq5uBQovyXkqSUAT6Fo8AV3Lp6BTpp1xLScHm39Mwqbt23Epy43DkfkABleIiIiIiIiIiIiovBhcoWpXKriiRecHBHeBrvFo6ELvAGq1gs6/AaAPUh7zV2ZQHpeNyxWj7FTqjmVQ7guVWz5QmK3cnYIx+ycYL3wOZO1Q6m+YZq8K4v3Vvwf6zp8qk6Gy0jGRZ+aXtF+x+MOVuJabK2vJEoMrREREREREREREVF4MrlC1cyq4YksEHERwJaCZcl8fOj9le/uFqr07EBQOXWCYMt1UeUyp09c2BWFEAEZlUP4rUHad62rgRO1xIoIneRnK/RmlfBlGg/KYSDyff04pX1Tmr8JgiqWQaOgjXoYupK/yHgJlpWO/njiBj9d/g9Tf09Xk9aSNwRUiIiIiIiIiIiIqLwZXqNqVK7ji03RqXhVdy6ehD/u7UhQ9cxwTh8KFy5exacd2rP9hq9pzhRxjcIWIiIiIiIiIiIjKq7oTWBCRFR10LZ+FX69D0IdPcy6wYjTi6y3fY/qiV7BOuWdghYiIiIiIiIiIiKhyMbhC5Al0ftA1HAl99x3Qt3vVNMSZ6MHigAii/HjwAGa+8Trivl6H6zeqaegyIiIiIiIiIiIiohqGwRWiaqUcgkGtoI+Mh77LV9CF9lHqHAdVxNB35y5exEvL38GrKz9A2skT8hEiIiIiIiIiIiIiqgoMrhBVF30wdBH/B7+e+6BreJ+sdCz3xnWs+OILPLd4EX4+dkzWEhEREREREREREVFVYnCFqKrp60DX9FHob/vFlFfFv5F8wL7c69exOWkXnl3wMjbv2olcDgFGREREREREREREVG0YXCGqSoEtoL91J/SdVkIX1FpWOnbq3Dn869VFeHfNamRduyZriYiIiIiIiIiIiKi6MLhCVBWC2kDXYQX8eh+Hrk43pcLxoWdUbsdPncKrK9/HP15ZiPOXL6l1RERERERERERERFT9GFwhqkx+9aFr+hj8eh2CvvkEQBcgH7Dv6rVsrP0+ETNeX4wfDx6E0ciwChHZl7FmMsatyZQl8kiZ8Rg3KR4ZsujbkrGgy2IkyVLZMrF6kivzVy1xfC3YLQtEREREREREFhhcIaoUeujq3yOHAPsA8AuR9fYVFRUhYcd2zHhtMT7+5msUKmUiMkla1Asduzh3c64hVDQA9yoVlBANqR0XJcuSD9q92GZ9TcZqr43LiEZ55T1Ux/YqtR5tb24OFqivp7WtlP3Yy/fXjDXzsG7oGESLgghCaa5PjZtGsKrUeUIzoCX3G8v5bG6W54XwUROB8Z4b/CEiIiIiIqLqw+AKkVvpgLq3qQEV/S0boQu+2VTngMFgwP4jR/Dyu//Dii+/wIUrV+QjRGQWPW0Pjh62vq2cAEx4r3T9873lHzmSmYkUOWkruk1LOeVb1MDR8ggkWq2vWcCc0kEm73AKaTuV7aVMVUuPkAnLLNaj7W2qKVjgJhknUuWUDQf7sXdIRtzsTpgyKsxUDIvBStt1mTAL0X1n2ey3ym15DMJNf6UwBUyWtllrPc8cYIZmUCoK8xMs5rO5rTQvjyoKY+emYil7hxEREREREZENBleI3EUfBF2bl+DX40fomo4FdGUfXtdyczHvnbfVwMqhY8dkLRFVOtmIa92I6stMjdgrrRqkhTCMXu6t6yEKz4ttOC3K5j35nvBRIpCzDKN9bXfdvR0pc2WvlYrYvQozOy8rvR+rx3nF15vovRK5KbmGDOtGREREREREzmJwhaiidIHQtXwG+h77oG/9vFJR9mGVc/06Ply3FtNeWYiUtDRZS0RUSUQPh74RPh+EqHEy0716uKqkbakY0afiESPRs6dye5xFYVDnjdjFzitERERERERkgcEVonJTDp+QKOi7JULf7nU5BJhjBYWFSP75EJ5d8DK+3roFV7Kz5SNE5E7FSaitcjhYDg8khhFylG/ElJOlJA+DRs4FkQfDTr4LrSTz2suk3OwmOrfNDVGBvA9hYYjcme7cL+8dJV/XeM+uvy/T35S8L+WmtR6V1zKtQ+ttYZlTR+TY0M6xo5FXQ3NbiflM69VqmRwsu7s5tS5KbRO5TsbHAbGOl7vU89vZj7S3o+0xYnNcVGg9JWPLkWFwQ2wF4a07Ien4KVmqHOFtgHWMrhAREREREZEFBleIyiOgiZpTxa/r99CF9pOVjv2WcRLPLV6ExSs/QHbONVlLRJXmRDzGzQFeKs6l4OTwQMdXYVyX7RhU/HfK7T0odW5Iar1tMTpaLdMeJA7diMG2jdRqA/c8YI7FMiREYGm5l8GUN8It70GLxvs6OikdgzVeTwREBh+fWDKfuA3YbqehXjTmW2+LsnPqiL8ZibRJFs+v3BLbrLAbDDi5ZjJmYFbJ/KWGT6scrq0LS6Yh0Y6+N9Y694vNcms+v7of2QksOjpm1KT6NseF2MblDbCI3lSdw9yznnuPwfwjk+0GO90hvM8w5dxQuQEcIiIiIiIi8i4MrhC5wi8UurBp8Ot5CLoG9yjlOvIB+85evIB3P1+DF954HZlnz6LIYJCPEFFlip2djinlaCRPOhKBl2wTkveeikQ3JLWORf9SDeDho2ZhPqyHHMrIDFOWwSYYFBaDKRPisEWzp0bZ1LwdasO67HXgxoZorfcl1tlKZXmt1pnojQJlOaZFyQpJrN+hGxFn896SZm9EuwTXksMnLZqMlLlrSwVhxPtf2XkeZpTahnGYeXyi63lnLHuMWN6cDTa4uC5cJp7/yCwk2j6/yEPyXifMnFN6OR0dM0liG5c6LsaU2nddEem2obxMuYPUAJrcDto9msySMXOIzXZz6u+IiIiIiIiISjC4QuQMnR909QbA7/ZM6Nv+FwhsJh+wL7+wEOu2fI9nXn4J3+7ayaAKURWLLm+ibDu/pld/uV7BpNbaeSHC0KpzMtIsGqjDe2snaQ9vY9NQ7iqZyF/tdSB6SIgG5fL2PLBgL99F9ICxVsM1JW2Lw4QB2u9BDO2UcsKmlX7CRBeTkSdjS+xYTLETKIl+aJbGNozC/IfKsV4te4xY3pwM6Lm8LlykPv8kO8tiJyji6JiJVvbJ0sS+KyddlZmOFDnpLqbE/6btMGibKVhiOzyfibLNE2y2m7zZ7RklhtY7klnhY4WIiIiIiIh8B4MrRGUJvgX6yK+gv2Uz4FdXVtpnMBiwfd9ezHhtMeK+XidriYjKQR2KqeRX9YNnu3HYo95T1cZk0ZtjcGUNpxQWgejiBulMnDwCxI4veT9Wt/FxFc+bUVbifldyz1Sqyl4X4vmj0M5uYKp0QM9ZtjlcxsXKBzxM9DQRLFmGyNkj2RuFiIiIiIiIKgWDK0SadEBAM+ja/Bt+PfdD1/APytESKB/TJoIqv544gZeW/w9vfhSHk2dOy0eIiFxkTiq+TQzFVPKr+sS5Fey5okH05igJgFQ2+z0G1JvtEFY+zcvWhQz0WeWmUW4rJ8jHPZLINRRV4V5AKhG4k5NEREREREREAoMrRKXooGv6Z/j1SoG+9QvqkGBlySsowJJPPsacpUtw6NhRWUtEPiUzHUnuSsDtUCZWz9mIEaLh3duDDVbrrPy9JZxWVs+Usnq2VJnKXhdlPX9ZPVtsJWPBeKhDyrmcm8aesAjvSxBfJcc/EREREREReQsGV4jMdHro6t8Nfdfvoe/0HhDQUFSaHrMj98YNfLF5M56aPw879u1FQWGhfISIfE2pHBlWQ15ZyzhekWG2TiFtZye0clMbdlkydm0EhlrkeHEQoMg4kSqnnJGJ1cut15noJZOyvOI5XuyLwiDbJPoWkj6dZ/1eq1FlrwuR7ybW3vPvXoWZGIY+zu5jlRGUqpIcJpnYtQkY4fQbtU89TtyWgJ+IiIiIiIh8AYMrRCKAEtgMuo4fQt/1W+jqD5T19hUWFSE9MwP//O//4bON65F17Zp8hIi8XuzkUjkaRJ6JcUdmYaxlsuuwKIzAPMywachPWtQLS49UpMeJVoAgE6snlTfniulvO3ZZjCRZU2z3YuU5O9kkgDe9/jibPCxiHczYJAs2kmbPw2qbeEbSopGY2XmZdYLwsBhMsZPjRaw37eTjromepp1nw7wNX3JXz4uKcse6sAnwZWRa/E3vqdr5dMSQc+NTMX+Oc4n3VXJfj7Nap8lYUKGcK8p+1rl0Un2XmYfQ01yPYh+ciNFu2OQZx90TpCEiIiIiIiLfweAK1Wz6QOjazIVfz0PQN31EVjp24vRpzP/fMvy/1xbj4pUrspaIfEX03LUYtK0kYbe4DT4+EUeX2zZGh2H08rUYsWmk1bxbBuzBykmd5DzlEz3N9nnnAXP24Oh7Y+UcrhDLKfJj9McWi+VUb2pOl6mIlnOaiWTgK2GduFzk2lg5Z1ipeYXouROV5bN4XuW2tM1azWHN1ETjA7ZbzStu6npzS+AjCs8fXot2y62fX3sbVkCs9fqxvmkEsjRUeF2YAzTy72bMSbZ6XfH8iW1WWD//kHRMObzMxYCD2IeWAVYJ+Ldj0GGRB6j8+3r0gE5YV9HoirIOxHBl9taj9tB6yZg5xHpey1vpwFYythxxoacPERERERER1Qg6o0JOezzLRRXTpqK4N8JQZDDdGw0wGIyoUydYnY88nyH1MRjPxclSFdHXgq7BcOhvehkI7igrHTt36RK2/pSMrxK/4/BfPmDCA3/E0H79Zcm75OTkQq/XQS+GstMp936me9ELS9yZpk0sp4kqg9qjRQRePKVHCHkR0ftFBGlKB/g8CfdxIiIiIiIi0sKeK1Tz+DeAvtsP0EeudiqwYjAakbBjuzoE2JqETQysEBERuUUUxs5NtZsjxzMkI67U0HlEREREREREDK5QTRLYArp2b8Hv9gzoQsQwIY53f9ETateB/Zi7dAliv/wCefn58hEiIiJyh/BRszBi0yqnhlGrDhlrVgDveXbPGiIiIiIiIqoeDK6Q7/OrC12DYfDrlQJ9yynKXu94yDgRVDlz4YKaV+W1D1fiSHo6vGbsPCIiIq8i8rl4bvAifNQyPN9bFoiIiIiIiIgsMLhCPkwHXb07oO++E/pbNgD+9WW9fTfy8vD2Z59i5huv4dCxY7KWiIjsEY3PzEVBRERERERERDUNgyvkm4K7QtduCfRdv4OuTldZaV9hYSG+3/0jnnl5vpq0/lpurnyEiIiIiIiIiIiIiMgagyvkW3R+0LWeDb+eB0xDgOn85QP2nTxzBhNfnIVlqz7D1WvXZC0RERERERERERERkTYGV8hH+EHXfCL0t/4EfZs5gE4n6+07f+kSXo/7EM8tXoQb+XmyloiIiIiIiIiIiIjIMQZXyMvpgDq3QN/te+g7vAtd3VtlvX1Z167hi+++xVMv/Qc79+9DUVGRfISIiIiIiIiIiIiIqGwMrpD38guF7uY18Ou+E7p6A2SlfUajEdv37sHzr72KzzZskLVERERERERERERERK7RGUWLs5ewXFQxbSqKeyMMRQbTvdEAg8GIOnWC1fnI8xnPvgdjVpIsOcm/PvRh/wACm8kKx8S+sWPfPqT8liZrqKbrd2sPdGnfXpa8S05OLvR6HfQ6PXQ65d7PdC96cok707SJ5TQRERERERERERG5B4MrRERehsEVIiIiIiIiIiKi6sVhwYiIiIiIiIiIiIiIiFzA4AoREREREREREREREZELGFwhIiIiIiIiIiIiIiJyAYMrRERERERERERERERELmBwhYiIiIiIiIiIiIiIyAUMrhAREREREREREREREbmAwRUiIiIiIiIiIiIiIiIXMLhCRERERERERERERETkAgZXiIiIiIiIiIiIiIiIXMDgChERERERERERERERkQsYXCEiIiIiIiIiIiIiInIBgytEREREREREREREREQuYHCFiIiIiIiIiIiIiIjIBQyuEBERERERERERERERuYDBFSIiIiIiIiIiIiIiIhcwuEJEREREREREREREROQCBleIiIiIiIiIiIiIiIhcoDMq5LTHs1xUMW0qinsjDEUG073RAIPBiDp1gtX5yLOJbZafny9L3iswMBA6nU6Wahax/SyPTW/h7+8PPz8/WfIuOTm50Ot10Ov06n6n9zPdK6d05V75v8W+WFP3SyIiIiIiIiIiosrE4ApVqwsXLqBNmzay5J3q1KmDnTt3on379rLGfcQ+nZWVhWPHjuGXX35BZmYmrl69ihs3bij7uUFtOA8ICEDdunXRvHlzdOrUCTfffDOaNm1aJY3qYhnuuOMO7Nu3T9Z4j1dffRWPP/64LHkXBleIiIiIiIiIiIiqF4MrVK3Onz+vBgK8mQhs7N27Fx06dJA15SP23zNnziAtLU19vpUrV+LIkSNqIKWoqEjOVTa9Xq/2pImIiMDDDz+sBj9at26Nm266ye0N7WK5br/9duzZs0fWeI8lS5bgySeflCXvwuAKERERERERERFR9WLOFSIPcODAAdxzzz249dZbMWjQIDz77LNqwCInJ8elwIogepOIgIzo6fLiiy9i8ODB6NWrF2677TasW7dOzkVERERERERERERE5cXgClE1+u677zB06FA18CGmz50753IwpSwi2HL58mW1N8z999+Pzp07q0NiXbx4Uc5BRERERERERERERK5gcIWoGogk8E8//TSGDBmChIQEFBYWykcqlxh6LDU1FdOmTVNzs+zevdvtwRwiIiIiIiIiIiIiX8fgClEVE71I7rvvPixdulTtVVJdRL6bAQMG4LHHHlODPURERERERERERETkHAZXiKrQ9evXMWbMGHz77bfVGlgxE0GVTz75BH/729/UXi1EZJaNpEWTEXPvICzYLauIPFV6PJ4aMwp9n4xHhqwiIiIiIiIiosrF4ApRFRFDf915551qbhVP8+GHH+K5556TJSICsnDySDJSTmTLMpEHO5+OhMPpuMBOiERERERERERVhsEVoiry3//+V81x4ok9REQvGrF8X331lawh8nx5mQexeuF0tXdJxy691FvXwaMwbvpSrN6ZjixfSSd0+SDefvYR3Dt4KZJklXfJxr5lynaKGYLF7AVERERERERERD6CwRWiKnDo0CG88MILHj30lli2p556CteuXZM1RB6q6CK2vvQIbhsyHjNXJlr1Lsk7m46k9Sswc9IozN3sI71Ocn/Drs2pSDubJyu8TRZ+3aNsp2MX4a3vgIiIiIiIiIjIls7oRYkWLBdVTJuK4t4IQ5HBdG80wGAwok6dYHU+8mw3btzA559/LkvlJ3peLFy4EIcPH5Y1ZfPz88PMmTPRsWNHWVM+/v7+GD58OEJCQmSNtYKCAowYMQKbNm2SNZ5t3LhxeO+996DXlx17LSoqwu233449e/bImrKJ9T5v3jy0bt1a1lSPqKioCm/76pKTk6tsHx30Oj10OuXez3SvnNKVe+X/6rSJ5bRPKMrE6n88iplq4CQE0ZNfxOwx/dGuWaDp8dyLSNu/DatXpqLny89hSANTteuU15k0EjN3AhPe24Pne8vq6pAZj3FD5iEJY7Hy8FREy2rv4UHr0lftXoyO4+OAvrOQuDwG4bKaiIiIiIiIiCoPgyvkE0Qj/5AhQ5CYmChryhYQEKDO379/f1lTOU6fPo0uXbrg8uXLssY1DRs2RHR0NDp06IABAwagU6dOaNCggbr8IqgkAlRnzpxRAxxi2LFjx46p92KdlId4vb1796JNmzayxr7yBFdEMErM361bN1lDrqrJwZWML5/BvS/sQF5wP8z//A2MrrQYHYMr7sPgSqVjcIWIiIiIiIioynFYMKJKlpCQUO7Aihim6/jx41i3bh1ee+01PPjgg7jlllsQFhaGpk2bonnz5rjpppvU4MuTTz6JDz74AD/88ANOnDiBXr16yWdxzaVLl/DWW2/JEpEHKTqI1W/vQB4CMeI/s10PrGSnYt3C6bh3cB9Tjpb+IzFuehy2npWP25H980Ysnj4efaPMeV3GY1psIjJy5Qwaso5sxIJnRxX/zW33TseC9amaeWDOK/N+tHAmxsUMQVeZO6Zj1BDc+494ZMh5TOIwzvy4vC0ozmEiAhi2dSUy1kw2/c2iZFlj4sxrp22ah6fGjMRt5se7DMLgZxdj3RHXh12LHW9+DnmzWR7h/LY4TBtvfr0+6PvYTMRuuygftZCXia0fLcXMZx+xyrsjlv9PynZNuqDMc1bZZ96ciT+Zt7l52Y+VzvyedTgeb4t1YfVeldePUbbdmoM47yhe7eK+VdXrnYiIiIiIiIjcj8EVokq2atUqOeW8unXr4osvvsDrr7+uTjszRJeZ6BnSsmVLbN++Hf/+97/VHi6uevvtt8sdECKqNHu+Q2ymch88BqPvbmSqc9aJeEwa/AimrUxE2lnZsH45E0nrFyv1ozBtk3hibasXzcTb6w/iggym5J09iHWLpmPwmJlIKPVn+Uhb+Qz6PTgTsZvTi/8m60QiYqc/gn7PxCPDqpE+E1uU55+7ciOSLHOSiOHN/EIRKouVw7nXzvplPRIOZyJLlkWC+ozNcZj24Hgs2F06SFFuIpfOvFHoN3kx1u02v14+LuzdiAWTh+DeRcnWOVsuJGPFSyuwenOqVd4dsfz7lO06LmYQbhs8HjOXbcQ+8zY3L3vMI3jbZhTJlI3zsFisC6v3qrz+MWXbzR6PfvcvxFYRsLHl8r7lYeudiIiIiIiIiMqFwRWiSiSGqhNBDleI4IgIqjzwwAMuBVVs1apVCzNmzMAf//hHWeM8kdTe1eUmqmwZJ1JNDdHDe6OHn1rlnLyDWDxlHrbmAu1GzkL89j04eli57U1A/IzBCEU61v3jBcSmy/lthPadiCXxCTh00PR3hza8gSd6BgLpG/HUHOveJXm738KkhWLYsm54Ytna4r/5adUsjIhQHt+yEIs3a/TCUDz6+pbi+Y8e3IUdM/rbBFfEsGDycXlz1xBbjl47cvTHSEzaVfK6e9di+QQxrF86Yl+LR5ppNqeIYcGKn0fcpkXJR8SQbzMx6VNlI0QMw/xVcn0ry5K4bCJ6BANpsQsRq5lWawyWWC7f9jcwQVnXuJyNLOW5Zn9Ysh2Obv8Yzw8S+XnSsfj9RIvARYno59aUPJdYF/GvyO29CpOeiUOaZXCsgvtWVa13IiIiIiIiInI/BleIKtGVK1eQlaXVfGffvffei/Hjx8tSxYjk8StWrFDztbgqObn0cD1E1SnjuNwnQwMRZJpyyvnvPsTbonG77yws/08MIs1J7oMaIfLRV7DyadESfxCL48SQY6WNmjQFQzo0QpAM6AS17oep7/wXo0Vqr52xWFfc4J+JtcvjkIFAjH7lHUwdEFb8N6FdYrBo/kSEIx/r1m7DeVO1laDQkOL54ReIJg1kkv4q4Oi1g8IiEB5isSxBYRj49ymYIKYPpCJDa6W5qigZcQvF9u2G59+cj9Fd5PpWliV8wBQsmTtYKaRj6bcHxdw2AhFquXwNlO3z3BjTPtIkCgN7lmwHNOiECVP+aspJsv4AUtRKG8EWzyXWRYfByvaWAZsDbyFuZ0mvkYruW9W+3omIiIiIiIio3BhcIapE2dmuj40/bNgwtyYhr1OnDiZOnChLzktL4++iyRdkY9/3ierU6EeHI9zckG0hcsRYNUl83lo7je1agvthxEOi4TsTu36Rwz5dTkXSTuU+eAxGDLBoFDe7JQpDxP2WdO/qdSDziZTkNRmEwQ/Pwxr1wUyc0xoqy1VHDiJBDKHW934MEfEIG0269zNto8O/2eSh0RbUthN6iInd6aXnb98ZfdSJdJwsI99OseAojP2L6GWTjzV7jpjqKmvfMquK9U5ERERERERE5cbgClElMhgMcsp5DRs2lFPuM2LECDnlvNOnT8spIs8Q3kYOIZWVr9kLQFsWrl4R91G4tYNGwEMIC0OkuM89iF/tp14pJbxNd/U+6fgp9R65WaYeKblxGNfNnITc4tZtMmLVGV1o1K9umSX5RErymmQjwyoXiBvkZJmCIDvnYbDtehO3IfOQJB7ff0qz108pzeU21RIUiBB1Ih8oVCecEt66k3pfEuCpvH2rytY7EREREREREZUbgytElUjkPXHVkSPmX0W7T+fOnV0eGkzkXSHyJOEtTY3bWL8b+6ySwnsb1xr1q082El4z5RMJGjQFnyVY5P9IfgWPyrmqVG6ec4E1jV4k3sMD1zsRERERERERlcLgClElatCggZr3xBWffvqpy3layiIS40+ZMgVRUVGIjo7GoEGDMHz4cDz00EN48sknMXfuXPzvf//Dl19+ia1bt+LAgQPqNJFH6dUbj4o8J7mrsG5bSd4Lx0JRr764T8b+Y3b+JjPTNGRTcDe0D1NrnJJx/IB6H92mpXoPf5jyfIRNQby5MVzztgyjXXgd55jfJ3D+suvDEWo7gr3rxX0UXpwxET3CLHpnBIe4lPemTP5Bpucb/gp+0lxn5ttUdZit6pBxItU00TnMlLOl0vatKlzvRERERERERFRuDK4QVaKgoCDccsstsuSc1NRUjBkzBnl57s1W/Mwzz2Dnzp3Yvn07vvvuO3z99df4+OOPsWTJErz44ouYNGkSYmJicMcdd6Bbt24IC3N76y9RxQT1w+iJIiFHPlZP/ydWOzXMUgh63CmSoQOrP1qPDI0eLynr4tQhp4JGdrc/lJStzHis+FQ0qHfD0F7yWGnWHYPESGGZX2GtRdLzCise4uoCsi6rExpCEN7OtBwJuw+6MGxaVQhDq/amKbuBny7dMUoEztavwiZXhs+qKkXpSPhCJNwHRtzSWb2vtH2LiIiIiIiIiLwCgytEleyBBx6QU8779ttvMWrUKGzcuBFGo1HWVozoveLv76/2pBHTImm+OxPnE1WFyPEv4gkRX8ndgZkxj2DmRweRkW0RyMjLxvljyVi9cCFWp5uqmtz1mOlvds7DpBfikWIOUORdRMpH0zHuTTFjN0wd20+zV0BeVjbyzA3nRfnI2LsK0x6XwzaN+itGFSdgj8Cov8Uoz5GJ2Gcfx+LN6TgvkrSb5V5E2k5leV0d0syvMVqp6V02YnHsDmTJv8+7kI6UzJL3HtlnmNqjIu/TxViwOdNqmfMsl8NpndFzuLhPRuwSi/UmiOeUk85oEt5NvV/35rvYarH+044oyymmg/ph7NNinuT/z969AEZR3Ysf/yFKfIG1gljDw4gIAsX6AHl55R8VsK2YWxFfSAtKRdtqvWi1UkCgWKzm0movYpFgMfRW4FqEVgFtipWXRFQQKIhIhcQWQamgaFDIf34zZ3ZnZ2cfs0kgu/l+dNyZs7PzODM74PntOT8Zfetomf16pez17KBqX6VsXGHVp1muS2/8b4m9f7f+qnZvlrk/u0cma0elgptlSF8nY4uq6b0VLIN6b9HCCd6sWCRLNtRWzyUAAAAAAJBMo+raark9DLyHqvPOor5Wy6GDh5zX6kNy6FC1nHCC/gQWDcXBgwelX79+UlZWZkpSO+aYY+z1+/TpY0rqxrvvvmvnPPniiy9MSfo0+NGmTRuZNm2aXHzxxXLcccfZgZH6Quv9oosukjVr1piS1DTAo+tr7xhk5tNP91v3QSM5qpETJDuqsfNq3THWq3PfuHIygLZ/nZTceYdMXpG8Efm8++fJMzeayIcmCC9yAiLxCuTK//61FPf39taqlLkjBsroFWYxQF7fu2T+w0OkXcwfNwfkjWm3ytDHEvUe6SaTlniHBYvuZ/jMNXJfd1Pss2vxaCn8r0Vx22z1o99L2UiTi8ba96riG2RoiYkqBRk+Td4e1c0spN531etTpeimGbLVLMfzn08Cu8tk1BX3yEJ//esQaktudgIDBytlyc/ulB8uSHT8Q2SWd1gw65oOtRPd+8pt5TK580gpSfpe7LGvKr7AqjtnPtDxXeWuJ5+Q2871Ja+vwb1Va/V+cLM8ftUNMsVUXad758n8oZGoHwAAAAAAqAP0XAHq2GmnnSYdOriNn+FowPC9996Tb3/723aARnOk/O53v5MDB2pxyCEg2xzfVYZPXyrLnx4jt32zm7RrGW3szmtZIJ0uK5K7xs+U4miXEpH8Iple9nspHloYXf/kfOnxzbus8nm+xm/VQnreeK/cNqhQOrU/xdProKm06j5A7vv1PFn+qD+woprIeSNnyvI/PSz3WcfW6mRTbJU3b99Nrhw5QDpnEPtv0X+SlE27Wfq1cXtNWNs7f4BcWdDEE3BpIj1+PNMO+PTzH3PnDtJv0M0y7mJ3SKv05J1/u7xQ9qjvXEw9d7bOx6rPs9I5n+aFUvynR+W2y/KlmSnKa9lVrryyQPLcE2icL/1+YdWrdV2HX1YgzSPb1eMvlGvu7y6tgiNWtarHyEkyyTqvyPla90m/oZNkftnM+MCKCn1vpRa63ht3kNuemhZZv13L5uYNAAAAAABQV+i5gpxQn3uuqF//+tfy4x//2CzVXLNmzeyAyw033CDt27eXgoIC+3wOt0x6rmhPipYtWx6R4z3llFPsodZ0/9mswfdcAeqA23Olx/gFMmtQ+IAIAAAAAABoWAiuICfU9+DKl19+Kb169ZLycichcm3RIcJOOOEEOeOMM+xhw26++Wb5xje+cdiGDsskuHIktWjRQt588005/fTTTUl2IrgC1D6CKwAAAAAAIIycGRbM34CYRTEjNACaZ+Thhx+2k8nXpkOHDsm+ffvkrbfekqlTp0q3bt3k1FNPlUsvvVQmTJggL7zwgnz++edmbeQC/7ON4AkAAAAAAABw+JFzBThMLrnkEhk/fnytB1i8NNjy4Ycf2j1yxo0bJ9/85jftXhp33nmnnbtl//7AjMsAAAAAAAAAgBCyPLgS0DvFFNFzBfXRT3/6Uxk2bJhZOjz27Nkjjz76qJ0QX4dA02PQAAyyU+TZFviI47kHZKrHqDXy9oY1DAkGAAAAAADSkrM9VwiuoD7SXCga6Bg0aNBhy4vi0uHB3njjDZk8ebK0bt1avvvd78pf//pX+eKLL8wayAY82wAAAAAAAIAjLzeCK3FtjdX28EhAfXTcccdJaWmpnXz+SPnss89k1qxZ0q9fP7nhhhukqqrKvIP6znm2+R56xFsAAAAAAACAwyprgyuaxDlhIudqbYCktRH1V15enkybNk0WLFgg3bt3P2JJyb/88kuZN2+e9OjRQ1avXm1KUZ/Zz7YEj7ekz0UAAAAAAAAAtSargituo2Ej6x8/bWvUyW1cPHTwoF0O1Fc6LNiVV14pK1askOnTp8tZZ50lxxxzjHn38HrzzTftfCyLFi0yJaiv9NnmPufc556f+4x0n5kAAAAAAAAAaldO5VxxGxvVIfISIEs0btzYHiLs9ddfl7KyMjvh/dFHH23ePXw098r1118v8+fPNyWoj9xnm/6X4AkAAAAAAABwZDSqzrLsyHq4+qvsav3HHLoOk1NdfcjORWDP26+H5Ljjj7MbrpH7Dh48aOcP0eBEurSXiK6vPTbqE72vP/jgA3n22WflxRdflDVr1khFRYV9Tx8OLVu2tHuwfOMb3zAliWm9X3TRRfYxpksDAoWFhdKsWTNTcvicdNJJUlxcLF/96ldNSXbR+v5s/2d2r6dG1nTUUY2c+UbOvNL6dZ+RBF8AAAAAAACAupGVwRVXNLhyyJ53Xp0GSA2waF6LY5ocmWGWcHjlUnDFT+/ttWvXyq9//Wv5/e9/LwcOHDDv1J2vfOUr8u6778rJJ59sSoJlElzRXjm6fteuXU0J0vXFgS+kqqrKDqxo4FhjJ05wxQmyKG9AheAKAAAAAAAAUDdyblgwcX+tbU1fHvzSeQPIYno/ay+SkpIS2b17t50f5amnnpKf/OQn0qtXLzuIWNv+/e9/y913322WUF/YzzTrfoh51jVwO3futKdEQcdU7+Pw4noBAAAAAIBckf3BlYB+N25745dfHozp6QJkM21Ib9q0qZx77rny3e9+Vx566CFZtmyZ/Otf/5KXXnpJfvCDH8gFF1wgp59+eq00upeWltq9V1A/6LNMn2kq8PI20Eed3v86aYO8nzbQu+/v2bPHlOJI4noBAAAAAIBckfXBFTevgD2Zf7SR0W18/OILeq8gd+l9r0N4XXrppfKb3/xGli9fbg+59ac//ckuq0mQRRs677jjDrOEI819ltmXVJ9x7j/67LMmfRYCAAAAAAAAODyyOueK0mV7OlQthyLzbnL7Q3ZughNOON6sjVyVyzlXMqX3/9///nf5n//5H3n66aflk08+Me+kTwM3mzZtspPcByHnyuHz6af77Web5lZxE9prUOUoDa4cFQ2yePmXc4EG/bRXw0cffRRZVk2aNLFfvdz3lPf9r371qwnvadQurhcAAAAAAMhVWdtzpZH1Twy7YVFnnN9vuyGYg19+KQcPHjJLwJGnAUANfHzxhZOc/LPPPrOXa5s2wHfu3FmmTp1qJ8PPhB7be++9Z5ZwpOgzTJ9lKvp801571os/oOJ/NuaYHTt22MNGaUO8tzHeXfZOXt5y/XwmwUaEx/UCAAAAAAC5KuuCK+4vsZ0QisMpc5adX2+b9kZ7vlFcow1Q1zRYsm/fPtmyZYssWbJEnnzySfn5z38ud955p9x0003y7W9/2+4xo703zjrrrFA9bjJx/fXX24GWsPS7s337drOEI0Wvg/2cs59pzvPNfRY6QRZ3Pvps9JblktpqZP/000/NHOoS1wsAAAAAAOSq7E9ob6mudhoS7cZEnY/8Y7HKtIeAfzgxoK68//77dlJ5HcamQ4cO0r9/fxkxYoSMGTNGHn30UZk9e7a88MILsnr1ann77bft9d944w3z6bpx3HHHya9+9Stp3LixKUmPfm90WDAcOXoN9BmmzzJ9pkWebp7nXkN6vAUNJ5UJHRYwU6uKL5Ch8yrNUgKrp8jZnS8w00iZm2J1R7lMttafvNos+uh+o9t0pymyyrxfHx3J61Uxb2RMXSW+Zk69p1enIdatnC9DveuOmC8V5i0AAAAAAJD9si7nivIfsi7bkyfvivYciOZeqZZjmhwjxx13rPkEck19yrny5Zdf2sEMfU3XZZddJi+++KJZqhvak0Z7r+gwPWF8//vflyeeeMIsxSLnSt377LPP5YsDX8hRRzWK5FqxXxs1vHwrqrZ6ImbW6F8pc0cMlK0dh8jGtoNl1qB8Ux7LDr7INHl7VDdT4nxuYf8FCT+jVhVPkR1tN8vWNtPkvu6mMMLaRnG59BxVJK1MSTY4UtdLr8HUtrH1HVRmB0D6LZIrl0yTayLFGkCZIe1iyiz2utvk9g13SQ9TFFimNLg2vUDKpnuuV1AZAAAAAADIWlnZc8VtNLR/vW3YZfqvZ7LftmZ0/kBVld0QDNQ1DR507NjRLKXnb3/7m1RU1O1vmjWYpImhw9Jk1Dgy9Jmlzy7neaYPNvNiJmdZZxzuMzFXAytK78edO3fWeArf6K8N7hNFHlgj911sioKsnmI34EcDKypfrpm+QK5cPCdhLwftZbH04rukp1mO975stbaTbY3yR+R6WddAg1v+QFaPUdOk07jYa7DqDxOl00xfEEW6yX1LBsjCB7w9TSpl7gMahPEFUfKL5MHxm2VqTK8Y614ZJjLLH0TpfpfM6jhRShP0TAIAAAAAANklq4cF8+Zd8Q6R4/1Hf9ltNzkedZR8/nmVsy5Qx7p3j/vZeVLacDht2jSzVDe0R1cmvyLXpPY4MvSZpc8ufYbZvVS8/5jnXexjMOs6Ioamyc0/+uijGk/hgoba82SZ9N3gb4SPV7F9s3RqE7RSvvTsL7IjaGSqyvlSKmMCeqt4VFofbHu6WcgeR+J66TUYfrE3uOU6Xdr1MrPKqvepm8bIkKB6zy+S2zsukpWR66XBrQHSM+DStmrTwcwZ1rXaOLxPbBDGaNU26LgAAAAAAEA2yomcK3YDo/tD7WrT1qhF2iipDZA6bI5V9OUXXzi5C4A61rdvXzOXvnnz5tVa8ucgn3/+ufzzn/80S+nTnjg4/PRZpc8sfXbpM8x5lukzzTzj3DiK/ZauhbqjPU98PRYSqHiv3MzFq3ivVLbGBVfKZfIDIkOSDBdmq9wmEhi0gV+rQUHDqqn3ZesKM6u0Tvt3S9gbqFVbkYWR6Eo3uS/BcF4azImRXySzYnouRSW7PwAAAAAAQHbJ+uCKEzZxuEEW+0UbIrXMTKZQPtv/WVzOFqC2denSRY49NlyOH01uP3PmTLNU+5566in597//bZbS17x5czOHw0WfUfqscp9b3meZ/WwzC96givdZ2BCceOKJcu6558o555xjz7u0TCfvEHitW7eOrFvXelw8REpeCWpAL5elJUOkb0yjv+kRk0YODm3ALxnmSY6uU3H2NNTXi+u1eplsHD84EiSLC4r4xPVICVQpKxd3kNtTBcds1j2QqKcMAAAAAADIOlkbXHEbFb3D4GjMxAmqRFoeI5MOqaNTpNESqENnnnmmNGvWzCylR+/N//qv/5LXX3/dlNSed999V+677z6zFM7ZZ59t5nC4uEFg97nlfZZZ/3H+seb1medyn4XegEsucxOcexOde+dPOOEEM5dp8voMaV4NGSlDvTk4NOl555FS4hsqqmLeHJEH0usRIz3HyNsb1sRMup9sCbAc+etVLpOnF8iDviBI8BBuUavee9/MBauYN1G2jkjvGq4qniHtHiCZPQAAAAAAuSInhgVTdlDFbnvU/+irM0UaJ5217GF1DnzxBflXUKdOOukkGTx4sFlK35dffik/+MEPajWJvG5TgzaZ5Ftp3Lix/QtyHD76bNJnlJtrRbnPMX2U2Y8z+9XzzGuAdAg9Nx+Hdzg9TX7uz9Hx6aef2mX63uHQY9QaeVAmRnuYPLBNOvUaEjtU1Oopcr8MTpnDxdUqP37FHqMWyKRNM2Ru3FBj9c+RvV7lMrlzcA+hjduTV16PJHluKuaNtK5hilw5xqriC2Tpxalz9gAAAAAAgOzRqFp/Hp3FvIev886ivlbLoUPu66HIq066kr6e2PRE8knkiIMHD0q/fv2krKzMlKR2zDHH2Ov36dPHlNSuDz/80B7eJpOE8Dqs2Ny5c+1eI0fZjeyZ2b9/v9x2220ya9YsUxKODt+jPWnat29vSmJpvV900UWyZs0aU5Kafud0/a5du5oSuDQQ9sm+T5xr3qiR/aqTBlCir06vFY2w6Is3uNIQAi1r1641czVz2mmnScuWLc1SSKunyNDtg2VWWkNBuQ3razyN8NrYP1JKzFIiPcYvSLkPbeAvbZMox0iAfy6T//vLPyST/pvHnXmZXN3rNLOUniN/vXTotTnSOihnTorr6AZPAt8PcQ+EvkYAAAAAACAr5FRwRbnLbkDFng7FB1ic1artAIv+Oh/ZrT4GV9SQIUNk9uzZZimcU045RW688UZ58MEHY4bMSZcGMH784x/LypUr7frJhAZAdDuJgpCZBFc0SDBw4MCYHAtHSs+ePeWWW24xS0eW1qUGVtygSVxgxQRV3GXlD6YQXEnfYQuuWOue/UofeTtBgnO/sA3xBFeS0cDKRJEHEvQY0eHaHhB5MEHOm1XFI2XHdQGfDXFNkwZoAAAAAABAVsv64IrynoIdTDGBEzuoYi9HAyv6XjTAUm03RjZtemKksRLZqb4GV5YvXy6XXHJJxsEN9ZWvfEVuuukmGTBggN2T5fTTT5fjjjsu0pCu97HdMP/JJ1JRUSGbNm2SP/7xjzJ//ny750qm9Duh29FASCKZBFfqEw1elZaWmqUjR59H+/Z9Enkmad3bARUTZNGyRo2sMn09Sq+7E4DxBlO887nMbazXvBzaM0zt2LEjMuydlul7OsyUDi2lNJB38skn28NN/etf/7LLDk9wxQxHtSHNvCqWcMGSJL0y6okjd71SBFaM+F5FRqLAC4EVAAAAAABg5FxEwWmENA2N9qt1ko30NJ3Gyeg6zqSNmp/s+9R+BWpb79695fbbbzdLmfn3v/8tjz32mHz729+Wjh07yte+9jXp0KGDXHjhhfbUuXNnadOmjd34+I1vfMPO9fL73/++RoEVpblWkgVWUDu8zyDvs0k5z6xG9jPMLrKfafq+89qQ6ZB17uQmQNdXbZjXMm9vL22o1zJ9PXy0cX+kyMxaCHxoQ39c4nrd/kBZ2H9wvQ2seB3e65VeYEX1uG6MbBw20pe3plwm91skV/qTzxNYAQAAAAAAHjnRc0V5T0Pn3WV9cXuu+IcH875q8ugTTzyBIcKyVH3tuaL019g6/NTbb79tSrLDtGnT5NZbbzVLwei5UjNOj6NPrWeTE1hxe6nEvEaGAzMBFouzHA2ueOdzndsTQhvf3Z4QW7dutXtCaGO92xPCTZSuNPCoDfXau0t7TbhloXpCaICj30RZZRa9hs/093xwAh+jO05LezgwV2DPlcpKqaicI4XDvPdqN5m0pP4nSD/818vU/QqzGCD+evlz4AyRWf7eRhpYial/n15jpMz0ctFrWDjOHwzzGB7+vgAAAAAAAPVPzgVXGln/VJuE9taLM+8bHkynQwdjgyv2ZH1eAyza6I7sUp+DK2rx4sVy9dVX28PcZINzzjnHTmR/7LHHmpJgBFcy98UXX9iBFQ2LuMGSSFClsfPqTNHhwPQf+19dtv5xnlrOckNRWzk8tFG/PuT9yXVcLwAAAAAAkKtyZlgwt3ExprHRNELq61FHNTJD65hJGyrthkx3spst7bwHn3/+ub0NoLb0799ffvnLX9r3WX3XrFkz+cMf/pAysILM6TNGnzV6N9jPnshzSafosj6z9NnlfZa591BDDKyo2mpg154UqHtcLwAAAAAAkKtypueK8p+Ku2z3SjGTtkce9PZWsSa798ohnTe9WaxJhyk54YTjG1zDZbaq7z1XlA6Dc++998pvfvMb+fLLL01p/aLD4k2YMEHuu+8+uxdFKvRcCUefL59+ut++F+zeKPbkBFTcXivu1Fjr3wRT3Em5ry7/cq7TutPhorTnT6Z0yCl9xqPucb0AAAAAAECuyqnginJPp5H1T7X+Yy07Rc5rTP4V+z1ncgIs0aCLvqeNnccffxyNOlkgG4Irrh/84Afy+OOP2/dZfaKN9Pfcc4889NBDpiQ1givp00bm/fs/s5810cCKNVnPGW9gJTIEmL2s5fppnXeukf5jPaXsbeoyAAAAAAAAgMMvZ4YFc7mNjd7GR7tR0m2ctF+tSX8pbr/nTE7jZuwvxzUA88m+T+xJc7QAtaG4uNjuHVKfcvvoEGCTJk2ScePGmRLUFn12uM8RfaZ4nzH20F+JAisxz6zgZxsAAAAAAACAIyPngivK3+hoL9v/Wv9ow6XdWOnMxwRYGjsNne7kNHIeJQe++EL27Pm37P90v/2rc6AmNJDx05/+VMaPH28Pd3Mk6X1fUFAgJSUl9jEdf/zx5h3UlD4r9Jmhzw59hniH/4pMnsT1cYEV86yy/7XKvPzLAAAAAAAAAA6vnAyuJGQaKd1GS3c+GmAx73smuwHUzGsS6j0f/Vs+/fRTezgkIFOa20Tzmrz00kty9tlnm9LDS4M8P/nJT2TVqlVy/fXXm1LUlD4b9Bmhzwp9ZtjPEfMs8T5bnMl55gQGVuw3zUYBAAAAAAAA1Cs5l3PFyz01bazUoXS8p6rzdhJ7U37ImrcH3DHlkXwspqeKvaw5WXTB+o++d8wxR0teXp40yWviNITiiPrwww/tvBZhnHLKKUc8p05VVZU89dRTMmvWLHn11VfrNHDXtGlT6d69u1x22WUyaNAgOeuss8w7mdu9e3eNklUfSccdd5x85StfMUuZ0+fBgaoD9rX84osvI4ERfSrYOVXM80Hn/cEUXeuooMCK4ZZbT6DIMgAAAAAAAIAjK6eDK8o9Pbdx0nu6Oh8JsNivWqaJ7Z3gir3OoUMx8/Y65jPWyvqvrUmTY+ToY46xX7VXAhCW3o9vvvmmPPjgg3ai/f3799uN9Zl+RbURXvO6aA+V9u3by7Bhw+weKl/96lfNGqgJDYIdOPCFfPnFF/arsuMeJhhiB0l08Sing6ATUPHOW5MOFWYtO+u6ZQRWAAAAAAAAgPou54Mryj1Ft5EycsrWi7Os6xyylw9FXrXcM3/ImrEW7ECLLtuf9/Z40QJ7zh7+5+jGR0vjxkdJ46MbW8uN7Xm7odRMQCJ6f3700Ufyj3/8Q9555x1Zu3atbNiwwZ7fuXOnPeSU9hTx5v85+uij7V4YLVq0kHbt2knnzp3lvPPOs4Mqbdq0kVNPPdVeB+nT6+BOBw8esur7oBz80pqs+S8PfmnXvz5TlPOVdnqg6IKz6PRQsZ88Vrk9b79terJY/x5lzbtlTpFT7nxclwisAAAAAAAAAPVRgwiuKPc03cbKyGlbL95lN1gSCZrYvVSsOdOQ7Q2u2D1ZdMb+vP1fXXDed2dNmdss6pYDqP/ceIb7tbWDH/qqL+ZNOwRizzqv9tBf9qIbXImWaZBF17ODMJFXXdXeihbFLEeeH2Y7AAAAAAAAAOqHBhNcUf4Ai9Iyp1hfrRn7X+fV24tFV7Jf9V1d9PRYcdaPzmszqL2qs4aZMa82p6G0AVU9kDWigQzP99MNkpjvri7qu3YIRIus/0Tm9fWo6LzTSyXacyXSW8X5j/WW9R9disw777nPDgIrAAAAAAAAQP3ToIIrKuh0vWU6r4t27hW72Les7zsrxg0RZm+nUSPn1V62yk27qJZ5m0idfdJoCtQ/1nfVE9Cwv6nusvMVt/9jl+n3Wl91Wd+3Xt1girvsLDrDfllzMcve/XjnXUFlAAAAAAAAAI68BhdcUUGnHCmzXjRcYi9H5p037FfrP/aLndzerGPKzIqx8/rayARcDG0u9S4DqF80qOH9htpBDus7Gwl2WK+RsIeZt9+z/7X+8QwN5nzEebXX1H/tzzjz9rvOSjGCygAAAAAAAADUDw0yuKJigx3+YcKcRlR3Xt/S952PBJTpemZem0Mj5SoyY38khr0dAPWKP6gRs2Te0xfnuRGd15novC5a/9ElX5n7bHHn7e1Z/+hzw+WWAwAAAAAAAKifGmxwxRV0+m6Zvmgbpy7bZfa/TuBEmz7def1PTLmZ0Red9zaTutu2NwygfjLfU2+QQ0ucgIizoPNOmTXpt9y85wRKvOU6r+9pUMUpV95tu4LKAAAAAAAAANQ/DT64orxV4DSMOstuudsgqst2mRZHlt0VnGUzE9mGLrvb0WZTdz6GvgHgyAr6ampAxDPvruQETZxlu1yLrVedjS478/Y2rGUtVs529O3os0a55QAAAAAAAADqP4IrRrJqcN9zG0ijy9arzsaU2YuRRtPodp0gC82nQPawv9520MP5HscGRnTZXnTK7QLPOtar/TzwrpNAsvcAAAAAAAAA1D8EV3ySVUfMe6Yh1S1zXu2CmHKXuxjUhJpsnwAOj6AAh/vN9L9lr6tv2m+Y3isx5faiLVngJNl7AAAAAAAAAOovgisJpKoW7/s6a7epxpR5P2+/aeYN2lSB+sv3dbW/4J5Cb1BE591ngCtV0ISgCgAAAAAAAJDdCK6k4K8ef54E5V9Hl3U9N4BCFQPZLxIQsb7O+gzwB0jilgOeFQRVAAAAAAAAgNxAcCVNQdUU1HiqUlVp/Ps0uAJHXuz3MlUgJOj9RM8EgioAAAAAAABAbiG4ElKy6krUsOpHlQP1XzoBkVTfeYIqAAAAAAAAQG4iuFID6VSdNr660gm8AKhfwn6HCagAAAAAAAAAuY/gSi2iKoGGh2AKAAAAAAAA0PAQXDkCqHKg/iNoAgAAAAAAACARgisAAAAAAAAAAAAhHGVeAQAAAAAAAAAAkAaCKwAAAAAAAAAAACEQXAEAAAAAAAAAAAiB4AoAAAAAAAAAAEAIBFcAAAAAAAAAAABCILgCAAAAAAAAAAAQAsEVAAAAAAAAAACAEAiuAAAAAAAAAAAAhEBwBQAAAAAAAAAAIASCKwAAAAAAAAAAACEQXAEAAAAAAAAAAAiB4AoAAAAAAAAAAEAIBFcAAAAAAAAAAABCILgCAAAAAAAAAAAQAsEVAAAAAAAAAACAEAiuAAAAAAAAAAAAhEBwBQAAAAAAAAAAIASCKwAAAAAAAAAAACEQXAEAAAAAAAAAAAiB4AoAAAAAAAAAAEAIBFcAAAAAAAAAAABCILgCAAAAAAAAAAAQAsEVAAAAAAAAAACAEAiuAAAAAAAAAAAAhEBwBQAAAAAAAAAAIASCKwAAAAAAAAAAACEQXAEAAAAAAAAAAAiB4AoAAAAAAAAAAEAIBFcAAAAAAAAAAABCILgCAAAAAAAAAAAQAsEVAAAAAAAAAACAEAiuAAAAAAAAAAAAhEBwBQAAAAAAAAAAIASCKwAAAAAAAAAAACEQXAEAAAAAAAAAAAiB4AoAAAAAAAAAAEAIBFcAAAAAAAAAAABCILgCAAAAAAAAAAAQAsEVAAAAAAAAAACAEAiuAAAAAAAAAAAAhEBwBQAAAAAAAAAAIASCKwAAAAAAAAAAACEQXAEAAAAAAAAAAAiB4AoAAAAAAAAAAEAIBFcAAAAAAAAAAABCILgCAAAAAAAAAAAQQqNqi5mHR+XeD+T9j3dKecV6Kd+x3i7TZS3Pb3aqvXz6SS3t+dNPOlW6teoi3Vp/3S4HAAAAAAAAAAC5i+CKT/mOt2Tqyj/Yr2FpoOWqLpfK7T2vNyUAAAAAAAAAACDXEFzxmLryf2Xqiv81Sw43YOLSHirae0W9Znq0zN/wF/vVpZ+5rdf1UtQ5+jkAAAAAAAAAAJAbCK4Yw+aMjvRWyaQHigZcntvwl5jgzMzBkxgqDAAAAAAAAACAHENwxaJBFQ2uKO1t8vMBd9rzmdAgy/Bn7rdfNbCiAZbsdUDeXT5H/vTeJnnl3zuk4rQfycrvXGjeAwAAAAAAAACgYTrKvDZomrTedVXnQjOXGSfBfUt7PpO8LfXLHnlz4xz57T/Xyd8/2yP7TCkAAAAAAAAAAA0ZPVcs3lwrNUlKr71Vfrbo1zFBlfWjFpi5NOxdJ7/9v8fkxc9EdlXtlN2HTLkl7+iWcubxreWiMy6R73S7RM78inmjTu2UZ6ePkLF7zWLBWFlPzxUAAAAAAAAAQANHcMWSKJG90kCLJrFX2iNFy92E9u9/vNN+1Z4v/s+7QgVXds6Xm0tL5FWzmMw5X/uR/OqayyX/GFNQJwiuAAAAAAAAAADgR3DF4g2u3N7r+oSBknS4w4K5vVfqKrii8o77lkz97q1y0QmmoNYRXAEAAAAAAAAAwI+cKz46HNjiEU/aSe01ub3bgyURfV8nDcro53Tq1trp6VJT37t8gR2c0WnN96fLgj7fkos8V6zqsz/L2MWvSZVZBgAAAAAAAAAAdY+eKxZvz5VEPU38Q4G5Q4QFSWd7gXw9VzS4cndXs+D69DV5ZOYEeSoSUTlTJgz5lXzHyaFv2SOvvlgqz/5jnbz5yU6pNHlbmh5zpvxHm2/J9y69XM5p6pTF+HSHvLR0psx85zVZ+6W1fNQJcuZX2kmrfevkb184qwT2XPlip6x9ZY7M3LhCXqn61A70NM/rKv/R4VtyR9+e0jxo2LIPVspTi5+R/939buT4mue1lG989XK5/puD5aLDkk8GAAAAAAAAAIDM0HPFRwMjQdweKt1af92eEgVWNAjz3Pq/mKU6cMKF8qPel0ieWRR5V17a7AR8HAek8h8vyp/3RgMrat8X78qftz4m1zw5QV76yBS6/vmi3DvzB/LjTSawog59Ku9+5AmsBNHPPTFCbnzjRXnJBFbU7qp18uy6X0jfJ6x9/dMUGlXrHpOBT/9CHvkgGlhRu6t2Wuu+KH//2BQAAAAAAAAAAFBPEVzx0R4n/affIvM3hAuQaFBFAzP6WbeXS13J69RLvmXm1d927zBzqqXkn2Rmgxx6TR5etsksqD3y0kuPyZ/Dji12aJP89v9SfK7qNfnx/z0hayPrbJLfLX1R3jVL8brKOa3NLAAAAAAAAAAA9RTDglm8w3h5ae8Ud/ivC00eFbfHigZQ3jdBlGQJ8Gt9WDDba/JI8QR5yiz5h+uqqnxXdjfV4zaZ7v+9Uh4p/UV0KLGmw2Xx94skX+d3zJEb55TKWvsNkTPzR8nj/3mJ5OdZ2/noNXniDxPkt5+ZNz372b3sZ9L31XX2vMjJ8q2LxsmEXmdKnhyQd1dMlh+/+lokiHLZRb+TX/U52frQn+X23z0hfzPl3+nxO5nQ2yq3VO3bIe+++4W0OvdMCRq1DAAAAAAAAACA+oKeKz5uInulAZTyHW/ZvVh+tujX9jRszmh70nkNqngDKxp40cT27uePlLz8M6OBFfWVnnJ9xzPNgmXfDqkws7u3vRYJrIj0lLtNYEXlfbW1tArKmSKfypvb3MCKpeVwmdDnTMnTu+moJnJmn1FyRyQHjMhL1j726cxXW4rnKOTPG0rk2Vc3WfX8qeQ1bS3nEFgBAAAAAAAAAGQBgis+GhjRAMviEU9GAi1BeVZ0Xsv0fQ2ozBw8yf7M7T2vl9NPCs7HUmv27pFdZjbIvi0vyiMzR0j/KQOlS7FOg+TGDcGDce362DOkWLNzpF00mUsSO+TdPWbWctHpHT05YNQJcs7pnjDKHhPMOaqrXFwQDfpU7XtZxi77ifSffr10mXK93PiHF6UyWY4XAAAAAAAAAADqAYIrCWjwxA20aODEDZ7oMF866byW6fsaUNFAy+Gye93L8mczr77V8hwzJ1JZ9hPpu+Axeeojb0L7A7LbTVSfTJ0PENdELrryl/JQfmtp7r/zDn0qaysfk9sWefPBAAAAAAAAAABQ/xBc8dEhv2qSkF6HEUuWg6XG/jlfxpZ7huSSrvIf57i9QdbJ/63dJG5qlYu6/krW3GWCQed6B+SKanGSJ4P8vtfkzY/MfFKt5UwnVYrt1ffWyW4z79gjb77n6SlzcmtpZWblmNbyrev+R5Zax7VmxP/I3IsGy2Webi/v7liXJOE9AAAAAAAAAABHHsEVHw2ODH/mfjuniuZaSYcGYzQpfv/pt9jBmbqgCd/XlhXLjX8okb9FeqSInHn2EPnWV83C7h2yyfNejARXunnBhXKumdfgzNg/zpG/f3TALCdygnyjwJNp/6PHZOziTbJP933ogLy77DF5whOkuSi/q8mlslP+9uJ8eXXbTtlXJZLXrLWc02eI3FrgSdBStcfJzwIAAAAAAAAAQD3VqNpi5hssDYwk6m3i5lk5/aSWnvlT5f2PP4gkvE9Ge42kbed8ubm0RF41i6nkfWW4LBhWJPmRwMk6eXTKz+S3iQIsEZfLjFE/kovs+U/l1Wdvl5u3eZKoJFIwVtZ/50Jn/tAm+e3Un8ijbjeZRPK+JbNH3Crnau+UvS/KvdMfixnSLM6pP5KVN11OYnsAAAAAAAAAQL1FzxUfN5G9m0NFAyhuEEV7suikgRh99QZWNPCiie3tpPbWa91qIhe1HyuLYwIrqqtcfYE/uXwqJ8hFRb+UCV9tYpbTdFRH+f7VP5JvJdvZUV1lwtUmsKL+tUPeNLOBrG1OuIzACgAAAAAAAACgfqPnisXbc8Xb08TbM+V9a97traK6te5iv57e7FQ7sOJNaJ9oeyntXSdPPVcif963Ryo+ix0eK+/olnJmszPl8rbfkm/17ir5SYIa+7a8KE8smyMv/tub1F6keV5LaXdSV7ko/3K5vrBjXBBj9/r58lT5n2M+Z+/3+NZy0eld5RudLpHLCjzJVtQXO2XtK3Nk5sYV8krVp3a+l6bHdJXLz/mW3NG3pzQ/xlnN9u9N8uzyP8rf3tskr3rOr+kxZ8p/tPmWfO/Sy+UcIisAAAAAAAAAgHqO4IpFe6FojhWlPU/c4b8y5c3XEiq4AgAAAAAAAAAA6j2GBbN4e51oMvtUeVQS0V4t2mvFDazU/fBgAAAAAAAAAADgcKPniuFPau8O9XVV58KYZPZ+GlB5zs6/sj4mKKOfnTl4klkCAAAAAAAAAAC5guCKhwZKdEivRD1XvAEWN/dKEO2xcntPeq0AAAAAAAAAAJCLCK4ESNQbJRENumjvFk1yT1AFAAAAAAAAAIDcRnAFAAAAAAAAAAAgBBLaAwAAAAAAAAAAhEBwBQAAAAAAAAAAIASCKwAAAAAAAAAAACEQXAEAAAAAAAAAAAiB4AoAAAAAAAAAAEAIBFcAAAAAAAAAAABCILgCAAAAAAAAAAAQAsEVAAAAAAAAAACAEAiuAAAAAAAAAAAAhEBwBQAAAAAAAAAAIASCKwAAAAAAAAAAACEQXAEAAAAAAAAAAAiB4AoAAAAAAAAAAEAIBFcAAAAAAAAAAABCILgCAAAAAAAAAAAQAsEVAAAAAAAAAACAEAiuAAAAAAAAAAAAhNCo2mLm670uxQPNHBDO+lELzBwAAAAAAAAAADVDcAUNwsKrHzNzAAAAAAAAAID6puCMtmYuOzAsGAAAAAAAAAAAQAhZ1XMFAAAAAAAAAADgSKPnCgAAAAAAAAAAQAgEVwAAAAAAAAAAAEIguAIAAAAAAAAAABACwRUAAAAAAAAAAIAQCK4AAAAAAAAAAACEQHAFAAAAAAAAAAAgBIIrAAAAAAAAAAAAIRBcAQAAAAAAAAAACIHgCgAAAAAAAAAAQAgEVwAAAAAAAAAAAEIguAIAAAAAAAAAABACwRUAAAAAAAAAAIAQCK4AAAAAAAAAAACEQHAFAAAAAAAAAAAgBIIrAAAAAAAAAAAAIRBcAQAAAAAAAAAACIHgCgAAAAAAAAAAQAgEVwAAAAAAAAAAAEIguAIAAAAAAAAAABACwRUAAAAAAAAAAIAQCK4AAAAAAAAAAACEQHAFAAAAAAAAAAAgBIIrAAAAAAAAAAAAIRBcAQAAAAAAAAAACIHgCgAAAAAAAAAAQAgEVwAAAAAAAAAAAEIguAIAAAAAAAAAABACwRUAAAAAAAAAAIAQCK4AAAAAAAAAAACEQHAFAOqBbf94z8wBAAAAAAAAqO8IrgAAAAAAAAAAAIRAcAUAAAAAAAAAACAEgisAAAAAAAAAAAAhEFwBAAAAAAAAAAAIgeAKAAAAAAAAAABACARXAAAAAAAAAAAAQiC4AgAAAAAAAAAAEALBFQAAAAAAAAAAgBAIrgAAAAAAAAAAAIRAcAUAAAAAAAAAACAEgisAAAAAAAAAAAAhEFwBAAAAAAAAAAAIgeAKAAAAAAAAAABACARXAAAAAAAAAAAAQiC4AgAAAAAAAAAAEALBFQAAAAAAAAAAgBAIrgAAAAAAAAAAAIRAcAUAAAAAAAAAACAEgisAAAAAAAAAAAAhEFwBAAAAAAAAAAAIgeAKAAAAAAAAAABACARXAAAAAAAAAAAAQiC4AgAAAAAAAAAAEALBFQBALTsgWxfPkCnj7pGiwQPlh/MqTTnqraptsmT6VBl95w1SdEVfmbzalKvdy2Xy4L5ydue+UlS8XHYdNOWp7CmX2Y9NkVHDbpArCu+QudwGAAAAAAAghxBcAQDUsl3y+ryp8vi8Mtm4oVL2mlLUY7vXSumvZsjclzbLxu37TKHjjdK7pWSDlu2TjSV3S+lapzylLctk/LRSWbh6s2zdecAUAgAAAAAA5AaCKwAAoN6r2lYmjz82UX44+AYpvHO+VJhyAAAAAACAI4Hgiq1cJne+QM4eUTeNNRXzRsrZ1vZjhllBZlZPsetyKMMMAcBhcd6QR2R456bWXFPpNPwRGXKuU3647VozR6ZMmy9LNmyWiv2mEAAAAAAA4AjJquDKquIL7Ib11NMUWWU+07DVbdAo1uHcFwDgsGneW+6bs1Te3rBU5o/qLS0am3IAAAAAAIAGjJ4rAAAAAAAAAAAAIWRVcKXHqDXy9gbPNHOI88bwabHlG+6SHs47AIAjbO+rpTLqpn7ydbtnYU/pVXSPTH5+s+w9aFYIsHdbmZTcM0x6dTM9EvsMlKH3lMrLO80KXnu2ycLZU2X0nTdIUZG7n/T2tesV69iGDZQL3c906ydXDL5HRs8ur51E/DvXydyH7pErCnvGHNPo2ctlV5VZZ0+5zH5otAwd7DmOzn2lcNhomRJ47AekYsV8edz+zA1S2Mf9jDUlqyejants3X69cJD8sLgsca9DMxyjMwX3DN21dr5MvjN6/BdeMVJGzV5n3g2yT1bNnmLVfezx2597bJFsjM2pH2/FRCk0n0l0XM49NDK6fbtupsrCTak2DgAAAAAAkFpu91ypnC9DYxpfdEo2ZNg2KR3hW7+43LwXxAyFFZlGytwQqUDcXCwxU6L9BZ1LukNw+RuhvPuIaTRzp2gdhTpGlWRfobcVcM6TXzHv+QQNGZcoL0vQcZDDBag7G5+fIwtf/1CcWMIB2b1FG71vkN53WM+wgMDBG9OGSe9va1Bknex2c2vsqZRVz0+REYWDZPzSD02hsWW+jHpwhsx9abNs3OLuRyXb1wHruTFIeo+cIgtXV0YDKfs/lK0bymTus5tllynKVMW8e+TCwmEyelaZbN15wJQ6xzT32W2yN88U7a+UxbMWyaoNnuOQfVKxepE8bh174c/KfMeyS1bOnChT7M9sloo9plh56mnyanefURWLR0vRFbF1W7VzmyxZvDzDIR2d61V4w0QpeSl6/Hu3l8vCl5IFV/bKjqWlVt3HHr/9uWl6jKNlyW5TGJr3HiqPbt+umxky6up+cu20dZ77BAAAAAAAILwGOCxYqQxNFGBZUSolK8y8q2RkcBDDDkqMlBKz6CiX0f1qmLhe9+cPOGiQod/E+GPumC+tzGxmKmXu9FIz79GrIPl2g44xU4m2pfUbcM4lJQHHm8CqcQPjgiYaWCkcF7+/Tm3yzRyAw6Vq6UQZ9YdtZsmxa/F4GfpYsobvbTL7nvGhAtlK9zV5sScos+Fpub8kdt8xuneQdmY2E7q/K8aVJez9ktfLs/3T8qWTmQ2yd8GvpHStWUjbNin52ZPyhjegtLtMpvxskWw1i7VC6zHp9UokX1qfZWaD7Fkkk/83WXAmsdT30AF547Fb5Yd/JKgOAAAAAAAyl9vBlfwimRUzXNgamTVc3yiVqQl6Kgyf6V1/mtirr5go98esXy6ThzmN/D3GL4iub4YpK5meXo+SVoP8w5mZ/ZXMiGk4XPUHJ8gQsy+dRnVzVkil1xgpS/q5IbH1NL0oElxJ9xgjkuwr/W0lqN8NC2RSL7s4TtyQcUvG2EPDrRo3xxOgKZdSO7DSTSYtiV3/vu7OGgBqX6ehj0rZ6+b7tuxRGV5g3rC88bsy2Wjm5eA6KS1eFGkUbzdwkrxgPvfanLvkkuPNG/uXy+y/JAqMWM+zdWZfZQ/LNZ646ZK/ro0EO3a9vdbznC6S4mXmM+tWymsv/F5mDe5o3suAdR5TH5wfbdwvGCCT7ITwzj7eWrVA5l93rnnT0vhcGTJ/gbxWbo7Bml6bNsQT3KmUN7YE/5mlIs/JdZpw3vN8r1wkqzaZecvWxU/LQrcnkBTIjb9eIG9pXVnnvHzmzUkDPMEOyMvPPhkN1hzvJr53tln280LzRrDzrp8nZctWRs7Zf29UvP5u4j9L/X/WuMOB+u6hvPNvl1nutV02Te46v4l5xzr2x5+LDT4BAAAAAACE0OB6rvS42AmArHrvffs1Rq8xMiSmkb2b3Oc20i8ujzbyrF7m9FgZPk1mDfK03HW/ywnerFgkKxO3gyXRTfra0YZy2Rrw+frRuyL5MYaTYFuJ6lfy5ZoRJs9OKvnd5Eo7ELNZdsQdZwdpTUcV4LBp1u4MaeUOgXVyb7lv7BBxF6WyXDa439FN5bIw8n0tlNtHDZB2ZsVmnYfIzde5DeMiG19dm3jYrsbmtWWh3Pgdz5f93fcjn2nR0tOKL89L6ePzZYkOy1XVRJq16SA9Cpqa9zIQcx75ctukSXJN5+j28prmS7v86LmINJFW7fOlmRs8sjS7eLAM9/x5FPhnll/jptLpPwfLlWZRgzIVu9yhwT6U11d4eoIMukvuuyxf8rSuGjeRFvmnSzPnnRA2yesLokOPdfrRXTLcPU9rm62sbSaT16ZAWp3sqQfr3hjyPU9waPW2tH6oECOm7jvIXWNvlh4nm8WTu8ltY38QDSL5gk8AAAAAAABh5HxwJS6/hukRkTa3kX5FtJGnYvtm+3X4xfE9R1q11bJ0Aw+VMteX42Vo7DhjNjcgVDLMWqe2huNKW3rHmJ70tpWsfhPz578ZKKP9Q7xFgjk6NFwNh28DkLn8AjnPzHqfl3srvD0VymTUJd7vtD4vPDlErNl0hqJq1tzTwL9pVzQgc0EfGR6JuxyQN2ZPlB9qQvlumuB9mIx/Pq2HeKDY8/h/0rOLmU3k4D7Z+PwUZ//u+fYZJlPWm/fDOLmptDCzasdu94x3y+4tZtbS4+tnRANcmdqzWyoiPWGsbXb0BqxS27tpkUy+05vQvq8Mnhp6/LMYsXXfTTq1N7Ou9h2cHi62SnmnguT2AAAAAAAgMzkdXNEk50H5NTIT7QFR8Z6zTTvY4TaEmcnd38btqRrmNBgQFAAI0P2uyJBjdo4Se1/hkudnJsQxppT+ttz6TZud+N6f/yaYDh/mDA3nuX5BOXUA5La8bnLfk5PkxvNPiQsyVO1cJ7PvuVMe32AKasrtSRPkYKXMvaOfFN1T6vScMcWy58NoMv9s8aV5TUPFvDuk99WjpeQlb0L7fbI7kvgfAAAAAACgfsvd4ErlfJlqt7b78omYYb7Ciw4l5fROqZmKeTMiQ19Fx4xfI2XjE2xbAyz2Om7eEU2eX7cBltDHmESYbYWt30Q5adwgil8kP4t7L6yYKIUEWIDDZtfa5Z5cSL2lXVtnrlmLfE+go1CKX45+n+MmT26ojLUZIOOeXiJvmTwrxaMKPXlOtsniNUkS3icRex5/lZXJOmOsfU4mLHUDCt1k3J/cHCTWs75Wc0E1l+aeXhyrVryVeFi1dJ3cXFp5hjJbsibdBPTrZO5DyyM9j3rcP8/J/WKdd9p/vrwZHeLNq1mrMz33RUDdry2XJWZWh2w7q1UNhn8DAAAAAAANWg4HV7Y5jXfD+2QYTDFWz3F6W/QqiCZ5b9PBfo1Nfh87xeYKief2zgg39JXKl2umuw1Q5bIws+Quacn8GOOF2ZZbvyWvpNODpVJ22GPmd5Mre4ZMpJJfJLPcYFXGeXIAhLF3Q6ncP67MLFnO7SPntzTznc+VQZHG+jK5/9aHZOGWD6XKTTp+8IDs3Wk92yNJWmqgcrnMnlcuW3fukypx8qxc+d1bZKAnj/3WjzIcMirmPCrl8dEPyZLtnh4Z+/dJxbZKO7iw671NiYc3O9q81opT5PxeXc28ZfF4uX/WZtmVzthqCXWU8wdGc6ZUTJsg41+yzitVkvid78rGDHrltGjuecbvXySLl0avT5V9HS0drT8LIquZut9pFveUy+OPPB0NpB///+Q8z/UGAAAAAAAII3eDK/kFTlClZJnnF9Ih6XBTJkfL8BGeX0l37yPaKaJkWLieI96hwtzeGekFEOKlN3TW6dLODhxMlNIM8ouEO8bk+wq1LVO/9hBoKXPM5Etru3Es00DT+7K1VoY9A5DIqnEDI0MnXjh4irwcaVjPl+E/LIr2FsnrLTffGw3AVm2aI6OK+snXu5oh/Lr2lAsLB8nQX5XXuKfZ3vXPy/hxI+WKwr6e7d8gUzwJzvudEy6HSIR1HkN+5AlkbJsjP7yiZ6QOzu7WVwq/PUfesN5q0bajp5dLuYz/trtebQ3JGNXuP2+X4ZFTOiAvP3SD9D7fHFM/pwdgOE3kkuH3yiWRQNI2mX3nwGh9Jspx1vJM6eTp8bLqwUGRzyQbyjOvSzfpZ+Y1cFLyg76mrjRPzj2yQP8IaNxVhowaEK1TrftCczx9RsqU190gl3Xs9w+WHsmGbAMAAAAAAEgih4MrJhG9SV7uNsAkbUDS4aGC1h0+Te6LGZ6lm9xn50DRobk867uTLyDg9sSwGxjN8FOteg4wwZ/YhPtBDUuaO8a7jk5OIvhUvTXypWd/E9Tw5odJcwisMMeYal/htmXVrztkl2/9oMY6N+G/twFXp/hk+f6k9zqZXC29BkjYji8AaqKp9Pv543Jfr2jPB9XqPx+WWSM6xOVBibFiW42DKxXb3jJzwfL6jpG7Lst8yKh2Nz4i029Mdh4mj9f5V8nYvrF1UGeOt56tT4yRfieb5dqQXyS/+Z+bY4IlqXWVa+7vnfwaB2k+QG4flahOy2Xre85ci/7jZNaPuibZfhPpNOJR+c1/8tAHAAAAAACZy+GE9s7wWYnybqTLHvprVPSX1BF2DhQ3/0msHm1PN3OGtW5kHPmO+U4PGHtIqmlOD42MaC6ZaXJNirahVoOmZV4HIY8x6b7Cnq93yK4Andp4TlyvRca5dCyaB6Y28jcAMFpIz2Fj5K6hA6RH5w7SytOYr8Nv9Rs6Rp4pWxrcuN24qfT48e9l+Z8elvu+2U3atYwGHvJaFkiny4rkrvGXSrtUQ0+l0Ori4XLXoELrWeINoDSVVt0HyG0PW/t/1Hom1KRXQ+NT5JL7g8/DrgNr363tgIT1Z9WjS2T+w0OkX+d8aWavYRx/irTr3E2uHHq7TBpQS+NXaTDk5SXyzHj//ppI8/YdpMc3h1j1+7Bc48nPkkpe99tlftk8+c0o63q3P8UT1LDq07r+/QbdLOMevl16NjfFllb/+ags/79JMvyy2Psj9ji+KZ1MqavT8N9L2bS75MrunmM/Od9a/2Y5/2vRXinnjZwZqfvI9q36PM9ar/j/rPr+cbfwwR0AAAAAAACPRtUWMw8AOEK2/eM9KTjDZHYHAAAAAAAAUK8RXAGAeoDgSn2lwwma4QPT0GP8Apk1iOGmAAAAAAAAcl0ODwsGAAAAAAAAAABQ+wiuAAAAAAAAAAAAhMCwYABQDzAsGAAAAAAAAJA96LkCAAAAAAAAAAAQAsEVAAAAAAAAAACAEAiuAAAAAAAAAAAAhEBwBQAAAAAAAAAAIASCKwAAAAAAAAAAACEQXAEAAAAAAAAAAAiB4AoAAAAAAAAAAEAIBFcAAAAAAAAAAABCILgCAAAAAAAAAAAQAsEVAAAAAAAAAACAEAiuAAAAAAAAAAAAhEBwBQAAAAAAAAAAIASCKwAAAAAAAAAAACE0qraY+XqvS/FAMyeyftQCMwcA9deWLVvs1927d8sHH3wgn3zyib184oknyqmnnirNmze3l48+pokUnNHWngcAAAAAAABQv9FzBQDq2Pbt22Xr1q2yb98+0Xi2TjqvZfoeAAAAAAAAgOxCcAUA6pD2WPnnP/9pluLpe7oOAAAAAAAAgOxBcAUA6pAOBZZKOusAAAAAAAAAqD8IrgBAHXJzrCSTzjoAAAAAAAAA6g+CKwBQhzS/SirprAMAAAAAAACg/iC4AgAAAAAAAAAAEALBFQAAAAAAAAAAgBAIrgAAAAAAAAAAAIRAcAUAAAAAAAAAACAEgisAAAAAAAAAAAAhEFwBAAAAAAAAAAAIocEHVz745EO5fPrNMupPvzQlyMTaf26WHo9dJ4+v/IMpSR/XAAAAAAAAAACQTei5gjqjwZIuxQNlydvLTQkAAAAAAAAAANmP4AqyFj1eAAAAAAAAAABHAsEV1Jnib/9E1o9aIP3O7m1KAAAAAAAAAADIfgRXAAAAAAAAAAAAQmhUbTHz9Z7m73Bpj4jaoENL3fi/P5GuX+tgLy/evMx+PbHJ8fLEoPFyril3fXJgv4z8vwfkzfc3mRKR/77y3pjeGZrU/X9W/N4sRfnXU/51E+03lWTb0Zwn/7XwIfOO4we9bpDbel5nlsIds9KhuNy6+lqzFnLPJcNl7OLH5LsXFkW2q9v83Wvz487Huy89zgn9fyQPv1xiXwPt7aKC6ln3M/v6X8qpJ55iL7vX7p97d9nLyr+O/9z97wN1rbS01Mwl17vPxVJwRluzBAAAAAAAAKA+o+eKoYGC/mf3toM2OvUuOF9u/P09McnY1/5zs1z2xHB7ftWP/mCvp0EKbbzXgIGXBg1m3/BwZHvuet7tuUEGDWC46+l2wwZWNNChQQzv/rzb0eCIW66T7k/36080n84xa9BjyP/+RJZvez2yrgYrNDii76Wix+o955duLZFZa56LCZAoPZZSa7vusej5tDzxFPt4/Pvp36FPZL0XR8yIBE60fjXg4z2n73S5XAbO/IF9LQEAAAAAAAAAyATBFUMb6L09NMb3+6F84/SOdsO/25iv8+qevjfbjf/qpgsG2ust/8frSYMLV3/9crvXxGJPoOKdD7fb22nZtLkpCU8DHxoY0t4f6QZl9Hj9xxIk6JhX/OMNuzeJd38azHjk2z+J1EkiGtDQoIwGbdy61s9ooEX3k4yu1/uM8+Wd3dtl64c7TGliui8NOGlPGm+96PU6q3kbeXjpjLSCQQAAAAAAAAAA+BFcScANeriN+ToE1bp/brYb5tud0tqsFV1vp/X+/gOfmdJ4xzc5zu55sXPf7kijvvaU0fm7//RLe/uZ0MCHewyJ6LYvn36zPayaToVPDIvrKRIk6JjT2V8iGpjR7XjrLxnteeIes05Bw5Ylkmhf/usKAAAAAAAAAEBYBFeSOOuUNmYuSntt9HjsuphGf+05su/zT+Wf+3abtdKjvTe014YGOjTgodvyDy+WjqbHniBfSxDscPOSqLJbZ9pDY+lrqp4iySTbXyrpBmbcIdO0l4s7pJfOh5FoX0HXFQAAAAAAAACAdBFcSUKH7fLz5vfwTpnkSlFuPhQ34BGUCyWVZIEdDQZp8EYTzmdLEnftcaLDrOnwZTqMV6Z0O9rrxi/ougIAAAAAAAAAkC6CKwn4hwHTwETXr3WwyzIdwisZb96SVLlQvNyhxYKCCHVB96fBGg3ahNXrjPPsVx2yq67pvrQu/UN/uXXlH94NAAAAAAAAAIB0EVxJ4KGlM+wgwtALrrIb6ZXOay+R/1r4kN1IX1P+hn83t0mYYas0iKA9PMYufsxO4u7nJq/3JuavCe1po713Hn65JHSQSXv2aIJ5TTQfdKwurW9NXq8BnGSBmGQBr0T7enrNAjvfyj19b45cVwAAAAAAAAAAwmhUbTHz9Z7mJHHpUFq1wc1J4k/wrg3vTwwaHzfUlwYoRv7fA3E9NzQfyG09r7PnNV+INup7P+9+Tk27+gF7+6P+9Es7X4uXdzthuDlKvDSfiwZDEp2jBkmKv+3kY0n3mF1B+1Op6kHpsGcaoPLzHo8K2of/ugRdD/e8lX9fGmiaff0vs2aINGS/0tJSM5dc7z4XS8EZbc0SAAAAAAAAgPqswQdXAKAuEVwBAAAAAAAAcg/DggEAAAAAAAAAAIRAz5V6KtGwW16ZDiEG4PCh5woAAAAAAACQewiuAEAdIrgCAAAAAAAA5B6GBQMAAAAAAAAAAAiB4AoAALVpT7lMHnaDFPaZIqtMEULas04ev/MGuaJwah3W4TZZeM9IKbriHplbaYoAAAAAAADSRHAFAIDatL9SNq7eLBV7zDLC2/+urHxps2zdWWUK6sJu2fB8uWzcvs8sAwAAAAAApI/gCgCgbh3cJ1tfKpVRwwZJr24XyNmddeorhYPvkdGzF8nGnWa9nLdP3ph2jxQV9ZMpq00RAAAAAAAAshLBFQBAnanaMkd+eElfueLOKbJw9TbZvd+8IfukYkOZzH1wtBTdNEM2mtLctlfeWVMmG7d8KHXZHwMAAAAAAAB1j+AKAKBOVK2eKtfe8JAs2SOS17FIxj29QF57fY28vcGa1q2U1174vRSPGiCXDOkjncxnAAAAAAAAgGxAcAUAUPuq1snUCTNk436RdsOnyfI5Y+TG8/OlWZ55v3ETadamg1w5fJJMH9rBFAIAAAAAAADZgeAKAKDW7frL0/L4Nmum4HYp/nE3adbYKU/Xrlc0R8tAudDOz9JTehXdI5Of3yx7D5oVvPZslrnTp1jr3yCFfdycLtbUZ6AMnThH3tht1vPZu2mRTL7T3YezftGdE2X2654E56unOO+NmC8VpiiqXCbbnx0pcytNUZpKhpl9ulNxuXnHsq1MRt8Zey4XXpHk/IPsWScl94yUKwp7Rrbx9cJhMqpkuexKsg2nTqK5cS68YmTSz6RVh8kc3Ccbn58iPyzqJ1+3t9FXCoeNlpKV75sV/PbJGyWjZWhkfWvq1k+uvadUXk6SuyfR/ZT0KA9+KC/rvq7oG9mPPbzdpgSfMutfG6lz3Y9Vfw+VyVazCgAAAAAAyB0EVwAAtaxSlv6xzJ7r8b0B0ilMYOXgPllVPEh6j9QcLZWy1y48ILu3lEnJPTdI7+/NkDcieVuMLc/L6F+VWutvloo9pkztqZRVf3hIrr3ijrjgR8Uf75DeV4+WkpfcfVis9Te+NF92fNnUFBwhezbJgpdiz2Xvduf8r/1VeXr5Wg68KyufL5etOw+YApGqnetkYfEdUnjHfKkICJZUzHPrJJobZ+/2cvszva8aLUtquw4PVsrcO/pJ0T2lsiSSh2afVKxeJJPHzZBV9rLfAXlnzSJZ5c1bs/9DeeP5KTLi2/HXWddPfD9Nkbn2coB95TL5qn4yotja13YTTLH2s/WlUhl1dT+5dtq62OtQtU6mmPXfiNS57seqv3f2itthCwAAAAAA5A6CKwCAWva+bF2hrx2k7wX5dkm6KhaMlhEl20SO7yq3TVsgb61zcrS89cLDcmPHJlL1+lQZ+tDy4ABD97vkBTeni35mifWZAqt8/3KZUOL9zGZZ+LguN5FL7v29vGb2oXlgls+fKde0N6vVoeEzo8dpT6O6mXcsna+S+S8sjZy7HlfZtCFynvXW1pKpMk97BKXS8lIZN39JdBvW9NqcMXKldTmqlj4kM1ZEgy5K63XEOK2TArlyfLRO3nr59zLusqYi2xbJD+8pla2RoEzN63Dj9Dtl9FLrOE4ulHFzoseq+yy+sWuCgMQp0v/eebK83OxPp2W/l0nftE4s7jqL7Fo83txPHeTGX0fvp7fLF8j0UYXSzqwXq1Lm3neH6Mfyzr9Zpi9ZGTm3sl8Plk7HH5A3HrtVJuixG3uXPmN6ag2W37jrW9NbqxbIMz/uJq2c1QAAAAAAQA7JquDK+lELIhMAoJ6qrJSN9kwzadrEnknPwXUy126wz5fhv35C7ro4X/JMr5e8NoUy7olJcuXxIlXzngwOMBx9ouR5WuTz8q3PTLrZbtiuWrDWHJPaKx/bPRzOlX6XdogOWda4ibRo31XanWyWj5S8fGnXpmnk3PW4Wl18l9w1VBfWycb3YgMjwZpKq/anRLdhada5SO76vgZxDsgb27xdPD6UJaUz7KGreoz/tRQPitZJXvMOcuN/W9dCg1Rr/0dKI0GZGtZh1XKZO8OORshdTzwsN3aOHqvu88rvXmUHk4I0a1MgLaz7IOLkDnLNj4dLD2u26s1tnuHbtsmS3y2yA0BX/vwxGXdZ9H6S4/PlkuGD5RKzGGPtc/K4Bk7yh8j0J26XS/LNTazX4bJ7ZfrPB0ieVYdzfzs/MtzX3n0fOjP/r1D6uetb8prmy3mdwwUYAQAAAABAdqDnCgCgfthULgu1wb7jYLmmV0BUpnmhXHOdlq+TpW+axuxUOp4rPfV1/yZ5J5KTo7m0Pldfy+WhX5bKG5XpBCsOIzcPyeBoLpMLr7hB7l/ovL1j9y5nJgUnz0g0f8rXCwfJiKlr7fc27vIkotmzVpYu1pkiuVm7tvg17iBXfs8Jysxbs8kpq2kdblgr83TosY5F0q+zU5S2nctj88loLpQfTJU39L1NuyRSOzut87JP95sysO8pdlE6Nq5cZAdoOg0pkh7eII7R4rIiuVHL1y6T18091aJlgdPT5g9TZPzz29LPjQMAAAAAALIWwRUAQO3Kz5dO9sxe2Remzf3TvU6vg+4dEgzXJNKqrd2iLy+/+679mlJeE3Gyf1gH8qU9YymQQZPulUuOt47wpSlybb+e8vXCO2T07DLZ6s3ZciR485BsiOYy2bvdl08mKW+ekWj+lKqd22JysETs3+sEJLp/XdolSA7Sqk0H+7Vqw7umZ0gN6/DLKmf4riTXOkjV6ilyhbWfyd58MpoLxZuDxWVdb2cfic8ryN5PnV49Pc7S7joBGp8u7b6hM8tl63t2ieRdfLv85jpr/f2bZfY9g+TCrn2tazhV5r5eKVUEWgAAAAAAyEkEVwAAtex0adddXzfL0jXe4afqj7yCwTJ92QJ5ZvzNcmXnplK1c7nMffAeuaLfDTJldcheGLVo70tTnTwkx/eWu5725AhZt1J+c6NZKZUNT8v9mjBECuTGh+fF5EN54V5PbpcaOvx1uFlKflZqD8XV7rpJ8sIyc16a22T+XfawYEdOU7lkjFXX8x+WcYN6S/PjtffRDBl900Dp/V/zpYIACwAAAAAAOYfgCgCgluXL+Zd1tedWPftXTxL0FE5o5iT+Xr05ksvCr+I9Z1irS848036tkbx8OW/Q7VI8Z6m8XTZTxg10eh48/rOno/lZ3GN678NIL5K6tHH9Ivu1x733ym3ne3KENG4izdLsfVHx93Knd8nQe2XcNwti8qHkBQxzJcc3kxb6uvot2RrX/cNRsX2z/ZrX+czY5Ozp1GGQNK51nMq/y0o7VjdExt0/ICavS97xJ5o5jzTOK0izE5yh0Va9E5TYx3Lwfdn6ps70lnZt7ZKIZu0L5cbxj8qKVUvlhV/fLOfZPXsmypSX9pk1AAAAAABAriC4AgCode3632Qnn5e1U+SHvyqPH7IpSMduYqf82DRH5kYSp3vsLpO5f9DyrtL3G+nn0EhLy65y48/vleE6X1kuG9wON6cXOInVK5fJGwna2tOXL63PcuZ27alHje0nnyt9++vMfJlhJ73xObhZFj5Vbs00kUEXdHTKgiSqwyAdu0o/vT8SXevacHIH6dFLZxKcVwKdeg6wAz8bS+fLKjOkmteul+bLbC0/t4+c39Ipi9O4qbS77HYpNj2FFq53c9UAAAAAAIBcQXAFAFD7mhfKXff3tpN8by0ZKb1HTJUlmhfD04ulak+lbHy+VEZNM8GXxl3lmtv0M5VScuetMuWVaL6Kqu1lMv7W0bJwv0jeoFtkUIJ0GOn5UFY9v0g2bvc06h88IBV/LZOX7YV8ObW5PeMJPKyTyY+Uysbdns/s3xccNGreQlrbM3+VhYtjc260aOX06Fn42JPyspubpOpD2brJWs+a7dRlgF206qmpMndDbACmKs3eF63O6eb0Cpk3NaYObYHbOEX6DbnZzn2yatydMmre5khC9qrdm2X2f1nXQgNL5/5AhvRq4rwRpg6DNO4mQ+z7Q6/192S0tc9dnmOr2v+JmfPIP0d62p1K5siUx5ZLhfdcrH3Hy5eBt7nndaMM1c94gyWJrt+5V8ltfa3zrCyVEbdOlZfdZP16fi89JCN+tsj6XBO55vtF0XwxW5bL3BXbYs/Bqrslf3V6WnVqkawyAAAAAABANmpUbTHzAIBaVlpaauaS693nYik4wzfGUA6oWDxRfviz+bIxoAdAxPGau+NeucQe9kqTsd8gQ+2cIfHyzr9dZj3hDLcUsXqKnD3MqudeY6RselHssFVSLpM7j5QS6SaTlkyTa7Rxvmq5jD7/DpnrrBCn3YiZMv/HXe3AkK1yvowomigvJzwHz7ZtH8qSe74tP3zeNMoPelTeGu8EmrT3zagr7rGDRDHyb5f5S26WTlXrZMrVw+TxJL1keoxfILMGRXYWoFLm/mCQk7slkeHT5O1RsflXKubdIVeMWx4ccCgYIL95YpL0c3cbtg4DWdf6V9+TEdM3B+/TNkRmbYjmU6n4o3WMP0twjLbY9VXFH++Rop+VJRnWzX/9LPut+2awdd8EXocmct6PnpBZI6Pnt3XWDXLFQ87QaXGO7y2T5j8au30AAAAAAJD1Gj9gMfMAgFq2bt06M5dcmzZt5eSvfMUs5Y5mZ10i113fTzqcekC+/Gif7Nrl9hZoKq06nyuXXHGT3PGzG+TSU91m6sbSqtdgua7rCbLrgx3yr0pdv4k0b29t56eTZNrdl8sZ/hb7ylXy2HNWPbe+RL47sKM0M8WO92XZ1D/JG5Ivl970bemsbx48KAcb7ZWPPt4juz76TOxOGsefIu3Ou0RuHTNViq8tkKO1zNWsowy8qoucsGu3/GP3+7L3c6c4r2WBdOjcQ6685kq5rGeBfDXyoeOlXZ9L5Yyq3bL1X5VyQo8b5OYLTc+F4wukv7WtLyvXydvvOnWR17KrfPOqS6TnN6xt5LWUntcOkq7H75JdlTul4mMTINHjO7uNdOh2hfT/j57S9WvJwhbNpPOAa+XSM7+Uj/5RKRXuOdp1XiCtzr1YBvXuIT3P8iQtsTTrdIUMubStdZ22yY5//Vv2f2GVtekm/W65T2ZO/p50PcmsqMLWYSDrWve42t5n40/2yb88ddusTQdp1+1iGfLdIrm0U/NIEKPZOfHHaJfr+q3Olb5X95E+F1n16BTbmp3TT74/qIt89dMqqfiwUvZ86tRG5Pp9d5B868I20sx7wMfkSx//ddDzu+Rq+dnDU2T0gDYx53d01UFru7tl754PY87hkqv+S4p/8yPpS8cVAAAAAAByDj1XAKAONfSeKwAAAAAAAEAuIucKAAAAAAAAAABACARXAAAAAAAAAAAAQiC4AgAAAAAAAAAAEALBFQAAAAAAAAAAgBAIrgAAAAAAAAAAAIRAcAUAAAAAAAAAACAEgisAAAAAAAAAAAAhEFw5gvbu3SvFxcUyZ84cUxKOfk4/r9sBAAAAAAAAAACHB8GVekYDJmPHjpUNGzaYEgAAAAAAAAAAUJ8QXGmA6PECAAAAAAAAAEDmCK7UM4MHD5YJEyZI586dTQkAAAAAAAAAAKhPCK4AAAAAAAAAAACE0KjaYuYbHM1r8swzz5glx7XXXmv3GtmxY4fMmjVLqqqqzDsiXbp0sXuWuILWUf71XEuXLpWysjJ7Pi8vT4qKimTRokXSunXryPq6zvLly2Xo0KF2ucu/r8LCQvnggw/s8hEjRkizZs3s955++mnZvn27vY466aSTIu+7dFiw9evXmyWHe95KhwubPn26fPzxx/ay8r7v8m8naF9AQ1daWmrmkuvd52IpOKOtWQIAAAAAAABQnzXY4Iob6AgKGgRxgxu9e/eWvn37pixr3759TIDFDUS4+/MGQrzBmKDgihsE8q+nx58soOHuQ9100012QEfpsXiDMl7pnqduY8uWLXFBIACxCK4AAAAAAAAAuadBDgumwQINYGjvj3QCK+rUU0+Vli1byjvvvBPXU8VLAw0aWNF9uAnjdV4DEd79aaBDAyUaHElG97Vy5Upp06aNXHXVVaZU7CCHBluS0X2cddZZsnPnTruXSyq6r8WLF9vn2bNnT1PqnJMGVrTO9Fx0PT23Y489NuXxAwAAAAAAAACQaxpkcGXr1q12gKBFixamJJ6+/+STT8rYsWPtadKkSTHDbSWjgZjPP/88MqxWOvtLRIMiGhzRHiZuz5NktEeLe8w6ucOQpSPZvvTY9Rz0XNygjZ6f9mDRcgAAAAAAAAAAGooGm9BeAwSJcoNosECH09JAgw6dNWHCBBk9erTdeyRTyfaXDg3YpOIOFaY9ZPSYddL5sIL25Q+4aM8Z3bYGnDTwpIEcHb4MAAAAAAAAAIBc12CDKxpAcYft8nN7cOhQWNmST0TPR4cs0wCQd0ivTAQNIaZ15e+hogEWDeBoAEoDL/Pnz7eHDQMAAAAAAAAAIJc1yOBKu3bt7GDArl27TEnd0v0pHVIrrHRzvdQGd19BgRStK60z91y8NABVVFRkfyaTcwQAAAAAAAAAIJs0yOCKm3Reh9AKGsrKDTKsWbMmYe+WMPwJ4cPQgEb//v3tnjSa2D4RXU/zoOgwXRqISUaT6mu+FP+xJNqXrqfH7u3J4w9MucuZ5JUBAAAAAAAAACCbNKq2mPkGRwMrzzzzjFlyaB4RHe5Ke2Fo3hV/Ensdduumm26yAxEadJg1a5YddNDPuDT3iQYjhg4dGjOsWND+VJcuXWTw4MH2fKLPapBn+vTpkST5rpNOOskelsvN5+LmXfHSY/Vvz7+e9xiC9nXttdfaQRmVqG686wBwlJaWmrnkeve5WArOaGuWAAAAAAAAANRnDTq4AgB1jeAKAAAAAAAAkHsabEJ7AAAAAAAAAACATBBcAQAAAAAAAAAACIHgCgAAAAAAAAAAQAgEVwAAAAAAAAAAAEIguAIAAAAAAAAAABACwRUAAAAAAAAAAIAQCK4AAAAAAAAAAACEQHAFAAAAAAAAAAAgBIIrAAAAAAAAAAAAIRBcAQAAAAAAAAAACIHgCgAAAAAAAAAAQAgEVwAAAAAAAAAAAEIguAIAAAAAAAAAABACwRUAAAAAAAAAAIAQCK4AAAAAAAAAAACEQHAFAJAdds6Xm4sHShffdHPZTrNCAusei/uMTo+sM+/H2SnPTnfX+7E8m2LzSGL1FDm78wUydF6lKQCANNSnZ0flfBlqHcvZxeWmAAAAAAAcBFcAAPXeq88OlC6lJfKqWfZ69Y0RwQEWNxjz4oumINZTL2rw5LHAbeYU00gZONWwsbBi3kh7O5NXmwLUQKXMHRFwjexppMzN4vjUquKgc5oiq8z7jnKZrOUj5kuFKclcbW6rvjPnGjj56xgAAAAAUJsIrgAA6red8+W328x8oDPlW51bmnnXa/JIgmBMrBfl5oYQYEmkhOBIdiiX0f0uyMJfzjsN/0NLzGKMUhlKT4A6ZtUxQRYAAAAAqDMEVwAA9VrlhqXR4EfBWFk/aoFnmi4TCvrKRb7YyqvPTpCnzLz63uXezyyQxeedad5RL8pvUw0tlguGT5O3N6yJmWYNd94qGZbdPSNySzeZtCT2Or09c4jzVsnIrAqEVcybIXZcpdcYKfOej31OY2TSdd3s9VAbhsgsfx0vGSM97Pc0yEKABQAAAABqG8EVAEAWaynf+U6R5JslW0xPlzNlwpAFcndXs2jkF/5K1l9+uVnSocXmNMjeKz1GuQGWctlqB1fcIYaCGmITv1cyTMvdKT5Qs2rcQM/7OiVv6HWHG0u5fqIhz3JtOKjud0UCLCWvZE9vj4r3nGMdPqJIWtlzHt2L5JqYL66xYqIUeq+lp3dL/H0R+36c2txWNsovsgMuznc8cU+h1N+3xN9957MBwdm4nCmJh73LJGCY9jPCzZeSzrq2+GHWhv4haddJAAAAAA0YwRUAQL2W37mvXGTmZduEFMnoLTt3eHq6DJHv+EcMc3UdLBOamXnZKpUNNHF9q7ZO74GN27UR9HRp10uXNssOf2NpZaVs1Nfhfcyv4Wsi8S/pNT9H4Th/I7CuH9+AW7F9s5nzsRvVkzWgZqH8AqfeN1VmTeDIvbfqNCCkQ9vVVlCkNrdVj/QYNU3s+ErJsrjvRHrft0TPhUpZuVg/6wZno9zvZqc2bgTtfdm6wsz6aHA2TOL6MM+IYAmeP3YgZqTT28pjVUlpbj1LAAAAANQagisAgPqtZZHM8PQyUU4yemuaPl/8bWmVu7eaOZGLvtLazAVpKfmnmFl5V95toMEVt3eB0wiaLz37a4N4uSxcGVuzFSsX2Q2MPdqe7hR4DJ/pHY5oWlyPhB7jF3jeXyCT7IbaUpnqa1DVX6M7+TlihzgqG+8c0+gHgnuk+PfvjHZWKktzKZdM5TangbdjfnwvkHqqVc8BTkDI5PZJq0eRfwixUdGhw1oN8g9t5wYNZgQ3qtfmtrJaN+lreq94vxPpf98SPReiAZPYAJobdBkifbs7JRG+a+LsS2SVtX46QcPQzwjTe8ddTye3J0/s86dS5j4w0fmO+YZQdIdPBAAAAAA/gisAgPqv64/sXCkzCsyya2+J9E/VkwUJ6S/AnYbKbtLOBETcBnF/Y6cThOkmV/YMGsspjHy5ZoQzxNWq9963Xx1ug6zmHLkrpneMNoTbDZwrJkppyoBJN7kvC4fQSkp/UT+s1J4NCm7VW3bDthvsskSG6Uq3h0EqbtAgvudEeLW5rfrH7UUUFe77FnkueL+zq5dFe3nE9KgyQZdeBSkDga0GjXGCrSsWiS+eG6B2nhE9Lg54/lSWy0L7mMdImScIp3pc5+auAQAAAIBYBFcAAFnjou94EtlHhvTSniyPRYYCy2/ezsyJvPrvHWYuyE6p/NDMyplyZqLhw3KF23vAMzmBFe354eltkt9Nroxr7CyXpbpurwFS49iKChziym2QDd6H2yDqDF+Wgrv9rFQuo/vFXqez+5lf1PcaIw8Oqo0LcDh1k/tMDwC3l4J7jmGGgnLE5+1w7+HwanNb2Sjk9y0/Xzrpq2doMWforyEySa+r93lhgi49+ndLo5dVvrTuaGZTyuwZEZefxQQqY5ieYekdMwAAAAA4CK4AALJQS/nOCG9PlhflFbf3SsvWnhwtpfJsouG+1s2RsXvNvLST/FwPrgQxQ/TcFzN0T8AQQG6+ldoaksptqPVy95FCbG+XhsMe+mx6QGL4LBIZisv0LFo1bk6koT41TTQ+UEZr43qN1ea2soM7/F9E6O+b27PHzbtiepH0KpCedq+W6PNi1SsavKiNXm4+GTwjgvOzxEuYvwkAAAAAkiC4AgCo516TR4qjPVOiXpNXtplZr5Y95VuRXi3vytjS+GHDKst+LF1efNEsWQp6RgMyucqXR8CeEjTWtxp0sz2Ukzs0mJtvZfjF/qGFalFQwCVAVg2LlREd8ih6jdzeHjkzxJnqflck70W6eXEq5s1whqDy3cfR3jDpq81tZQfT88ybAyWD75vTM8QEUcwwWnZPD9PbzQlqVMqOTdZLbfVy8wp7zJXzZao575i8K0vih/lq1aaDmQMAAACA9BFcAQDUb+tWylPyotysCexjpglWucs7rFdL+c7A4THBkkgCfDP1f+Nd8466XGZ850Iz7+cEZ7yfdafczvNifqVuD/WTJDl1rTpd2iXJveD8Gt5NvN9wRHJSlIzMYBit3OH2vKiNAF9tbisbrCoeaYJJfTxBhQy+b937RIOu9jBabu8UM7SXDhnmDbroZ2pVyGM2Q33FnncCZijBdBPrAwAAAIAiuAIAqNdefcfTwySBi877qXzHO6xXyyKZcfnlZiGZM2XCkB/lfq+VDDhJnMtl9AMTnUTPAQ2U7q+9S6bPr4UGyehwZKP7TYkZLkpzJtj5MHqNkSF1GuCpj/LlmgecX9qvGjexlhLBHx72dQsKCK2eYvKbdJN2kbZ7t+E8OCG5m5A9vR48tbmtLFY5X4ZGcskMkVkxidoz+b5Fg673Ty+N6Z3i9GoplakPaC+32hsSLHYYwJDH7OZe8uSJSSiSa2qiFI6ojecZAAAAgIaA4AoAoF7TJPaLzzvTLPldLjNGLZAZhQEJU7r+yE5+H83LEuui86Zb7/8qNiiDqEhjY7ndMBn4K3/zS3a7QdKTMHpymkM9+WlODne4KG0Udrfn5EzoJpMeyO6cIxnLL5IH7SGrNNiVLQ2/To+nVeMGRq5jZDIJxXuMHyPXRNrg3YZzkZJhnnVNQ3crO6+HvhmbnDw4n0ZtbitbxH5n7KnfRBNU0GGx7ooPjmbwfXOHBlvl753i9mqxnhe1MiRYJDCi1ygaSAl1zO4zzF83kXrxypdrpk8LfJ4Frw8AAAAABFcAAFkgv/BXdqAkfkrd60SDM7pubIDmTPlW50RRFSdZfvy+Yqe7u5rVc1a+XDPCSTyeuMdIN7kvIH9BTfQYFZT7QhuHp3ka4hueyPBgKybK/VkxPJg2Vi9wjjmOk1dm1qDYCxptOA+QX2TfA4ne9qvNbWUvN9dIfGDFFfr75gZUrWsY2zvFTXjvC7pkSq/RTPf5UxCzvfSPWe9B6z5L+0JbzzOrvhKtn/v5ngAAAACE1ajaYuYbvL1798r06X4+G7QAAIIhSURBVNOldevWMnjwYFOKbLFjxw6ZNWuW9O7dW/r27WtK08O1R10pLXV+oZ1K7z4XS8EZbc0S6sZOeXb6CBm71yxG6NBg9GAJpMMK9ZsoMn5BXEM4AAAAAABAQ0bPFeSsqqoqefLJJ2XSpEl24AVAQ+f2SBkr3zMltmZ95SICKwEqZe4DOhzOELmdwAoAAAAAAEAMgitADWjQRoM3S5cuNSUA6r8L5W7vEF8jioTQgbF6SjTPQOeBMlrzKowfXKvDfgEAAAAAAOQCgivIWXl5eXLLLbfI6NGj7eG+AADJVWzfbOYcw2fG58UAAAAAAAAAwRUAAGBoEvC37QTYznRfYBJ7AAAAAAAANOiE9jqUU1lZmT2vvRyKiopk0aJFcUnNNXfH008/Ldu3bzclItdee6107tzZLEUTon/88cemRKRLly6R7bjJ1nVbXt51vPzb0+MbOnRoTA+MoG0WFhZGkrlv2LBBnnnmGXve5X3fNWfOHFm/fr1ZEjnppJNkxIgR0qxZM1OSWlAdtWnTRm666Sb72P37CDof/zoqaD2Xd3095gEDBsj8+fNjEtrrOlpP/vNJ59oH1a//egWt4z1v5d2X8r+P3EZCewAAAAAAACD3NNjgitsw7wZJvMGBoKBIy5YtIw3ibmO5G6hwAyHawJ+o0dzdjrfh3/2c8jb+u0ER73H4j9fdXvv27QODM0Hc7XoDQ7rdLVu2JAxgpCOd8/cLCnokKvMfn3utdu7cGSn3BqO8AaRE20zn2vsFXcOgMq90zxO5i+AKAAAAAAAAkHsa5LBg2rCtDfbaCO8GGTQgoI3qGiDwWrlypf3av3//SNCgZ8+edu+Dd955x26Y1wb9zz//3G4oTyew4NL1dZ/6We01oXR7uk+3J4ZL57VMAyRKgwm67qmnnmovp0ODEN5t6Od1O8cee2zceYfhHrueS7rnr/Wu9abXIhmta7V161b7VWm9ayBEe5u4ARe3LlPtP8y199O61iCbe91T0XrWII5eO28Qxb2ubr0BAAAAAAAAALJLgwyuaEO9No63aNHClATTwIM2xmuDujeIoY3x2liuwQE3wKHraEO69moJw/2s7kf398EHH9g9MjRo4G2Q131q478bVHEDJdqDxg2W+Om6xcXFMnbsWHt65JFHIsOMKd3mWWedZZdpb4p0AgZ+bh3psSQLbOgxusehk3+4skR0uxr80Xpx6bbcaxBWutde6XpPPvlk5JgnTZoUM+xZKomO072W7jUHAAAAAAAAAGSXBpvQPkzjvDaoa8O6NziggRTtcaKBCd2WDoelvVk02KHva1AjnYbzRMeh2/fuz23YdwM6+hkdVkob6TVQoetoIMANkOi+3SHH7r77bpkwYYL9qut76VBW2ovDe46JgjXJ6PHouQTR7bnDnOlx6KRDctVETXrbpHPttR7doce0nvWYR48ebV/jMIKOM8y9BwAAAAAAAACofxpscCUMb1DAO2ljuzsslTaY33LLLXa5BivS7Q2i7wcFYXQb/v3pNGrUqEjDvL7qspbrMWqA5LnnnrPf014Regz+IamCaIBFt6FBBD0PTQqvnw9DzyHRuWpwRQMM3mHO6ju3B5HmUnGvcSbcAJxXomsOAAAAAAAAAMgODTK40q5dO/vVm8cjiAYltGE97PBNGqzQYIc2znuHswqiDe3a+O4OAxY2r4frqquusntV1GSoKT0GzWOi+01VNy63jtweNYdDuvlagqR77WuDmyzffz381xwAAAAAAAAAkF0aZHBFG7W1R8Ly5ctTNtBrQnXtfZCsF4q/Ad1dDhoSypsjRdfT7er23cTt2nNE5729UILo9r3Ho/PaYK/7023oOeq8Jsf3rue3a9cuM+dwl9PJSeJKVUduMOT11183JTWj29PglSaEDxtISvfau0GuNWvWJN1HsmBYouN0E9lnU08eAAAAAAAAAEBUo2qLmW9w3FwgftogPnjwYLPkBC40/4YGPLx06C7tpaKN9LNmzYppXNfAhg6z5fZMcNfRhn3tzaI5VZR/PZc2xmvOFA1KeGmuEm20Dzp27bmiuV80uKISbcM9v0Tn5e4jjKBtec8tUV1796XBGa0nb32456BBEe81UUuXLrWDVX7udVFB21TpXPtE9ZOqnrV86NCh9jEr/3H6P4/cVlpaauaS693nYik4o61ZAgAAAAAAAFCfNejgyuHkDa64Df8Ach/BFQAAAAAAACD3kNAeAAAAAAAAAAAgBHquHCbZ2HNFh9Ryhy9LJJMhxICGhJ4rAAAAAAAAQO4huAIAdaghBle6FA80cwhr/agFZg4AAAAAAAD1GcEVAKhDs2fPllSP2UaNGkmv3n0IrkAWXv2YmQMAAAAAAMgNuTpaCzlXAKAOnXjiiWYusXTWAQAAAAAAAFB/0HMFAOrQypUrZevWrWYpWLt27eS0r51OzhUAAAAAAAAgS9BzBQDqUPPmzeVrX/uaWYqn7+k6AAAAAAAAALIHwRUAqGNt2rSxe6c0bdrUzq+ik85rmb4HAAAAAAAAILswLBgA1KEtW7aYueSOPqYJw4IBAAAAAAAAWYKeKwAAAAAAAAAAACEQXAEAAAAAAAAAAAiB4AoAAAAAAAAAAEAIBFcAAAAAAAAAAABCILgCAAAAAAAAAAAQAsEVAAAAAAAAAACAEAiuAAAAAAAAAAAAhEBwBQAAAAAAAAAAIASCKwAAAAAAAAAAACEQXAEAAAAAAAAAAAiB4AoAAAAAAAAAAEAIBFcAAAAAAAAAAABCILgCAAAAAAAAAAAQAsEVAAAAAAAAAACAEAiuAAAAAAAAAAAAhEBwBQAAAAAAAAAAIASCKwAAAAAAAAAAACEQXAEAAAAAAAAAAAiB4AoAAAAAAAAAAEAIBFcAAAAAAAAAAABCILgCAAAAAAAAAAAQAsEVj71790pxcbHMmTPHlBxeul/dvx6HK6gMAAAAAAAAAAAcOQRXgAZgw4YNMnbs2FCBw0w+49qxY4dMmjRJnnzySamqqjKlAAAAAAAAAJAbCK7UkqVLl9qNydqojPS5jfBafwAAAAAAAAAAZAOCK0AD0LlzZ5kwYYIMHjzYlKSWyWdcrVu3ltGjR8stt9wieXl5phQAAAAAAAAAcgPBFQAAAAAAAAAAgBAaVVvMfIOjQ1GVlZXZ8/rr+qKiIlm0aJH9q3vvr/U1Z8TTTz8t27dvNyUi1157rf3Lfpd3W67CwkLp27dv4OdPOukkGTFihDRr1syUOMnrdZgsb7mWrV+/3p536bEOHTrUPk6vdI5TE+NPnz5dPv74Y1Mi0qVLl7R7J7jnmWi73roL2pf/c3q+s2bNisnL0aZNG7npppvs89S8H88884x5x+HWq1fQuXu346/HRHWYzjGnI+i8lB57u3btYt7zH0tQXSq3LrzHk+794R5P7969Y+ou2f0Q9Jl095foHIKuU9D1zCVbtmwxc8kdfUwTKTijrVkCAAAAAAAAUJ812OCK20jsNlR7G329wQa3gblly5aRhno3wOBtFNay5cuXBzbY+7n7Uu42lR6T7s8fXAkq0wZb777SOU63wVsDO979hhHU4K78Df9B66VblkxQgCGT8wqq19o4PlfQ59xj9wfW/NczbHDFfx7J7o+gc2vfvn3MflxBnwnaX9D3Iegc0i3LNQRXAAAAAAAAgNzTIIcF08ZhbfDUxmC3kVob5LVxVxu+vVauXGm/9u/fP9Jo37NnT7tXxDvvvBPXMyEdup2zzjpLdu7cKR988IEpTZ/uX23dutV+Vekcp/ZO+Pzzz+1G8XQCEEFOPfVUO4DjP3dt+Ne600ZyLV+8eLG9nnusSt/ThnoNQuk1yIRuQ/ej+3NpbyOl1y/d89LrrvXhHkddHrNLr7leDz89Ft2/BhpqQ9D94ec936uuusqUZkYDKhqQTFVH7nUaMGCA/ar0XtRlDXR6rykAAAAAAAAA1GcNMriijc7auNyiRQtTEkwbu7WxWBugNajg0gZ8bRTWxnndTjr01/1jx46NTP4hxMLQ4MKxxx4bCcyke5xuYEQbsvV4MqHb9AeG3P1rIEL3p+X6flAQR+tcjyVZw7+Xbru4uDhSb4888kjMEFbuvrVOkgVWtOHeW//aA8SrNo85Efd6+Ln73LVrlympGf/9ESTZ+WbCDRAlqqNk18k9BoIrAAAAAAAAALJFg01on6ihO4gOFTZp0qSYxnkNUGgvEG9DfyLeYZMmTJhgTzpf21Idp56zDpulvSf0ePR9DVxow3cYmjNEuQ3p2miu23d7Abm8gR5XmMZ8PS4dMkrdfffddr3pqzbQ+yXbrjbaazBFe1e49a9DawWp6TFnm6DzzUS6dRS0nhsMAgAAAAAAAIBs0WCDK2F4G+W90+jRo+3eGsnor/l1CC0NaHiHm6oL6RynNmzfcsstdrkGeDQoonk09DjT5faAWbNmjd3bQock0/PTHi1eQT0nNGCS7r7coI0OG6WN8skk264GV7QB3zscVSI1PeZsk6x3Sxjp1lHQenqNNQAIAAAAAAAAANmiQQZX/D0vEtEGfQ1KaCO/NgrXV5kep5srI2zuFw3QaKBIG8Vff/11+/MaWHF7JLjBl6CGdA3G6HruNagp99z1WGoSADmcx5yK7kuDQUHHUluSnW8mUtVRsuvkHoO/5xMAAAAAAAAA1FcNMriijbzpJinXIIL+qj5V745EARttcNbAgw7ZpT1YktEG73SHGvNL5zi1XBuyXe6yDskUNNRWMm5ydq1D/fz5559v3nHOWRPra9DFTbSvtK51fa17vQbKbeT3J8hXuo4el24jWd2nOnc3eb0GghIJc8x1Lcw9kyndh9ab7uO5554zpenRuvTWtfYM0mHm2rdvn7SO3J5DbmJ7pfefLmuQj+AKgFwwd4nIpdZj9RHP4/udNSJXWGV3v2EKEPVvkQeft+rMml791JQBAAAAAJAFGlVbzHyD4+bi8NOG3sGDB5slJwjx9NNP2w3RXjqslvb+cPm3p8EHzXGiDdlu3hUvLR86dGikQdq7H80Joo3N2oitDfwjRoyIDI2lDdKai0Q/F+Y4dTuzZs2KCUBo8MK77TC8uWS89eByj9MbLHLPy8u/nrdegrah0rlG3nNLdK39x5PuMafi1rUGZbx1E3Q9E60bdM8o7/Gke38k2kfQ+br3rfZm8n/G3Z8GSubPnx+5l/z3QNAxqKDrlOj+yRVbtmwxc8kdfUwTKTijrVnKJZUyd8RAGb3CLBrDZ66R+7qbhbpQOV+G9psonep6P7XJHLOMXyCzBuWbwmS0bq31H5gm19irm7ruOE3eHtXNXqNe0PN6QOTB6UXSyhRlLAuuqwZXpn0mcoX1mL7bjJb56AKR5/RvW8eJzO4ncppTDMtHa0Wu+Ycz762zrLJ6ipw9bLNMWuJ+F7NPxbyR8njzR2VS3yamJE27t8nWvAJp19Qsh6LPrDnSetpd0qOxKUrLOplywzoZ+Pshcnj6FNeQfX+UmgWvITJrg3XuZslWS884vZ6F48rNkjG8nv3ZkE2sazh0++A0/2w+slYVXyBDS8xCnIB7zi/uz+x6+ncLQ8936cW1+3eCrP/+ZNH9CgBATtDgCgCk45lnnql+5JFHqj/++GNTglTefvvttKZ3t/3DfCKHvPrf1e073Vo9p8Ise6x85Pzq9rf8sXqHWa59q6t/0en86pvmBuy8XqqonnNLcF0lFv+Zuq/XDFT8sfqmWjum+n9d5yyuri6cX1398BZTYNnyWnX1AKts1OumAFF7qqsn/dmqM2ta9YkpyzZ6j1v35S9eNctZp6p66dj7qxd/ZBZD2PD45Iw+Z/voL9X/dfdfqkP/jeLdp6sHT1lrFrKA/ln4yGqz4BH4Z2RNn3FJPp/kz2SkYNVdtvx9Qv8eUKNnUcCf2YF/t7DqpD4882p8vjFy5PsTeL9a5xb0HAIAADVGQnsAQO3TXz4OE5m1IfiX3D1GrZG3H6jLXwB2k/s2rMmeX+2tLvf0QMmcXa+10UOk3sqy62qcdYHIC1eJPHKeKUDUV0Tu/6bIX6zpohNMWbbJL7KedVnUS87v4FpZueUcaXeyWU7bZnl5awfpFPpzxpa1suuiDhK27/SuN1fLWd/oaJayWPe7pGy8yMKVlaZA1eQZVy6TO8+QdksSfN7a39tLBsjCflNklSkC0pH7f7dQ2kNnpMjMJN+fDWOkp1kEAABwEVyBTYdxKi4ulrFjxyac9H1dryHTYbGC6sY76RBkQMNm/Q/qA4vkyiUphp7Iz8/x/1EPoXtR1g4n1NB8tFnk/hecvCo6DfuLyKt7zJsJvLrMWfdWf+qvT0XmLhW5yt2WNb/d2r5/3UfM+3N3mQJlzd9qyl81RbaD1rJVMGyh896l1usja0U+MW8nZJ3D3L+JXLPA+dwVfxZ51DqWOLV9zInOA4ePdQE3/ke38ENsbVgmS9udk/FzfOPr66TnOWEffAdk45si3zgn5PBl9VSrNh1k1Xvvm6WaqZg3Q0qG35z8z5L8Inlw/GaZOs8b0AHCq9AHfw6pmDdRFvZfkCJIbv29NVv/rlZZKRvNLAAAqF0EV2DTfB2jRo2SCRMmJJz0/Uxys+QSzR8SVDfeKWx+lmyi5899gJQqy2WhDJCeGfwPqI6dfXbn6DQ0rgGoXCYX6zjY+gtdz7oj5kuFs4Khv0AM+nWulns+1znNX/DqmPlJ95eA9uDxfs4+9lipz9mhY4B715u82rzhoevEl6eqK8N/rOnWjb9OA87R4TuOBOvF1EfK6+psM9E5e8vTredk/vW6yDWbRF49INLkaJHTrGn7JyL3rxTZaJWFclBk9isi0z52Ah+nHSPykTU/zNp+xqxtzi2zjudf1nEdcrZ5ovX6wj9EfuoP7HhZ69/6N+tY9ljH0Mj53IEvRZ6zjuXRrWYdVRfHnKaKeVNkrnXJ0vke+O9l/zqB24q5H9O9p13W/ea7V1PvI0DMc2ak/fk4mT6LjL2bFsnkOwdK4RU3SGFhPxlRsk62rlkmrTsWmDWMnctlyp2D5IqigXJhtxtk9GLPwVRZ51vYU84ePFXeeOyG4ONN9nlbpWxY01XO83dASfm5TfL6lu5yfkuzqPZvk9kPPiQLPSkH924rs7ZjzrNPXymaOF+27jdvxrDOxb4uzjMjVb3WxnPESxuoh1/s7cWZ4M+ulH+WVMrKxSKTrkvdI7RVzwEii8sj56f3aOB56D4D7tnYOoi/TxPe+3rvJrxftf5T/Jnju/fTq/s0/syvyXcq7DFZdTpZ10l5PR21fb/FS6N+LHoto89R57uiOUlKhrmf898H/u0GPKsD66K27oH0zivK+f5cmclfXNO4f1YVO/tP9d3xP4diz0/PKfjPhdjrE8/eb7+Jsqok+p2Mq7uY8wh7bOb7HvLPIwAAcoYZHgwAUAeC8qsETTmVc0XHpQ49rrPmD4kfN9se5ztmW8542O07/Xf1SlNi033GjAeu2/OtY382aHx7/3qxdsy9Nf587LG3k38u/pgsMXWT7jkHH4O9nu98dL3Y7QWcn33svs8GHaudRyLF+OIB6+gxxIz1bfJR+Osr/pycaxtz/DH1pRJd19iy2DHY06/npPZUV/90vpNPZdx6U2bZ91519ar3zYIlKOfKqlecsu+vMQWWD990ygoXVFf/zU068Ul19Qzzee+6D+t61jTnA1OgrPnvm/JVpiiyzT958pdYrw9by1r+fJLkFhus/T3/rlmw/PM1s60XrXM0ZXVxzIFlAez7JW4s/Phra68X9yzw36P/XT3HmgLH1U/nno5j3YO+70/SfQQIftal+s5Y7O+z/zsRbMezd1dfdd8fqzfsNQWWj//2P9VXXRibb2XHc5OrH5i7qfrjL03Bp9axXG7tw1227a1efHdwnpa0Ph+QbyWtz/nzrbz3QvUvJr9QvcOzzo5nfduxfLz8v6sHP77JLHlpPafzfKrBcyTuOeYIvJ5Bz7iAHBj2Z2OOO/5+SSx23YT3t+43ZR2E+37FPpuj9BiCyl1BdZXwuCP0PP1/hsWfe9w1CPpOWWX+fWV0TO6fh77rqfUS+7nM77dEdRwvaB/m+xBwv/m3GVTmCKp3Z18x52jVxS/mWpNvXwnpdUnwPYg/h+TXPV6q94MF3QNB94993fzHad8L3vW0jmI/F1vH8d81V9y1CLhf47/PUfH3lb8+Uh2be46x6wAA0FDQcwUAUKv0l7g92p5ultK0eo6M7jgtbjiGHqMWyKRNM2J/QddrjJRt8A051v0umdVxkcQMXe9TMW+ZtFviz2vSTe5bUiBLE/76sVxKx3WQWaN8vwa2x8pPNrRKpcydvlkmPeAbo1zH7Ha3lfY5Bx+DvV4vs5DI6mWycfzg+Loa3k0mReoiwbFqHomZHWT0H4J/UWuzc03E1qn/V9G2gGvWatAY33k6uQZi6qN7HxlesizFL06tz82U6C+sV0+RqW09Q3uEubeS+GSHGbbqGJEhng6KJ7YRuehrZiGEV81wWae1FLnY7Qx4gkjn4818BtxtXqTH5OYvsV6HnObMvprkJ6Wdzhe5wtN54bSTzMwBu2OLrS6OOYzhcWPh58s1D4yRja9E79FWg6b5cgPkS8/+/rwWm2X0e32Cx9VP955OKck+Atg5DWK+492k7/BSWer5tXhmzyJjW6nc/2aRPPOLIunU1JRZmvXqJj3axOZbaTXwXhk3qIM0a2wKjj9d2rX9RKq+NMuqap28/O9ugflW0vr83+PzraTzOW++lV1LZ8jkNR3krnsHSCv3MxtmyJSDQ2K3Y2nWq4+ct+bvwdcw8Pl0c+yzp6bPEc8vxt2pcPEAKfNfzwAVKxdJpxGxz2f7+dlriHWvphh+M6HNsiPNZ1+EVQdbR/hzC1nfwek3y9aYPycS3/s9rov9vjq010AH6eur2yjr3n/vZt/3Q+tgmtz+3pyEfz7oMGkbx4+J/zM/Umc1+U5ldky24f5nlFMvMc+YGt5v0R4lnsnfqyBwH/p3ojEZ3lOO4HrX+2SadBoXWzcbx22Tvmnlcgn+e4rW96zhZsHI6O96OmRWr4I0jsMrzP2jf+fyfXesP2tu9z7jtdd3xz6+51D8PVAXUv75k8ax2dvI+HkEAEB2I7gCAKhVmYwhv+qVUt/QKC6nYXRrGo1ArdomW08bb0pldL+ABod+E6Uk0fGuXiYlw2P/h9JlN7gm+lwaQ6Olfc5JjiEzlbLDO4xTsmPV4MamynCNyvn50snMJpcvrTuWp7i2p0u7VAEkpY0ZbWfI5NXlMnl6gTzoadSrjXtLbf/UzDQTOcvM1sQWs73zvuq81gZ3m6++6+QwcacbzQX85+fOayIfWevNXi5y9/PWZ9zh9L8Q+dDM1sUx15jebynuUX0m+QXfEwmkfU/HCrWPAK3aej6f6bPIdkBeLv27XPOj3pJnSiI038rlKfKtHHxftn5aIK28H35nk7xzQZr5VgI+v3FdGvlW4j5n8q20r5I3Zk2RJfk3yX3/WeA5p32ypPRJWThuYPxzvvNImd0xTJ6v2GdPjZ8j2qC+QRsfPdMDIvdbx5bZUE9W3awwsxnpIK1TVL+f1kFgo71VtyW+72DCe18blMUXHFg9Rxb29/0IwEvv/YDglE5DSxIFidIY5qkm36mMjikJ3zOmpvebBqLj7jdfECPxPmoiWb1rg72vbtL9u03aw81m+Hc9rf8V28L9XadGz2RHzDNej8G6p5IN73U41edjAwCgviG4AgCoXfkF0iNsg7z1P93tkvxP88bt6bVUJF9Pf+Ub0OCgk/+Xhx5Je+EkO8+UDXnpn3PonkCu7n2k07iJcQ1Zo/2NFMmONY0Gh5ix9bWhzZSnEvM/766Ycb8Hyug0GxD1l+YybKSI7xfetXVv1bawKVrSccoxzqudD8aa909t41rWjU9FShaJXLPGet0t8sYXIv/y9jIw6uKYa0XcPeobb39YqSlPX6b3dM3EjmmvOQ28Mn4WVZXLku3d5LzmZtmjIiDfSlXlOpk7faL8cLDmK7GOpetIWeJLeK95Ws47Pz5opVJ/vlI2vBqfbyX15zbJ688vl9H9+srQVwvkkva+pPbam2bvvbI86BlvTW8lec6nVgfPEdNLyv9rfj9tqN04LDZnhJO83tuwq8GgNBv1M/qVvnJ+fR9Ut/6G+2R6XBzbI3LVKyK3p+jh1WP8guD9+nqZxUodQMr4O2XJ7JjSdTj+3Eq+j8wlq/dUP6hIIu3gaCZ/1wvx/fGoyf0Tz+k1tDFhHpu6luzPnyN9bAAA1G8EVwAAtSu/m1wpyYfoipf8f7g7tUmvBSD5ehn8mtSStBdOsv/ZT/k/1rVzzsnpECg3y1bvrzinF0iZvyEs2bEma4QziWjvlzGeBoxp4hulI6GK98TTuGP+x/6VPp5tpTH0mbGqeIa0W7JA2k33J66tnXpu4w6ztVfkHTNbE22Pc17f2+e8puWQeU3gq6at+aICkdnfjJ/u9wxn5rXxLev9KpETrXN85CKRF74t8peAdevimGuF5x51giITRR5w7yFrmjnEvJuGGt7TmXISHS+TvpF9rpGy8bENgRk/i97ZJCsD3z8gW986RS451w1SHJBVvxomPyx9V1r3vV0enPGUlC1zjqNnTABmn/W50+X89mYxIs3P79ksq5qfK50iw3al+blt62TVjTPl7fJpcuN7D8n4P/q+2Lt3yY4z86WFWaxddfW8TqNRV4MwSwpkqvsMt6bCuCGpnB4NSYdxNHSYMenfLfH9klANGsa9ug+WSZvMkGvW922qpO69ELY3rCP1n/kZf6csmR1Tug7H3w/qSrJ6r6uAjlcmf9dzvj+xw0emVpP7J5AdcDV/BiwZIAutv7tl1rMtnHT+/DlSxwYAQDYguAIAqGX5cs2IDjL6Ad/43kn0uHhIgl9iOkNMpP6f8VTrZfY/zsmGxbIbqBL9ajGNAFPa55xfkEG+B5cGLGL/hznuF8b2sSbonaLDXiRpIFj1h0Vy5RJ/Hox0lcvSkugvXPWX2KJDmWTw63JtUJ/aVsd41xwcBTLVzb9iqfm95Tixtch5OvOFSOkGu8j2yVaREs9yujqbZBMbd4n866AzL/8Uee5jM+/h9jh5yb1I1vobt8UHeS41F+oV671X9zrztt0iL1jH+IlZ9HvPvHHe16zpNJEmjUW273HKvOrimGss5h4tl1LNY1GDX47X7J7OkN3ArMNGJRmvPtNnkfp0b/D3e3+5LNkSzbdS9coUmdHq5zL93iLp0f4UadZUgy7+AIwlQb6VtD/vy7eS7uci+VaO7yb3PXGvSPFD8b+eDv1r8fTU1nMkng7vlaKHhQb8HhB50PscD3hOOnliUgzdY23r/nEdYnqKBA2bF0TroCQuX0om9O8IYueksL9v16V45qeVe8svjT/za/KdyuiY0ld391uUDqUa+u9EKSUbtiz2z/xQ7GGp0qnvDP+uZ9HvT1xP32Rqcv+kww6qjvEML6ZDqZrZ2pTOnz9+cccGAEDDRnAFAFD7NAdG/0VSmGDoAOdXcp73ug+WKxcPjGsUWlU8UEZ3vDm2oXTFRLnf92s5XW9hf38C1VjO/zjH70Mb5hP/+q6bDNHz8DTW21ZPkUJfA1WsBAEmbSRzt5XuOVv/E3t7R/8567BH6Q+ZlZzT0DXUn+xWj3XYZpmUpOErPs+NHlfAEErWNSuNO8+RMcn2tYHP35hk10Wqc9TGwsUDonlWrPp6sO2M6DVN+97SQFSSoS6+InJ3a2f2lXdErvizyI3WdNV6kdlbrTI3J0uaOrWzJp35zNnOjc+LXGod46sBw3Fd3NJ5fce6QFdZ611jrf+jfzplXk06WseoyeWtbdz/V2s9zZ1irXvpcpFHrGMu3eas59fZJK/X89LPXLNAZNguEX9qlbo45jBKfEMjOfeoeBIKny7t/IFCe530hwVL+56uTdpw6G+ks58x3udOps8iiw7VuHiZvOzpcbR3w3yZ/ODTssMz7Naundskr8mxZsmyZ7PMffBW+en62IT3dk+Yls2cHiJV1nHvtkvT/rw/30p6nzP5Vs4xwRbre/6b/y6Q2Q96nlv550r/T0tlxktuliDLwX2y9aUZMvn5RF/sNIX5Myptzr3lfQ7WjPZUnGZ9eRP8olyHXOy3TW73N6J2Dxo+UtedGPt9s3ucBPx5qev678tUdJ+LJ8rUTenk0bDu/fGb4/+Msp/Z/p6KUcGN5Vrn7mdq8J3K8JjSVif3W6zA+tHnpf+6JxEUANLt6hCd8fVek3vd1LfvWunfJYf6Hs6Z/V1P6dBXSXpk6H3e2fteTe6fANbn/PvVIE0nT14ce0g9398rtQ78Q0gmFBQMSufPnzSOze41Gvd9AACgYSC4AgCoE60G6S/hxog8EB3KxJ2WXqy/vvX+ujxfrpm+Rvq+Erve1LYL4n+h22uM3C4T49ZL/UtzbXjSYaNi96HD/yT7rH0eFy+L+Yw9tFaqX/l1v0veHrFNCr2f018fR84n/XPuMWqB3dASXc8Z9mhWyrGKrHOeKfYwR959xI2XrcdqHZsmV46sYzfCJe8B0GrQGF996nEtkEn+X1cOnxZ3nnoPxNS7dQy3vxebiNpeJ9k52g1Bi+TKB2J74+hxaX05jQFp1rPmIZDkQ7Gcdr7I7A4i5x0tcuBLp/fGeSeLPNZX5GJ32LB0tRD5hbW9S7WtuFrkI2u6yqq3B09x3vY67TxrH6eJfLWRyCdfWAXHWev9h1Wtns4ArisKrXXPcI7xI5M7pc2J1mXpLTLSO7KTRxvrOO4+SUQ3p585sZnIE5dY61ufi1FHx5yu4TP7yFLPNYxvKLautfZc8q6j37klY9JOSJ/2PV2rrO+p/1mhw+P5hjPL+FmkAcdRB2TKFRfIhVfcIEXDRsu8jy6W2y/TX0JHb4pWPQdLi9Kr7XUKC/vJiN9uk/O/e5P09ye8P6ubXPn30dLbWm/oL8ulSgN6lvQ+H59vJa3PHVwrK7d0l/NN0E7ldf+BjOs4RyZHGv0K5MZH75VmC4fJhd36yRVFg+Ta+56Tre0Gy33fTPXnQyoh/owKEpj8fKBsHZFGLym9fvaPFfyfD2rE1z/n1siDvj8j7UmDjIEJuKONypF19f6zvjex6zp14H9O2+umUwcxtGFapFNcjqxg9r3v/47YvTKT3ftaF75hMe3vc/QzGX+nLJkdU7pqdr+VRHJj+CfvPRNw3e0eUukNg+gGMdzPRoMZWu/+v/ulea8nofU9S2K/R/p3hLjhq+z9h/+7ns36runQV4HfHzNkqXcbNbl/4lh/B/LvV4/5vu7mfRX54VJ0neA6CGCdm/5QJ/LZSFDIqq9Uf/6kcWwV71nbSyNHHwAAuahRtcXMAwBq2ZYtW8xcckcf00QKzmhrlpBYuUweUSlDQiTPbcjsX3XqcA9xjTH6K9I50np6bTQC5ZDV82VuflGt/Co4U68uE7n/Q5GzWos8cb4prOcOxzHrr2JL20yLbWgCcp4+q7VnZtAPCML/eah/JqT3Y4S6xp/lAAAAyA30XAEAICdVyo5NQzxDJiEp7QXzSv4RDawAQKz3ZauMiQ57WEM9Rjk9T5xefUfQ6mWyMaOk+gAAAED9QnAFAICcpEP+lAaMCe/+Erq2xvnPETocCIEoAPWK5hGaGJ/Xwc7tMVIkzWG1vNwAS+g8KbXF5EoKnZMCAAAAqIcYFgwA6hDDguFI0+GU/MlOh89cw/BKAJAl4hN3d5NJS5LnxAIAAABQ9wiuAEAdIrgCAAAAAAAA5B6GBQMAAAAAAAAAAAiB4AoAAAAAAAAAAEAIBFcAAAAAAAAAAABCILgCAAAAAAAAAAAQAsEVAAAAAAAAAACAEAiuAAAAAAAAAAAAhEBwBQAAAAAAAAAAIASCKwAAAAAAAAAAACEQXAEAAAAAAAAAAAiB4AoAAAAAAAAAAEAIBFcAAAAAAAAAAABCILgCAAAAAAAAAAAQAsEVAAAAAAAAAACAEAiuAAAAAAAAAAAAhEBwxWPv3r1SXFwsc+bMMSWHl+5X96/H4QoqAwAAAAAAAAAARw7BFaAB2LBhg4wdOzZU4DCTz7h27NghkyZNkieffFKqqqpMKQAAAAAAAADkBoIrtWTp0qV2Y7I2KiN9biO81h8AAAAAAAAAANmA4ArQAHTu3FkmTJgggwcPNiWpZfIZV+vWrWX06NFyyy23SF5enikFAAAAAAAAgNxAcAUAAAAAAAAAACCERtUWM9/g6FBUZWVl9rz+ur6oqEgWLVpk/+re+2t9zRnx9NNPy/bt202JyLXXXmv/st/l3ZarsLBQ+vbtG/j5k046SUaMGCHNmjUzJU7yeh0my1uuZevXr7fnXXqsQ4cOtY/TK53j1MT406dPl48//tiUiHTp0iXt3gnueSbarrfugvbl/5ye76xZs2LycrRp00Zuuukm+zw178czzzxj3nG49eoVdO7e7fjrMVEdpnPM6Qg6L6XH3q5du5j3/McSVJfKrQvv8aR7f7jH07t375i6S3Y/BH0m3f0lOoeg6xR0PXPJli1bzFxyRx/TRArOaGuWAAAAAAAAANRnDTa44jYSuw3V3kZfb7DBbWBu2bJlpKHeDTB4G4W1bPny5YEN9n7uvpS7TaXHpPvzB1eCyrTB1ruvdI7TbfDWwI53v2EENbgrf8N/0HrpliUTFGDI5LyC6rU2js8V9Dn32P2BNf/1DBtc8Z9Hsvsj6Nzat28fsx9X0GeC9hf0fQg6h3TLcg3BFQAAAAAAACD3NMhhwbRxWBs8tTHYbaTWBnlt3NWGb6+VK1far/3794802vfs2dPuFfHOO+/E9UxIh27nrLPOkp07d8oHH3xgStOn+1dbt261X1U6x6m9Ez7//HO7UTydAESQU0891Q7g+M9dG/617rSRXMsXL15sr+ceq9L3tKFeg1B6DTKh29D96P5c2ttI6fVL97z0umt9uMdRl8fs0muu18NPj0X3r4GG2hB0f/h5z/eqq64ypZnRgIoGJFPVkXudBgwYYL8qvRd1WQOd3msKAAAAAAAAAPVZgwyuaKOzNi63aNHClATTxm5tLNYGaA0quLQBXxuFtXFet5MO/XX/2LFjI5N/CLEwNLhw7LHHRgIz6R6nGxjRhmw9nkzoNv2BIXf/GojQ/Wm5vh8UxNE612NJ1vDvpdsuLi6O1NsjjzwSM4SVu2+tk2SBFW2499a/9gDxqs1jTsS9Hn7uPnft2mVKasZ/fwRJdr6ZcANEieoo2XVyj4HgCgAAAAAAAIBs0WAT2idq6A6iQ4VNmjQppnFeAxTaC8Tb0J+Id9ikCRMm2JPO17ZUx6nnrMNmae8JPR59XwMX2vAdhuYMUW5Dujaa6/bdXkAub6DHFaYxX49Lh4xSd999t11v+qoN9H7JtquN9hpM0d4Vbv3r0FpBanrM2SbofDORbh0FrecGgwAAAAAAAAAgWzTInCsa7AjKj+I25muZDjHlX04m0Tb11/xB+VWC1k+UP8NfVpPj9HKDPt7E7+lwz0kDKnr8zz33nF3ubkOPd1aCXB5uoMPNz+Gu683r4XLXDcqv4j93baBPdA5BdejfdphjTkei8wo6Fv+6ia5nUH2kc38o/z7c5UT5VpT/Mypof8pfR2GuUzrHks3IuSIy79nn5IVFL8q69Rus50btDH8HAAAAAACA+uOkk5pJ1y6d5YoBl8ug79QsDUG2aJA9V/w9LxLRxmNtHNbGX20crq8yPU5tBNfeHGFzv2jDuOb10ODK66+/bn9ehwpzG8zd4cf0WDQQ46VDX+l67jWoKffc9Vj8+wrjcB5zKrovDUIEHUttSXa+mUhVR8muk3sM/p5PyH5/37RZBl03VO4fM0FeWb6SwAoAAAAAAECO0nYfbf/RdiBtD9J2oVzXIIMr2sirv8ZPJ0m5BhF0WC39xX6yRuhEARttcNbAgw7ZpUngk9EG73SHGvNL5zi1XBuyXe6yDskUNNRWMm5ydq1D/fz5559v3nHOWRPra9DFTbSvtK51fa17vQbKbeT3J8hXuo4el24jWd2nOndttHcDQYmEOea6FuaeyZTuQ+tN9+H2PEqX1qW3rrXXivaA0p4nyerITWTvJrZXev/psgb5CK7kFv0DdOjwkbLuLXLpAAAAAAAANCTaHqTtQrkeYGmQw4K53KGM/LSh1zs8kTYi6zBY2hDt5R8myr8973Bb7hBcXlruHRbMux936KegYZi0QTpo2KhUx6nbmTVrVkwAQoMX/iGe0uWeU6Lhstzj9AaLvENaufzreeslaBsqnWvkPbdE19p/POkecypuXXuH1FJB1zPRukH3jKqNYcFcQefr3rfam8n/GXd/GiiZP39+5F7y3wNBx6CCrlOi+ydXNNRhwfQXCgRWAAAAAAAAGq6uX+8s8/4wyyzlngYdXAEQTlAwB8k1xOCK5ljRLqAAAAAAAABo2B6cODZnc7A0yGHBAAB1R5PXAwAAAAAAALncTkTPFdgSDb/lVZMhxHKF9txYv369WQqWyTBi2aKue664w5d5h67z8w63lw0aYs+Vbr3+n/UsIXk9AAAAAABAQ3fSSc2kfMVfzVJuIbgCAHWoIQZXzu58gZkDAAAAAABAQ/f2hjVmLrcwLBgAAAAAAAAAAEAIBFcAAAAAAAAAAABCILgCAAAAAAAAAAAQAsEVAAAAAAAAAACAEAiuAACABqI6YAIAr2qpro6dgCMp/n7MhXvSPQ/vBAAAkH0IrgAAslhd/Y95XWzXv83a2q6qi22qMNut7X3XNm2Usv4b00jlLMcfu3edoPezhXPs0XM4EudRV8dQV9utqeh9Ez021B5v/R7yTLVR395tRye3vGFcy9jzbhjnXB84dR1/n8Xeg/4pdt0g0c+mXvdw0mOy/us5F3f5yHDrx51qS7rb9a/nTgAAIBs0sv4Sw5/cAFBHtmzZYuaSO/qYJlJwRluzlN3O7nyBmQvD+R9rh/+PpUbOfxvpa+x63j/B7LWi/4msr3Q9e9G8Fy/sdnWbnpXMfhzuPrRM561X59840c06n3G3nY7U+w+3PUf69RBlreT8G7dObJ3HbjvKu671jvetFGK3n4zZt/Uf/cfLqaNGkW1F69V61VnPPsLX55ETcx4Rh/c86uoY6sO5Bal/9463ftSRq5va4Nav/WpN3u+y9Q3WSrbr2anq8Oeq243Zts7rlnWDNdx2/afn7rzanFN3/+PUAepEzHMjQuvbuQjOfXnIvG39R+9DfT9yTwZfm8Tb1Y+GvZ7ebaiwn/dy7jXn+GK36xxX4nNKj3sv6/bs/9rzfjH14/wbEf2Y/kffCd5GMHf95NvV/TvnGb+ey3v8yc4lkeg5xoqv32idxR5J0L7DrAsAOFxOOaW5tO9wjllK7LP9+6Vix3vy4Ye7Tcnh9faGNWYutzTI4MqcOXNk/fr1ZikqLy9Phg4dKq1bt7aX9+7dK9OnT5ePP/7YXlbXXnutdO7c2SyJ7NixQ2bNmiVVVVWmxNGlSxcZPHiwWXL49+vfH4DcQ3AlFfd/0vTVmWz6Yv7fTP8nUCd9q1EjZ317PftfXdHh/P+c29ig67j/gx5dR9eyizz/4+fs07P/pNt1P2e96vrmczZ9sYqttexyXVWPwWzQLtN/nf/YK9rr2v9Gtu3dRyK6T/fV2aa9bcO7zfS250hdD97tRjnrRtf0rvf/27sOAKuKq/3tLrAUWZAuvYMKYi+AojQLtmhMFIwRxJqoqImxReyo0fxqig01auyJsWssoIhYQRAQgaV3Fok0YYHd/c93zsx99y3vvX2rFNH5dufNvTNnvjnnzNz77sy8e6/XwVCOlwVcVoKTpZnL/ZhABKYZrB7Lr8jGLW1zPE7HVHpaGUNcpqK6fgiI20uXyZbzl9myPezYVjr8EGxLhbhetm2gLjtCr4QOPra6TYXt75/vD/qVdrm7VEpd7Npf/Zyb6/xtceVg7VZWWoZSV4d8aI7nzZV4e7fj9oK3V/+83ewn/Fd7f5x272iYr53P9d+fz7yvLU+D9HmF5Gl/ZD/P9e2S3DaZeH07Ztee5HCbJFL48ontysB0okZeP/IKD/+dfqlsqhheV6+nB/ks9kilQ7yUiZu86sJM3dcNJsfgS1LOtiO2jLyReEIu+pBM/Xe+kGA+4abFmaA2RbEER0mQ0/hsz8sw9uUSKuiHq1MLCLKTzUbPgICAgICtBy6udNu74nmYGjVr6gLLpInjd8gCS1hc+RHDL5B06NAhWhDxaT169MDhhx/+ndLifKnAxRbKnn322SgoKHCpAQEBPyaExZXM8AO08hNmCjdY48RWrhukaY7kl5aXFXAgl5DlwM6P+fx0PQmZbnnMoUSkg/BVxKuDRQmWnZCN5FWGzPqhCpCTBZLkBKZHjFtin2aFU0M5Ir5E/WTWkp7XTzBGnJng+SSk8gNp5M8mF60Oy6FcoiwR1e/tkb9ItjyvwMvLB/cksK1ETrctxSNRKlaPL58kmYxIP41Zv6ZqnVaeuqqos8f5VfaV2cvkWj1W3w8T5lvRPWaHwdmqk3Gub2wjbCsdfgi2pQb1SdaLmmlvoV7bte9QB0bUgdvmI6lZFbL6qYel7izwbV/K8xPPIaUlFku693FuXp6eozjpTAMr42ttM4aIl0EyhIJ85M3JzXN17Tx+ywbet+y/0cKSgFaqve5czpQfm+07Eupn9jkJ9Du3FVEfM19rX2S/VxnNlmD93Z/v4u1SEW+qMqlBjhgfKxdIScfl9irkSQb5LLi+xkAIT/zYrRxvTFfddroqh+fTlKhOxtrfo+Pd6eFtkqDXk0lq2E48yZdieZ+uaY4zNa/tU9JkWJ7yTFcRfur3hi2i+TZjbHnpoPUpJ4PTQdKtmOng+wCRJOfOqQrJ9nLaLgLLcdwZZJVb67E6AgICAgJ+OODiSu8+R+oCy6h3/utStx9+rIsredcJ3PZPErw75fHHH0f9+vV1IaRKlSp6F8rzzz+PXXbZBQMGDNA0ok6dOjrg+uCDD9CmTRvdZ/lJkyahZcuWaN26dSS3dOlSXTjhHSy8QyUdxo8fr3euNGrUyKUEBAT8mLBy5Uq3lRkcJO9at67b27nxl78/4LYywwZ0NqhLTJbFJrYkNrjJeX5QlqHEyUrsB3h+kMeY4znd9emMNZfgYM8GfZYlecJRIiETr0hKsGl/rx911TLclyAfku7qk+AXKTyn2ee5JXitokFoQrfUoLzndvUrt8U6uat/Ul7/yaX0gnScqq5yZvKDyukneSgrOrj6S1TOZHUyRyVJSnnGJhtvY9WXdWqexSrnZEU4ytc/lXH8TtbM4mcmnyWDXPxUSBmWS/iHdTi7WD911vrjSNSTqJPl3GbEX65UlrIJXYjvICsfprvF6nfLUFG118QcXF6Ml/he+m4rHbYVr2JL2WTb0oMcFkSvSvYd09+D2/FgyFYPljE9XN3UweshaalgelTGD5WRrQwy80b5bHfZsPNI8vmJ1eYgVycktS9kbRshaSJovrO+5QsqVzS56XmZneAxTh8MJpatDl6RbSWbGb6P0J92XMX8KhCrk5i8D7LVIb2v4umV5/0uqLjdjDchF5eJy+nnd7aN5eI+j85nEuyqxwLTfJswj6nxPu6DyVIkEy8L88MjUY8FQ/wuYTvGjE/3k2QTZHEdDF4uShAZt6FIpCuYyX9nj/FlB62Tuvl+64KvQdjs03Eyx75D7DqH1zC2LWn0M0sqn236azn5UH7vB/9dZP5hCuVtu8Rdl6XlFfjrHQZ/HZU4r7E++Ve3qGOc/ul9o7ZLIf8dZNxOB9FJCbW8bUbyrC+Ss22zkzon5GSjQlmF15mbaXQNCAgICNh64F0r9Rs0QEGdOmnD6tX2RKbNmzaJbENUrVoVc+bM0rTtiQt/c67b+nHhJ724wkWUp556Sh/7dfLJJ6NevXqavmTJEowbNw5NmzZFt27dNM1j3bp1uphSt25dXUxJtbhCFBUVSUedg86dO+tiCzF16lT89a9/xejRozVwn+ACTFhcCQj4cSIsrqSDDdQ4GNPBnx/YMsgg1AZplOHwjKM0GwlyAJeQs9gPQIlI1su7MjYwpIDxmUiMk0H5NqfnVW6JvLzXg0FlRZiBoByhSZShjX6QS/tYr+ST0unk74zxIRV8FVo+8ttmlFBfr4cq7Xg4AcNK3H56ZPKDq1QQM0s+XNupTazf2i0ub3L8tzyTN71VVicjvDxtoh5MNznzk9gk6X6ywOqhvDov8ldm+1QUXbvsicuGXYhTf/lz7LtPNxTOmoM1a9a4sgzUwetJu9iu3qdWp9YiHxormC6fTleNnV2mp9Vt8LL2YWWcnGZZfgLMY5StrAWvv056MKgNkfZOeU4Ken0ZK0MiW2H7zOOH52ewLMtPIJFfeR0kuPKaEylh+9+d9/vbVlHfMlhd2fcdl67//EjW4bvooUVodzk91F+e04HakM2naeRkIlnNSpQxMI9RZtnsfGbQ8lnwaj7lnH3WtvQzM8QeqTMR7JfWKs9sx5eel7H1GXKf/eBYvHD35big364Y/9QYLCJntMDiypBL+a1cxJ0EX0dMjnq7tGQkZOXDZF1wWeXg8zLLZtUWWja537D/SqoTEDiaBJvlZdaB+9ShnJw/11OC6YKEmrafJO9CgteQlW0RyMFIYt3est2MTYVsK5Zf/hzl+b6rbYnj1Hxu/UJL6af0NBXX776yA3HjK6/i0ZuH4fQu6/Dgy5OSFvwMrDczLxVRaYlV1odytjHyeZ4n+hGH7xekUy7SUVaLunLUWWKt29I8uMnFo8MO7YlLL/6tjMFPRPt27TBl6pfYuGlTZFPl2pbqsF5Xp+rg6ozxRZSan/CRXu+46xLmeVBcecnpgytb/rokug5kGZeu/Kl4VRHTMZITPexaztVBOSdrd4Vkd1ePtz3JNtlm/aqBFBUGjSVJPkzHhKwEb5cKeLk4b6xMOVnC61iRrgEBAQEB3x8Hdz8UHTvtjiZNmmYMLVq0wqbNm3SRpX79hroYM3PGV45l++HHurjiRx4/SXz44YeYP38+TjzxxJTvPUm14MHHd2W6EyUduJDyzDPP6ELKDTfcoIHvbwkICAj4KYJjMAt+YOkGdW6wpgM1P0GhghZzEGeDOldGg22bbLI8OXw+Y+Xl8FL+ZWRssdOBE7UV8Zqusp00EGVZ6kpm96f8pLe6NE84tuRluhPOGlqDlXc6lJzSCDd/0B4D9rNFET/p7HXKDNNRhNW+Lf0gIaYr1WVsdrhAHVzwbViyWXTZzMmCzUnpXjct52MGlbVyJSUukEN5fRq341xuwkJN1I+UsLF9DiZP+RJPPPUsli1djmbNmuLIfn1skkGD2WWhFOc89ikWzp2BUbc4nXwQPbR+1Z22eL+ZHeV1N19aMFkGZyvtUU7bVx5Xv3HSz+VlJch+5DeV87Kyr3Va/RpueQ0LxI53bjafyUfEq7719Xu7GLawrbwOtp9a38w6kEs+VFb7mshn9JnK7Tjb2K8szgzzA0M2fYf6Ug/R1W3HfeBlfTvTJiHOqIfmORnjs7r567QSGUj5ONJB6+fxQ79W7IfK9EmTr9hnRKR3FrwiaEd5zo0YPWc6Fs0vxOIFszUsGnWL1ct8AfXNjjfWFyQ2/c9E730aKE/+HgfjxCRTRFZVlrLOd9rXyOl9S39qu5LP6o/kvG8l9rLePpO1bc8XyVNPDU5XDSYft83aNrn/WsgE+o12Gfftb0+X/vsZnhpCXqeHC8pPu0UuG31LS4yTaZGcylhfTOUHs3Fr2WZQ2zS4erRO443sYrrmJ+r3sl4uoQdtsXaojG2RzyRN7dJg3Gc//hkWzPkUTw1O+MCOO24PQPc9bPzZcN9eGEq7nenetmx4ma/yXh/KlbNN7ZFQRr11W84jkreZ5w+eS1ysdbCNfTuLrlY2zmux8VidVJz30IwZ+wGe+/cLWLNmLTp2aI9+fXvbZLyZVUmYDyI/xIJPjxzmYHu+HOXiZdz3lFwn+rTyfdH7V9Non+ub2n9inMm87polpovuSRr7XtQulFX5ZJ0zw3itbqtf28YFaxuvI4OXcXLOBpPzdkks3x3RvvvhjfoglaxL97Z6XQICAgK2BXJrtUb7fXqj19E/w4DjXDj6WPTqcQBa7Vpru0x279K+L46Sevvs03yHTK43b9FS71rhu1P4DpVMgejYseIX3gd8N/xkF1e42DFq1Cj07t076QX1cSxfvtxtJcA7Vcq/vD4bsD7ewXLUUUe5lICAgICfOmTA5QaAOtirXwV/u7sDpo/eD0vG7o/F73fDl083wf3H56KdjT5NvnQXvPf+vlj6wQFYNu4gCQfq9uIx+2LBu90wij+GUFHjvv2BLpg/qhluYz2+Tq1fxSyobO0KeI1PdZWYg8f2+9TEPx/pgLmj9hN998Wid7rg85H1ce2+NmGf07shpkpZcpBr+YcHo+ijgzWOuEd3wJO9RV5XALKcVqC+LWpi8L+aondf0WnWeqzCJnz7USlyj6uL3/2rMbqIDOWyQYV+kPZYNGYf8UNHPN07MTlQdl5zLHl/P5VZ/uFBGpa9uycm3V0bp9ain2ywroNw+q1mHu64uz2mj9pf+ZeKbyY9LP7aR/JF1ibbq+DZV6QPCO9753PQboED+kMubWV+HtMCt+vgXXSIdJePtOCvJ+niHEyZ8iX++dQzWLp0GQ7Yf1/87MTjNN1Y+Htachmvoszq36x6uEkzN6FgkxRmmz1OTfI2JyahIt1FRicxOPFFeTc5EU1262QN5SjjZEUH9Z3KOj4NVk7lKas+46SW7TPmRJivu8Qbwr4rIXrsm5M1+Ri35jnbKKPcFejLOK6vcrr6GSIdOIFEOZH3gfkiW95nrHNH20Y59oWKYTL8zKbvlGw2HfWuM52INLlID6+v6mI+MD18SA3WTDnzrXFe+OhHmFb4Eu6I6qdtwsnjjf2MsvRdBj9Qh2z7pPnMLWyozunhbbLzaWZea+My5EiRjGfJqN7seHWyWWS8LxiXlY7EOxOKlG71F+/hBfWsUpLeyZhfvE+Nk9tsL9ZpdZObbWyLzJSJT07Lvlt8tr5OWZb1siYf6ezq0/Oq6KDbTIvzaTAum5w3nbMB/WZt5xKoW6SD21YdstRXgr+zUmW1vMnQByn9oN8ZW9s2E6J9dmyY3hGn6kk7yOv7bryNTTaub6nE2rYsxzgb20RO/UY+TWOgnG2LSU5P00O0VZ21b5a9hLFTOf4sRtG4d/GgyjLPB9M3E68IxPiS/ZBkGwPzhCth2wDc9MZHmPPJSJyjsk5Oz1/kSoRIB5Er7wfme515JH/w4cd47l//0SdDHNHrUPQ6tCe/qO1yKGsIV+Q7clfFUy/Idd8L9XF2VBczLVLwekCis69vj0Xv7a3XnLze0WsYuZ5Z/P7+WPheZ7neESFy1JLrTrleW/x+Zzzbx3xmvirBhbfvrtcli19uhHO0rlKce2NHuU7ZNwXvfsLbSXi5iCR/cg21kNeIUn7ZB7yO8teIB+k1Eq+75o9qjlv1AkZdkx2c3Qwd86rjrqat8VmXTvhkt5qW7vsO+6MPZbm4cbcW+KjLHpiw156YsEdbvFQvH/2kP3p77VFnYndZXkrZ/jx+xSfGx3aJOz0gICBgayEfDbv2R//e+6DTbtWxaelsfDFhEj6X8EXhSmyq1RxdevZH3+2w4JGfXx15ElfNq2YJ2xk1a9TUeOb0aVi4YH7GwAUYvm8lYNvgJ7m4wgWSN954Qx/ldcghh7jUBHjHSuPGjVMupPBxX7xzpV27di4lICAgIOC7gsMuHX91qo0xz3TFSfvVQZ1q/qspDwVNmuDoYU1wjuzxudN+UJgRlDNmJ0+wEgb9V8gYX+ATTDYzTIaTEpzEOOaMZnjlns7o06EA+f56qkpVNGzfHGdfUAe5efbs/4ohA+zY42ayHjzvmScXSI3xsz/ugXMPzMWmbzehyjXtMOKKTmheswrq93FyFcDMrowfTMG0ctVqodF+nfDnJxriXE6AcTKFca2qeO6JvTBw3zooiPmrUYfWOO+O1vhzJ5MtLctHI3uaJjrsX4D2TNMAKVvfMlRZF1SPNLokwfzLj+kzCnHdjbfiNxf/Di+89KrleseTT4Jn1IkoThRwwsBNRPlJFZuUoH3MY7qbiJIQ/dKX6W4yXe3T4OSdbIJP8qRuz5mYpDIuHxLlWCYRErol9Et4xvGqPTZ56bkj3V1Z23b6xNOjej2/01ePiWx0YP3sY/Qr9bF6PG/cZ76shYS+29s26+c+VAAzLJJM23e8XZpuaRpc/SqjOrhA/2qwKtJC86kz28N80rJFQ9SR61bPF/VBNyHq5exRgE6HFH4wWbEhiz6px7wq6kN66LlB5G3RMRMv65cgZXJyhqNv+z3Qok0nNGv1HGYaVQL0Q9a8Tl/KR34uw72DD0LTFm2x+3Ej8AFtUb8mgvlM/EPuyFfkYprE2gb0F31taaqHblvM+hN5lh5vA95tlNDXHRfKz/olpn3KlSgTyThb5MM5pQKomNimfwaWJ5fqSt5IR8Z+O1F3eX1tUVF84eS9npruy7jtBKfz61a0jWLabtpm5HW6kI91uvrMXh+Xa2PVwdmkepdoqJxtLihn8j51ixyvG9bPEmEcrjpqd+mTe2CfCx6KZCI5Z1cmXrFIPsUm7wv6OoVt6h/1ietn9HdpA3TYraGMgavZHS3qG6ZbX49+SOHqNv9y2/HF/UCdRBs+Soxfux9/Oh6XXzUcw353JcaMHadp/jqjUhC7EqH8PhPi4PWABLeXFlSGQgdVhz3Poia6HlElsr+0tBr6da2hOa5SCVnozke2ynVfVpeIArs+pLC7jskAWkXZTtVq4qGmrfBE51boWa+6y7X+ov7Qc571hbKyPNzbuh2Orl8L0SV4lepo1qwtrmtaE4ezDbV9pR3LcnFfm9Syw0W2l/Yd9g0JkU8CAgICthZkrL1vPxzYuhZKl3+JUf99DeM+n4QFi2ZjsYQFM8dh3Fuv4aOpczGtcKF+821LfD31Fbz+5mt487PZ27yugB82fpKLK1xY2bBhA4488siUj/hiGvOWLVumjw7z4Avq+TL7Hj16pHyMWCbw7hi+22XChAkuJSAgICBAh4ryce2FrdGhGrBqWiFGDPkETXp+hqaHTsAZd8zChEWbocvcfnzm4xnT0OCgcWh48Edo3P0TlW9xxBfoc7/kpR19lichOMB0m0QK3uaHT8IR95mQDkY71sYfzmiMAtlf/dU8/OWKyWjddyraDJyBO58rwoJV8gXLgfN732CvftPQqs8UNO81EU2fWqEcM58ar/tMb9N/Lk5/NzFwtlABKPvGGvztmM/x17c3oO2pndC2Zgsc36cm5rwxEVceswjvjRKZtH5IhdR+aCR+aNLjUzQ9jH6YgVNHbenFGU98qLIMw+6fi+UbJbF+Eww4mUNr+7vixnYywAeKFy7C/ZdPVJ8edc40vDZvE1CtIQZeuyt6kNEpMX+e+Kp1AQbvwoG/hDZ1cECr9ZL+rebHRCsB87MFc4/fj0NpI276hcFPJlnQux7cdjTRohNHfmLJJnB1MsJNNujdAm6CySav4oFc7tFWnDylDB+VppNdEnTC0uLNnlsnusnnY8ej+vrgzPALG5Lvf0FsOrnY6WETKMYT1y2VvozlQzhtIlJ10PR0OsgGdyREHFqmnM/ExrhtcR+m5t36trG9tQLW4dTOBioWyXo9TQ/fdxJ1mh6JtvNpEqSMyqsOEju+bCG1Rp8e3pwETDfVqSSNHySWjez6ZMwG5WV9yRVGSLShs1e5M/OqL9QCHrhyftVFaaVLwFVaGd7y+qrXlMPzOWpNFznyOm4ty20tTwn7k0PC9pVfgpNN7pPic9HH93HqQz0Ti4yip+rr9HcypWWbdYI7mdtvmz62WGS6mAHOiLQwySQxlteQ0Fnr93qoviUV6CuBx6STjxbxXNlIdx/7uzYie1ys29/FNstXG+LtoYFpPM7lX/I8PHey3c6WmG1qh+rl+VLb5tuYssnyDGKP1BOvX1UuDzXD6cU/2dY+pqephJ4V8XJX7WNwsqlts0UTLe/kPVi/krlPEyGf00Htk+0kvSR2drNe04EM8e9iBh7Q5Q/qimHaGEw/Q/K2IXENkIuHbpgbXZ/dMIbXFt9i7PVyrSP7LXsX4jReR6k+DN/K9cd61Nm9DgaqbySctCu67rJC0iXbyZH7weGz9Hq0Wa/Pk3hbyHVP676zMejdPDmFSRi5HG3kGrFl78kqe31cB5Ft1Wcq2vZfhqv0nSveLz4uD6enRrkY3KgxutaRC+vib/D63BVYozKE+Z6+YTuwnQbVbYoDagEbVy/BY1O+QLcJk3DF9MX4Wq7lqtVvhqE1RVbbshSn79rcyS7eUrZeM5xVw3i1z1hFWmdAQEDAVkHDfbFPs6rA2tkY98l0rJfL1C1QVoyvZ3+OBYkT3zZFaXFxWFgJ+OktrvBOFH9HyoMPPohrr702KfiXzHPx5MILL8T48eOjPMrz/SyHH364ylQGXFzhO1b4KDLPx3ewBAQEBPx0wUGgDXDr1OANtesx+YVvcPcMGUSaAEa9vAYnnr4U13CgpoOz5AGajiGVhh+WFtvYAtkO79Lx6mBRWC4e2kwXg4pnFuJ3532DOz7jRF8eclcC9z78DXpfXSxlZeAstuXpBKAExhGZ25d0e5E9v45tUF4xyMIX4FudOZs241suZig2Y8P/yrCZ6azT/X1XaElXXJmcfvpZJp/qD24nBtP/fHgxnpi4QRLzUacx80RulwIcs38NGY0vwz/OK8JNn9rE6NSZm3D2+bMwfq3ItWqAgW0SlBvGFWFGtcY48CTbP/Tkemi5fAnensu9KqjeVpO/B2iF2ZMeq7Fs9tG46rHRmDJ3AZYtnocl08fgmcv76USDTjbQ7tIy7Pnrm/Hs6I8wb95cLF8yH8sXFGLG+Fdxx6lt3ESVTRrqhFPbY3Htw2/ii9lzsXTRXCxZOAfTxjyOq49rq3z+sT8sV9J2AK59cgxmLliA5UslLJiKya/djV935aQdJ8Zs4kq52x2L4Y6XOhQtXYiiU9ubKdIObB/yqu5dB+Fvr36M6XPnqA5L503HV5++gjtOa2cyfpKT22n0vUb1lXpZt9OBsml1EH/bEWR9JZ3P/iQ+07t9/KQcQybebWSb9mn9+y7I1HdYv+hLHUpvxnvzZ+GrJ4eibK/f4qH3vjA9FszG7DEjcWFX+kuQjRLSnbVX3/IqFgvnssXzcXoHZnTA6csWqd/Iy/fBTHlsiMiK36SA+eG4rdIn/cQqfVex0uSlH6xc1rz8xbtZqp8ekT2V4NUJZtovfzk5N+Fd8Q19R/uXLJyNRaNv0TztBcLp+5nvm+2OvwKPj/4Yc+fM1nILC8dj3OOX4GiV5bqUxCLXXuT+KXLzYn1y0rsP4Q9HGpd/PJy+e6rLIPz9zU/1R11F1HfuZxjzyFU4sS37iwQudFEH6i2yf3v1E0yXY0jbbe40THjtTpzRxWxyamuoHJZj/sen4a7/fq5+0/77BY8h6Q9qu+jJmJPxFejr7wK5YzT9+jZG7HUG7n1rvMjPT+LV420r2+bzlVt1MZ32PPP/8NYnE/V44Lt7Fk4fh9du+znau+84befStjjxwr/gvyI3f/48OX7Yd2bii/cexh/6W/v7cMeozLapTWxjkVW/7Wm2zZhjvDyfXdeDP9cQ+E5NXc76B75kn1zg+qToO+2fZ1k+baKfyC282je6nF4BrzmkrKwNTrjorxlso0wZzv3nBK13+ZI/4tB6UrxeT9wg5xKeW6iTvVvKaCvq65dLX/f9gTHLGKiYD9sReu3FYNdjXge9NtPrM5+voop5Y5djVaN66Luf7V/SsyHypyzDWF6DVc1BXcryLyqbiteuf3Jz5TrO38HC4K7ZTNau8bw8uTTdK5IBlOF15bvr1mFx0RL8ce4KXLuJ50zNTfhd+wFDNfRuUF0uH1filTlFuHOjpEn2a2uX4w/z5aIWVdG5oLrIsc3yRVau5dLKVkHn2sIlvKzIPgMCAgK2Fqqiadum8lmK+VMnYW0lTzC5tdqiS4/+6H9M4v0sPffplHiigkOT/SSvV1fUyMlH/Q69cIR7p8tRR/fF3s1qOymHpt01r1cH99gFh+p1Okldx+CoYzOU3aUbekne3jJert54H3Tv5/Tq3Q27OJGAnQc/ucUV3pUydOjQ6KXy5UP8/St8ef1ll12WNp/gIszVV1+9xYIL95kev8OFZeNc6TgDAgICfuzg+NCCDRbXrN0sqTVwwKCGGNLIhoAclkWTLH7iQC+i/JWUI3EDTh802efHwcIsaiQZQAKWjfNaukYyEO2xOx8DsQYfPLgGrzM/SdbKM+bA2W9bIIEglpa0XQGcuMkfUwcXvLIXfnNMPax8cy7mlizD6HHAHqftgxEvNsPhfd2A3JWpNLSsH9gblwb1QgpC9W8535Y4mhNrg3O8qz9bgRvXOh4XsG4DXpnAX2vuir36i2yf6uCaDEpX4dMZeejao0Dk8jBo/wZYPvEbPLxknWTmo1G7FDpsdeSj09l34pL+HdDI3+haqwV6/vY2PDZUeqjrl6VlZ+KPF5+Cnu0bIr+Kk6uSjzq7dcHAm+7Gte3c5BfTyw7GzffdivP7tU9wCgpaH4JzLx7iODmxVyK8/fHnh/6EC3q1RJ2ItwCNup2IEU88ifOEVwRVtqzs5/jbI7fhvHK88OX4sgrXRmXthuK5x6/HSXs1jPFS3z0x8LZ/4dlz27njjfIV6St8OsHndbg1vQ4E69cwOK3PBt18j/mME+rKvf1tO+eiwU6GKfqhsemeHFKjgr6jdjG2rOqNjsbYF36HAe3dRKggv/XhuPzW4eggx1+qQ6489Oj0x1VFoAxllZh+GPH9++Q/n8S5fEGW90s61zhEPtQ+3K+SvFuSS64mq4ybwK2YV/YdVVqveT5Xv/X5MrQ/dyT+dddQ9EnqwwVo0XMQfn0WFxI5GSm+O/IWjLyzvJycw9ofgYv/9hbuOJLfdZzQLkVJ27Pw7ydvxMldGiVk8xuhY/9z8H8jb3WLNmqkZJyFx9nXuyX39UZ7Ho/Lfz9Y7RJpSWQgnP7lgkey/Y3Q7x83YVCcu54cQzfei5sPdd/NJaJvm/T63vWQ6OvaQSdmFS1w8rM3iXzMF8J72rW34iLVhUozrqxtmWCcdsyV4uhb38ArNxyPLrsljjXkN8CePx+MsyMnUPZMXHzZkegqcsnt1hvDbroPp+lxwfNeZtsGDr8NF9MP5GSZdpfi5aedbSnOZ3LlEB2bdnxuCW07/+fsKmt7CV566rq0vGSma1m2tHQIhmWwjXdm0G9pj4kkUIrtIDpk6ut/fRN/kr6uuro/K7dt4WvSLVednv5sy28kYgXTmeBCW/kO4daM/+GLVXVx4HFVJLsm+nethskfrsWM5XINUzMfDT0xI7ZhoiIHzZBPy4sWThjrQooT0x/geBlXJpGZFiZj8u+s/QanrNqEt8iVsqg4gw6pUh1tOLH49UpcV+J9BRxYvS5+t9uutrNLTZxB8Wo16QqR/TqDbA0Msq2AgICArYzGaNSQ8df42l6NlzVyGx6AXkd0Q6tapVj8lXs/y9w1yG+2Bw49ojualFtgQe3dsM+hR6FLwTco/ELkpy7E6pLaaLZvL+zXNP4luyVqtO2LPoftIdoWYfrnrGs6Fq6rrmX3blzVSSVQv3N/HLZ3fayeZXp9PrEQ/N1hwM6Fn9ziSkBAQEDADwcyXJRBXy5ufmAhpspVRH7LVrjl2T0w5pYCnNdSBm46OWa/LrYJhMRgDh07o+ijQ/TFn3xp6KL37MWft7vsaODoYBNJjsNN9jCb+yrrkYJ3wegW+JPLBqqjMUfZ367G5I+sDv1TfgtMIxjRRhvZxke3bl/SNT9rWDkOoHOLJF5XhOdum4WHp1ZBQV5VrBuxGNf/eT6WbyzF2kI3aHdlskGSmh3oh4P1JaxLxvIlrHtj/guNcA4nAZgvHyofR0EeLrisLYYcWB3YWIRP37TkDnVtlmXZvGLzVyzQ9/ct5OKKtP+uwl3FLk3ol+enfA20r4OrCupir1bi7zdLUOjnsRzU0+burQZ1g9qWj0a7FWDVVy/i+tP6okmvi3HvhNWSXoCex15q7a59CSheWYj3n7gdp/ZvinoNmuCgk6/Dy3PE3vwu6DPEKSiCOTnHoWcnuShfMBqXnNpb+Fug8dFn4tYnJ2D+qmLzi/KWocdtl2FQ+3wUz3kVNw3qi13rN8bBP78e//5KdKjXA4Mv7G6yQt/jrt/gpNbCWzQB914+CIc2byP6DsRZryxwdatVyn/x7ZfZI9qWfIj7LjsOTVu0w2EDb8Hz051tg36LHpRlMRyfUV+9c4cKUIf/uwA/y6SDh5bJ7LO+Q6yh1Q87wrbVibbQf6czP+zcYcH2jY3Iru9cZuJazpDfeV90kEHYByOvwtFtOqH3xa+gkI862ONg/NpNwGU6V+ixThnK/vEEtGy7O5q1ao8nC5lbiCfFZ81atpf0zmjdYU90G/yoK8P/49Bjq/TJ7jjzt4eobMVwMs5/leKVSPXRspakcFz8s4X5SvLmXIve4rfmrTtKv3nW3uWidXFtxaQS7T4EN59/OBrJqW319Jdw21kn6DtgjjnnbjzzmQzARdra6xD87epfoIO4l3I3DOyvfbLfZSMxdgn7enucfM5vIt0vuOkivUNg1Wf34qKTe2LXBo1x+EX34v3FxSJ6Is6/WCj1rf7CfVYvHMC+PukxDDyqpbZbz1Mvx92vTMUyPdVa/yS8ryz2/VctcrEDVVYUCB+wfMyDuPSY1mhyzLV4ba7p2+cX3R1vRfr+DOcPI1eMX46LOgXFynvB4W1w6MC/4jP+4L1We/Q4jz6Wv0raViFETLWl7T1vwR9+0V60EB3eH4nfn36UHBMDMPDq+/HGjCIU8y44/klf52NFVhVNxSv3/B4ndt9NzlGN0evCe/Ep9d2tB47hbHMSMth2PjnF5/J38W1DsX+B2Fb4Bm4dfCyaNKN/B+PeT3h+iIHH5iOD0UWO2eatOqDpDR9Kv3Kg7dRRgrmiDBfdflYFvOoF80PZBqxansk2Vp+D+884QI4HqbvFCIxl3spxuJ7nEjm38FzSqt0e6Hs1uQVlFff1k86+wMm6oIg2tgLiXLLNfq4+sv7ug949E8noRnJRTWeCS6ziDoycTfjgy/VotPuuOOzIeuhQrQif/UvOufHH0rhivq5UvL52nxkdduWg6ekyK4GECqaTBd1DWZWq4G+p12zij5yAtlVqYqScB0fu2Rqda7nKa+ajKY/LqlnI1nCyW0PxgICAgDiqVEd1nlrWrcHqxImtYuQ0xZ77NkfNkiJ8/u7bmDLbvZ9l2nt454O5+LZaY+y3T9vkyfGcatg0ZxTeG+/e5zL7U4wbMx3/K6uKJp06Z7yzZP0c4X39ReH+FHP0XTBfYsr7EzF/c1U069AB/i1YHtVrF2Pa6IRei1fyh4QBOxvC4kpAQEBAwI4FL5JmfoujB36J+9/5GqtLa6DDYR0x/Il9MfeJRrh2b06S2QCZQ8Hshmsmpddd/oODSbdYEz1CQ2clmC+oiJj5OhnpBDeV4RvhtF/wktN4NVBfcgu5Dq4FvphH+f1sYWPWHORMXIcHz1iJz97NQ26DquBfjQPyUPbGOtx9+kpMXGS62gJLNlBi/UsPyeXdOO4XlVYG6Hh6d3z9aU98/c4huOEXTVAH6zHl0QX43VxeZuSgz241Vc77w9rBtYFrV6IOnw/ukZOLcf/5BvNr1sf+V9dDh+Xf4LWPbZLZ15u1aZWB0ieIV31wE47tczHuHVOInFkv4YZLX9dJ1/zWe2Iwu5Xa9CAGHtYHJ116N978nG1fhhnv/h2/HjvfSPjUO5oovGVYg2LOSzTqgpMP64KOzJo4Cnf9/iQcfMJw2SEphdvh5IPaA5un4PFBZ+HONyarWjPfuw/nDn0VM0SiZZejTNec4zG4O++UXYDnLzoJ1z/xAWaSo3AcXl1VLOlxXIa+e+YL71Q8edpA3PDsVE0tfH8kftPnQXzG6/nWe+BnEil1zuqs9C0rOw5nZqODivMjs8/Kqjg5HJ8dr2Lr2XbICddRAQ38xblsyKY7tmP914515pHUETtk7Dsq6wJRXIinLuyO025+HtPy8jDntSswQZ/jL4Mu/UWzHEvCHaNPDZWx41QXWlyyFkxRVpNytk6fpG0tuxyp9WtG1miHk7LgJaiFLgxwclTbgymamGgLaRdDdryp9HWsAuOzOmPfF5cdqZP/KHwGl/Ydhnve/lKTp75zHy4/9ec472HdBQ49Bfu1lrjoXVzfZxjue19XuzDl2VtwymVvgL09v313nK+pZ6NP1wJg+Tv441HX4/F3Z0r75GDyUzfgpJGfYRXy0WG/X6m+1DZnxRroAxjbdMfP97e74Ge89zRGnHcsDj9rpPlC0vw5Vm2gz9hvaZP/LqSc2qWs3FDMfOYi7HXazXjyC6nvi8dx1qPjdXK/5e7WFtno23G/M0zfmH9Xj7kTpwwagRdm5WLW+/+H16aStQCNW5tMjiiTU5SdbVF7VAQzED1OOQQduCA2TnQYOAJPvT9LUmdh3DP34PwBZ2E4CdUfDMMxoNsxOPPmJzFmhvnoiyeH46UvVilXdTnVKGs2trWxfJRdiWP3lYLrJuD/ep2Hu96cYumTRmM5Dc4A1q/1ef307hrTF2V/wIB9KuBV0Zhtex+d1rZ8+SpmXdZ2ch7h976H9j/ZZyGFi7Pp6+0OwTmaGkeMe2sg0ks2eZ6IXZv5Y5kytk3bLd3scOlOTv0bQfQUX9wzbiWKW9XFsH4NUGfmKjzybWw6RcSFISqrdaXhJXUS/Rb4Ln7xhJ4/povLURmm+RT5viFWleZhRIuOeGGvDjiwrnSAzd/iq7kzMeobyRS789nuefZDmVUllO2UVraa9hvtJVu7dQMCAgIqjwYt0ExOVRvmT8fi6FHaDv8rxFx+9TUSGTvFOazEgvIvbdkwEwv4+tRd6qO+fOWmRdkmbNjsr0UdytZgPb+Pq1ZNuqGf2DDnSywor1fAToewuBIQEBAQsN3hB5Q6uNMRoOysLcGNNyxA5z4TcOk9szH56zLkt2qJ8/7cCY8fY/I2FnRDtZnT0bj7x/aydffS+VZ9FuEPmukqiIGDWn2hLJ/Br4shbpJJJygoYHKpeFv2Jq8bKMZHilJQORynvbiWd9r4wbOR+iLp4srBBq0W26RH7n/+h5uPWoS3JnLfTcRGctlA5IwyYd/MQjTjS12P4Mv6v0Tb/tPR9pT/YSTr1KA1OOEYNv8Pr14zBf0ek4tK5cvBlFXuipH+kkG9LkS5NrDJB8PypRuRUzfXftGTk4fceWsxYX4N9DysAYomr8XTfK+N1lkDjdpa3Sk0+I7wTMmMy+c+iBmuHbU9C2dhGX/Bi3zkU1SSmN5lyN0Y9fk0LFmyFP/7epmE5Vj5K33hhcE5NifnNtz9zy+xOr8hel5wD8YumIrPXvwHhg/eQ3nKcvyUxxFoycnbKl0wdJxxrlyxDF8XLcGKsafpBDjqNMJJwpuDDmjEJ9ysXIDJY6iS9T0NlCOkelUhpxHq1JJ47hRcVWi6+8kX4K/4jHONaISW+nwccou+j6fX12oj2qNxRToI1D6XnslnWrsq3KFi3m1km/4xli4acUmfLXHHfGKyTvg1kD+BzH2HxyePI+oiWPg5Ln9L9vP4/H3p53l5uGrA3uiw+8m4yi1mmqiTTwEvY7Hj9uKqIm2hzrqj9pnOt2+VPqktV9AIJ7J+bqdXNQHV9/CseH9GXtFHLFA77K5G04yGWFuwsbjLj8rwKkPCR1reYJyWZjJA91YNpRXlNPnJFXiV6T5f66aGdicVOjVAXUlaPW0cnvT8yid5Y0Zj8hLJrNcIHbStpK9T30Z9cM8Kr+9S1bfo2h76WKKC+lxoVKcBL92F+94oQnFBe5x00+tYXjgB7zx9D4ad0M7qVl2kPl+v+Mq+9+LnXydHB8gGm4xBNMayaW+4fCuPBxdgGbPyeIamDu3RpCJ9G4i+/D7yfUJ4J7/7MArle4rvmUietHcflbTNdjJAKUmeg54t+TyR1fjiLTk2WZocrt/4u/BIT87S0nY46ZpHMG7ybLWL9vEcdePhieeqe6vsM4NtpgRwWGMUcFZlyUzcJRH1tzq5ZYi2In3se5OxJsuftaM7Fih/aKMKeVVJvcuP6bTtH+lt43UF2ywKlqwkQhjxal9nLKGCvj7F93Xvi4hz64KqqE7UQf0kQV/SL8FdA/pzt77/xslQTYMr42RoR89dbCqM59Xcl1ZjytoG6NmjGqZ8vAGz2NZqTA00PtzZrYs6FfGKb5ymhphDIodXzklaF+vXYPVYfa4eSdN+o+3CBNFcfEA0b9kBAxrWkPSNWLiwEFdOnYXTVpWhGp9gI7Kb+L2kOotsq44pZfO9bPT9w8ASlbMjICAgICU2b8AGnrtq1UZBJU4r1Xeppb9zW7eaK8DlsQbr9UYRuTYvf0vJFtiETZsYV+EaSUbkVm+KNvv0Ri/3vpYBx/VGpzS3u2zeGFZWfgwIiysBAQEBATsEfsBpg8Dk8OQzX6PvceMx4oO1cv1SgD6D6qKHG6ilupaSUkpo5XVsp0jIMtENNHVg7QfXMqiUAjqO1Y9kJPEygYPonBKs5lOs6hRg/32Z7SY6Il7P7RRxk1Y2yHR1JG1bVFkkJj1sEJsqZAMvxkhK6eKMJdgEESd57eWriQkjzhn5BRZi5lPjsduh43HZyEVYXWVXDLi2Df7cWfLJKkJjV9kjJBo35099nb/YHhrKcF4rzoiXoPgbqaNJdbm8XY/l83ORl5eDZybzl78bMPOjUqvf66uP6fA7Fn1fqP2Mt/Cd9YEt4Hzf8fwn8fxNJ6Jr09jz6+MQGWO2Ol4ffgI6D7gCd708AfNX5qPlgb1x/k2vYe47t+IYlRAfJ03MpYNIUofcOrao4KGqun4XQficvnHYMbOlfcXF5GYZ0fe6DPpSRORzcgpQUKEOhHF2qMhnXEZTfQt2iG1z3h6Bo528wXh0Apb91wXl9vxKmayDL1ceOkknsglxa0t9iXEsUICcxstArnSBEFnlYohf5nv97bjzurMUqV+/7sSt1ieVsEJ9mWs6Jk9Cp4PJaGk3OWjt4NkSbSNbmqIqVIhkXjsnkbscr+4keBvxtoUY1JfqUwbbp32en5HWoVwWXLJio55frURm0GeeeTbuP7c7+g28BU+OmYrlJQ3RtdeJuOJvb2Pio0PR3goYfL3U0elp31PcZh6FhFXbTks4JHSNIDK5ughYsbYkYz9niHh1n+3u+rlLtmPe+2BW9rYp1LtpgoC8EqrnxdpN7RY/xH3h/vh/zO1/x10X9EbHpBc9xaCcorUep4m0dLZpepsCXYCIoOrF9BR4D6gavs0YW6pAtrWfSYqfNG9du0JeZVbqHAy4/d7MtlEH2qJlXHA5Uf2iV+LY4IeTkEhr1jwLcWxkP1c+yidYvw+MxfgSjFKvtm1J9MMabps/ZVttEP10X4Iv4/epu6SQr4veVfstFnwi7Zi3GeOmcyJsNaa8wOujPOfXXPkus3MuS/pzVEpe+kRjKSib3sce6h3uJ5KyBusmv35HOR3YTlFuTAfS54hf7Nn+ZVizYj5u/WI6jl2xHm9Qh9yqaMgusn4T5vFaUPxnv+NOLdtAZTdinvZ/b9N3MCIgICAgJZbha945gvqor+9e+WGiatPu6NvvIOzRpAq+nTsdn0/4GO+/OQ6zw9O+ftSIj7oCAgICAgK2L/x4zw0G4+Cg7J47lumjJFCnBrrKgJyT6/Kh+foVFhuMckDp+Tgw1TwNlkLogJJ/sUGuR4JqS16ujzCFOuXmFmPmYuYUoO8ZtewOAkopX2LQaiUZS0kpp2U9LydZuO33vzdUOxcqDy3ldNSgqZxEyLNJIg2JfNOfk0WuvpwqyMurgmf+uQJ3v78eqNYAJ527Czq6AXbu+A1YLmIF+9bHFbuwvATn+9zatXHyATWBjSvw2UsyeHecOZtkW+r/6K5FaNN/Lgbx8Wcc3Eu9JrC1fShQurgPCG4xg5Gk/7I7OvLX2t+uwJdiH/vkwOMO0V9prxr/AIYd2RwNGjdDQwmNnrDHovC5YLYoleDB5Odw6/kn44C9O6LnqX/BO0uA/E4n4LzLrJ/n5E7DCi7irZuAu5q20ncO6LswmrZEk+Zt9Fn2zQ+5EC+qDouwnHdEFNRFY6e/VXQ0/u8g/tKdYHtR1j0CqnVX3NKB+lCOkcQdfocD+ILvzQtR+KTZFvk4rb7UlaEyOmThM965tINtO/dSV5/R8JDWfuuPbz3Guc88FTN5L24FXXmmS9/p5PrOVPUZ9fDybHdXXgOLWMzq7LzCiUJOmrmJsyhYWnT+seq0zxl3HdQ90baYaTLcsCTWTfnv2yf1nS49LsKLrlY50WpdafV1CuTkfFUhb4vuF+IFNYr/LOdLl4PegkIh9omtx6vaunf78Nz30gp7j0XLzr+zX+ILTMa+B5SPx7zI8eF1BZ27J73kWdv26N7ospvsLJmN8bl5qJL3NVZz4L3gRZxcTt/d3HsuWpxwm5alfVqHhML3H8Klpw1A186t0PfSZzBFOBod8StcdKgJWC9gcPbRRfzQfcItBFGWvBGsnO+THW/sqnf7FK9eIf0hT875Tt+FqfVt2lLOUcffKqqy78g5kJSE1KFpbCOJfYavRxK9eelt6+m0py2uPyX3M9fHYnaSe8FKe0xXy71t6VRzeTx4OYn19xA5x+PkI+zdLPNfvhEn9WzmzlHNcd171vY8R6ldtMEjjW0+PfeJIrv7p1ZdnExbNV8+2p+Dvl14ix53Wd71RqrENNWvHJhGCvrtiRUV8lIn061i21RWghxEblsJxXV10NjIRa+Y32hbNn19qfR14bPvQsf5vUEui5ST9fl0gW9fO3/GrtGc7vxLwMooJFn3Ij2Fdz2/l/Lw5ytmyXXJMlzp9qNSVsBxxxFJxOrVHcuizqq3k0vaj5XNCFen0lsdW+rhwGRfb8lGLOL35uaVeH3pOjyr370W2u1SB53444f1m/BvXn+VbMLiimQ3bMJ/3DEQ2RMQEBCwVbAJi+YvQ4lc97fcvRs4pMwGG9aukzLyFSljiS1RGzX0R1zFKK7g8Zy8nt5Fv1IzyTZF526NUXXtbLz3xpv4dNqXWLxoMVZLgU1pTskBPw7ErgYDAgICAgK2H/R6SAd3u+C155risTOq45hWMhTjhJQMzA7rVgt/H9EMLSlXtBHv5lbRdN7NYBA5ndywAZwO4qIs2ZOgE4KWYBM2frDn5XTPy0aFt+RlnuNk+oOvL9NJhPz9O+GV++thWGdOokhewyq46LxGGHu7/dTelTZ+naDQZEng5AL3vcSOBG1zuoptOiGkyaYjJ0GopwqZlNlDWWdQjrQNF1cYRt6xFFM30je74fJDjC930mqM4yrZLk1x3gMNcIn4i+ldu9fGcyPboUs1uUz9/Btcy4kKX5cbsFs94ivG3F9rvx6H/nLafGi6bQ2Ybdr2jjK/zjE4rCP16ITDBl2Nl68+HI0kfcGnz+NDp2Ndd2fF8oWzMXWK+GG/frjsz8/hg+Ps99WcgFNdJc456wG8+85juPO3R+GwDuzPeZi95nNMXchJrXzUqS+ykpaX9ynGTV8hI4F9MWT0A7j6V4ehs/g3l74Wnjxnv/noUUxdJMWr7IGBz/5e9M3FXqf9Ef8efw8GtrdfJrNu1pWX9zzG84UtlH3kXlzSv4vydDzsHDw0cij2E1uKp32MZ6gr279CfZ0OednoILJO76x8xsmcrHi3kW312A9ifYxxzmA8MGYi5s/+CjNevglHs79QCe07bOPMfYc/tGPf+Yj2aXDCgqguTbLHSnFuTONo0tjdHVci2/wlNmOfJvlc0PAzZ/wrWs0zVUP0HHI1BnXztrgqNJa/Ifdh9Nvfv0+aLWQUcHJbJzNT68tfjtMuXbjO+aQCXuot7aW+FnbGEmxBzdviz7E8d/P8xLA1eRko4vbf+goLJDd/36H411NXY+BhXGLJQYdDz8Idz/0HDwwxrpxX38fkIhFseDiGv3QNBvXqJNx56Hqq9Idbjtfvt6LJY/Ay9cp7FVP4np0WR+HeF/+ES4/qJj5nOnWmvu57ydmYc+PT+Pzlv+OKIb2xF/OljTYtnYiZS4UDBajThrJUmvuEbPS8HC9MnKb997OHh7g7QNQws438mgbUaEJe2c/tir4X3ofHB+4hqcWY+u5fnF5O3+aZ9LU4wct6EmmW7mt08tT5xmfw+St/y2gb4SfMt+xntm/HjR5EauNjn8/W7+6WJ9yKMfdciL7dzO6uv7gED7zxD9xIbVSvRqijp5diLJ/1FYrmVEXn3oNw9UP/xQV8a7yAdvBYUVssJa1tmq6yH6OQNux2OIbdcyq68dxw3l8w9pVr0JMLryor5Vx70BXaP13/M3Cb/F6G29nxUqe8vMZZ2aY2uDK5eSLHhUo5tx4z8mz0bG+2+WNH9cimr38hfZ1+cfYkbPq+MD2oD/X1abJjdXFbP8tXKCnUXWUcIv0kRfMsGF+ibRmsr+SiqJjTdiKXz32Jef6RMiqjpAJuCy85lSuCq0PzbV8X7rjDfxcqDyvIOvWYUnidqRvrpD2bMH616F+lPk5sXQ+/rWp99aBa9XB/c3aejZiydpOm5VXZnIXsZrNF+K3+76R8QEBAQEqULh6PiYs3yaVAW3Q/sD1qpDrF5OSjYdde6OLvzlyxAItkbFq9ZSc05Y2IcezaHq35a6/lImMPWnCojnxXPMKubdGCj/baQjaOaqjGheY1a7CWl+MeNZugQYWPHdt++PrrIqz/ll/sAVsLOTKwiTd5QEBAQMBWxMyZfGVuxahStRratG7l9nZudNxzP7eVCZw0tFBaWgNv/rd5isd8OGz8Bi9evwTDPpWrJy1TC2+/3TKtfOGzX6L/yFz3470y3Hbv7vhlOuFZ89D6vG91mJstLwes5B06vCWu7ulf1F4Osxag3QXCKwNMykf2ntUIs0+pi8LnpuPIh9yA2g/idyB8W9ivrmtae3gbqB8HyWIH9UzIxe35Cv0fdFwSjhrWDPceUxvFU+ZiwCXrMUsSyw4swKc3NkNDe3dqMlYuw81DvsaD64Czh7cVvwIf3joPp78bG5iTg3+H74qJVzQEPpiNfW7gIN770XT87qBd8ukmsc96+APRo7bLS0bxrH9j2FHD8QarkzLH3fMu7jm6gWWmQOHTe6DfteLHMvHf4JGYdNVBcL9RTkbxNDx4/CkYMcfsKGvzazzx9O/QfVfd3QKFz+yJftc42TP/ji+uPqwcbzGKJi9Eftd2WC6yfUWWbirrdwPe/vNJcGsTyfh2Np75/fG48m0Kir5nPlihvreIvvoujKx0sNTj73mvQp/1/SN9JmoM3jG2jTzhFxgxV3TgMa+J0kd+/QAmXunLzMazHU/AleyDkHOOHhtlWfWd/7p+XYbr8dYM0Xf282h39HVigz/eCB5v7lhjv7QOqv2UJRMw26WgTaI5bgq2u/JZvDJ4d5R3x+qxf8LeQx6VLfphK/ZJtptrY3JTz3T68n4JniH1hpC2Z+LJp3+fXV+/6SXM/WVb3U4F2tZtsNhG8TZnZn8MZcM75DHTXcw58sYXcbfIb9nV1mDcLYdg0D/YL8S0s0bi+T+k8W/RGNxy+gV4kMeQ7Jb2uz59/yXvzQfj9H9IX6MOUn9afZe+jSsOuwT/ypUTrpknXUeO0Rv/gzm/cGX+9zFuOfhsPKx9xmxiPxvx+mT8knd5pcDqD/6Ekwc/hlksIAdnWV/pvxn1PQiDHjF9b/vvFPyyraSN6I7TH3EigqGPjMNVPWpLW3RBf+k7ZluGtlj6Fv7Qcxie9TpIEo8R19FiYD9zx4b1NPlrK/U9gWtSHp9yfuggxzPrF66rnh+Ps7umNEywWtti4CPUgbZNrdC2fnpclOGQ617GI4PK95vVmDp5NfbsWkd52Xcoe9YjH6XR1ZDov9nyUhK4+vkJGWyz/nv6o3IuMuepP075yyjc1n/Lc7bpQP8C7YZW0Nd/9Rs8JOdULtqwYaLv9+8JPUcy6Pd3Lp74d3t0T6kEj+NCdLueD80X/8r1xjU90812rRefzcLA0bm47f495Jj4Bs8euUz6R0xv7XZyTh7a2F0LTUPf+0sx9Lp2GXg3iH/n4Fdj3AKKA3U/69rW0l/KYtc/1gbZ+sn8YNcwv6zdEL9tUH4WMYZVy9FjRbFwS7mc6niiRUO0TvGIzrVFi3He6lLMUx3kHJKTn1H2/DVlmO8XV9wxGBAQELBVkVMPrQ7qji4NqwKb12H53IVYtNpuJckvaIGWreuBr8paNXMsxn1VpA91zW18EI44oCmqb1yDeYWzsbIYyBPZju3qofqmZRg/ehyWulefNNnvZ9ivqWwI99LCeVjy7aaEbOkafDnmbcyx5ykCTbtjwH6NsfarUXhvJt+MXxttDuuLPepswteFMzF/9Sbk12uLts3lknpDbdSRa433Rk+yxzHu0g29jpBrnahs5dGxY2d06LQ7Phr3Pr62Z6alRbe990PzFi3x6sv/cSk7BjOmjndbPy7YlVBAQEBAQMB2hRt0yV9uznoMv30Bxs1ah+KN7q4EYv0GFE1cjDuvWYZLx/OXdhL4y7nozpU00F/8OXkO8DKKOxmVzZJX6meZh29cgGEPL0VhUewldBs3omjWUoy83xZW/KDSD479rwcrO2De1qAapo/YF+lkfjEdk3X1ukeytEd9aL/qfPOeFfhwtVzgdmmEaw4Sv/EXu+PXYtCV8zBuwQbojzyJjRuw4JP5uGLo//DQepav4jgZWHfCT34RRVK0qOnn9fLh+8DKax1iw5cfvo8Ji1agmD9z9ihegcJRD2DYMdfjTbFVf/0utr067Bb89YNF4A86FSXFKJr2Fu4Y+TH423+oXfSD6Pzonbjzha/cHQUOxWtQNPlVDB/4S9w6T+SEV39ROu9xnD70Frw4eQXi4hHYXqqDxI/9Fn94fJL9upjgo6f+dTMGvuwutEXWfq0v4e3rcMGVj2L0bLEv0tnp8KsTcdU77OvUgbx/rkBf04FtnPf4hVnoUEV/7f3KxTdX4DPn3yo7zjZdWGEflH5m5xLpb4+OxYeLTL542kS8q+mcwKZMdn3nLR4P9Jna6Pst+7jVwW0L8QlDCSWbUbJZQskmjTdzO7ZvL2z2d6/QLTmYNeJKDP/3NLFRkxKgXe6ctnX7pOitE45loldmffnOKy4Y6d0rsx/FoLNurqCvW1AXZYLKiq60b242x1AleH0Q+beuvQx/GPm+fAfE/cZ2fhr/fIwy5rM5j5yDQTe+hqlL7W0FCpV7FMPO+C0eFv+y/2p/eOd6XHBVuf4bg/YRd/dX3qMPYOSo2YhXH/EOvlQXVnx/0r7L/vnGWExwfaFo8li8x3yxJzrfCu/n4z5RXeP9l48Cm/rv4ThlyOOYw/p5LhP/5laor8iILO+08+719Zh/yOMzZNsdG7n/SGfbPzDs15fgWSkkR4Y7LqQf+b4lIamfsQ+WlGpfI3Jz5uDhIUMw/AUeEzFyte8xPCQ+8rqNuHwEnpkWs0uOiQWf/RvXvjBbdign7cXznoRsbON3BcNH11+KO1+fnTj3/W82Rt/3Rxz7pV1LqM8cR3R6SAfyUi5bXuor8S2/vyWDbWaHHRPWd7j9rwvle658mxBOlu08++GzM/f1ubRp6y6sEKSK+rjokhG0hzqz/2ZUwdpY+3q0T58k/KLXILSdCijoi4p4hUl5HEfElagnOh4j3uwhTGpfhWWpt+oh+mIj/rioCOPX6puaDZs3YMayJbh4bRkWiA/UD2JbXs6mjLJhYSUgIGCbo2wl5n30Ct4Z8yXmyTVNQetO2Gffbho6tcjHJj6CctSLGOsWVojSZR9j9OhJmLcuF007m+xerWujeNGXeD+2sJLAMnz+wTyIsMm2q4vSotn46J3YwkpKrMGczyZh0eo81G+/B/bZpyta1yzCxFFvY+JCPkt16+Lb9TY4ql8//Q/WPGrUTPOj0ICtgnDnSkBAQMA2RLhzJTPsK8hNIHJbv5H815IMyvjvBp7MzuGvVCnmZDm54qFDOCfL8Zw9H19Abv6xjENcViki0Yp4vR6MKWjcJq4ZIi8l+C/b3IhkFT4mrFKT+yGAPrI4Aa9jYptIbU8MkswcK0ZeesW8GpV1At5fBvrLbSqSdhxceYXlb00fmn7U2YJV5+qUekxf05PZW/YFJ0skyZNP91QuiZtkAnKZLbavkuSNyyrI6eUltTwvwcjReM5IBy2TXtbkHSQv4lVx+XD5ybJKmpAlGMV4bSeW6OQZRyAn85WbXLqncjvGNosTfFrCtgWSq2UoaiLGl8RJUCYma+BGgsv2VUS5lEcXVuwRRzqJ7O5kUQEP5XQThpzA5eReLicwbZLRamEZt8OIZSR2b9vQ/CSdnZJxPxhMrrx9po6yRItBGmehr5/IjevreXWP/04fD8/pqvViFFRZ/mmyJKbS1xf47ry+T8S5BREn5S2JeWTcQs4+nLxLdHIJ2aQC5WQFlKWMl5V84/X1M070X4tt2/ISsYmkqZ98ES8LMd3ilPIqq+K2zU+tRDd9kiGWZjo4kJeZmiYfrrzt8phwiyvu8V/lbbP6rW/5xQ6dTPaVM6K436Vt8qdJej6RDQmmA3cIx+tij0rbRlafwMiVMd+6HeZrOYklqLSTVQnqq/K64+IseI1Jo/S2kdulOST00IJRlvpNtlN/vwkk0ThNVveMfKvC2x3p6XV10BpVV9mK6ZawKwGTtQ+va0JnH8dhpb3dEVtKXuM0Pou97p7HUL7e7JCwR/6ibWZIcFS+fu7qd4Dr75EeTlYlnGyCwHgzy3LT4oCAgICdDXbnyjKMf3kc9GmkP2BwwaR3nyPdXsVYuGA+Jk3csXeO/FjvXAmLKwEBAQHbEGFxpWIkvoZiAzVCx2V+kOa3bQBoiG/HxRNl0skSCU5uM9+2K+a1OKXeSXKJbYPJsZijEMTzfygw+yvWMWEPkZBPpHkwLzktvmMFy5e3/VhihGz1+z6I9wHZ8NsxnRL6lZP1UaRWsnzl+s2WeiSL+zJxXiK+7bkop58SUuis8HyJ7crom70OlLV4S17CNjz3D8E2Q5w7geRJpC3bTJGW1+QTFLZB3TS4yePKL67YZLJlkzMmr7B6kvuOixlptpdJbDMzUbVs2L98SDr/dMKb71MRvb/DYhDTtT7Hm6ja1+9hAjHWLWS93an0LS+bQELGo7ys8YpMRByXJrycbSfkiC2YIzmD19fJbSGeKJNkVxISMn7bEPdFAt4eImVfIGJc319fQ7o0IpGeLMB0608lKGFfi71bxXT38kLE/9jiivU1TgGzr7l+lgRLSNdvFFEZL6tRTNbA9FRpRBJvEiLycuVlw/4jqGTiY0v5JJgMkVIHvx2JJTgTieX8kQQvX9m+vi2QrGdcnUTV5esXIfuPkCxb5myTvXTl+enyzQdWLjMv5S02mGT6erJH0nFs/0mI83sVoiJbalxOn3R9IZVsQEBAwM6HnWlxheACS4vmLVGvAd/smB4rVxRhxoyv3N6OQ1hcCQgICAioNMLiyrZG+a+wTAO6bSUbELA9wb4Z+uOPHXZ5br/MLysdjjf5XhbLqgD+PTA2qcy+kjyBty3gJ9u2tr4V9fXy52kiG1u3Fe+2gNdlR9VfWWxbfXlcWChF6a8fwKTo/UcVgO+XOehsPCx9TB/lpH1sZ/Ep8UPqkzsTyvstnc+ylassthVvZRD6TkBAQEBlsLMtruxsCO9cCQgICAgI+MGBA8R4yIRtJRsQsD0R+uNPAf7Xv5wEtufXVwKcQHaTx9E6xTaFr2dr61sRj5VJDtmgIrnynBXJb0vs6Pori22rL/uHBd5/Upl6XL90/czCzoS43juj/jsK2fosW7nKYlvxVgblddhRegQEBATsHFg6/j94NSysBFQS4c6VgICAgG2IcOdKQEBAQMB3gb9E15i/1uefv2zXiB850VyZLmzoPhcpLNHH2wM7m74BOyesT1nfsr6mey7Tf1g/095Urp9ZF9OPgICAgICAgICA7Yhw50pAQEBAQEBAQEBAwHaBnwjW2D02y79PJTdPtvkOCcY+TR95ZHeB+HLbEzubvgE7J6yfsM/4Ppaqn9l+Top+xrIBAQEBAQEBAQEBWwthcSUgICAgICAgICDgBwlOCPvASeQcF+ITy5bGfC+74yaQdzZ9A3ZGxPuYLeSV72d+P/SzgICAgICAgICAbYuwuBIQEBAQEBAQEBCwU8BPEKcKP0Sk0tOHgICthVT9y4eAgICAgICAgICAbYewuBIQEBAQEBAQEBAQEBAQEBAQEBAQEBAQEFAJhMWVgICAgICAgICAgICAgICAgICAgICAgICASiAsrgQEBAQEBAQEBAQEBAQEBAQEBAQEBAQEBFQCYXElICAgICAgICAgICAgICAgICAgICAgICCgEgiLKwEBAQEBAQEBAQEBAQEBAQEBAQEBAQEBAZVAWFwJCAgICAgICAgICAgICAgICAgICAgICAjIGsD/A8Oc2K+Wx83lAAAAAElFTkSuQmCC)"
      ],
      "metadata": {
        "id": "qqvpShEzxo_k"
      }
    },
    {
      "cell_type": "markdown",
      "source": [
        "Na parte superior, abaixo do título, você encontra sobre o que se trata essa base; quem disponibiliza (*organização*) e de quais anos são os dados (*cobertura temporal*).\n",
        "\n",
        "Na parte inferior, do lado esquerdo, mostra quais tabelas compõe essa base (tabelas tratadas); e no meio quais lingguagens você pode utilizar para coletar esses dados (*consulta aos dados*).\n",
        "\n",
        "Bom, como você pode ver, também existe a possibilidade de *download*, mas observe uma coisa: a *cobertura temporal* mosta que temos dados que vão desde 1945 até 2022. Imagine o tamanho que deve ser essa base de dados toda. 😦\n",
        "\n",
        "Se não vamos precisar desses dados todos, o melhor é fazermos um \"recorte\" do que queremos. Para facilitar nossa vida, vamos utilizar a linguagem SQL, mas você pode utilizar a que se senti mais confortável.\n",
        "\n"
      ],
      "metadata": {
        "id": "D-oq8Begxt-t"
      }
    },
    {
      "cell_type": "markdown",
      "source": [
        "Olhando para as tabelas disponíveis (*Tabelas tratadas*) e pensando na nossa pergunta (*quantas candidatas negras foram eleitas nos municípios de Pernambuco?*), de cara já sabemos que vamos utilizar a tabela **candidaturas**, clique nela. Ao clicar, deve aparecer uma imagem semelhante a imagem abaixo. Vamos entender um pouco o que significa."
      ],
      "metadata": {
        "id": "8UDSmqLE0ION"
      }
    },
    {
      "cell_type": "markdown",
      "source": [
        "![image.png](data:image/png;base64,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)"
      ],
      "metadata": {
        "id": "bGGfHidb1CHn"
      }
    },
    {
      "cell_type": "markdown",
      "source": [
        "No novo conteúdo que aparece, temos informação do que é a base (*Descrição*), de que ano até que ano tem dados (*Cobertura Temporal*) e um dicionário de dados (*Colunas*).\n",
        "\n",
        "Agora que já entendemos basicamente a página, vamos lá pegar os dados.\n",
        "\n",
        "> **Nota:** A partir desta etapa é importante que você já esteja com a sua conta Gmail logada.\n",
        "\n",
        "Um pouco acima da descrição, vamos ter o texto **clique aqui** com um hiperlink redirecionando para plataforma do BigQuery. Clique neste texto."
      ],
      "metadata": {
        "id": "p_-qpqSfoWzI"
      }
    },
    {
      "cell_type": "markdown",
      "source": [
        "![image.png](data:image/png;base64,iVBORw0KGgoAAAANSUhEUgAAAzAAAACrCAYAAAC5QXkGAAAAAXNSR0IArs4c6QAAAARnQU1BAACxjwv8YQUAAAAJcEhZcwAAEnQAABJ0Ad5mH3gAADN4SURBVHhe7d0PeBXVnTfwr68tvEs121ZdXG+AjdGCYKEggfBvYYMGsAXyakALSAVMpdQ/RfDREikgBXEF49YWsTSxi+F9+hIeRdhFQEQsICERKShpUAIL5Fop/2qorKGy9z1n5sy98/feuTc3kgnfz/Pc586dO//nzMz5zTln5rKIACIiIiIiogD4X+qbiIiIiIioxWMAQ0REREREgcEAhoiIiIiIAoMBDBERERERBQYDGCIiIiIiCgwGMEREREREFBgMYIiIiIiIKDAYwBARERERUWAwgCEiIiIiosBgAENERERERIHBACadzlRj0aRxyBtYgkrVi5J0Zh9eeHgcRuQtbcZteBjrHp2KghGPoiKsehERERFRIDCASadzYdRUHUD9GfWbknfuEHZuPoC6442qR3M4if3rq1Fz9Kz6TURERERB0bwBzIWzqNtcjhmTCtE/5xZ8q5v8DEHe2EdRvHIDao6r4Vq9s9iz7FEUFOSjpEr1IiIiIiKipDVbANP40So8MHgIRjxcgnVVh3HynPpDZObr929BxcJiFNxTihrVt3VrwMHdW1Dz0Sk0Z7kCEREREVFr1ywBTGPVUtw17mlsOgO07VKAOS+vxbvv7caH+8Vn3068+/r/xZIZwzF4wkB0VeMQERERERElkv4ApnEflj5ZippzQPbkZdixajbG9woho636//I2yOjYGSMnL8DyiZ1VTyIiIiIiosTSHsCcePNlvHBYdGRNw5Kf5CDjcr2/Xye2yTYzo9Bbay/TD/0LHsWi9QfQcEENYHbmACqWl4jh5ZO/jDY24jNwFCbOX4U9J9VwNg21G7DoYWMe+vAFD8/HyvdMjbqrSvT/itagXvWKqcYibdypST/FqmySmqfxWVKt/hEOb0Hxw9Z16T0izvq7ObMPZY9OxYi8ftFpfDtvEmaU7cCJONPQt0msrVLvEVPjjuNrG8Zz4Sxq1pfggYJ8fFubxhDkTSpG2c6P1QB2Z7GnrBgTo8OLT04+7nq0HG/HaUvllZ7iLuWFU3hbzmvEkOh8tKqQtR5jqeHvim5zOR+x/Z7egjo1CBERERGlR5oDmDC2vrpF68q9dzi6JhO8iAxt5ZJCDJgq28yE0aD1PI+TH20RGfJxGHBvKfZE29EoH61H8XPlYnjbk7/OhFH5u6dx14iHHAFG/asPYcCdIqO82ZiHIIav2bwGx764UvW4SM7UYu1m67o0HNXX/67nqv21nzl/CDvXV6Pu+HnVA2g8vg/rljyEvIdEMOYSkNSvNrZJrK1Sw9FqbZwBo4uxKd3b8EIYFQ/lo0AEH5ui7YLOor5KBEVzSj0en3weB3dvQKW5HdG5U9gjgqCi7zn3sxzeOz2VoEL77eKsCE5H56NoiZiX8ZQyMR/tYRR3ioBp2T7rfmjchxI1/J7oNpfzEdvvYAOMgkciIiIiSpNIWlVFnuraK3Jj1+9HSg+pXj4de+XByM1y3N73Rp79fX3k8y/0/p8feTMy945cMc1ekZt/tj3yud5bt+tZrf+N974cOWj64/N6Mc535XKIcZ40j1MbWXqb7J8bue/fayOfqnlEvmiM/PnDvZGDp9VvyZj2fa9GjqleMcZ63h9ZVa96SfWvRu7R+j8b2al66eojq+7Tl+epXaqXm8/rIwePNETXXS7Xsd8/GxmrTfPeSLmvbdoQOfbhydg0hE8/eDXyiFrvub9vVH11n+/+VWS4Nv07I49UxLbJ5ydqI+UPDdaW+cbvi+0bnV4S29DD/hfu1Kc7YGak/IPYssp5rl1wr54OHNtQrMeRQ5E/f6Z+SKdrI6tmjtSmZd3PkcifN8xS6en7kblvxNJT5LP6yNbSmWqdbftP7qdpKq1N+FVka73aVnI/vLEoMrq3vt6z3optw0/FfLR1+e6iyEZjeOHzhvrIex9YJk5EREREaZDeEphwWD1VLANXttE6/LmwDxUv7EAjQpj8by9i+qAQ2qrSm7Yd8zDnxQUY2Q5oXP0brJbV0+y+cgXamm51tw2JcRZMQabobly71/SkswZ8qt2p74H8oZ1j1dsub4NrbuyO7G+o3xdL2xCyO14ZXXe5XJmDpmP6RPljH2qOxEpVvF2JzBuvik1DyOhWgOk/zBFd57HnsLmo4hQ2lZdq1Zxy5/0blhTGtknbqztj/LNiX2SJH3t/hfJ3jHk3cRs27kBFqVbHENNffAbju8WWVc5z5A9Go6f+0yGjYxauEekg6hudMeYnk5ErOhv/cNhU1e8wNv37BpGe2mDkz5/HnFtj6QntQhg8eSwGq58We1/DC1vFeoYmYPmL0zA4pBKx3A+3PoblPx+OtmIbVvx6TbRqWMPZU3rHv+Qh3xheaHtlCD27hdQvIiIiIkqXZnkKWdJqq7FOZoq7jMWY/i6Rz9V5GHO37L8PW/+gMoyJdOmBfvL7XC0ORttIXI0OPeR3NZ7+13LsCfsJCL5ERruQsbG2Jb1HjMOsdfrfx06e0DsS0Nt9xNqzfDuvEEVL92r/1ZwwNQw6sxdbN8qOAkwZ6ZLZvlwEFPfqgc/q3bV6v6Zuw/17sVpWU+tSgPxuei/fju+wtu+RbVN+vBR75H+1JxDdOsfFemmreztGDblK6+VHzc4NWhDUdUIBcs2BknLNrQUYL/vv3Y73VJq6pn2WXk3sdyWYt/6w/7ZKRERERJSS9AYwoZB6LHIDziaTr/2sQb973qczsrUeTpmdtFwz3j50SPtOqG0b6K0xxIJ8oXUIWShc8BgGi0xow+YS3JXfT2TuH0Lxyi2ou9hvzze3C9kfa1vScDSZN/ub233E2rM0Hj9saRMTda5Bz/T3+TayPRprZHbUnxTXuP+QKuFo4jb8olFvQxJnX7tprCoRgctDWGRu3yPbpri9W0fsb30e3uvlpuEzvXQq9wZZ7OTi8uuQ/R3ZsQN1R7Q+aDtoGn55txj+3AGsfLQQvbsPEftwKSreC6ORwQwRERFR2qW5BEZk8PrI7wPYuttcVanlaJs1Fsu3r8X/mzcFI7tdKTL3O1Cx8FGMyB+HkqokSxPSqGHzUhTL6kvtBmD6y2vx/r7Ye3N+OV4NlMj+lzGrTK+eNf6Z1XjXNI3XH5MlKenx5W/DAyh7olyrtpV99wK8vl2tl/i8v2a6VoXs4rkSg2eLbb3mGcwpHICr28lStFIU3zMKAx5xf2gCEREREaUuzQFMCL1u7a51Vb7yFur8Zt6+lqG1V0HVAc/HztYf0atADb7+eu27SdqG0LNwGpas2ooPt7yEOaP0O+gvPPFyrL2MsUxHTkVLQ5pTzQcbtO/cxx7Dj3qZ2mzI9+b4LEWo/2O1Xkoy8THMuT3L0j6lrUuVKLTLwDXyu+p91DmKMXT1Rw9o3227Xa9vD4OfbejGx752CP8RO7V4eALmzBpuaWfTtt0VqsvEx3q5yfiaXo2u8qBbQyvhwseo+4PsGIDsTlqfqIwb8zB+3i/wTuVWvP5vU9BTK6Gaj5LNPh8rTURERES+pL0NTPawe7QG99hbggf8Pvq3Sw60Jhi1q1ARbSxucnILKn4n+3fHkO/4b9PgS/vuGP/zxzBZdoersd8oOLouS29MHt6OPR75Wf9C6HCD3nXiTAvK0H6jB4YMkx1rUKo1QrK5cADrfivfU9MGhbd00fu58dqGbrp0R75MH177Oh2+0Rm5/WWHx3p56NpvuBZc1ZSvQaX9kd3Cic1rsFL27zEQvdrr/RwuvxLZt4rATpV4rfvAaDtEREREROmQ/kb8V+dh+qwBWsPmurKpGFC0VH/Xh6k0plG+M2R9OWYsUwHO5d0x5kdynDDKHr4fJdti7Qcaj27BvPuLsU5kHNsW3odCj+YJ/pxC5foNqDlqyjhfOI/6t7bgbe1HCP9wtdZhytzvw6LF5ag5aRrn3Fn3wOzqa9BB63gL6zZa20Bck6mXTK17/jd422gr0ngKdbViONHZ9ebhWq/K3y5FxX5rkNPosxQh86YcvXRj9VLLNtS4TuMq5E+YorVFqZzzMGasjr0ws/HkAax8ROwLGbz1+DEmRB+ukMQ2dHN5DiZo6UPu63tRLOZ5wrRsjef+qrpMQjehn1Y4sgolz+9AvXldxLydQhj1I2O9xmOiHMcckHjtvx6j8aMhYj3D5Si6fyneNh5QINdv89MoekJ/stmYHxbE2u98tEMEYoet6yC23aa39BLDrtfE2xhERERElKzL5LOUVXda1W+cjweeWIMalzvZUe1kW4rHMFirIiUboI/DRK0Nh1PbXtOw4kW9ak6UfFv+pHKg/2xsWV5greKkvS1/KsqQgwWblmGMzAA37kBxr4c8X2KYXfQS1vyku/5UKSm8BkUF8/G25zqYpq05hU2Pfg8PrFcZ38Jf4P15ejAnS5FmjHhUC8QsQtOwZtMUdJUvRLxzEl6IU9qTO28tVhRGZ+YijIofF+ptabxMXoYPZ1jbw8gXWY6YIx9j7SJrOH754gLkG7NNdhu6Evv6uXtRtPyA+zw1E7Bif6x9i3x55ognPJZRYx1eqn/1URQ8sSVOFUD7/hPOiXQzVqQb1/3QBj0ffBErpsbWr27FOIx4Wq9m59BuABas+YV1+kRERETUJJfPFVR3WmXcMBh3fz8fnf/hPL44fRYnThh3va9EZrceGDziHjz0xDgM/QcjK3g5MvuPxd3dv4YTfz6GT8Jy+Da4+kYxnZ8uwLKZt+Gf7LnicCWef20f0GEwfjCqCzJUb93H2L70P7AHIQy953voJv+8cAEXLmvA6U/P4MTp/4ZW2NDuKmT3HIz7Zy/Fkruy8BXZz5DRBaNG34yvnTiJ/zr5MRo+13u3bZ+Fzt1yMXLMSNzaLwvfjI7UDtkDh+KfGk+i7pMwvpY7DlN6qzvw7bIwTEzri/A+fHhI3xZt23fH7aMHo993xDTatke/uwrRvd0JnAgfR/2nKgiRy/etjuicMwLD/rkfuv9jvNAgA92G34Wh13+B0/8VRr2xjto2z0Jmj0EoHJCLfjdYX9aS0XUEJgztJPbTYRz75C849zfRr2MO8u97HC8tuhfd/14NKCW7DV2JfZ17pzbPy/96Fp+Ytm1Gx87IzhmECT8owNCuV0cDhYybnMuo9ZfDZ/bAkDsHYmBfsR313pqMm/Lxw8Kb8c3PGlF/Kowzn+lbI7r/flCI7/buiAzzAn81hIH2/SDXb/CdeOKZEhQP72hZv680XhDTPYmGM6cs6zB49CNY8ssHMYQFMERERERp1WwlMEREREREROmW/jYwREREREREzYQBDBERERERBQYDGCIiIiIiCgwGMEREREREFBgMYIiIiIiIKDAYwBARERERUWAwgCEiIiIiosBgAENERERERIHBAIaIiIiIiAKDAQwREREREQUGAxgiIiIiIgoMBjBERERERBQYDGCIiIiIiCgwGMAQEREREVFgMIAhIiIiIqLAYABDRERERESBwQCGiIiIiIgCgwEMEREREREFBgMYIiIiIiIKDAYwREREREQUGAxgiIiIiIgoMBjAEBERERFRYDCAISIiIiKiwGAAQ0REREREgcEAhoiIiIiIAoMBDBERERERBQYDGCIiIiIiCgwGMEREREREFBgMYIiIiIiIKDAYwBARERERUWAwgCEiIiIiosBgAENERERERIHBAIaIiIiIiAKDAQwREREREQUGAxgiIiIiIgoMBjBERERERBQYDGCIiIiIiCgwLosIqrvlOr4GU8rLsEv9NPTtuRylee3VLxf7nsfNb7yhfsTce9tazOyuflgcxyvLi/CzBtl9PZ6c8BzuiDN5iqOqBN+aVI7ceWuxojCkehIRJdCSzh3hNZiYPx+Vk5fhwxk5qicREV1sLb4EZtcro3CzS/Ai7dpThClbjqtfJjLgWSLGcwlepN++If5b8rzrNFsVmRHodov7Z0m1Gig19aunatNZVKV6UBOEUVHkso+0z1RUhNVgAVS5xG2dSlCp/tdVY5HsX7QG9apP6tI5rZZOravrx76NiYiIWo+WHcCIQOTXh1W3q+vx3W72IpJ3sdgj4LF6QwQ5l0AQ46WMAUgwVKM4X2RImxhwfvn0zPXEMvXTohwTA7c+QSO2MQMZIiJqpVp0ABPevzUWYGT9DB/MWGv6LMeTWUPQ1xa/7HrlSfxWdUuyuph5vI09r1f/SG/g124lOK2NrP6wf7fls2Ky/lfZpGDf4W9dcrBgk3U/ffjSBP0vEXAGKdisX10KLXbpPxtbzOujrdNsLLib1XHSZwJW2LfxptnI1f6TgQyDGCIial0C3Ii/Pe64owCWGtKWEhvZhsXZ1iWU9xw+uO029UtWQ1t1SZbC5M4wgphq1GkBjFEdxS2z4/1f2STZ3/g4g6HKOaNM/8tP/MyUUTUt4fBe1eNaW9WhPtOjQUzZtuCUWtQf0Zd1clEBMrUukz4FGOPWtOGd+cgz70tTKY0zXVj/d0jntIIoVKAFNfox7l3ilfh48z729XFdboCoY3PiauMP7yqSqQTlvs8Rsv2KZbg4w2qcVfIm/i5uFQAiIrpIWnQAE+o2BH1VNw4/iZuXjMLifeq3m+PHTCU2E7wb4HcfiyczVDfqEL4ECmHcZHbS74LXHJUZjeuQ3V/+OoBj9gxJOIwa+T15oLqr2xTed4Rle4m8OfaMlhzemUmqP3pAddloGdd4mZQACmXp2702HJjgzEhbzRp0yWqQ6Qo80jmtFiR3xjJoMUzZdscx4e948zovhLFzoxzXuAESYxybXTsaUerHqHtHddrIGyCxQCexZM4R7jzOP1qwM1UvNTSpLCtvXecSIqJWomWXwLQvQKmptETSG+CLz/I14hJqFT5Zp7qAvl/voLrctEfoKtWJQzh0iQYwxl1yPaMRQr9hMtNZjXU7rVu2fucG7SKe2+k6vYfJ5JfMVVeWOe6syycJxf5fiwVaZqgcS22ZFnlXVW8vYa0Os2WevkzFc91LVuzz12vGlWNra2rbEz6sZ6K6hJylGS1UZr/hetCl2lr5KhmzVzczPfUps9BeDdLImJe6Z1zTOa1Ay8EQVQpjPib8H29e54VYUGINUo3AZgKG9NH7RNn2iT4vESSI4f0E5kmfI1QplDGc/BglUtbzTxgVc+frx5ituq1R1ZaIiFqWll+FrPuDWtuV0iz129BQhmGJSmTIk7yTqWcGcpCtgg4j02nPUOiBTg5G9nOr95OMEMYU6dWhKo98rH3rjEyPbAMy3VLKIzObWibinfkoTxiU5ODxAFa3ikveGZ5UrnW6BZAtlpZ5NAJKIVqly++d8kSMjLmzBCB56ZxWy2OUhsUkd7xFzwvmY7Zqe6y0wlIyqAKb/lkJg+3Mwtn6DY13NsB2z8RFes4RuYNczj9hEZxpyywCLNujknPvNtoSERFRSxKYNjB97zA13o9W/5IlMrEniYWuzlZdwK6/HFNdbo4jfEp14npc39rf9WLcBTd9jKdDTX7JVGoSEkGKI0NRja1y2P7D0eT4RXKtDmVketznYWQ69KpuCRjTDyT1xDHzvpLvoJB/iczVwsC9T0cElOpOtnG33VjHZKoN6ZztKIw0nLx0TiuIkjzeQiF0ld+mamh6NbEJWCD3q/l8oQKb3GE5PkoLQ+jQRXUmlNo5wtFeRt0MsFAlnP6WmYiIWoIANuJvjzuKzCUyb2CbUQrTvoOpzUw5XvGqGrZvlXpZpZSN0KX4skpVneNxSzUPl+oiRvuXdFVfMjJDZsY8ErCW2lw6tGpyy10awwdItNqWKiGrnLMqmhlOTDauHoVimYFtsnROKxiMqqJRSR9vRgmV0Q5GlYb0z0I/rXQmdr6o3CYDhHSU1tqkcI5wby/j5NmejoiIWqwWHsC8i8Wu72p5F9vcHg7Tvh++Gy2dOYSflTurmIW3/MT6gsusfrGgp7VyeYyyV4Y4s3CKVu3HqEZmtH+ZPMheDSWN3IIaF4GqQpUS62OUjVKLVlMdTuozPdoOwW87pegjmW3pOFaq4186pxUMqgTV3CYlheNNL+FQgYqqcqWVWKhSWz1wCONYrfhKV2mtWbLLHF6DpWq9Le1goo+Xjsns2Fl1ERFRULTsAGbfTvxWe+Gkargf/Zjf9WKuAtYed4yabAlIoo3+1WfYnkPqH+k2lN7RW3Xb6QGQeVzj07rb3ai7rVq1kDgNctNKPenIoy68flfX/FSjS0O0jUDZ1BSqXLUe0UcypyGITue0gqByiXqyluUJgikcb30Gxm5saFWujFIWVQ1MVi8zBzZynLRKcpmNB1/4eXKiqnbq92ECRER08bXoAGbXQVNJiYe+PX9qfVyyy5PL3Mn3xDzY+ktfUqA3XJVP9ZmvN251yQQYdy3LlqfjvSuxqmvF+dZHnEafPNR/NiY0axDVEoUwZq5+x7hyzvxAPSFL229uQVdViePhEbHMqXsj7OQeyZzOaQWYegeKvq0nYIWlcXoqx1vsxsas5SJYMJWy6KUz5Vg6V5bWpq/6mLXKaJLLbLSFc3l8tEO07d985LW290gREbVSLTqAkQ33rW/ON7sNpfLpZHkuDVi8nlym9O25XPz/nPd7Yi510Qt6tXbxd71bre7Iahd9UyPZVN8WH32SkMgImV8+p9dhz8GCucFuA5KyUAEWatWbZEAZlMyVXnJX6XiJqfgYT1SbN9v0yG0jcyrym+YXo6rMpOORzOrj3r4hndMKCusxo32Mhz9oVaisT+2SUjnejGpklfZSFqN0Rpwv0lJ9LBp8yH0UC1aSWmbjHGbfNtHtYhbCmOXqiXm285n78EREdLG1+Eb82pvztaeP2T+JS0+MJ5dZg6Dr8d1uXpGL/oAA57ysH/vb/Vuf2OOOvUs+cvC4S33ypsid4dYWQWbAnO+XuZTEHjc7H7MCUZVMZgiNd/7Y6e18VtieqBbLnLqwP5I5gXROK7iMth/O4MWQ9PFm3LQQ+9BaymI08rcFNqmS+0g97MH+OGb/yyzTYDLvcdGfmOc1fOtvf0dEFCyXRQTV3YodxyvLi0xPHjPIamQsiXElq6DkzwfmrXVkNomIiIiILpYWXwKTHkbJys9wr+qjyRiCvgxeXBhvpp6AaQxeiIiIiKgFuURKYCihqhLHS95yWfpCRERERC3MJVICQ4nYX+YmX57I4IWIiIiIWhqWwBARERERUWCwBIaIiIiIiAKDAQwREREREQUGAxgiIiIiIgoMBjBERERERBQYDGCIiIiIiCgwGMAQEREREVFgMIAhIiIiIqLAYABDRERERESBwQCGiIiIiIgCgwEMEREREREFBgMYIiIiIiIKDAYwREREREQUGJdFBNXdZDcvGaW6KFkfzFiruoiIiIiIyAsDmBZi3Z3Pqy4iIiIiIvLCKmRERERERBQYaS2BISIiIiIiak4sgSEiIiIiosBgAENERERERIHBAIaIiIiIiAKDAQwREREREQUGAxgiIiIiIgoMBjBERERERBQYDGCIiIiIiCgwGMAQEREREVFgMIAhIiIiIqLAYABDRERERESBwQCGiIiIiIgCgwEMEREREREFBgMYIiIiIiIKDAYwREREREQUGAxgiIiIiIgoMBjAEBERERFRYDCAISIiIiKiwGAAQ0REREREgcEAhoiIiIiIAoMBDBERERERBQYDGCIiIiIiCgwGMEREREREFBgMYIiIiIiIKDAYwBARERERUWAwgCEiIiIiosBgAENERERERIHBAIaIiIiIiAKDAQwREREREQUGAxgiIiIiIgoMBjBERERERBQYDGCIiIiIiCgwGMAQEREREVFgMIAhIiIiIqLAYABDRERERESBwQCGiIiIiIgCgwEMEREREREFBgMYojSp2AQMfQ1YfFD1EA7uBkaIfjP3qB4U8xdg4XqxzcRn12eqHxEREVECzRjAhFFRdAu+1c36WVSl/m4u4TWY+GXMJ53UMk9cHVY9EpHbdioqooOrbb2kWv1uIeR6Fa1BvfrZJEHcr8J6sY/Oi+89J4BP9F6knD4CvPk30SE+2/6k9wucqhJxXjMfi8FTv3oqirfKVJqkk4dRd1Z1J02es0pQeUH99G0fSsaVo079avG09OG8Dn6rm1h3NUhUms5xcn865tfSrg1BIvah/2vzxVW5xLbfLR+XNGfnuGa30LyFItc33XmCwB8/AUqvTdU8AYx20p4PzN2ND/dbP0O2icSQrkytm1AIXcVXzdGg7EBxgpi7ASM37caKwpDql6wQOnQRX7Xh5tuuF1vg9qvudrFL24jvntcA1+q9SPlmJ2DoV0WH+Az6R71f4ISykItq1AX2enEede9fhcE9ZCpNTs3qVaj7Qv1I1pkDqPx6D3S9XP326/A+VPbpjmz1MxAmL3NcBz98CSJYsQW+TT7HVWORyGzNwmzn/AZtF9fkYAfa5M/kl2z7PvqZLs5VyfLIW4g8XtBuJibWmo8fsW6t8CZG+gMYGcFPAlbsX4YxLvnx3BkiMczNUb+aQw4eFwku9WDgS1YlEtVc922VDG27Li9Apvrd+gRsvyo33AK8PhpY3FP1oJivA7NuB94Un75fU/2CJlQgznW78Xgf9TtoLuzFzo9uQvY31G/fDuDtus7omvR4ykd7caJvZ2Son36d+EMVbviOzFEFXJ/p2DIPWLfTnCNqyjlOZr5Kke11I0zM78NNw7Eu38ddeCKT1p+3kPRaLRDBn+fxs382+qmf1DKkOYAxShMSRPqhUCs/GJLQp6DJwQt9OU4fEBnu1/V2LvIz6U1g1xn1p4dd2/Vh739P9TB8BlRsBUYb0xLdR8X07cMuVv9XnFA9JNF9v+q/S/XSXBC/RY9J6/T/horvxXuBv6q/PYl1qPg9MGatPt6I/wR+IZbFId3L7LUe9OURO7Dmn3OSL9HYvx1bs29K+Txe894+9Lsp2RPfedT8AfjOTcmXFrVEmR07o/LIx+pX09SvLkXZ5CnxryUi2F447wCWXiLVS6j51MsTfytSv3o+1g1bm+BGlMi3BjWvFg6jRnW2JukNYMLVWIfh6JfCTrbX3XTW4TOKwPRivuiwjupoqm61+hWj6nJGx/V5J8peh9lv9TdVnzk6nkvxXeJ11tnrZLoV3cphnP0TbSvFvqx+t419m3oWUdqWw2M4y/ZIuF/1aXqts7m/3+0czycigz6mVmS0zwNtvgJcKz5HRWQwa6fIjCXbfEAEGiu3Acs+1YOLa78qgiPRPUlMP2VimhVbxPJ8Ipbrf/RpXiG+X/8v4Kf24MlMDH+/CF6WiSDm9GX6eOe/AF4Ty/ILc0OD5lhmn+pXl2hF936OA3tatg/jOi1LevSbpg0ivdnSauJ5uLCcZzyqKqR6LlIaajdg0cOjkDdiHPLy8lFUtg91u7ejQ5csNYRyfAdKHi7EiIJR6J0zDsUbTQvTKNY3rx++NXYp9jw/zn15442vCWP/7u7oaS9ISTheLd77qA96tVc/pXOHsXLh01h3VP0WGg5vEdNR6zlwCArmr0HdOfWnhVgXbb/o54xE2zUd5xEzmQmcPMhcG8Hj2pXwWhLGzo3AgrsT12zI7Dcc2FgdXT+ZRl3XQ87TJc1at4EznXqmfZl2PdOr3P4Jrjm2tO9v2/u45jflmEp2mcQ2XSSHSbg/delOb04+to8g92XsPKofK3lzqlE2yRjPng7s03U5V7tui3SlAX/rFaMfPyNTybj6SD+VS/T5Jzp27Och6/rJdXK/Llj3j5M23/z5qCyLHZOObWdZj2SXTR3vSV6P0iKSTruejdy4uEr98Ks+suq+XpGndqmfys7FvWzTqoo81VX06/psZKfqo5HzvO/VyDH1U5+ebRht3Psjq+rVT43sZx/O6ljF/c71kfNLMJ5zmQTLtvG7zu7LoA1nWx85nHV6LuunLbttXLdlrX81co9je9m4DCOX4Z4KUw9tGOc+c66Tvm8ty2/ZXpLXfrX2k9smNh3/2zmuM5HIT9dEInniM+cD1U84eyQSqfxY/RBWbdSHeeYj1UOo3Kb3++Fu1UM49Qe9X97aSOT3n6qef41EStX45mGfkcOJz6o/qx6S6P6h6l+pekWn+R+in5iWRnw/I37L/uuN+bjYL+a3/pD6IfzpXTWtN8Q6qn7Nscyu/Vxo6UWkD0vactm32nCOc4E9jT4bWSU+1mkpftK0g0iDtuMn7jxcuJ/rEh0zgnY8248Jd8demRkZ/firkf0Nqofw6e9/FRnde1Zk42nVQzj22qLI3IrayKdfqB6fiWW5TczD+K1piGycaR3P4Gv8029GHpn5ZsScJH2Nd+jlyNiSveqHcOT1yFOLXo8cMw1z7BXbdIRPdzwbGftCrfplJrezn/NTE84jjvOYznV/up3jZJp0pC/9eIgttzO9eLMO65m+5XwTboPkji/ruTlGLoNbf4PbtvJc7ii5nvZrmHPdHfvA7ZgS/ezzSmmZjOuhbX/K7WIdL/X05rWNndzmoY4Hl/Rmn6ZbP53bdtfnZVlHsS2eqhAf27w8yf3icRw41yH+fndK9L87tzTgln60/WZfTi0tmIeT28g6nnUbO481g2NfuKRX5/Ec40xX9u2RaNmMdbQO82VIawAjVyruAexG7nDXDWvfYWKjeiT2nYvNw7ltbHFSdVss7SDyWl7vRB1/Pb0TWlQy6+y6DM55+ErEgnNbeSyr5zLGIQ8S8z6y/47ysY18HEQa83La19n3do7v7D49k533n5GIKTZx8BvArBeBgew3zry/BLdh/QYDxjR/KpbVzAhG5uxXPfwQyy/HMa9vcyxzMgGMJW0b4pyUDfZjVf5OKl17pmGD87yU9DxcWDMiqZ6LFJHxv+dn2yOfq59RX4jp3vFy5KD66U4eK09GtppH/nx7ZFbcbWLmMr4IKBIus8t4f37lwcistxr17rd+E3nqlUPWdfrgN5FHXKfr3Ee6OP3N27sp5xE5rhZs2D6u85XTs+5n97RvH847fTjJYWPL7Jl+7MeWWA/XY1BOzzRc3LTverw619nKOn2znYu9x0t8XHhvM8e49utKisvkeb6yn2OakN6MzHLC9OY1D5fznVsadOsneW932/aW8/GdZr3X23qelPNPIa/nss6J+U8/1jxXjGXZ5TJ4pCmd9zZw7AtHehUSTt8quWW7eNJahSyVOr2V28ptxeiGEPoNg6+n+2R2ijecLB4sR3F+rPgr+smfjzKv5a3ajrLJA13b8mjF8F7j+ahG53ud4yxDasI4Zq7yE29Z+wzE5GSfaqaeopOYfLJJoic3XYfs/qozHtkYtlMpFlVVY9HyLCw0NcBLR9qSjhrvKMkAblCdTfGRml7Pb+rf6WBMc9chvU2J8RmvduCfPte/vZwWw63cAcxcL8Yxqjf/DTilOptjmZtMprcEaVSek+zc04QH32naKql5uMjsZBo/1XOR5jzeLv8jxjw4AG1VnyjZ/uW2BO1fLnyMus+ykGke+WAtDt7is/2Ly/g1+3y0f3GMp9q/3NiIPStKsCl0Dx7/P1mmdTqLTeW/wbo5o5zn+W5TsbJLMu0ureeeJp9H3J5CNheYJZYttWpBYtu8ozpT0hkdkqwtI7dBrMqQdduW2Y5Bz7QfKsA0lFqrp1StwrphY72vcTLtm6q+mD8Tyw7gmOvm81ElqCnHVErLFIftHNPU9Ob6FDJbI3zveTRFvO2egyGTbdvGb97Gd9OEFPN6cvu/czi5vE6Tzsk6yzleLoNIU/Gqgn2ZWvKymaW3DYx8pGjSj/IVF9A4CdPvIyXjDzdBe1KQ46CWnxneB3Fup+tUl4t465nwYul/neMuQzwiAOk6Z77jYlFsPxHEW1YfB7WlrrO8mKn+iVgOEIOlHuYoFPu8SGcWTgEmTQWK7E9KSU/aSrcU3riR0FVf1b+19jmi2/7p5Mi9KiIwKdsAjNktvk8Ce0TQ8onLo3GbY5nTwpFGbfWfJ5Wr/v6lmqabxlrHWNYxN0v5XNRYjU1Hc9DzavXbpN6l/UtjeB8qls/HA2Nl+xGxLN2nYpOtkb9sN9OzlzMwlBKPH8b+Xc72L4nHq8V763eIzMkQTNyVhcE32hryN+7D2w2PYYfbOV583o9znk+sGc4j2tPrlolz9Kq49fNlZqhmkrUOv95g35x5kgGXz4yzbMzbXwSG6qd/OViwyX3bJvOEqtxBnVH8u1jartwGTEvw1LXceWvd5+vxpFNd4iAt5WNKSG2Z/Poyrlvx55G6eNu9CY+b930DIpW8XhLHj0lT0o9TDh7fNFsc68Y1wL29S/OJd/252MvmLc0BTA5GYgMsT4ZMKH6i7trR31EWf7gU7ooIcUuT4h1QCRNvetY5PvlIzimoM9+NWJ6FLfaLTbxljXehU43vrM9MX4bJ6u9E6o/AdAJVB8+2gaZprcUCPyUwQuUS+fjQtchebm+sl57t3NF4xG8DYHrJfso6/Z3+fSSZlwD+j/r28E2Vn+sr8qMrb3d+ZnXT/7ereV/83whcIdZxcV/g9e8Bb7oM2xzLnBamNKoHHrb3T700Qf3rQxPTdKr0xp3bMSQ6z93YMs96sU35XHSwFjtd/7e//+U8Kp+bhAfKD6HDkGlYWPpbbNmuL0c/S5BzVox3HXrdqH5G+Rxfvv/lavP7X3yOJ9//Mv4lfFi9DOOPPI15r9oO7JMncOz6EK5RP9Oruc7XPjJOMtDZlIWlxjlcfPKOTLFlxvQ78+bAwEv9zg3AsBzv9OKpCZlPsz5jsaB2u36eFsfbUiS+C5/ak9oSX/NTPqaE1JbJry8jf9Bc4m335gqazFLJ6+nHj/WR5ok1Jf24Uo/k164B2iPPUy2hTY6f68/FWrZE0vwY5RDGFHVG8Vz/TyPIHTTB446CXhyZOMEnGi61xBmvCpV2EfCKvn0Ecb7XOSQu4KYnxiRHBgXWROm4U6Ytq0cpiywijXMQVv6uKS/frMbWstidGnlHUT5/PV5pmBeZaV3aaTbGhETamysu9KYnujQ9bemu6ABor3H5G1C+X+ul+WsdUGb67Vc39fKLmhPAJ8abyP8EvPap6jYxSk42GztJDF9z2BlIDVU7apv4b5cItKJOiqBELKPXo5SPqD96/qP4XAu0ERnLoy6Phm6OZW4ySxqtRvnG4djShDugTUvTKdIycbKKUZxHz6d6LpI+a3A/vs9VY5Pp/S+N20pQmvlzLH+sALk3XoWMK2Vg4/KSS1nS8Zccx/tffI//R+v7X/yOF33/S7scPP7iY8CSp513AZO+6+lPus4jTrIqWIKSAhlUzwUWms/jLudJWQo9OVE1DzGtWXM6W0o83KpYupHboGxb4gApMZlHgPYoZ+14S/TkNJn2y1TA45uPa35TjqmUlsm/5ktvMbLafdJ5ooTiVXGzXvOTolVh8rO9U8zrCfL4cdRYiacp6ccP7cbFbFNVNPVC0XTzc/2xcyzbxZPmAEaQbRKGbUCeRzGTHu2Z/uszFiM3jnKceCuXjEJxF9tz7d+Zj1m2qE8Ot26YzMCqHi70xOmch8z8ekeROZgg18P+iMOqEuTZLgJWHkGcvBAZ0/K7ziKhTOtiX2dZRcZ/9ar49IvJRPvj7+SyTjoQ97GcznZH+mP+HNVtxD4rd6znVNTMi9V7lhdR+wlb2xaJ1lFekEWmNdruRWyvhZ1KY/vUd9qSwV6cYtGvAzNFECNtE7lw+Z6U8eIz+gNgpQhithltZHzqmi0+suO/9emMXy8CELGMu1yqbg1Sj4w9KHbQaDHcGDH8gyJwsGsjTm4z24kOMY1Zb4nhZFsWMezQHcBisczlIoBw0+3v9W+5XnIc+S6YSSJIsTd1aY5lTkaZrRqNnkaBFdHM3HXItgfj2jD+q5D5TtPpJC/O9guhdo4xn3dSPRcJslrvxu1421Ry1rB/DRYtfBnHTFW0Thw/jLZt/rf6JZw5gIqF9+OnH9hecilLdNpn6CUdjWK5RYAs+R3f3v7F33i297+I4/yXz2Zh5ULTeSvUA8M+K0fpZqPVlnDhLOo2l2LReq8D26dkrlG+6WnLfB5sGlnivkwcvB53RmX13PzDmGbPqIiMmLOqsRx2vvV400pOXK6XcliPxwB7kvPcOB9La/20axBpf94B5zVKO2d7Px7XPUMqt7kxThOOqRSXybdmSW9WrttHni/t+z0OtyBLTldW53Zu96akdbW9bftK5iUn2k7OqeX1JFlNKk7Jgkzn3cz/NSX9uBDj2ecrA6GupnZKWvVLW75SbgN7dWNPbgGXn+uPj2XTaj9chMcopz+AETILZUQnIrS5sWJv47N1kLyLZL5LKjLRy3djyDbrcEs7rXXeaeo/G9Mw3zFc4jum8uQuqxhZ5yGrisQbV1uPQdst42jVsBJFq/KtrUWHRRBnGk/eRYuuj/91zp2xVjuZxYbTq8isSFivRazzSyI4MU1f/9hOLnJZxbLJBqXRYbQLXfw72ZmFs23bUy7XWiyw3yWYvMyxnjINWLa7WIZpR6yNb7Vh4q2jdrLdgJFzraVKcrnk9tIPOJ/bWXvJU/xi+2t7iWClM9DzKyI7JTLtshSip8hgPT9EZNiTfYu8yP09JaY3VObHIsBp8RktttvCq/S/za7tKeZxrQgoLgP++jfR4+/EcP8sNqvpprZhRJ4Y9p/0ZTyt2rJ0vELslgHAVHMtIJOOYjlmiiBGTk6Oc0UG8OJgMbwYz6KZltmvyS8NxFbTPnRmxsS+liVw5mHkMbdptu9G+L7TdFqJ49R+rpBVKW1V31I+F8mgfsZ5lIy4Bb1HjEPBpGKsPj0I026Vd/RiiSKz31hcU36nNoz2jphfH0avH9yDYfZG/jfkYOQfizFADDfxX6vRKINmwd/4zvYvvsa7sBc7be9/advnx5jTZZX+LglNFsb/4jFkrJuE3jn5GFFQiLsefw112WPx+O2Jrg+JJHGNcuPa4HsU6op8lPbJ/afdELSP75ZRlte53Vhou0ZqHxnIuzY6jmXcosPK9CeOG+uw+jawn6e1Yf1sAwuZ+QO6OtosutPSvv0Y0WoXxEv7clvYqlBrx3NsnJSPKSG1ZfKraenN/WEL8mNOMy77XSvp81dl1ggUjHFjAYPc7va8n8+0Hofc3itgPY5kHsFR1Umbf/J5PY041mQ1KdfjR1VvN0+jKenHQeSB7POVy2x5sWa0cCA2jPs2cCHWTd4Mj44bDbzE9kp0/fGxbPVHxPSSfRBCGlwmH0Wmulu4aiwqCmNCEg0GL2Xa3QlZNOg44cm7IavQYXk6TrStSNUaVIiDPB13t1Il39o/65TII3YQQYQIFoLgy1hmeXenvOOyBG9JJmpt5Lla1jBwu0mX/PVQXhP83fBrbryWE1HTNUsJDF1s8nHJE0zVayguWZqzLXRRgxciIquPUYfZlkfDN0XuDL0ERS+dvoiqtqMmpQcJEBHFMIBplWT1kHKXOrrGHb101btuJWTRMYM9ImpRZLuu+c569lpbC7fHxidmBDFJt1tJF9V2Lek2AkRENgGqQkbJklVv7A285EuuWBWHiCgYnI2V5TtZ0vG+ESKi4GIAQ0REREREgcEqZEREREREFBgMYIiIiIiIKDAYwBARERERUWAwgCEiIiIiosBgAENERERERIHBAIaIiIiIiAKDAQwREREREQUGAxgiIiIiIgoMBjBERERERBQYDGCIiIiIiCgwGMAQEREREVFgMIAhIiIiIqLAYABDREREREQBAfx/R7IfaXY42ZwAAAAASUVORK5CYII=)"
      ],
      "metadata": {
        "id": "E4bnkaWI3UXW"
      }
    },
    {
      "cell_type": "markdown",
      "source": [
        "## Segunda etapa: baixando os dados relacionados a candidaturas\n"
      ],
      "metadata": {
        "id": "q6IR975mL1Lq"
      }
    },
    {
      "cell_type": "markdown",
      "source": [
        "Redirecionando para o BigQuery, uma nova janela se abre mostrando onde de fato os dados estão armazenados. Levariamos um pouco de tempo para explicar cada parte do BigQuery,vale a pena você aprender a ferramenta depois. Neste momento,\n",
        " vamos focar no que realmente importa: coletar nossos dados. 🔨\n",
        "\n",
        "Antes disso queremos consultar apenas as informações que nos servirão nesta análise. No centro da tela, você vai encontrar a opção **Consulta**. Ao clicar aparecerão algumas opções, clique em **Na guia dividida**.\n",
        "\n",
        "![image.png](data:image/png;base64,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)"
      ],
      "metadata": {
        "id": "-CfNB4i73Vhl"
      }
    },
    {
      "cell_type": "markdown",
      "source": [
        "Na guia dividida que abrirá, já aparecerá a seguinte frase (cláusula) do SQL:\n",
        "\n",
        "```SELECT  FROM 'basedosdados.br_tse_eleicoes.candidatos' LIMIT 1000```\n",
        "\n",
        "Para responder a nossa pergunta de análise, precisamos criar uma cláusula SQL que nos traga qual a raça, gênero e municipio. Além disso, precisamos trazer nestes dados extraídos, alguma coluna (variável) que nos possibilite fazer  integração entre bases, para saber se a pessoa foi eleita ou não.\n",
        "\n",
        "Com tudo isso em mente, vamos ver o que temos de colunas na base e o que podemos aproveitar para nossa consulta."
      ],
      "metadata": {
        "id": "sI4b56bi4_oy"
      }
    },
    {
      "cell_type": "markdown",
      "source": [
        "![image.png](data:image/png;base64,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)"
      ],
      "metadata": {
        "id": "NEdRRm7p9rLZ"
      }
    },
    {
      "cell_type": "markdown",
      "source": [
        "Para começar a construir nossa frase SQL, vamos clicar em **id_municipio**, **id_candidato_bd**, **genero** e **raca**. Observe que a medida que você clica em cima do nome dessas colunas, a frase que aparece na linha de consulta vai incluindo o conteúdo.\n",
        "\n",
        "Agora, apague o ```LIMIT 1000```e inclua no lugar ```WHERE ```.\n",
        "\n",
        "Após isso, clique em **ano** e inclua ```=2020```, clique em **sigla_uf** e escreva ```=PE``` e por último clique em **cargo** e escreva ```='vereador'```.\n",
        "\n",
        "Sua cláusula deve ser semelhante a esta:\n",
        "\n",
        "```\n",
        "SELECT id_municipio, id_candidato_bd, genero, raca FROM `basedosdados.br_tse_eleicoes.candidatos` WHERE ano = 2020 AND sigla_uf = 'PE' AND cargo = 'vereador'\n",
        "```\n",
        "\n",
        "Agora vamos entender o que isso significa.\n",
        "\n",
        "Traduzindo, o que esta cláusula quer dizer é o seguinte: traga o id de municipio, id de candidato, o genero e a raca (```SELECT id_municipio, id_candidato_bd, genero, raca```) que estão guardados (```FROM```) na tabela de candidatos (```basedosdados.br_tse_eleicoes.candidatos```), mas apenas os dados que sejam (```WHERE```) do ano de 2020 (```ano = 2020```), do estado de PE (```sigla_uf = 'PE'```) das pessoas vereadora (```cargo = 'vereador'```).\n",
        "\n",
        "> **Nota:** O ```WHERE``` funciona como um filtro, então tudo que vir após ele vai refinar sua pesquisa atendendo aos critérios especificados. No nosso caso, como utilizamos o ```AND```, é necessário que os resultados obrigatoriamente respeitem as 3 indicações que informamos.\n",
        "\n",
        "Dependendo da sua necessidade de análise, basta substituir o nome das colunas por quais quiser e utlizar os filtros que melhor te atendam.\n",
        "\n",
        "Agora, basta clicar em **executar**. Logo abaixo vai aparecer uma pequena guia com o resultado. Clique em **Salvar resultados** e escolha a opção **CSV (arquivo local)**. Guarda este arquivo, vamos utilizar daqui a pouco.\n",
        "\n"
      ],
      "metadata": {
        "id": "feXtSnGV9sOj"
      }
    },
    {
      "cell_type": "markdown",
      "source": [
        "Agora, precisamos saber se as candidaturas foram eleitas. Para isso, vamos precisar da base de resultados. Vamos voltar na página **Eleições Brasileiras** da BD e do lado esquerdo na área de **Tabelas tratadas**, vamos escolher a tabela **resultados_candidato**. O processo será o mesmo:\n",
        "- clicamos para ser redirecionado para o BigQuery\n",
        "- escolhemos **Consulta > Na guia dividida**\n",
        "\n",
        "Agora vamos construir nossa cláusula. Precisaremos do **id_municipio**, **id_candidato_bd** e **resultado**. Apagamos o ```LIMIT 1000``` e incluímos o mesmo conteúdo do ```WHERE``` da consulta anterior. No final, sua cláusula deve ser semelhante a essa:\n",
        "\n",
        "```\n",
        "SELECT id_municipio, id_candidato_bd, resultado FROM `basedosdados.br_tse_eleicoes.resultados_candidato` WHERE ano = 2020 AND sigla_uf = 'PE' AND cargo = 'vereador'\n",
        "```\n",
        "\n",
        "Execute e salve os resultados, tal qual fez anteriormente."
      ],
      "metadata": {
        "id": "G89xoFdUHhT5"
      }
    },
    {
      "cell_type": "markdown",
      "source": [
        "## Terceira etapa: baixando os dados de municípios\n"
      ],
      "metadata": {
        "id": "xX2yy9TyMgvR"
      }
    },
    {
      "cell_type": "markdown",
      "source": [
        "Nos dados que baixamos, temos uma coluna que nos trás a id do municipio, mas não nos diz qual o nome. A BD utiliza o padrão de identificação que o IBGE utiliza. Logo, tanto a base do IBGE quando a da BD irá lhe servir.\n",
        "\n",
        "Para adiantar, vou deixar aqui o [link para baixar](https://escoladedados.org/wp-content/uploads/2024/04/webinar-analisando-representatividade-eleitorais.zip)."
      ],
      "metadata": {
        "id": "DeQyCKiFM7v-"
      }
    },
    {
      "cell_type": "markdown",
      "source": [
        "# Tratando 🧹"
      ],
      "metadata": {
        "id": "03y8AYWiMDFg"
      }
    },
    {
      "cell_type": "markdown",
      "source": [
        "Daqui em diante, tudo que vamos fazer será utilizando a linguagem R.\n",
        "\n",
        "Para começar, precisamos carregar as bases que nós baixamos anteriormente.\n",
        "\n",
        "> **Nota:** Antes de utilizar, renomei a base para nomes simples que façam sentido com o conteúdo dos dados. Quando se usa mais de uma base, começa a ficar complicado distinguir quem é quem.\n",
        "\n",
        "No R, carregamos os dados utilizando o método ```read.csv()```. Dentro do parênteses, primeiro indicamos o caminho da base. Como armazenei as bases no GitHub, iremos referenciar o link de lá.\n",
        "\n",
        "> **Nota:** Você também pode subir temporariamente as bases aqui no Collab, basta clicar no ícone de pasta no lado esquerdo e escolher o primeiro ícone abaixo do nome **Arquivo**.\n",
        "\n",
        "Existem vários parâmetros que você pode passar para ajudar a carregar a base da melhor maneira possível. No nosso caso, estamos utilizando dois ```colClasses``` (indica que o R trate todo os dados como dados de texto), ```sep``` (indica que o arquivo csv está separado por ```;```). Consulte a [documentação](https://www.r-project.org/other-docs.html) para saber mais.\n",
        "\n",
        "Todas as bases vão ser armazenadas dentro dos objetos que utilizaremos durante todo o script. De maneira muito simples, objetos servem para armazenar conteúdo e podem ser nomeados do jeito que quiser. Mas lembrando: tente sempre utilizar nomes que façam sentido.\n",
        "\n",
        "Aqui construiremos 3 objetos:\n",
        "\n",
        "- ```cand``` (armazena conteúdo sobre candidatos),\n",
        "\n",
        "- ```elei``` (armazena conteúdo sobre eleições) e\n",
        "\n",
        "- ```muni``` (armazena conteúdo sobre municípios)."
      ],
      "metadata": {
        "id": "eD0ejIdOGth3"
      }
    },
    {
      "cell_type": "code",
      "source": [
        "#Carregando as bases de dados no Collab\n",
        "cand <- read.csv(\"https://raw.githubusercontent.com/escola-de-dados/tutorial-eleicoes/main/candidaturas_pe.csv\", colClasses = \"character\")\n",
        "elei <- read.csv(\"https://raw.githubusercontent.com/escola-de-dados/tutorial-eleicoes/main/resultado.csv\", colClasses = \"character\")\n",
        "muni <- read.csv(\"https://raw.githubusercontent.com/escola-de-dados/tutorial-eleicoes/main/webinar-analisando-representatividade-eleitorais/codigos_municipais.csv\", sep=\";\", colClasses = \"character\")"
      ],
      "metadata": {
        "id": "DccE1yh5OMno"
      },
      "execution_count": 2,
      "outputs": []
    },
    {
      "cell_type": "markdown",
      "source": [
        "Se quiser visualizar o conteúdo de cada objeto, só passar o nome deles aqui embaixo."
      ],
      "metadata": {
        "id": "8Gftwjn4yNzA"
      }
    },
    {
      "cell_type": "code",
      "source": [
        "#Substitua o nome abaixo por outro objeto. Tente você mesmo.\n",
        "cand"
      ],
      "metadata": {
        "id": "gy2osS4yP2HW",
        "colab": {
          "base_uri": "https://localhost:8080/",
          "height": 1000
        },
        "outputId": "7e5d9189-3e25-4146-b8ae-66068fdc0ebc"
      },
      "execution_count": 3,
      "outputs": [
        {
          "output_type": "display_data",
          "data": {
            "text/html": [
              "<table class=\"dataframe\">\n",
              "<caption>A data.frame: 19745 × 4</caption>\n",
              "<thead>\n",
              "\t<tr><th scope=col>id_municipio</th><th scope=col>id_candidato_bd</th><th scope=col>genero</th><th scope=col>raca</th></tr>\n",
              "\t<tr><th scope=col>&lt;chr&gt;</th><th scope=col>&lt;chr&gt;</th><th scope=col>&lt;chr&gt;</th><th scope=col>&lt;chr&gt;</th></tr>\n",
              "</thead>\n",
              "<tbody>\n",
              "\t<tr><td>2607901</td><td>670675 </td><td>masculino</td><td>amarela</td></tr>\n",
              "\t<tr><td>2607901</td><td>834223 </td><td>masculino</td><td>amarela</td></tr>\n",
              "\t<tr><td>2610707</td><td>597835 </td><td>masculino</td><td>amarela</td></tr>\n",
              "\t<tr><td>2615300</td><td>1264033</td><td>masculino</td><td>amarela</td></tr>\n",
              "\t<tr><td>2603454</td><td>513722 </td><td>feminino </td><td>amarela</td></tr>\n",
              "\t<tr><td>2603900</td><td>1677410</td><td>masculino</td><td>amarela</td></tr>\n",
              "\t<tr><td>2603900</td><td>505625 </td><td>masculino</td><td>amarela</td></tr>\n",
              "\t<tr><td>2607208</td><td>1242812</td><td>feminino </td><td>amarela</td></tr>\n",
              "\t<tr><td>2609600</td><td>1515407</td><td>masculino</td><td>amarela</td></tr>\n",
              "\t<tr><td>2611101</td><td>991985 </td><td>feminino </td><td>amarela</td></tr>\n",
              "\t<tr><td>2613107</td><td>296113 </td><td>masculino</td><td>amarela</td></tr>\n",
              "\t<tr><td>2613107</td><td>1774324</td><td>masculino</td><td>amarela</td></tr>\n",
              "\t<tr><td>2613107</td><td>941351 </td><td>feminino </td><td>amarela</td></tr>\n",
              "\t<tr><td>2603454</td><td>1067275</td><td>feminino </td><td>amarela</td></tr>\n",
              "\t<tr><td>2603702</td><td>807552 </td><td>masculino</td><td>amarela</td></tr>\n",
              "\t<tr><td>2604007</td><td>608371 </td><td>masculino</td><td>amarela</td></tr>\n",
              "\t<tr><td>2604007</td><td>226002 </td><td>masculino</td><td>amarela</td></tr>\n",
              "\t<tr><td>2604007</td><td>655019 </td><td>masculino</td><td>amarela</td></tr>\n",
              "\t<tr><td>2604007</td><td>46187  </td><td>masculino</td><td>amarela</td></tr>\n",
              "\t<tr><td>2604007</td><td>1341357</td><td>masculino</td><td>amarela</td></tr>\n",
              "\t<tr><td>2604007</td><td>1141814</td><td>masculino</td><td>amarela</td></tr>\n",
              "\t<tr><td>2604007</td><td>1005774</td><td>masculino</td><td>amarela</td></tr>\n",
              "\t<tr><td>2604007</td><td>596167 </td><td>feminino </td><td>amarela</td></tr>\n",
              "\t<tr><td>2604007</td><td>1226377</td><td>masculino</td><td>amarela</td></tr>\n",
              "\t<tr><td>2604007</td><td>187665 </td><td>feminino </td><td>amarela</td></tr>\n",
              "\t<tr><td>2607901</td><td>634229 </td><td>feminino </td><td>amarela</td></tr>\n",
              "\t<tr><td>2616183</td><td>1112837</td><td>feminino </td><td>amarela</td></tr>\n",
              "\t<tr><td>2602902</td><td>689802 </td><td>masculino</td><td>amarela</td></tr>\n",
              "\t<tr><td>2608008</td><td>1456489</td><td>feminino </td><td>amarela</td></tr>\n",
              "\t<tr><td>2608008</td><td>1362062</td><td>feminino </td><td>amarela</td></tr>\n",
              "\t<tr><td>⋮</td><td>⋮</td><td>⋮</td><td>⋮</td></tr>\n",
              "\t<tr><td>2603926</td><td>898643 </td><td>masculino</td><td>indigena</td></tr>\n",
              "\t<tr><td>2603926</td><td>1232918</td><td>feminino </td><td>indigena</td></tr>\n",
              "\t<tr><td>2603926</td><td>1161002</td><td>feminino </td><td>indigena</td></tr>\n",
              "\t<tr><td>2603926</td><td>1334569</td><td>feminino </td><td>indigena</td></tr>\n",
              "\t<tr><td>2603926</td><td>568202 </td><td>masculino</td><td>indigena</td></tr>\n",
              "\t<tr><td>2603926</td><td>503260 </td><td>masculino</td><td>indigena</td></tr>\n",
              "\t<tr><td>2603926</td><td>1046063</td><td>masculino</td><td>indigena</td></tr>\n",
              "\t<tr><td>2603926</td><td>1030266</td><td>masculino</td><td>indigena</td></tr>\n",
              "\t<tr><td>2603926</td><td>1176336</td><td>masculino</td><td>indigena</td></tr>\n",
              "\t<tr><td>2603926</td><td>839679 </td><td>masculino</td><td>indigena</td></tr>\n",
              "\t<tr><td>2601052</td><td>1245134</td><td>masculino</td><td>indigena</td></tr>\n",
              "\t<tr><td>2603009</td><td>1448849</td><td>masculino</td><td>indigena</td></tr>\n",
              "\t<tr><td>2605707</td><td>1023268</td><td>feminino </td><td>indigena</td></tr>\n",
              "\t<tr><td>2606606</td><td>513872 </td><td>masculino</td><td>indigena</td></tr>\n",
              "\t<tr><td>2607000</td><td>1517307</td><td>masculino</td><td>indigena</td></tr>\n",
              "\t<tr><td>2607000</td><td>1225265</td><td>masculino</td><td>indigena</td></tr>\n",
              "\t<tr><td>2614808</td><td>1267564</td><td>masculino</td><td>indigena</td></tr>\n",
              "\t<tr><td>2614808</td><td>755485 </td><td>feminino </td><td>indigena</td></tr>\n",
              "\t<tr><td>2606606</td><td>263687 </td><td>feminino </td><td>indigena</td></tr>\n",
              "\t<tr><td>2611606</td><td>507384 </td><td>masculino</td><td>indigena</td></tr>\n",
              "\t<tr><td>2601706</td><td>836241 </td><td>masculino</td><td>indigena</td></tr>\n",
              "\t<tr><td>2608057</td><td>1189402</td><td>masculino</td><td>indigena</td></tr>\n",
              "\t<tr><td>2608057</td><td>1531685</td><td>masculino</td><td>indigena</td></tr>\n",
              "\t<tr><td>2609303</td><td>1315033</td><td>masculino</td><td>indigena</td></tr>\n",
              "\t<tr><td>2609303</td><td>1289229</td><td>masculino</td><td>indigena</td></tr>\n",
              "\t<tr><td>2610905</td><td>220082 </td><td>masculino</td><td>indigena</td></tr>\n",
              "\t<tr><td>2610905</td><td>643385 </td><td>masculino</td><td>indigena</td></tr>\n",
              "\t<tr><td>2608057</td><td>1283310</td><td>feminino </td><td>indigena</td></tr>\n",
              "\t<tr><td>2608057</td><td>1018546</td><td>masculino</td><td>indigena</td></tr>\n",
              "\t<tr><td>2609808</td><td>1312663</td><td>masculino</td><td>indigena</td></tr>\n",
              "</tbody>\n",
              "</table>\n"
            ],
            "text/markdown": "\nA data.frame: 19745 × 4\n\n| id_municipio &lt;chr&gt; | id_candidato_bd &lt;chr&gt; | genero &lt;chr&gt; | raca &lt;chr&gt; |\n|---|---|---|---|\n| 2607901 | 670675  | masculino | amarela |\n| 2607901 | 834223  | masculino | amarela |\n| 2610707 | 597835  | masculino | amarela |\n| 2615300 | 1264033 | masculino | amarela |\n| 2603454 | 513722  | feminino  | amarela |\n| 2603900 | 1677410 | masculino | amarela |\n| 2603900 | 505625  | masculino | amarela |\n| 2607208 | 1242812 | feminino  | amarela |\n| 2609600 | 1515407 | masculino | amarela |\n| 2611101 | 991985  | feminino  | amarela |\n| 2613107 | 296113  | masculino | amarela |\n| 2613107 | 1774324 | masculino | amarela |\n| 2613107 | 941351  | feminino  | amarela |\n| 2603454 | 1067275 | feminino  | amarela |\n| 2603702 | 807552  | masculino | amarela |\n| 2604007 | 608371  | masculino | amarela |\n| 2604007 | 226002  | masculino | amarela |\n| 2604007 | 655019  | masculino | amarela |\n| 2604007 | 46187   | masculino | amarela |\n| 2604007 | 1341357 | masculino | amarela |\n| 2604007 | 1141814 | masculino | amarela |\n| 2604007 | 1005774 | masculino | amarela |\n| 2604007 | 596167  | feminino  | amarela |\n| 2604007 | 1226377 | masculino | amarela |\n| 2604007 | 187665  | feminino  | amarela |\n| 2607901 | 634229  | feminino  | amarela |\n| 2616183 | 1112837 | feminino  | amarela |\n| 2602902 | 689802  | masculino | amarela |\n| 2608008 | 1456489 | feminino  | amarela |\n| 2608008 | 1362062 | feminino  | amarela |\n| ⋮ | ⋮ | ⋮ | ⋮ |\n| 2603926 | 898643  | masculino | indigena |\n| 2603926 | 1232918 | feminino  | indigena |\n| 2603926 | 1161002 | feminino  | indigena |\n| 2603926 | 1334569 | feminino  | indigena |\n| 2603926 | 568202  | masculino | indigena |\n| 2603926 | 503260  | masculino | indigena |\n| 2603926 | 1046063 | masculino | indigena |\n| 2603926 | 1030266 | masculino | indigena |\n| 2603926 | 1176336 | masculino | indigena |\n| 2603926 | 839679  | masculino | indigena |\n| 2601052 | 1245134 | masculino | indigena |\n| 2603009 | 1448849 | masculino | indigena |\n| 2605707 | 1023268 | feminino  | indigena |\n| 2606606 | 513872  | masculino | indigena |\n| 2607000 | 1517307 | masculino | indigena |\n| 2607000 | 1225265 | masculino | indigena |\n| 2614808 | 1267564 | masculino | indigena |\n| 2614808 | 755485  | feminino  | indigena |\n| 2606606 | 263687  | feminino  | indigena |\n| 2611606 | 507384  | masculino | indigena |\n| 2601706 | 836241  | masculino | indigena |\n| 2608057 | 1189402 | masculino | indigena |\n| 2608057 | 1531685 | masculino | indigena |\n| 2609303 | 1315033 | masculino | indigena |\n| 2609303 | 1289229 | masculino | indigena |\n| 2610905 | 220082  | masculino | indigena |\n| 2610905 | 643385  | masculino | indigena |\n| 2608057 | 1283310 | feminino  | indigena |\n| 2608057 | 1018546 | masculino | indigena |\n| 2609808 | 1312663 | masculino | indigena |\n\n",
            "text/latex": "A data.frame: 19745 × 4\n\\begin{tabular}{llll}\n id\\_municipio & id\\_candidato\\_bd & genero & raca\\\\\n <chr> & <chr> & <chr> & <chr>\\\\\n\\hline\n\t 2607901 & 670675  & masculino & amarela\\\\\n\t 2607901 & 834223  & masculino & amarela\\\\\n\t 2610707 & 597835  & masculino & amarela\\\\\n\t 2615300 & 1264033 & masculino & amarela\\\\\n\t 2603454 & 513722  & feminino  & amarela\\\\\n\t 2603900 & 1677410 & masculino & amarela\\\\\n\t 2603900 & 505625  & masculino & amarela\\\\\n\t 2607208 & 1242812 & feminino  & amarela\\\\\n\t 2609600 & 1515407 & masculino & amarela\\\\\n\t 2611101 & 991985  & feminino  & amarela\\\\\n\t 2613107 & 296113  & masculino & amarela\\\\\n\t 2613107 & 1774324 & masculino & amarela\\\\\n\t 2613107 & 941351  & feminino  & amarela\\\\\n\t 2603454 & 1067275 & feminino  & amarela\\\\\n\t 2603702 & 807552  & masculino & amarela\\\\\n\t 2604007 & 608371  & masculino & amarela\\\\\n\t 2604007 & 226002  & masculino & amarela\\\\\n\t 2604007 & 655019  & masculino & amarela\\\\\n\t 2604007 & 46187   & masculino & amarela\\\\\n\t 2604007 & 1341357 & masculino & amarela\\\\\n\t 2604007 & 1141814 & masculino & amarela\\\\\n\t 2604007 & 1005774 & masculino & amarela\\\\\n\t 2604007 & 596167  & feminino  & amarela\\\\\n\t 2604007 & 1226377 & masculino & amarela\\\\\n\t 2604007 & 187665  & feminino  & amarela\\\\\n\t 2607901 & 634229  & feminino  & amarela\\\\\n\t 2616183 & 1112837 & feminino  & amarela\\\\\n\t 2602902 & 689802  & masculino & amarela\\\\\n\t 2608008 & 1456489 & feminino  & amarela\\\\\n\t 2608008 & 1362062 & feminino  & amarela\\\\\n\t ⋮ & ⋮ & ⋮ & ⋮\\\\\n\t 2603926 & 898643  & masculino & indigena\\\\\n\t 2603926 & 1232918 & feminino  & indigena\\\\\n\t 2603926 & 1161002 & feminino  & indigena\\\\\n\t 2603926 & 1334569 & feminino  & indigena\\\\\n\t 2603926 & 568202  & masculino & indigena\\\\\n\t 2603926 & 503260  & masculino & indigena\\\\\n\t 2603926 & 1046063 & masculino & indigena\\\\\n\t 2603926 & 1030266 & masculino & indigena\\\\\n\t 2603926 & 1176336 & masculino & indigena\\\\\n\t 2603926 & 839679  & masculino & indigena\\\\\n\t 2601052 & 1245134 & masculino & indigena\\\\\n\t 2603009 & 1448849 & masculino & indigena\\\\\n\t 2605707 & 1023268 & feminino  & indigena\\\\\n\t 2606606 & 513872  & masculino & indigena\\\\\n\t 2607000 & 1517307 & masculino & indigena\\\\\n\t 2607000 & 1225265 & masculino & indigena\\\\\n\t 2614808 & 1267564 & masculino & indigena\\\\\n\t 2614808 & 755485  & feminino  & indigena\\\\\n\t 2606606 & 263687  & feminino  & indigena\\\\\n\t 2611606 & 507384  & masculino & indigena\\\\\n\t 2601706 & 836241  & masculino & indigena\\\\\n\t 2608057 & 1189402 & masculino & indigena\\\\\n\t 2608057 & 1531685 & masculino & indigena\\\\\n\t 2609303 & 1315033 & masculino & indigena\\\\\n\t 2609303 & 1289229 & masculino & indigena\\\\\n\t 2610905 & 220082  & masculino & indigena\\\\\n\t 2610905 & 643385  & masculino & indigena\\\\\n\t 2608057 & 1283310 & feminino  & indigena\\\\\n\t 2608057 & 1018546 & masculino & indigena\\\\\n\t 2609808 & 1312663 & masculino & indigena\\\\\n\\end{tabular}\n",
            "text/plain": [
              "      id_municipio id_candidato_bd genero    raca    \n",
              "1     2607901      670675          masculino amarela \n",
              "2     2607901      834223          masculino amarela \n",
              "3     2610707      597835          masculino amarela \n",
              "4     2615300      1264033         masculino amarela \n",
              "5     2603454      513722          feminino  amarela \n",
              "6     2603900      1677410         masculino amarela \n",
              "7     2603900      505625          masculino amarela \n",
              "8     2607208      1242812         feminino  amarela \n",
              "9     2609600      1515407         masculino amarela \n",
              "10    2611101      991985          feminino  amarela \n",
              "11    2613107      296113          masculino amarela \n",
              "12    2613107      1774324         masculino amarela \n",
              "13    2613107      941351          feminino  amarela \n",
              "14    2603454      1067275         feminino  amarela \n",
              "15    2603702      807552          masculino amarela \n",
              "16    2604007      608371          masculino amarela \n",
              "17    2604007      226002          masculino amarela \n",
              "18    2604007      655019          masculino amarela \n",
              "19    2604007      46187           masculino amarela \n",
              "20    2604007      1341357         masculino amarela \n",
              "21    2604007      1141814         masculino amarela \n",
              "22    2604007      1005774         masculino amarela \n",
              "23    2604007      596167          feminino  amarela \n",
              "24    2604007      1226377         masculino amarela \n",
              "25    2604007      187665          feminino  amarela \n",
              "26    2607901      634229          feminino  amarela \n",
              "27    2616183      1112837         feminino  amarela \n",
              "28    2602902      689802          masculino amarela \n",
              "29    2608008      1456489         feminino  amarela \n",
              "30    2608008      1362062         feminino  amarela \n",
              "⋮     ⋮            ⋮               ⋮         ⋮       \n",
              "19716 2603926      898643          masculino indigena\n",
              "19717 2603926      1232918         feminino  indigena\n",
              "19718 2603926      1161002         feminino  indigena\n",
              "19719 2603926      1334569         feminino  indigena\n",
              "19720 2603926      568202          masculino indigena\n",
              "19721 2603926      503260          masculino indigena\n",
              "19722 2603926      1046063         masculino indigena\n",
              "19723 2603926      1030266         masculino indigena\n",
              "19724 2603926      1176336         masculino indigena\n",
              "19725 2603926      839679          masculino indigena\n",
              "19726 2601052      1245134         masculino indigena\n",
              "19727 2603009      1448849         masculino indigena\n",
              "19728 2605707      1023268         feminino  indigena\n",
              "19729 2606606      513872          masculino indigena\n",
              "19730 2607000      1517307         masculino indigena\n",
              "19731 2607000      1225265         masculino indigena\n",
              "19732 2614808      1267564         masculino indigena\n",
              "19733 2614808      755485          feminino  indigena\n",
              "19734 2606606      263687          feminino  indigena\n",
              "19735 2611606      507384          masculino indigena\n",
              "19736 2601706      836241          masculino indigena\n",
              "19737 2608057      1189402         masculino indigena\n",
              "19738 2608057      1531685         masculino indigena\n",
              "19739 2609303      1315033         masculino indigena\n",
              "19740 2609303      1289229         masculino indigena\n",
              "19741 2610905      220082          masculino indigena\n",
              "19742 2610905      643385          masculino indigena\n",
              "19743 2608057      1283310         feminino  indigena\n",
              "19744 2608057      1018546         masculino indigena\n",
              "19745 2609808      1312663         masculino indigena"
            ]
          },
          "metadata": {}
        }
      ]
    },
    {
      "cell_type": "markdown",
      "source": [
        "É sempre bom entender minimamente os dados que estamos trabalhando para identificar particularidades. Na base de candidatos, existem situações como candidaturas deferidas e indeferidas, documentos que não são apresentados, etc, que podem atrapalhar de alguma forma a análise. Para mitigar esse processo, vamos utilizar um script que indique para armazenar os dados de candidatos onde todos os campos estão preenchidos.\n",
        "\n",
        "Vamos utilizar o ```subset```, que consegue criar um subconjunto de dados com o tratamento que você indicou. No nosso caso, ele está criando um sbconjunto onde deve incluir apenas dados sem campos vazios ```id_candidato_bd!=``` e armazenando isso novamente nos objetos já indicados anteriormente."
      ],
      "metadata": {
        "id": "srPTnjXcyM9C"
      }
    },
    {
      "cell_type": "code",
      "source": [
        "#Criando um conjunto de dados sem campos vazio\n",
        "cand <- subset(cand, id_candidato_bd!=\"\")\n",
        "elei <- subset(elei, id_candidato_bd!=\"\")"
      ],
      "metadata": {
        "id": "-oui44bNR4tH"
      },
      "execution_count": 4,
      "outputs": []
    },
    {
      "cell_type": "markdown",
      "source": [
        "A base de municípios tem muitas variáveis (colunas). Execute o script abaixo para visualizar."
      ],
      "metadata": {
        "id": "Mt82dy3gTD7q"
      }
    },
    {
      "cell_type": "code",
      "source": [
        "#consultando as variáveis que tem na base dos municipios\n",
        "names(muni)"
      ],
      "metadata": {
        "colab": {
          "base_uri": "https://localhost:8080/",
          "height": 52
        },
        "id": "MccJRzL6TF4l",
        "outputId": "3b0110ba-7883-43e5-c854-5e330a42ea15"
      },
      "execution_count": 5,
      "outputs": [
        {
          "output_type": "display_data",
          "data": {
            "text/html": [
              "<style>\n",
              ".list-inline {list-style: none; margin:0; padding: 0}\n",
              ".list-inline>li {display: inline-block}\n",
              ".list-inline>li:not(:last-child)::after {content: \"\\00b7\"; padding: 0 .5ex}\n",
              "</style>\n",
              "<ol class=list-inline><li>'UF'</li><li>'Nome_UF'</li><li>'Região.Geográfica.Intermediária'</li><li>'Nome.Região.Geográfica.Intermediária'</li><li>'Região.Geográfica.Imediata'</li><li>'Nome.Região.Geográfica.Imediata'</li><li>'Mesorregião.Geográfica'</li><li>'Nome_Mesorregião'</li><li>'Microrregião.Geográfica'</li><li>'Nome_Microrregião'</li><li>'Município'</li><li>'Código.Município.Completo'</li><li>'Nome_Município'</li></ol>\n"
            ],
            "text/markdown": "1. 'UF'\n2. 'Nome_UF'\n3. 'Região.Geográfica.Intermediária'\n4. 'Nome.Região.Geográfica.Intermediária'\n5. 'Região.Geográfica.Imediata'\n6. 'Nome.Região.Geográfica.Imediata'\n7. 'Mesorregião.Geográfica'\n8. 'Nome_Mesorregião'\n9. 'Microrregião.Geográfica'\n10. 'Nome_Microrregião'\n11. 'Município'\n12. 'Código.Município.Completo'\n13. 'Nome_Município'\n\n\n",
            "text/latex": "\\begin{enumerate*}\n\\item 'UF'\n\\item 'Nome\\_UF'\n\\item 'Região.Geográfica.Intermediária'\n\\item 'Nome.Região.Geográfica.Intermediária'\n\\item 'Região.Geográfica.Imediata'\n\\item 'Nome.Região.Geográfica.Imediata'\n\\item 'Mesorregião.Geográfica'\n\\item 'Nome\\_Mesorregião'\n\\item 'Microrregião.Geográfica'\n\\item 'Nome\\_Microrregião'\n\\item 'Município'\n\\item 'Código.Município.Completo'\n\\item 'Nome\\_Município'\n\\end{enumerate*}\n",
            "text/plain": [
              " [1] \"UF\"                                  \n",
              " [2] \"Nome_UF\"                             \n",
              " [3] \"Região.Geográfica.Intermediária\"     \n",
              " [4] \"Nome.Região.Geográfica.Intermediária\"\n",
              " [5] \"Região.Geográfica.Imediata\"          \n",
              " [6] \"Nome.Região.Geográfica.Imediata\"     \n",
              " [7] \"Mesorregião.Geográfica\"              \n",
              " [8] \"Nome_Mesorregião\"                    \n",
              " [9] \"Microrregião.Geográfica\"             \n",
              "[10] \"Nome_Microrregião\"                   \n",
              "[11] \"Município\"                           \n",
              "[12] \"Código.Município.Completo\"           \n",
              "[13] \"Nome_Município\"                      "
            ]
          },
          "metadata": {}
        }
      ]
    },
    {
      "cell_type": "markdown",
      "source": [
        "As únicas variáveis que queremos para integrar a outras bases é ```Código.Município.Completo``` e ```Nome_Município```. Uma maneira simples de fazer isso, é passando para o objeto armazenar apenas a posição das variáveis que você quer.\n",
        "\n",
        "*Certo, mas como eu sei qual é a posição da variável que eu quero?* Contando! 😉\n",
        "\n",
        "Na minha contagem, identifiquei que os dados que preciso estão na posição 12 e 13.\n",
        "\n",
        "> **Nota:** sempre que precisar se referir a um objeto, use colchetes ```[]``` e dentro passe o que precisa.\n",
        "\n",
        "Após incluir o colchete no objeto, preciso incluir o primeiro conteúdo que deve ser relacionado a linhas e depois o segundo (após a virgula) relacionado a colunas.\n",
        "\n",
        "No caso do script abaixo temos ```[,c(12,13)]```. Antes da vírgula não tem nada, então estou dizendo que quero todas as linhas. Depois da vírgula tem a localização das duas variáveis (colunas) que quero.\n",
        "\n",
        "Em resumo estou dizendo: \"*traga todas as linhas das colunas 12 e 13*\"."
      ],
      "metadata": {
        "id": "uXGZXbStUR35"
      }
    },
    {
      "cell_type": "code",
      "source": [
        "#deixando só as 2 variáveis que tenho interesse (código e nome do munícipio)\n",
        "muni <- muni[,c(12,13)]\n",
        "names(muni)"
      ],
      "metadata": {
        "colab": {
          "base_uri": "https://localhost:8080/",
          "height": 34
        },
        "id": "buW1KsHjUE3W",
        "outputId": "9111d185-e4f1-4acb-b993-9d253b1cc814"
      },
      "execution_count": 6,
      "outputs": [
        {
          "output_type": "display_data",
          "data": {
            "text/html": [
              "<style>\n",
              ".list-inline {list-style: none; margin:0; padding: 0}\n",
              ".list-inline>li {display: inline-block}\n",
              ".list-inline>li:not(:last-child)::after {content: \"\\00b7\"; padding: 0 .5ex}\n",
              "</style>\n",
              "<ol class=list-inline><li>'Código.Município.Completo'</li><li>'Nome_Município'</li></ol>\n"
            ],
            "text/markdown": "1. 'Código.Município.Completo'\n2. 'Nome_Município'\n\n\n",
            "text/latex": "\\begin{enumerate*}\n\\item 'Código.Município.Completo'\n\\item 'Nome\\_Município'\n\\end{enumerate*}\n",
            "text/plain": [
              "[1] \"Código.Município.Completo\" \"Nome_Município\"           "
            ]
          },
          "metadata": {}
        }
      ]
    },
    {
      "cell_type": "markdown",
      "source": [
        "#  Integrando 🖇"
      ],
      "metadata": {
        "id": "fDrOICVaf7vT"
      }
    },
    {
      "cell_type": "markdown",
      "source": [
        "Chegou a hora de criar uma base só com duas das bases que coletamos. Essa integração irá facilitar as análises que precisamos fazer para responder nossa pergunta principal.\n",
        "\n",
        "A integração sempre acontece de duas em duas bases, utilizando o método ```merge```.\n",
        "\n",
        "Vamos integrar primeiro a base ```cand``` com a base ```muni```. O ```merge``` identifica cada base utilizando x e y, de acordo com a ordem informada. Quem você informar primeiro será x, quem informar depois será y. Além disso, obrigatoriamente precisa ser passado alguns parâmetros. Vamos entender.\n",
        "\n",
        "1. Primeiro você precisa dizer quais são as bases ```(cand, muni)```, representando x e y respectivamente;\n",
        "2. Agora, informe a variável que essas bases tem em comum, na ordem indicada anteriormente (```by.x=\"id_municipio\", by.y = \"Código.Município.Completo\"```). Observe que os parametros tem os indicadores x e y já para você entender a qual base está se referindo;\n",
        "3. Informe as variáveis que você quer manter de cada base (```all.x = T, all.y = F```) onde ```T``` é ```True``` (você quer manter tudo da base ```cand```) e ```F``` é ```False``` (elimine tudo que tem na base ```muni``` que não tenha na base ```cand```);\n",
        "4. Defina que não quer integrar as linhas cujos campos estejam vazios (```incomparables = NA```).\n",
        "\n",
        "Seu script deve ser semelhante a este abaixo."
      ],
      "metadata": {
        "id": "UMs09PCJhIsk"
      }
    },
    {
      "cell_type": "code",
      "source": [
        "#dando o merge da base de candidatos com a de municípios. Está salvo no objeto cand, mas você pode utilizar outro objeto.\n",
        "cand <- merge(cand, muni, by.x=\"id_municipio\", by.y = \"Código.Município.Completo\",\n",
        "              all.x = T, all.y = F, incomparables = NA)"
      ],
      "metadata": {
        "id": "pmOJBxWnhqxP"
      },
      "execution_count": 7,
      "outputs": []
    },
    {
      "cell_type": "markdown",
      "source": [
        "Agora temos uma base personalizada do nosso jeito. Maravilha!\n",
        "\n",
        "Vamos observar a variável raça. Usaremos o ```table``` para fazer isso.\n",
        "\n"
      ],
      "metadata": {
        "id": "qwmzhCDSmO6s"
      }
    },
    {
      "cell_type": "code",
      "source": [
        "table(cand$raca)"
      ],
      "metadata": {
        "colab": {
          "base_uri": "https://localhost:8080/",
          "height": 0
        },
        "id": "DqdSsZKfmmju",
        "outputId": "06fd0f49-78bc-420e-f593-55a5f2b07079"
      },
      "execution_count": 8,
      "outputs": [
        {
          "output_type": "display_data",
          "data": {
            "text/plain": [
              "\n",
              "          amarela   branca indigena    parda    preta \n",
              "     115       58     6810      122    10434     2185 "
            ]
          },
          "metadata": {}
        }
      ]
    },
    {
      "cell_type": "markdown",
      "source": [
        "O TSE utiliza a mesma nomenclatura do IBGE para esta variável. Sendo assim, a raça está classificada em 5 categorias: *branco, parda, preto, indígena e amarelo.* No entanto, no Brasil entendemos que a população negra é composta por pessoas que se identificam como parda ou preta. Queremos somar a quantidade dessas duas variáveis, e passar a chamar de ```negra```.\n",
        "\n",
        "Para fazer essa modificação, utilizaremos o método ```which```. Esse método precisa saber qual a tabela, qual a variável e o que será substituido.\n",
        "\n",
        "No exemplo a seguir, indicamos qual é a tabela, qual é a variável. (```cand$raca```) e o que atualmente tem lá ```=='parda'```.\n",
        "\n",
        ">  **Nota:** A chamada da base deve ser sempre o nome da base e o nome da coluna, separado com um cifrão ```$```\n",
        "\n",
        "Depois indicamos que queremos substituir o conteúdo atual pelo novo, no caso ```<- negra```.\n",
        "\n",
        "Seu script deve ser semelhante a esses abaixo."
      ],
      "metadata": {
        "id": "fsSKG4sJmf2A"
      }
    },
    {
      "cell_type": "code",
      "source": [
        "#transformando parda em negra\n",
        "cand$raca[which(cand$raca==\"parda\")] <- \"negra\""
      ],
      "metadata": {
        "id": "bbdkvcAtnJnE"
      },
      "execution_count": 9,
      "outputs": []
    },
    {
      "cell_type": "code",
      "source": [
        "#transformando preta em negra\n",
        "cand$raca[which(cand$raca==\"preta\")] <- \"negra\""
      ],
      "metadata": {
        "id": "ktp3w8rDJLhl"
      },
      "execution_count": 10,
      "outputs": []
    },
    {
      "cell_type": "markdown",
      "source": [
        "Se você olhar novamente a tabela, verá que tudo que antes era ```parda``` e  ```preta```, passa a ser ```negra```."
      ],
      "metadata": {
        "id": "5iPmQRLbJUh0"
      }
    },
    {
      "cell_type": "code",
      "source": [
        "table(cand$raca)"
      ],
      "metadata": {
        "colab": {
          "base_uri": "https://localhost:8080/",
          "height": 0
        },
        "id": "XjqhuzSQJoOD",
        "outputId": "03144fe0-76f4-46fc-c5bc-4362e87e20be"
      },
      "execution_count": 11,
      "outputs": [
        {
          "output_type": "display_data",
          "data": {
            "text/plain": [
              "\n",
              "          amarela   branca indigena    negra \n",
              "     115       58     6810      122    12619 "
            ]
          },
          "metadata": {}
        }
      ]
    },
    {
      "cell_type": "markdown",
      "source": [
        "Só nesse script já conseguimos visualiar que temos um auto índice de candidaturas negras.\n",
        "\n",
        "Vamos em frente!\n",
        "\n",
        "A nossa base está composta de pessoas do gênero masculino e feminino. Para nós, só interessa saber o quantitativo de mulheres negras eleitas. Para facilitar a análise, podemos criar uma nova variável \"colando\" o gênero com a raça. Nesta operação vamos utilizar o ```paste```.\n",
        "\n",
        "O ```paste``` exige saber qual o nome da nova variável que vamos armazenar os objetos (```cand$gen_raca```), o que será \"colado\" (```cand$genero, cand$raca```) e opcionalmente se quer colocar algo entre as duas variáveis coladas (```sep='_'```).\n",
        "\n",
        "Seu script deve estar semelhante a este abaixo."
      ],
      "metadata": {
        "id": "qGUC5ve2KS3X"
      }
    },
    {
      "cell_type": "code",
      "source": [
        "#juntando a variável gênero e raça\n",
        "cand$gen_raca <- paste(cand$genero, cand$raca, sep = \"_\")"
      ],
      "metadata": {
        "id": "kOww3MdFMWMi"
      },
      "execution_count": 12,
      "outputs": []
    },
    {
      "cell_type": "markdown",
      "source": [
        "Veja agora como ficou."
      ],
      "metadata": {
        "id": "ddm7YhNPMd_Y"
      }
    },
    {
      "cell_type": "code",
      "source": [
        "table(cand$gen_raca)"
      ],
      "metadata": {
        "colab": {
          "base_uri": "https://localhost:8080/",
          "height": 0
        },
        "id": "h6gPczXYMgSy",
        "outputId": "c45dcdab-5e4b-46f7-afb6-216ced0907bc"
      },
      "execution_count": 13,
      "outputs": [
        {
          "output_type": "display_data",
          "data": {
            "text/plain": [
              "\n",
              "         feminino_   feminino_amarela    feminino_branca  feminino_indigena \n",
              "                42                 22               2477                 36 \n",
              "    feminino_negra         masculino_  masculino_amarela   masculino_branca \n",
              "              4021                 73                 36               4333 \n",
              "masculino_indigena    masculino_negra \n",
              "                86               8598 "
            ]
          },
          "metadata": {}
        }
      ]
    },
    {
      "cell_type": "markdown",
      "source": [
        "As variáveis que tem o ```_``` seguido de nenhuma informação, são as pessoas que não informaram raça.\n",
        "Aqui, mais uma vez, você já consegue ter uma noção geral que as candidaturas ```masculino_negra``` são mais que o dobro das ```feminino_negra```."
      ],
      "metadata": {
        "id": "CXMV0yN5Mo7N"
      }
    },
    {
      "cell_type": "markdown",
      "source": [
        "Se você chegou até aqui, parabéns! 🎉\n",
        "\n",
        "Você conseguiu fazer a limpeza nos dados. Ainda que simples, é um processo super importante.\n",
        "\n",
        "Agora é o momento mais divertido: analisar! 🪄"
      ],
      "metadata": {
        "id": "sI3Gatk0M--w"
      }
    },
    {
      "cell_type": "markdown",
      "source": [
        "#  Analisando 🔎"
      ],
      "metadata": {
        "id": "Aj-XzJwDVmWM"
      }
    },
    {
      "cell_type": "markdown",
      "source": [
        "Os resumos que vimos no processo de limpeza nos trás uma visão do estado de PE. Nosso objetivo é saber como essas informações se comportam em cada município.\n",
        "\n",
        "Temos todas as informações que precisamos, só basta saber como visualizar-las na tabela. Para isso, vamos utilizar novamente o ```table```.\n",
        "\n",
        "Em um novo objeto, vamos passar no ```table``` as duas variáveis que queremos visualizar: ```cand$Nome_Município``` e ```cand$gen_raca```."
      ],
      "metadata": {
        "id": "csQeflWbOzIV"
      }
    },
    {
      "cell_type": "code",
      "source": [
        "tnegras <- table(cand$Nome_Município, cand$gen_raca)"
      ],
      "metadata": {
        "id": "L-B1b3CSREiI"
      },
      "execution_count": 14,
      "outputs": []
    },
    {
      "cell_type": "code",
      "source": [
        "tnegras"
      ],
      "metadata": {
        "colab": {
          "base_uri": "https://localhost:8080/",
          "height": 1000
        },
        "id": "wP-662tOl52j",
        "outputId": "63eda0d0-741a-4d83-9f90-f2354050eb87"
      },
      "execution_count": 15,
      "outputs": [
        {
          "output_type": "display_data",
          "data": {
            "text/plain": [
              "                           \n",
              "                            feminino_ feminino_amarela feminino_branca\n",
              "  Abreu e Lima                      0                0              29\n",
              "  Afogados da Ingazeira             0                0              14\n",
              "  Afrânio                           0                0               7\n",
              "  Agrestina                         0                0              11\n",
              "  Água Preta                        0                0               7\n",
              "  Águas Belas                       0                0              16\n",
              "  Alagoinha                         0                0               2\n",
              "  Aliança                           0                0              13\n",
              "  Altinho                           0                0               7\n",
              "  Amaraji                           0                0              11\n",
              "  Angelim                           0                0               4\n",
              "  Araçoiaba                         0                0               7\n",
              "  Araripina                         0                0               8\n",
              "  Arcoverde                         0                1              18\n",
              "  Barra de Guabiraba                0                0               3\n",
              "  Barreiros                         0                0              22\n",
              "  Belém de Maria                    0                0               3\n",
              "  Belém do São Francisco            0                0               6\n",
              "  Belo Jardim                       0                0              30\n",
              "  Betânia                           0                0               7\n",
              "  Bezerros                          0                0              22\n",
              "  Bodocó                            4                0               4\n",
              "  Bom Conselho                      0                0              12\n",
              "  Bom Jardim                        0                0              19\n",
              "  Bonito                            1                1              29\n",
              "  Brejão                            0                0               8\n",
              "  Brejinho                          0                0               3\n",
              "  Brejo da Madre de Deus            0                0              17\n",
              "  Buenos Aires                      0                0               6\n",
              "  Buíque                            0                0              11\n",
              "  Cabo de Santo Agostinho           0                0              56\n",
              "  Cabrobó                           0                0              11\n",
              "  Cachoeirinha                      0                0               3\n",
              "  Caetés                            0                0              11\n",
              "  Calçado                           0                0               2\n",
              "  Calumbi                           0                0               0\n",
              "  Camaragibe                        3                2              41\n",
              "  Camocim de São Félix              0                0              11\n",
              "  Camutanga                         0                0               4\n",
              "  Canhotinho                        0                0               6\n",
              "  Capoeiras                         0                0              13\n",
              "  Carnaíba                          0                0               9\n",
              "  Carnaubeira da Penha              0                0               3\n",
              "  Carpina                           0                2              36\n",
              "  Caruaru                           1                1              76\n",
              "  Casinhas                          0                0              12\n",
              "  Catende                           0                1              22\n",
              "  Cedro                             0                0               5\n",
              "  Chã de Alegria                    0                0               6\n",
              "  Chã Grande                        0                0              17\n",
              "  Condado                           0                0              14\n",
              "  Correntes                         0                0               3\n",
              "  Cortês                            0                0               6\n",
              "  Cumaru                            0                0               6\n",
              "  Cupira                            0                0              14\n",
              "  Custódia                          0                0               5\n",
              "  Dormentes                         0                0              10\n",
              "  Escada                            0                0              34\n",
              "  Exu                               4                0               6\n",
              "  Feira Nova                        0                0              17\n",
              "  Ferreiros                         0                0               2\n",
              "  Flores                            0                0               6\n",
              "  Floresta                          1                0               2\n",
              "  Frei Miguelinho                   0                0              11\n",
              "  Gameleira                         0                0              12\n",
              "  Garanhuns                         0                0              39\n",
              "  Glória do Goitá                   0                0              12\n",
              "  Goiana                            0                0              30\n",
              "  Granito                           3                0               0\n",
              "  Gravatá                           0                0              59\n",
              "  Iati                              0                0              12\n",
              "  Ibimirim                          0                0               5\n",
              "  Ibirajuba                         0                0               6\n",
              "  Igarassu                          0                0              28\n",
              "  Iguaracy                          1                0               7\n",
              "  Ilha de Itamaracá                 0                0              13\n",
              "  Inajá                             0                0               6\n",
              "  Ingazeira                         0                0               4\n",
              "  Ipojuca                           0                1              26\n",
              "  Ipubi                             0                0               9\n",
              "  Itacuruba                         0                0               3\n",
              "  Itaíba                            0                0               5\n",
              "  Itambé                            0                0               5\n",
              "  Itapetim                          0                0               4\n",
              "  Itapissuma                        0                0               2\n",
              "  Itaquitinga                       0                0               9\n",
              "  Jaboatão dos Guararapes           0                2              82\n",
              "  Jaqueira                          0                0              12\n",
              "  Jataúba                           0                2               5\n",
              "  Jatobá                            0                0              12\n",
              "  João Alfredo                      0                0              14\n",
              "  Joaquim Nabuco                    0                0               6\n",
              "  Jucati                            0                0               4\n",
              "  Jupi                              0                0               7\n",
              "  Jurema                            0                0               6\n",
              "  Lagoa de Itaenga                  0                0              11\n",
              "  Lagoa do Carro                    0                0               8\n",
              "  Lagoa do Ouro                     0                0               6\n",
              "  Lagoa dos Gatos                   0                0              10\n",
              "  Lagoa Grande                      0                0               4\n",
              "  Lajedo                            0                0              10\n",
              "  Limoeiro                          0                0              29\n",
              "  Macaparana                        0                0              13\n",
              "  Machados                          0                0               8\n",
              "  Manari                            0                0               2\n",
              "  Maraial                           0                0              13\n",
              "  Mirandiba                         0                0               3\n",
              "  Moreilândia                       0                0               1\n",
              "  Moreno                            0                0              20\n",
              "  Nazaré da Mata                    0                1              25\n",
              "  Olinda                            0                0              67\n",
              "  Orobó                             0                0               6\n",
              "  Orocó                             2                0               8\n",
              "  Ouricuri                          0                0               8\n",
              "  Palmares                          0                0              21\n",
              "  Palmeirina                        0                0               8\n",
              "  Panelas                           0                0               7\n",
              "  Paranatama                        0                0               3\n",
              "  Parnamirim                        0                0               4\n",
              "  Passira                           0                0              22\n",
              "  Paudalho                          0                0              13\n",
              "  Paulista                          3                1              60\n",
              "  Pedra                             0                0              12\n",
              "  Pesqueira                         0                0              13\n",
              "  Petrolândia                       0                1              16\n",
              "  Petrolina                         0                1              32\n",
              "  Poção                             0                0               0\n",
              "  Pombos                            0                0              20\n",
              "  Primavera                         4                0              12\n",
              "  Quipapá                           0                0              14\n",
              "  Quixaba                           0                0               4\n",
              "  Recife                           12                0             100\n",
              "  Riacho das Almas                  0                0              21\n",
              "  Ribeirão                          0                0              15\n",
              "  Rio Formoso                       0                0               9\n",
              "  Sairé                             0                0               8\n",
              "  Salgadinho                        0                0               5\n",
              "  Salgueiro                         0                0              17\n",
              "  Saloá                             0                0               7\n",
              "  Sanharó                           0                0               5\n",
              "  Santa Cruz                        0                0               5\n",
              "  Santa Cruz da Baixa Verde         0                0               3\n",
              "  Santa Cruz do Capibaribe          3                0              27\n",
              "  Santa Filomena                    0                0               2\n",
              "  Santa Maria da Boa Vista          0                0               4\n",
              "  Santa Maria do Cambucá            0                0              14\n",
              "  Santa Terezinha                   0                0               3\n",
              "  São Benedito do Sul               0                0               7\n",
              "  São Bento do Una                  0                0              21\n",
              "  São Caitano                       0                1              17\n",
              "  São João                          0                0               7\n",
              "  São Joaquim do Monte              0                0              19\n",
              "  São José da Coroa Grande          0                0              18\n",
              "  São José do Belmonte              0                0               4\n",
              "  São José do Egito                 0                2              11\n",
              "  São Lourenço da Mata              0                0              43\n",
              "  São Vicente Férrer                0                0              11\n",
              "  Serra Talhada                     0                0               7\n",
              "  Serrita                           0                0               8\n",
              "  Sertânia                          0                0              12\n",
              "  Sirinhaém                         0                1              13\n",
              "  Solidão                           0                0               5\n",
              "  Surubim                           0                0              30\n",
              "  Tabira                            0                0               9\n",
              "  Tacaimbó                          0                0               7\n",
              "  Tacaratu                          0                0               8\n",
              "  Tamandaré                         0                0               5\n",
              "  Taquaritinga do Norte             0                0              16\n",
              "  Terezinha                         0                0               7\n",
              "  Terra Nova                        0                0               2\n",
              "  Timbaúba                          0                0              18\n",
              "  Toritama                          0                0              27\n",
              "  Tracunhaém                        0                0              11\n",
              "  Trindade                          0                0               2\n",
              "  Triunfo                           0                0               8\n",
              "  Tupanatinga                       0                0               6\n",
              "  Tuparetama                        0                0               7\n",
              "  Venturosa                         0                0               3\n",
              "  Verdejante                        0                0               5\n",
              "  Vertente do Lério                 0                1               9\n",
              "  Vertentes                         0                0               7\n",
              "  Vicência                          0                0               7\n",
              "  Vitória de Santo Antão            0                0              37\n",
              "  Xexéu                             0                0               5\n",
              "                           \n",
              "                            feminino_indigena feminino_negra masculino_\n",
              "  Abreu e Lima                              0             62          0\n",
              "  Afogados da Ingazeira                     0             19          0\n",
              "  Afrânio                                   0              6          0\n",
              "  Agrestina                                 0             11          0\n",
              "  Água Preta                                0             20          0\n",
              "  Águas Belas                               0             21          0\n",
              "  Alagoinha                                 0             11          0\n",
              "  Aliança                                   0             15          0\n",
              "  Altinho                                   0             14          0\n",
              "  Amaraji                                   0             19          0\n",
              "  Angelim                                   0             10          0\n",
              "  Araçoiaba                                 0             32          0\n",
              "  Araripina                                 0             28          0\n",
              "  Arcoverde                                 1             32          0\n",
              "  Barra de Guabiraba                        0              6          0\n",
              "  Barreiros                                 0             27          0\n",
              "  Belém de Maria                            0             19          0\n",
              "  Belém do São Francisco                    1             14          0\n",
              "  Belo Jardim                               0             28          0\n",
              "  Betânia                                   0              8          0\n",
              "  Bezerros                                  0             28          0\n",
              "  Bodocó                                    0              8          9\n",
              "  Bom Conselho                              0             25          0\n",
              "  Bom Jardim                                0             18          0\n",
              "  Bonito                                    0              7          1\n",
              "  Brejão                                    0              5          0\n",
              "  Brejinho                                  0              7          0\n",
              "  Brejo da Madre de Deus                    0             13          0\n",
              "  Buenos Aires                              0             17          0\n",
              "  Buíque                                    0             12          0\n",
              "  Cabo de Santo Agostinho                   0            125          0\n",
              "  Cabrobó                                   0             25          0\n",
              "  Cachoeirinha                              0             11          0\n",
              "  Caetés                                    0              7          0\n",
              "  Calçado                                   0              5          0\n",
              "  Calumbi                                   0              8          0\n",
              "  Camaragibe                                0             98          4\n",
              "  Camocim de São Félix                      0              9          0\n",
              "  Camutanga                                 0             12          0\n",
              "  Canhotinho                                0              8          0\n",
              "  Capoeiras                                 0             11          0\n",
              "  Carnaíba                                  0              9          0\n",
              "  Carnaubeira da Penha                     16              2          0\n",
              "  Carpina                                   0             44          0\n",
              "  Caruaru                                   0             73          5\n",
              "  Casinhas                                  0              7          0\n",
              "  Catende                                   0             46          0\n",
              "  Cedro                                     0              8          0\n",
              "  Chã de Alegria                            0             11          0\n",
              "  Chã Grande                                0             11          0\n",
              "  Condado                                   0             24          0\n",
              "  Correntes                                 0              7          0\n",
              "  Cortês                                    0             18          0\n",
              "  Cumaru                                    0             15          0\n",
              "  Cupira                                    0             13          0\n",
              "  Custódia                                  0              7          0\n",
              "  Dormentes                                 0              6          0\n",
              "  Escada                                    0             42          0\n",
              "  Exu                                       0             14          9\n",
              "  Feira Nova                                0             14          0\n",
              "  Ferreiros                                 0             10          0\n",
              "  Flores                                    0              4          0\n",
              "  Floresta                                  1             22          1\n",
              "  Frei Miguelinho                           0              5          0\n",
              "  Gameleira                                 0             19          0\n",
              "  Garanhuns                                 0             49          0\n",
              "  Glória do Goitá                           0             23          0\n",
              "  Goiana                                    0             46          0\n",
              "  Granito                                   0              3          5\n",
              "  Gravatá                                   0             29          0\n",
              "  Iati                                      0             14          0\n",
              "  Ibimirim                                  1             13          0\n",
              "  Ibirajuba                                 0              3          0\n",
              "  Igarassu                                  0             48          0\n",
              "  Iguaracy                                  0              9          0\n",
              "  Ilha de Itamaracá                         0             34          0\n",
              "  Inajá                                     1             14          0\n",
              "  Ingazeira                                 0              3          0\n",
              "  Ipojuca                                   0             76          0\n",
              "  Ipubi                                     0             10          0\n",
              "  Itacuruba                                 2              2          0\n",
              "  Itaíba                                    0             25          0\n",
              "  Itambé                                    0             27          0\n",
              "  Itapetim                                  0              6          0\n",
              "  Itapissuma                                0             23          0\n",
              "  Itaquitinga                               0             24          0\n",
              "  Jaboatão dos Guararapes                   1            158          0\n",
              "  Jaqueira                                  0             21          0\n",
              "  Jataúba                                   0              9          0\n",
              "  Jatobá                                    5             12          0\n",
              "  João Alfredo                              0              7          0\n",
              "  Joaquim Nabuco                            0             19          0\n",
              "  Jucati                                    0              8          0\n",
              "  Jupi                                      0              0          0\n",
              "  Jurema                                    0              5          0\n",
              "  Lagoa de Itaenga                          0             24          0\n",
              "  Lagoa do Carro                            0             30          0\n",
              "  Lagoa do Ouro                             0             10          0\n",
              "  Lagoa dos Gatos                           0             10          0\n",
              "  Lagoa Grande                              0             11          0\n",
              "  Lajedo                                    0             21          0\n",
              "  Limoeiro                                  0             37          0\n",
              "  Macaparana                                0              4          0\n",
              "  Machados                                  0              7          0\n",
              "  Manari                                    0             12          0\n",
              "  Maraial                                   0             17          0\n",
              "  Mirandiba                                 2             24          0\n",
              "  Moreilândia                               0              8          0\n",
              "  Moreno                                    0             60          0\n",
              "  Nazaré da Mata                            0             30          0\n",
              "  Olinda                                    0            114          0\n",
              "  Orobó                                     0             17          0\n",
              "  Orocó                                     0              9          0\n",
              "  Ouricuri                                  0             38          0\n",
              "  Palmares                                  1             58          0\n",
              "  Palmeirina                                0             13          0\n",
              "  Panelas                                   0              7          0\n",
              "  Paranatama                                0             12          0\n",
              "  Parnamirim                                0              6          0\n",
              "  Passira                                   0             20          0\n",
              "  Paudalho                                  0             46          0\n",
              "  Paulista                                  0            113          4\n",
              "  Pedra                                     0              0          0\n",
              "  Pesqueira                                 0             46          0\n",
              "  Petrolândia                               1             40          0\n",
              "  Petrolina                                 1             86          0\n",
              "  Poção                                     0             10          0\n",
              "  Pombos                                    0             11          0\n",
              "  Primavera                                 0              6          6\n",
              "  Quipapá                                   0             14          0\n",
              "  Quixaba                                   0              2          0\n",
              "  Recife                                    1            172         18\n",
              "  Riacho das Almas                          0              3          0\n",
              "  Ribeirão                                  0             34          0\n",
              "  Rio Formoso                               0             36          0\n",
              "  Sairé                                     0              3          0\n",
              "  Salgadinho                                0              2          0\n",
              "  Salgueiro                                 0             30          3\n",
              "  Saloá                                     0             11          0\n",
              "  Sanharó                                   0             10          0\n",
              "  Santa Cruz                                0              3          0\n",
              "  Santa Cruz da Baixa Verde                 0             18          0\n",
              "  Santa Cruz do Capibaribe                  0             28          5\n",
              "  Santa Filomena                            0              9          0\n",
              "  Santa Maria da Boa Vista                  0             30          0\n",
              "  Santa Maria do Cambucá                    0              8          0\n",
              "  Santa Terezinha                           0              8          0\n",
              "  São Benedito do Sul                       0              6          0\n",
              "  São Bento do Una                          0             15          0\n",
              "  São Caitano                               0             35          0\n",
              "  São João                                  0             13          0\n",
              "  São Joaquim do Monte                      0             13          1\n",
              "  São José da Coroa Grande                  0             28          0\n",
              "  São José do Belmonte                      0              6          0\n",
              "  São José do Egito                         0              9          1\n",
              "  São Lourenço da Mata                      0             68          0\n",
              "  São Vicente Férrer                        0              8          0\n",
              "  Serra Talhada                             0             47          0\n",
              "  Serrita                                   0              5          0\n",
              "  Sertânia                                  0              9          0\n",
              "  Sirinhaém                                 0             37          0\n",
              "  Solidão                                   0              3          0\n",
              "  Surubim                                   0             23          0\n",
              "  Tabira                                    0             11          0\n",
              "  Tacaimbó                                  0             18          0\n",
              "  Tacaratu                                  1             11          0\n",
              "  Tamandaré                                 0             40          1\n",
              "  Taquaritinga do Norte                     0             11          0\n",
              "  Terezinha                                 0              2          0\n",
              "  Terra Nova                                0              9          0\n",
              "  Timbaúba                                  0             32          0\n",
              "  Toritama                                  0              6          0\n",
              "  Tracunhaém                                0             13          0\n",
              "  Trindade                                  0             15          0\n",
              "  Triunfo                                   0              8          0\n",
              "  Tupanatinga                               0             20          0\n",
              "  Tuparetama                                0              6          0\n",
              "  Venturosa                                 0              9          0\n",
              "  Verdejante                                0              6          0\n",
              "  Vertente do Lério                         0              7          0\n",
              "  Vertentes                                 0              7          0\n",
              "  Vicência                                  0             18          0\n",
              "  Vitória de Santo Antão                    0             45          0\n",
              "  Xexéu                                     0             12          0\n",
              "                           \n",
              "                            masculino_amarela masculino_branca\n",
              "  Abreu e Lima                              0               61\n",
              "  Afogados da Ingazeira                     0               28\n",
              "  Afrânio                                   0               19\n",
              "  Agrestina                                 0               17\n",
              "  Água Preta                                0                9\n",
              "  Águas Belas                               0               13\n",
              "  Alagoinha                                 0               11\n",
              "  Aliança                                   0               24\n",
              "  Altinho                                   0               17\n",
              "  Amaraji                                   0               12\n",
              "  Angelim                                   0                9\n",
              "  Araçoiaba                                 0                6\n",
              "  Araripina                                 0               10\n",
              "  Arcoverde                                 0               34\n",
              "  Barra de Guabiraba                        0                6\n",
              "  Barreiros                                 1               31\n",
              "  Belém de Maria                            0                2\n",
              "  Belém do São Francisco                    0               10\n",
              "  Belo Jardim                               0               46\n",
              "  Betânia                                   0                7\n",
              "  Bezerros                                  0               48\n",
              "  Bodocó                                    0               11\n",
              "  Bom Conselho                              0               29\n",
              "  Bom Jardim                                0               31\n",
              "  Bonito                                    0               60\n",
              "  Brejão                                    0                9\n",
              "  Brejinho                                  0                4\n",
              "  Brejo da Madre de Deus                    0               31\n",
              "  Buenos Aires                              0               19\n",
              "  Buíque                                    0               14\n",
              "  Cabo de Santo Agostinho                   1              100\n",
              "  Cabrobó                                   0               14\n",
              "  Cachoeirinha                              0                9\n",
              "  Caetés                                    0                8\n",
              "  Calçado                                   0                7\n",
              "  Calumbi                                   0                0\n",
              "  Camaragibe                                0               89\n",
              "  Camocim de São Félix                      0               13\n",
              "  Camutanga                                 0               13\n",
              "  Canhotinho                                1               11\n",
              "  Capoeiras                                 0               16\n",
              "  Carnaíba                                  2               16\n",
              "  Carnaubeira da Penha                      0                7\n",
              "  Carpina                                   8               55\n",
              "  Caruaru                                   0              147\n",
              "  Casinhas                                  0               13\n",
              "  Catende                                   0               30\n",
              "  Cedro                                     0                3\n",
              "  Chã de Alegria                            0               17\n",
              "  Chã Grande                                0               36\n",
              "  Condado                                   0               25\n",
              "  Correntes                                 0                3\n",
              "  Cortês                                    0               18\n",
              "  Cumaru                                    0                7\n",
              "  Cupira                                    0               20\n",
              "  Custódia                                  0                7\n",
              "  Dormentes                                 0                6\n",
              "  Escada                                    0               44\n",
              "  Exu                                       0                8\n",
              "  Feira Nova                                0               28\n",
              "  Ferreiros                                 0                9\n",
              "  Flores                                    0               11\n",
              "  Floresta                                  0               14\n",
              "  Frei Miguelinho                           0               23\n",
              "  Gameleira                                 1               18\n",
              "  Garanhuns                                 0               63\n",
              "  Glória do Goitá                           0               17\n",
              "  Goiana                                    1               60\n",
              "  Granito                                   0                1\n",
              "  Gravatá                                   0              101\n",
              "  Iati                                      0               16\n",
              "  Ibimirim                                  0                7\n",
              "  Ibirajuba                                 0               11\n",
              "  Igarassu                                  0               40\n",
              "  Iguaracy                                  0               13\n",
              "  Ilha de Itamaracá                         0               32\n",
              "  Inajá                                     0                6\n",
              "  Ingazeira                                 0                4\n",
              "  Ipojuca                                   0               61\n",
              "  Ipubi                                     0               17\n",
              "  Itacuruba                                 0                9\n",
              "  Itaíba                                    0                3\n",
              "  Itambé                                    0               10\n",
              "  Itapetim                                  0                9\n",
              "  Itapissuma                                0                7\n",
              "  Itaquitinga                               0               15\n",
              "  Jaboatão dos Guararapes                   2              164\n",
              "  Jaqueira                                  1               11\n",
              "  Jataúba                                   0               10\n",
              "  Jatobá                                    0               17\n",
              "  João Alfredo                              0               16\n",
              "  Joaquim Nabuco                            0                6\n",
              "  Jucati                                    0                5\n",
              "  Jupi                                      0                7\n",
              "  Jurema                                    0               13\n",
              "  Lagoa de Itaenga                          0               18\n",
              "  Lagoa do Carro                            1               22\n",
              "  Lagoa do Ouro                             0                7\n",
              "  Lagoa dos Gatos                           0               16\n",
              "  Lagoa Grande                              0                6\n",
              "  Lajedo                                    0               22\n",
              "  Limoeiro                                  0               61\n",
              "  Macaparana                                0               17\n",
              "  Machados                                  0                8\n",
              "  Manari                                    0                2\n",
              "  Maraial                                   1               23\n",
              "  Mirandiba                                 0                9\n",
              "  Moreilândia                               0                4\n",
              "  Moreno                                    0               30\n",
              "  Nazaré da Mata                            1               33\n",
              "  Olinda                                    1              119\n",
              "  Orobó                                     0                7\n",
              "  Orocó                                     0                9\n",
              "  Ouricuri                                  0                7\n",
              "  Palmares                                  1               30\n",
              "  Palmeirina                                0               16\n",
              "  Panelas                                   0               10\n",
              "  Paranatama                                0                7\n",
              "  Parnamirim                                0                8\n",
              "  Passira                                   0               56\n",
              "  Paudalho                                  0               16\n",
              "  Paulista                                  1              108\n",
              "  Pedra                                     0               23\n",
              "  Pesqueira                                 0               13\n",
              "  Petrolândia                               0               26\n",
              "  Petrolina                                 0               71\n",
              "  Poção                                     0                4\n",
              "  Pombos                                    0               38\n",
              "  Primavera                                 0               18\n",
              "  Quipapá                                   0               27\n",
              "  Quixaba                                   0                5\n",
              "  Recife                                    0              213\n",
              "  Riacho das Almas                          0               30\n",
              "  Ribeirão                                  0               26\n",
              "  Rio Formoso                               0               17\n",
              "  Sairé                                     2                9\n",
              "  Salgadinho                                0                8\n",
              "  Salgueiro                                 0               32\n",
              "  Saloá                                     0                7\n",
              "  Sanharó                                   0               13\n",
              "  Santa Cruz                                0                8\n",
              "  Santa Cruz da Baixa Verde                 0                7\n",
              "  Santa Cruz do Capibaribe                  0               50\n",
              "  Santa Filomena                            0                4\n",
              "  Santa Maria da Boa Vista                  0               11\n",
              "  Santa Maria do Cambucá                    0               15\n",
              "  Santa Terezinha                           0                6\n",
              "  São Benedito do Sul                       0               19\n",
              "  São Bento do Una                          0               42\n",
              "  São Caitano                               2               28\n",
              "  São João                                  0               14\n",
              "  São Joaquim do Monte                      0               32\n",
              "  São José da Coroa Grande                  0               28\n",
              "  São José do Belmonte                      0                7\n",
              "  São José do Egito                         3               19\n",
              "  São Lourenço da Mata                      0               65\n",
              "  São Vicente Férrer                        0               17\n",
              "  Serra Talhada                             0               21\n",
              "  Serrita                                   0               12\n",
              "  Sertânia                                  0               16\n",
              "  Sirinhaém                                 1               22\n",
              "  Solidão                                   0                5\n",
              "  Surubim                                   0               59\n",
              "  Tabira                                    0               17\n",
              "  Tacaimbó                                  0               14\n",
              "  Tacaratu                                  0               24\n",
              "  Tamandaré                                 0               13\n",
              "  Taquaritinga do Norte                     0               29\n",
              "  Terezinha                                 0                4\n",
              "  Terra Nova                                0                6\n",
              "  Timbaúba                                  2               32\n",
              "  Toritama                                  1               35\n",
              "  Tracunhaém                                0               18\n",
              "  Trindade                                  0               10\n",
              "  Triunfo                                   0                7\n",
              "  Tupanatinga                               0                7\n",
              "  Tuparetama                                0                7\n",
              "  Venturosa                                 0                9\n",
              "  Verdejante                                0                3\n",
              "  Vertente do Lério                         1               17\n",
              "  Vertentes                                 0               10\n",
              "  Vicência                                  0               10\n",
              "  Vitória de Santo Antão                    0               75\n",
              "  Xexéu                                     0                4\n",
              "                           \n",
              "                            masculino_indigena masculino_negra\n",
              "  Abreu e Lima                               0              95\n",
              "  Afogados da Ingazeira                      0              39\n",
              "  Afrânio                                    0               9\n",
              "  Agrestina                                  0              27\n",
              "  Água Preta                                 0              46\n",
              "  Águas Belas                                3              66\n",
              "  Alagoinha                                  0              16\n",
              "  Aliança                                    0              28\n",
              "  Altinho                                    0              25\n",
              "  Amaraji                                    0              42\n",
              "  Angelim                                    0              19\n",
              "  Araçoiaba                                  2              61\n",
              "  Araripina                                  0              65\n",
              "  Arcoverde                                  0              61\n",
              "  Barra de Guabiraba                         0              12\n",
              "  Barreiros                                  0              61\n",
              "  Belém de Maria                             0              29\n",
              "  Belém do São Francisco                     0              31\n",
              "  Belo Jardim                                1              72\n",
              "  Betânia                                    0              20\n",
              "  Bezerros                                   0              59\n",
              "  Bodocó                                     0              17\n",
              "  Bom Conselho                               0              38\n",
              "  Bom Jardim                                 0              41\n",
              "  Bonito                                     0              24\n",
              "  Brejão                                     0              13\n",
              "  Brejinho                                   0              14\n",
              "  Brejo da Madre de Deus                     0              31\n",
              "  Buenos Aires                               0              24\n",
              "  Buíque                                     2              35\n",
              "  Cabo de Santo Agostinho                    0             279\n",
              "  Cabrobó                                    3              54\n",
              "  Cachoeirinha                               0              21\n",
              "  Caetés                                     0              27\n",
              "  Calçado                                    0               9\n",
              "  Calumbi                                    0              17\n",
              "  Camaragibe                                 3             222\n",
              "  Camocim de São Félix                       0              23\n",
              "  Camutanga                                  0              17\n",
              "  Canhotinho                                 0              17\n",
              "  Capoeiras                                  0              33\n",
              "  Carnaíba                                   0              20\n",
              "  Carnaubeira da Penha                      30               4\n",
              "  Carpina                                    0             104\n",
              "  Caruaru                                    0             165\n",
              "  Casinhas                                   0              22\n",
              "  Catende                                    0             100\n",
              "  Cedro                                      0              17\n",
              "  Chã de Alegria                             0              15\n",
              "  Chã Grande                                 0              17\n",
              "  Condado                                    0              42\n",
              "  Correntes                                  0              16\n",
              "  Cortês                                     0              24\n",
              "  Cumaru                                     0              30\n",
              "  Cupira                                     0              31\n",
              "  Custódia                                   0              15\n",
              "  Dormentes                                  0              19\n",
              "  Escada                                     0              95\n",
              "  Exu                                        0              32\n",
              "  Feira Nova                                 0              28\n",
              "  Ferreiros                                  0              11\n",
              "  Flores                                     0              12\n",
              "  Floresta                                   0              36\n",
              "  Frei Miguelinho                            0               8\n",
              "  Gameleira                                  0              41\n",
              "  Garanhuns                                  0             116\n",
              "  Glória do Goitá                            0              51\n",
              "  Goiana                                     0              96\n",
              "  Granito                                    0               5\n",
              "  Gravatá                                    0              84\n",
              "  Iati                                       0              33\n",
              "  Ibimirim                                   1              30\n",
              "  Ibirajuba                                  0               7\n",
              "  Igarassu                                   0             118\n",
              "  Iguaracy                                   0              21\n",
              "  Ilha de Itamaracá                          0              57\n",
              "  Inajá                                      2              31\n",
              "  Ingazeira                                  0               8\n",
              "  Ipojuca                                    0             143\n",
              "  Ipubi                                      1              21\n",
              "  Itacuruba                                  2               4\n",
              "  Itaíba                                     0              51\n",
              "  Itambé                                     0              53\n",
              "  Itapetim                                   0              11\n",
              "  Itapissuma                                 0              39\n",
              "  Itaquitinga                                0              49\n",
              "  Jaboatão dos Guararapes                    1             347\n",
              "  Jaqueira                                   0              43\n",
              "  Jataúba                                    0              19\n",
              "  Jatobá                                     9              25\n",
              "  João Alfredo                               0              25\n",
              "  Joaquim Nabuco                             0              36\n",
              "  Jucati                                     0              19\n",
              "  Jupi                                       0               8\n",
              "  Jurema                                     0              10\n",
              "  Lagoa de Itaenga                           0              50\n",
              "  Lagoa do Carro                             0              51\n",
              "  Lagoa do Ouro                              0              25\n",
              "  Lagoa dos Gatos                            0              19\n",
              "  Lagoa Grande                               0              27\n",
              "  Lajedo                                     0              42\n",
              "  Limoeiro                                   0              75\n",
              "  Macaparana                                 0              16\n",
              "  Machados                                   0              20\n",
              "  Manari                                     1              27\n",
              "  Maraial                                    0              30\n",
              "  Mirandiba                                  5              46\n",
              "  Moreilândia                                0              15\n",
              "  Moreno                                     0             112\n",
              "  Nazaré da Mata                             0              84\n",
              "  Olinda                                     0             283\n",
              "  Orobó                                      0              32\n",
              "  Orocó                                      1              22\n",
              "  Ouricuri                                   0              90\n",
              "  Palmares                                   7              93\n",
              "  Palmeirina                                 0              25\n",
              "  Panelas                                    0              14\n",
              "  Paranatama                                 0              26\n",
              "  Parnamirim                                 0              13\n",
              "  Passira                                    0              29\n",
              "  Paudalho                                   0             113\n",
              "  Paulista                                   0             261\n",
              "  Pedra                                      0               4\n",
              "  Pesqueira                                  5             107\n",
              "  Petrolândia                                0              77\n",
              "  Petrolina                                  1             181\n",
              "  Poção                                      0              17\n",
              "  Pombos                                     0              18\n",
              "  Primavera                                  0              14\n",
              "  Quipapá                                    0              22\n",
              "  Quixaba                                    0               7\n",
              "  Recife                                     1             379\n",
              "  Riacho das Almas                           0              16\n",
              "  Ribeirão                                   0              76\n",
              "  Rio Formoso                                0              57\n",
              "  Sairé                                      0              11\n",
              "  Salgadinho                                 0               5\n",
              "  Salgueiro                                  0              56\n",
              "  Saloá                                      0              26\n",
              "  Sanharó                                    0              17\n",
              "  Santa Cruz                                 0               7\n",
              "  Santa Cruz da Baixa Verde                  0              29\n",
              "  Santa Cruz do Capibaribe                   0              69\n",
              "  Santa Filomena                             0              15\n",
              "  Santa Maria da Boa Vista                   0              47\n",
              "  Santa Maria do Cambucá                     0              25\n",
              "  Santa Terezinha                            0              16\n",
              "  São Benedito do Sul                        0               7\n",
              "  São Bento do Una                           0              35\n",
              "  São Caitano                                0              85\n",
              "  São João                                   0              26\n",
              "  São Joaquim do Monte                       0              30\n",
              "  São José da Coroa Grande                   0              55\n",
              "  São José do Belmonte                       0              11\n",
              "  São José do Egito                          0              24\n",
              "  São Lourenço da Mata                       0             169\n",
              "  São Vicente Férrer                         0              16\n",
              "  Serra Talhada                              0              86\n",
              "  Serrita                                    0              15\n",
              "  Sertânia                                   0              23\n",
              "  Sirinhaém                                  0              80\n",
              "  Solidão                                    0               3\n",
              "  Surubim                                    1              42\n",
              "  Tabira                                     0              24\n",
              "  Tacaimbó                                   0              28\n",
              "  Tacaratu                                   4              14\n",
              "  Tamandaré                                  0              73\n",
              "  Taquaritinga do Norte                      0              21\n",
              "  Terezinha                                  0              11\n",
              "  Terra Nova                                 0              16\n",
              "  Timbaúba                                   0              64\n",
              "  Toritama                                   0              36\n",
              "  Tracunhaém                                 0              26\n",
              "  Trindade                                   0              29\n",
              "  Triunfo                                    0              23\n",
              "  Tupanatinga                                0              43\n",
              "  Tuparetama                                 0              13\n",
              "  Venturosa                                  0              13\n",
              "  Verdejante                                 0              17\n",
              "  Vertente do Lério                          0              13\n",
              "  Vertentes                                  0              20\n",
              "  Vicência                                   0              43\n",
              "  Vitória de Santo Antão                     0              99\n",
              "  Xexéu                                      0              24"
            ]
          },
          "metadata": {}
        }
      ]
    },
    {
      "cell_type": "markdown",
      "source": [
        "O ```table``` serve mais para uma visualização rápida de conteúdo. Se você quiser fazer manipulações diretas nas variáveis, é interessante transformar essa tabela em um *dataframe*. Podemos fazer isso usando ```as.data.frame.matrix``` e passando entre parêntese a tabela que você quer modificar.\n",
        "\n",
        "Seu script deve estar semelhante a este abaixo."
      ],
      "metadata": {
        "id": "EcEo1MzpRKP-"
      }
    },
    {
      "cell_type": "code",
      "source": [
        "tnegras <- as.data.frame.matrix(tnegras)"
      ],
      "metadata": {
        "id": "w24Xn6HzOmZ_"
      },
      "execution_count": 16,
      "outputs": []
    },
    {
      "cell_type": "markdown",
      "source": [
        "Se você visualizar agora, vai perceber que a ```tnegras``` agora se parece muito com as outras (```cand```, ```elei```, ```muni```)."
      ],
      "metadata": {
        "id": "SlbBGs6fSGGj"
      }
    },
    {
      "cell_type": "code",
      "source": [
        "View(tnegras)"
      ],
      "metadata": {
        "id": "5a-RjWqjSSIh",
        "colab": {
          "base_uri": "https://localhost:8080/",
          "height": 1000
        },
        "outputId": "fd6f7eda-a1d8-4dbc-b7d9-2804d110ab75"
      },
      "execution_count": 17,
      "outputs": [
        {
          "output_type": "display_data",
          "data": {
            "text/plain": [
              "                       feminino_ feminino_amarela feminino_branca\n",
              "Abreu e Lima           0         0                29             \n",
              "Afogados da Ingazeira  0         0                14             \n",
              "Afrânio                0         0                 7             \n",
              "Agrestina              0         0                11             \n",
              "Água Preta             0         0                 7             \n",
              "Águas Belas            0         0                16             \n",
              "Alagoinha              0         0                 2             \n",
              "Aliança                0         0                13             \n",
              "Altinho                0         0                 7             \n",
              "Amaraji                0         0                11             \n",
              "Angelim                0         0                 4             \n",
              "Araçoiaba              0         0                 7             \n",
              "Araripina              0         0                 8             \n",
              "Arcoverde              0         1                18             \n",
              "Barra de Guabiraba     0         0                 3             \n",
              "Barreiros              0         0                22             \n",
              "Belém de Maria         0         0                 3             \n",
              "Belém do São Francisco 0         0                 6             \n",
              "Belo Jardim            0         0                30             \n",
              "Betânia                0         0                 7             \n",
              "Bezerros               0         0                22             \n",
              "Bodocó                 4         0                 4             \n",
              "Bom Conselho           0         0                12             \n",
              "Bom Jardim             0         0                19             \n",
              "Bonito                 1         1                29             \n",
              "Brejão                 0         0                 8             \n",
              "Brejinho               0         0                 3             \n",
              "Brejo da Madre de Deus 0         0                17             \n",
              "Buenos Aires           0         0                 6             \n",
              "Buíque                 0         0                11             \n",
              "⋮                      ⋮         ⋮                ⋮              \n",
              "São José do Egito      0         2                11             \n",
              "São Lourenço da Mata   0         0                43             \n",
              "São Vicente Férrer     0         0                11             \n",
              "Serra Talhada          0         0                 7             \n",
              "Serrita                0         0                 8             \n",
              "Sertânia               0         0                12             \n",
              "Sirinhaém              0         1                13             \n",
              "Solidão                0         0                 5             \n",
              "Surubim                0         0                30             \n",
              "Tabira                 0         0                 9             \n",
              "Tacaimbó               0         0                 7             \n",
              "Tacaratu               0         0                 8             \n",
              "Tamandaré              0         0                 5             \n",
              "Taquaritinga do Norte  0         0                16             \n",
              "Terezinha              0         0                 7             \n",
              "Terra Nova             0         0                 2             \n",
              "Timbaúba               0         0                18             \n",
              "Toritama               0         0                27             \n",
              "Tracunhaém             0         0                11             \n",
              "Trindade               0         0                 2             \n",
              "Triunfo                0         0                 8             \n",
              "Tupanatinga            0         0                 6             \n",
              "Tuparetama             0         0                 7             \n",
              "Venturosa              0         0                 3             \n",
              "Verdejante             0         0                 5             \n",
              "Vertente do Lério      0         1                 9             \n",
              "Vertentes              0         0                 7             \n",
              "Vicência               0         0                 7             \n",
              "Vitória de Santo Antão 0         0                37             \n",
              "Xexéu                  0         0                 5             \n",
              "                       feminino_indigena feminino_negra masculino_\n",
              "Abreu e Lima           0                 62             0         \n",
              "Afogados da Ingazeira  0                 19             0         \n",
              "Afrânio                0                  6             0         \n",
              "Agrestina              0                 11             0         \n",
              "Água Preta             0                 20             0         \n",
              "Águas Belas            0                 21             0         \n",
              "Alagoinha              0                 11             0         \n",
              "Aliança                0                 15             0         \n",
              "Altinho                0                 14             0         \n",
              "Amaraji                0                 19             0         \n",
              "Angelim                0                 10             0         \n",
              "Araçoiaba              0                 32             0         \n",
              "Araripina              0                 28             0         \n",
              "Arcoverde              1                 32             0         \n",
              "Barra de Guabiraba     0                  6             0         \n",
              "Barreiros              0                 27             0         \n",
              "Belém de Maria         0                 19             0         \n",
              "Belém do São Francisco 1                 14             0         \n",
              "Belo Jardim            0                 28             0         \n",
              "Betânia                0                  8             0         \n",
              "Bezerros               0                 28             0         \n",
              "Bodocó                 0                  8             9         \n",
              "Bom Conselho           0                 25             0         \n",
              "Bom Jardim             0                 18             0         \n",
              "Bonito                 0                  7             1         \n",
              "Brejão                 0                  5             0         \n",
              "Brejinho               0                  7             0         \n",
              "Brejo da Madre de Deus 0                 13             0         \n",
              "Buenos Aires           0                 17             0         \n",
              "Buíque                 0                 12             0         \n",
              "⋮                      ⋮                 ⋮              ⋮         \n",
              "São José do Egito      0                  9             1         \n",
              "São Lourenço da Mata   0                 68             0         \n",
              "São Vicente Férrer     0                  8             0         \n",
              "Serra Talhada          0                 47             0         \n",
              "Serrita                0                  5             0         \n",
              "Sertânia               0                  9             0         \n",
              "Sirinhaém              0                 37             0         \n",
              "Solidão                0                  3             0         \n",
              "Surubim                0                 23             0         \n",
              "Tabira                 0                 11             0         \n",
              "Tacaimbó               0                 18             0         \n",
              "Tacaratu               1                 11             0         \n",
              "Tamandaré              0                 40             1         \n",
              "Taquaritinga do Norte  0                 11             0         \n",
              "Terezinha              0                  2             0         \n",
              "Terra Nova             0                  9             0         \n",
              "Timbaúba               0                 32             0         \n",
              "Toritama               0                  6             0         \n",
              "Tracunhaém             0                 13             0         \n",
              "Trindade               0                 15             0         \n",
              "Triunfo                0                  8             0         \n",
              "Tupanatinga            0                 20             0         \n",
              "Tuparetama             0                  6             0         \n",
              "Venturosa              0                  9             0         \n",
              "Verdejante             0                  6             0         \n",
              "Vertente do Lério      0                  7             0         \n",
              "Vertentes              0                  7             0         \n",
              "Vicência               0                 18             0         \n",
              "Vitória de Santo Antão 0                 45             0         \n",
              "Xexéu                  0                 12             0         \n",
              "                       masculino_amarela masculino_branca masculino_indigena\n",
              "Abreu e Lima           0                 61               0                 \n",
              "Afogados da Ingazeira  0                 28               0                 \n",
              "Afrânio                0                 19               0                 \n",
              "Agrestina              0                 17               0                 \n",
              "Água Preta             0                  9               0                 \n",
              "Águas Belas            0                 13               3                 \n",
              "Alagoinha              0                 11               0                 \n",
              "Aliança                0                 24               0                 \n",
              "Altinho                0                 17               0                 \n",
              "Amaraji                0                 12               0                 \n",
              "Angelim                0                  9               0                 \n",
              "Araçoiaba              0                  6               2                 \n",
              "Araripina              0                 10               0                 \n",
              "Arcoverde              0                 34               0                 \n",
              "Barra de Guabiraba     0                  6               0                 \n",
              "Barreiros              1                 31               0                 \n",
              "Belém de Maria         0                  2               0                 \n",
              "Belém do São Francisco 0                 10               0                 \n",
              "Belo Jardim            0                 46               1                 \n",
              "Betânia                0                  7               0                 \n",
              "Bezerros               0                 48               0                 \n",
              "Bodocó                 0                 11               0                 \n",
              "Bom Conselho           0                 29               0                 \n",
              "Bom Jardim             0                 31               0                 \n",
              "Bonito                 0                 60               0                 \n",
              "Brejão                 0                  9               0                 \n",
              "Brejinho               0                  4               0                 \n",
              "Brejo da Madre de Deus 0                 31               0                 \n",
              "Buenos Aires           0                 19               0                 \n",
              "Buíque                 0                 14               2                 \n",
              "⋮                      ⋮                 ⋮                ⋮                 \n",
              "São José do Egito      3                 19               0                 \n",
              "São Lourenço da Mata   0                 65               0                 \n",
              "São Vicente Férrer     0                 17               0                 \n",
              "Serra Talhada          0                 21               0                 \n",
              "Serrita                0                 12               0                 \n",
              "Sertânia               0                 16               0                 \n",
              "Sirinhaém              1                 22               0                 \n",
              "Solidão                0                  5               0                 \n",
              "Surubim                0                 59               1                 \n",
              "Tabira                 0                 17               0                 \n",
              "Tacaimbó               0                 14               0                 \n",
              "Tacaratu               0                 24               4                 \n",
              "Tamandaré              0                 13               0                 \n",
              "Taquaritinga do Norte  0                 29               0                 \n",
              "Terezinha              0                  4               0                 \n",
              "Terra Nova             0                  6               0                 \n",
              "Timbaúba               2                 32               0                 \n",
              "Toritama               1                 35               0                 \n",
              "Tracunhaém             0                 18               0                 \n",
              "Trindade               0                 10               0                 \n",
              "Triunfo                0                  7               0                 \n",
              "Tupanatinga            0                  7               0                 \n",
              "Tuparetama             0                  7               0                 \n",
              "Venturosa              0                  9               0                 \n",
              "Verdejante             0                  3               0                 \n",
              "Vertente do Lério      1                 17               0                 \n",
              "Vertentes              0                 10               0                 \n",
              "Vicência               0                 10               0                 \n",
              "Vitória de Santo Antão 0                 75               0                 \n",
              "Xexéu                  0                  4               0                 \n",
              "                       masculino_negra\n",
              "Abreu e Lima           95             \n",
              "Afogados da Ingazeira  39             \n",
              "Afrânio                 9             \n",
              "Agrestina              27             \n",
              "Água Preta             46             \n",
              "Águas Belas            66             \n",
              "Alagoinha              16             \n",
              "Aliança                28             \n",
              "Altinho                25             \n",
              "Amaraji                42             \n",
              "Angelim                19             \n",
              "Araçoiaba              61             \n",
              "Araripina              65             \n",
              "Arcoverde              61             \n",
              "Barra de Guabiraba     12             \n",
              "Barreiros              61             \n",
              "Belém de Maria         29             \n",
              "Belém do São Francisco 31             \n",
              "Belo Jardim            72             \n",
              "Betânia                20             \n",
              "Bezerros               59             \n",
              "Bodocó                 17             \n",
              "Bom Conselho           38             \n",
              "Bom Jardim             41             \n",
              "Bonito                 24             \n",
              "Brejão                 13             \n",
              "Brejinho               14             \n",
              "Brejo da Madre de Deus 31             \n",
              "Buenos Aires           24             \n",
              "Buíque                 35             \n",
              "⋮                      ⋮              \n",
              "São José do Egito       24            \n",
              "São Lourenço da Mata   169            \n",
              "São Vicente Férrer      16            \n",
              "Serra Talhada           86            \n",
              "Serrita                 15            \n",
              "Sertânia                23            \n",
              "Sirinhaém               80            \n",
              "Solidão                  3            \n",
              "Surubim                 42            \n",
              "Tabira                  24            \n",
              "Tacaimbó                28            \n",
              "Tacaratu                14            \n",
              "Tamandaré               73            \n",
              "Taquaritinga do Norte   21            \n",
              "Terezinha               11            \n",
              "Terra Nova              16            \n",
              "Timbaúba                64            \n",
              "Toritama                36            \n",
              "Tracunhaém              26            \n",
              "Trindade                29            \n",
              "Triunfo                 23            \n",
              "Tupanatinga             43            \n",
              "Tuparetama              13            \n",
              "Venturosa               13            \n",
              "Verdejante              17            \n",
              "Vertente do Lério       13            \n",
              "Vertentes               20            \n",
              "Vicência                43            \n",
              "Vitória de Santo Antão  99            \n",
              "Xexéu                   24            "
            ],
            "text/html": [
              "<table class=\"dataframe\">\n",
              "<caption>A data.frame: 184 × 10</caption>\n",
              "<thead>\n",
              "\t<tr><th></th><th scope=col>feminino_</th><th scope=col>feminino_amarela</th><th scope=col>feminino_branca</th><th scope=col>feminino_indigena</th><th scope=col>feminino_negra</th><th scope=col>masculino_</th><th scope=col>masculino_amarela</th><th scope=col>masculino_branca</th><th scope=col>masculino_indigena</th><th scope=col>masculino_negra</th></tr>\n",
              "\t<tr><th></th><th scope=col>&lt;int&gt;</th><th scope=col>&lt;int&gt;</th><th scope=col>&lt;int&gt;</th><th scope=col>&lt;int&gt;</th><th scope=col>&lt;int&gt;</th><th scope=col>&lt;int&gt;</th><th scope=col>&lt;int&gt;</th><th scope=col>&lt;int&gt;</th><th scope=col>&lt;int&gt;</th><th scope=col>&lt;int&gt;</th></tr>\n",
              "</thead>\n",
              "<tbody>\n",
              "\t<tr><th scope=row>Abreu e Lima</th><td>0</td><td>0</td><td>29</td><td>0</td><td>62</td><td>0</td><td>0</td><td>61</td><td>0</td><td>95</td></tr>\n",
              "\t<tr><th scope=row>Afogados da Ingazeira</th><td>0</td><td>0</td><td>14</td><td>0</td><td>19</td><td>0</td><td>0</td><td>28</td><td>0</td><td>39</td></tr>\n",
              "\t<tr><th scope=row>Afrânio</th><td>0</td><td>0</td><td> 7</td><td>0</td><td> 6</td><td>0</td><td>0</td><td>19</td><td>0</td><td> 9</td></tr>\n",
              "\t<tr><th scope=row>Agrestina</th><td>0</td><td>0</td><td>11</td><td>0</td><td>11</td><td>0</td><td>0</td><td>17</td><td>0</td><td>27</td></tr>\n",
              "\t<tr><th scope=row>Água Preta</th><td>0</td><td>0</td><td> 7</td><td>0</td><td>20</td><td>0</td><td>0</td><td> 9</td><td>0</td><td>46</td></tr>\n",
              "\t<tr><th scope=row>Águas Belas</th><td>0</td><td>0</td><td>16</td><td>0</td><td>21</td><td>0</td><td>0</td><td>13</td><td>3</td><td>66</td></tr>\n",
              "\t<tr><th scope=row>Alagoinha</th><td>0</td><td>0</td><td> 2</td><td>0</td><td>11</td><td>0</td><td>0</td><td>11</td><td>0</td><td>16</td></tr>\n",
              "\t<tr><th scope=row>Aliança</th><td>0</td><td>0</td><td>13</td><td>0</td><td>15</td><td>0</td><td>0</td><td>24</td><td>0</td><td>28</td></tr>\n",
              "\t<tr><th scope=row>Altinho</th><td>0</td><td>0</td><td> 7</td><td>0</td><td>14</td><td>0</td><td>0</td><td>17</td><td>0</td><td>25</td></tr>\n",
              "\t<tr><th scope=row>Amaraji</th><td>0</td><td>0</td><td>11</td><td>0</td><td>19</td><td>0</td><td>0</td><td>12</td><td>0</td><td>42</td></tr>\n",
              "\t<tr><th scope=row>Angelim</th><td>0</td><td>0</td><td> 4</td><td>0</td><td>10</td><td>0</td><td>0</td><td> 9</td><td>0</td><td>19</td></tr>\n",
              "\t<tr><th scope=row>Araçoiaba</th><td>0</td><td>0</td><td> 7</td><td>0</td><td>32</td><td>0</td><td>0</td><td> 6</td><td>2</td><td>61</td></tr>\n",
              "\t<tr><th scope=row>Araripina</th><td>0</td><td>0</td><td> 8</td><td>0</td><td>28</td><td>0</td><td>0</td><td>10</td><td>0</td><td>65</td></tr>\n",
              "\t<tr><th scope=row>Arcoverde</th><td>0</td><td>1</td><td>18</td><td>1</td><td>32</td><td>0</td><td>0</td><td>34</td><td>0</td><td>61</td></tr>\n",
              "\t<tr><th scope=row>Barra de Guabiraba</th><td>0</td><td>0</td><td> 3</td><td>0</td><td> 6</td><td>0</td><td>0</td><td> 6</td><td>0</td><td>12</td></tr>\n",
              "\t<tr><th scope=row>Barreiros</th><td>0</td><td>0</td><td>22</td><td>0</td><td>27</td><td>0</td><td>1</td><td>31</td><td>0</td><td>61</td></tr>\n",
              "\t<tr><th scope=row>Belém de Maria</th><td>0</td><td>0</td><td> 3</td><td>0</td><td>19</td><td>0</td><td>0</td><td> 2</td><td>0</td><td>29</td></tr>\n",
              "\t<tr><th scope=row>Belém do São Francisco</th><td>0</td><td>0</td><td> 6</td><td>1</td><td>14</td><td>0</td><td>0</td><td>10</td><td>0</td><td>31</td></tr>\n",
              "\t<tr><th scope=row>Belo Jardim</th><td>0</td><td>0</td><td>30</td><td>0</td><td>28</td><td>0</td><td>0</td><td>46</td><td>1</td><td>72</td></tr>\n",
              "\t<tr><th scope=row>Betânia</th><td>0</td><td>0</td><td> 7</td><td>0</td><td> 8</td><td>0</td><td>0</td><td> 7</td><td>0</td><td>20</td></tr>\n",
              "\t<tr><th scope=row>Bezerros</th><td>0</td><td>0</td><td>22</td><td>0</td><td>28</td><td>0</td><td>0</td><td>48</td><td>0</td><td>59</td></tr>\n",
              "\t<tr><th scope=row>Bodocó</th><td>4</td><td>0</td><td> 4</td><td>0</td><td> 8</td><td>9</td><td>0</td><td>11</td><td>0</td><td>17</td></tr>\n",
              "\t<tr><th scope=row>Bom Conselho</th><td>0</td><td>0</td><td>12</td><td>0</td><td>25</td><td>0</td><td>0</td><td>29</td><td>0</td><td>38</td></tr>\n",
              "\t<tr><th scope=row>Bom Jardim</th><td>0</td><td>0</td><td>19</td><td>0</td><td>18</td><td>0</td><td>0</td><td>31</td><td>0</td><td>41</td></tr>\n",
              "\t<tr><th scope=row>Bonito</th><td>1</td><td>1</td><td>29</td><td>0</td><td> 7</td><td>1</td><td>0</td><td>60</td><td>0</td><td>24</td></tr>\n",
              "\t<tr><th scope=row>Brejão</th><td>0</td><td>0</td><td> 8</td><td>0</td><td> 5</td><td>0</td><td>0</td><td> 9</td><td>0</td><td>13</td></tr>\n",
              "\t<tr><th scope=row>Brejinho</th><td>0</td><td>0</td><td> 3</td><td>0</td><td> 7</td><td>0</td><td>0</td><td> 4</td><td>0</td><td>14</td></tr>\n",
              "\t<tr><th scope=row>Brejo da Madre de Deus</th><td>0</td><td>0</td><td>17</td><td>0</td><td>13</td><td>0</td><td>0</td><td>31</td><td>0</td><td>31</td></tr>\n",
              "\t<tr><th scope=row>Buenos Aires</th><td>0</td><td>0</td><td> 6</td><td>0</td><td>17</td><td>0</td><td>0</td><td>19</td><td>0</td><td>24</td></tr>\n",
              "\t<tr><th scope=row>Buíque</th><td>0</td><td>0</td><td>11</td><td>0</td><td>12</td><td>0</td><td>0</td><td>14</td><td>2</td><td>35</td></tr>\n",
              "\t<tr><th scope=row>⋮</th><td>⋮</td><td>⋮</td><td>⋮</td><td>⋮</td><td>⋮</td><td>⋮</td><td>⋮</td><td>⋮</td><td>⋮</td><td>⋮</td></tr>\n",
              "\t<tr><th scope=row>São José do Egito</th><td>0</td><td>2</td><td>11</td><td>0</td><td> 9</td><td>1</td><td>3</td><td>19</td><td>0</td><td> 24</td></tr>\n",
              "\t<tr><th scope=row>São Lourenço da Mata</th><td>0</td><td>0</td><td>43</td><td>0</td><td>68</td><td>0</td><td>0</td><td>65</td><td>0</td><td>169</td></tr>\n",
              "\t<tr><th scope=row>São Vicente Férrer</th><td>0</td><td>0</td><td>11</td><td>0</td><td> 8</td><td>0</td><td>0</td><td>17</td><td>0</td><td> 16</td></tr>\n",
              "\t<tr><th scope=row>Serra Talhada</th><td>0</td><td>0</td><td> 7</td><td>0</td><td>47</td><td>0</td><td>0</td><td>21</td><td>0</td><td> 86</td></tr>\n",
              "\t<tr><th scope=row>Serrita</th><td>0</td><td>0</td><td> 8</td><td>0</td><td> 5</td><td>0</td><td>0</td><td>12</td><td>0</td><td> 15</td></tr>\n",
              "\t<tr><th scope=row>Sertânia</th><td>0</td><td>0</td><td>12</td><td>0</td><td> 9</td><td>0</td><td>0</td><td>16</td><td>0</td><td> 23</td></tr>\n",
              "\t<tr><th scope=row>Sirinhaém</th><td>0</td><td>1</td><td>13</td><td>0</td><td>37</td><td>0</td><td>1</td><td>22</td><td>0</td><td> 80</td></tr>\n",
              "\t<tr><th scope=row>Solidão</th><td>0</td><td>0</td><td> 5</td><td>0</td><td> 3</td><td>0</td><td>0</td><td> 5</td><td>0</td><td>  3</td></tr>\n",
              "\t<tr><th scope=row>Surubim</th><td>0</td><td>0</td><td>30</td><td>0</td><td>23</td><td>0</td><td>0</td><td>59</td><td>1</td><td> 42</td></tr>\n",
              "\t<tr><th scope=row>Tabira</th><td>0</td><td>0</td><td> 9</td><td>0</td><td>11</td><td>0</td><td>0</td><td>17</td><td>0</td><td> 24</td></tr>\n",
              "\t<tr><th scope=row>Tacaimbó</th><td>0</td><td>0</td><td> 7</td><td>0</td><td>18</td><td>0</td><td>0</td><td>14</td><td>0</td><td> 28</td></tr>\n",
              "\t<tr><th scope=row>Tacaratu</th><td>0</td><td>0</td><td> 8</td><td>1</td><td>11</td><td>0</td><td>0</td><td>24</td><td>4</td><td> 14</td></tr>\n",
              "\t<tr><th scope=row>Tamandaré</th><td>0</td><td>0</td><td> 5</td><td>0</td><td>40</td><td>1</td><td>0</td><td>13</td><td>0</td><td> 73</td></tr>\n",
              "\t<tr><th scope=row>Taquaritinga do Norte</th><td>0</td><td>0</td><td>16</td><td>0</td><td>11</td><td>0</td><td>0</td><td>29</td><td>0</td><td> 21</td></tr>\n",
              "\t<tr><th scope=row>Terezinha</th><td>0</td><td>0</td><td> 7</td><td>0</td><td> 2</td><td>0</td><td>0</td><td> 4</td><td>0</td><td> 11</td></tr>\n",
              "\t<tr><th scope=row>Terra Nova</th><td>0</td><td>0</td><td> 2</td><td>0</td><td> 9</td><td>0</td><td>0</td><td> 6</td><td>0</td><td> 16</td></tr>\n",
              "\t<tr><th scope=row>Timbaúba</th><td>0</td><td>0</td><td>18</td><td>0</td><td>32</td><td>0</td><td>2</td><td>32</td><td>0</td><td> 64</td></tr>\n",
              "\t<tr><th scope=row>Toritama</th><td>0</td><td>0</td><td>27</td><td>0</td><td> 6</td><td>0</td><td>1</td><td>35</td><td>0</td><td> 36</td></tr>\n",
              "\t<tr><th scope=row>Tracunhaém</th><td>0</td><td>0</td><td>11</td><td>0</td><td>13</td><td>0</td><td>0</td><td>18</td><td>0</td><td> 26</td></tr>\n",
              "\t<tr><th scope=row>Trindade</th><td>0</td><td>0</td><td> 2</td><td>0</td><td>15</td><td>0</td><td>0</td><td>10</td><td>0</td><td> 29</td></tr>\n",
              "\t<tr><th scope=row>Triunfo</th><td>0</td><td>0</td><td> 8</td><td>0</td><td> 8</td><td>0</td><td>0</td><td> 7</td><td>0</td><td> 23</td></tr>\n",
              "\t<tr><th scope=row>Tupanatinga</th><td>0</td><td>0</td><td> 6</td><td>0</td><td>20</td><td>0</td><td>0</td><td> 7</td><td>0</td><td> 43</td></tr>\n",
              "\t<tr><th scope=row>Tuparetama</th><td>0</td><td>0</td><td> 7</td><td>0</td><td> 6</td><td>0</td><td>0</td><td> 7</td><td>0</td><td> 13</td></tr>\n",
              "\t<tr><th scope=row>Venturosa</th><td>0</td><td>0</td><td> 3</td><td>0</td><td> 9</td><td>0</td><td>0</td><td> 9</td><td>0</td><td> 13</td></tr>\n",
              "\t<tr><th scope=row>Verdejante</th><td>0</td><td>0</td><td> 5</td><td>0</td><td> 6</td><td>0</td><td>0</td><td> 3</td><td>0</td><td> 17</td></tr>\n",
              "\t<tr><th scope=row>Vertente do Lério</th><td>0</td><td>1</td><td> 9</td><td>0</td><td> 7</td><td>0</td><td>1</td><td>17</td><td>0</td><td> 13</td></tr>\n",
              "\t<tr><th scope=row>Vertentes</th><td>0</td><td>0</td><td> 7</td><td>0</td><td> 7</td><td>0</td><td>0</td><td>10</td><td>0</td><td> 20</td></tr>\n",
              "\t<tr><th scope=row>Vicência</th><td>0</td><td>0</td><td> 7</td><td>0</td><td>18</td><td>0</td><td>0</td><td>10</td><td>0</td><td> 43</td></tr>\n",
              "\t<tr><th scope=row>Vitória de Santo Antão</th><td>0</td><td>0</td><td>37</td><td>0</td><td>45</td><td>0</td><td>0</td><td>75</td><td>0</td><td> 99</td></tr>\n",
              "\t<tr><th scope=row>Xexéu</th><td>0</td><td>0</td><td> 5</td><td>0</td><td>12</td><td>0</td><td>0</td><td> 4</td><td>0</td><td> 24</td></tr>\n",
              "</tbody>\n",
              "</table>\n"
            ],
            "text/markdown": "\nA data.frame: 184 × 10\n\n| <!--/--> | feminino_ &lt;int&gt; | feminino_amarela &lt;int&gt; | feminino_branca &lt;int&gt; | feminino_indigena &lt;int&gt; | feminino_negra &lt;int&gt; | masculino_ &lt;int&gt; | masculino_amarela &lt;int&gt; | masculino_branca &lt;int&gt; | masculino_indigena &lt;int&gt; | masculino_negra &lt;int&gt; |\n|---|---|---|---|---|---|---|---|---|---|---|\n| Abreu e Lima | 0 | 0 | 29 | 0 | 62 | 0 | 0 | 61 | 0 | 95 |\n| Afogados da Ingazeira | 0 | 0 | 14 | 0 | 19 | 0 | 0 | 28 | 0 | 39 |\n| Afrânio | 0 | 0 |  7 | 0 |  6 | 0 | 0 | 19 | 0 |  9 |\n| Agrestina | 0 | 0 | 11 | 0 | 11 | 0 | 0 | 17 | 0 | 27 |\n| Água Preta | 0 | 0 |  7 | 0 | 20 | 0 | 0 |  9 | 0 | 46 |\n| Águas Belas | 0 | 0 | 16 | 0 | 21 | 0 | 0 | 13 | 3 | 66 |\n| Alagoinha | 0 | 0 |  2 | 0 | 11 | 0 | 0 | 11 | 0 | 16 |\n| Aliança | 0 | 0 | 13 | 0 | 15 | 0 | 0 | 24 | 0 | 28 |\n| Altinho | 0 | 0 |  7 | 0 | 14 | 0 | 0 | 17 | 0 | 25 |\n| Amaraji | 0 | 0 | 11 | 0 | 19 | 0 | 0 | 12 | 0 | 42 |\n| Angelim | 0 | 0 |  4 | 0 | 10 | 0 | 0 |  9 | 0 | 19 |\n| Araçoiaba | 0 | 0 |  7 | 0 | 32 | 0 | 0 |  6 | 2 | 61 |\n| Araripina | 0 | 0 |  8 | 0 | 28 | 0 | 0 | 10 | 0 | 65 |\n| Arcoverde | 0 | 1 | 18 | 1 | 32 | 0 | 0 | 34 | 0 | 61 |\n| Barra de Guabiraba | 0 | 0 |  3 | 0 |  6 | 0 | 0 |  6 | 0 | 12 |\n| Barreiros | 0 | 0 | 22 | 0 | 27 | 0 | 1 | 31 | 0 | 61 |\n| Belém de Maria | 0 | 0 |  3 | 0 | 19 | 0 | 0 |  2 | 0 | 29 |\n| Belém do São Francisco | 0 | 0 |  6 | 1 | 14 | 0 | 0 | 10 | 0 | 31 |\n| Belo Jardim | 0 | 0 | 30 | 0 | 28 | 0 | 0 | 46 | 1 | 72 |\n| Betânia | 0 | 0 |  7 | 0 |  8 | 0 | 0 |  7 | 0 | 20 |\n| Bezerros | 0 | 0 | 22 | 0 | 28 | 0 | 0 | 48 | 0 | 59 |\n| Bodocó | 4 | 0 |  4 | 0 |  8 | 9 | 0 | 11 | 0 | 17 |\n| Bom Conselho | 0 | 0 | 12 | 0 | 25 | 0 | 0 | 29 | 0 | 38 |\n| Bom Jardim | 0 | 0 | 19 | 0 | 18 | 0 | 0 | 31 | 0 | 41 |\n| Bonito | 1 | 1 | 29 | 0 |  7 | 1 | 0 | 60 | 0 | 24 |\n| Brejão | 0 | 0 |  8 | 0 |  5 | 0 | 0 |  9 | 0 | 13 |\n| Brejinho | 0 | 0 |  3 | 0 |  7 | 0 | 0 |  4 | 0 | 14 |\n| Brejo da Madre de Deus | 0 | 0 | 17 | 0 | 13 | 0 | 0 | 31 | 0 | 31 |\n| Buenos Aires | 0 | 0 |  6 | 0 | 17 | 0 | 0 | 19 | 0 | 24 |\n| Buíque | 0 | 0 | 11 | 0 | 12 | 0 | 0 | 14 | 2 | 35 |\n| ⋮ | ⋮ | ⋮ | ⋮ | ⋮ | ⋮ | ⋮ | ⋮ | ⋮ | ⋮ | ⋮ |\n| São José do Egito | 0 | 2 | 11 | 0 |  9 | 1 | 3 | 19 | 0 |  24 |\n| São Lourenço da Mata | 0 | 0 | 43 | 0 | 68 | 0 | 0 | 65 | 0 | 169 |\n| São Vicente Férrer | 0 | 0 | 11 | 0 |  8 | 0 | 0 | 17 | 0 |  16 |\n| Serra Talhada | 0 | 0 |  7 | 0 | 47 | 0 | 0 | 21 | 0 |  86 |\n| Serrita | 0 | 0 |  8 | 0 |  5 | 0 | 0 | 12 | 0 |  15 |\n| Sertânia | 0 | 0 | 12 | 0 |  9 | 0 | 0 | 16 | 0 |  23 |\n| Sirinhaém | 0 | 1 | 13 | 0 | 37 | 0 | 1 | 22 | 0 |  80 |\n| Solidão | 0 | 0 |  5 | 0 |  3 | 0 | 0 |  5 | 0 |   3 |\n| Surubim | 0 | 0 | 30 | 0 | 23 | 0 | 0 | 59 | 1 |  42 |\n| Tabira | 0 | 0 |  9 | 0 | 11 | 0 | 0 | 17 | 0 |  24 |\n| Tacaimbó | 0 | 0 |  7 | 0 | 18 | 0 | 0 | 14 | 0 |  28 |\n| Tacaratu | 0 | 0 |  8 | 1 | 11 | 0 | 0 | 24 | 4 |  14 |\n| Tamandaré | 0 | 0 |  5 | 0 | 40 | 1 | 0 | 13 | 0 |  73 |\n| Taquaritinga do Norte | 0 | 0 | 16 | 0 | 11 | 0 | 0 | 29 | 0 |  21 |\n| Terezinha | 0 | 0 |  7 | 0 |  2 | 0 | 0 |  4 | 0 |  11 |\n| Terra Nova | 0 | 0 |  2 | 0 |  9 | 0 | 0 |  6 | 0 |  16 |\n| Timbaúba | 0 | 0 | 18 | 0 | 32 | 0 | 2 | 32 | 0 |  64 |\n| Toritama | 0 | 0 | 27 | 0 |  6 | 0 | 1 | 35 | 0 |  36 |\n| Tracunhaém | 0 | 0 | 11 | 0 | 13 | 0 | 0 | 18 | 0 |  26 |\n| Trindade | 0 | 0 |  2 | 0 | 15 | 0 | 0 | 10 | 0 |  29 |\n| Triunfo | 0 | 0 |  8 | 0 |  8 | 0 | 0 |  7 | 0 |  23 |\n| Tupanatinga | 0 | 0 |  6 | 0 | 20 | 0 | 0 |  7 | 0 |  43 |\n| Tuparetama | 0 | 0 |  7 | 0 |  6 | 0 | 0 |  7 | 0 |  13 |\n| Venturosa | 0 | 0 |  3 | 0 |  9 | 0 | 0 |  9 | 0 |  13 |\n| Verdejante | 0 | 0 |  5 | 0 |  6 | 0 | 0 |  3 | 0 |  17 |\n| Vertente do Lério | 0 | 1 |  9 | 0 |  7 | 0 | 1 | 17 | 0 |  13 |\n| Vertentes | 0 | 0 |  7 | 0 |  7 | 0 | 0 | 10 | 0 |  20 |\n| Vicência | 0 | 0 |  7 | 0 | 18 | 0 | 0 | 10 | 0 |  43 |\n| Vitória de Santo Antão | 0 | 0 | 37 | 0 | 45 | 0 | 0 | 75 | 0 |  99 |\n| Xexéu | 0 | 0 |  5 | 0 | 12 | 0 | 0 |  4 | 0 |  24 |\n\n",
            "text/latex": "A data.frame: 184 × 10\n\\begin{tabular}{r|llllllllll}\n  & feminino\\_ & feminino\\_amarela & feminino\\_branca & feminino\\_indigena & feminino\\_negra & masculino\\_ & masculino\\_amarela & masculino\\_branca & masculino\\_indigena & masculino\\_negra\\\\\n  & <int> & <int> & <int> & <int> & <int> & <int> & <int> & <int> & <int> & <int>\\\\\n\\hline\n\tAbreu e Lima & 0 & 0 & 29 & 0 & 62 & 0 & 0 & 61 & 0 & 95\\\\\n\tAfogados da Ingazeira & 0 & 0 & 14 & 0 & 19 & 0 & 0 & 28 & 0 & 39\\\\\n\tAfrânio & 0 & 0 &  7 & 0 &  6 & 0 & 0 & 19 & 0 &  9\\\\\n\tAgrestina & 0 & 0 & 11 & 0 & 11 & 0 & 0 & 17 & 0 & 27\\\\\n\tÁgua Preta & 0 & 0 &  7 & 0 & 20 & 0 & 0 &  9 & 0 & 46\\\\\n\tÁguas Belas & 0 & 0 & 16 & 0 & 21 & 0 & 0 & 13 & 3 & 66\\\\\n\tAlagoinha & 0 & 0 &  2 & 0 & 11 & 0 & 0 & 11 & 0 & 16\\\\\n\tAliança & 0 & 0 & 13 & 0 & 15 & 0 & 0 & 24 & 0 & 28\\\\\n\tAltinho & 0 & 0 &  7 & 0 & 14 & 0 & 0 & 17 & 0 & 25\\\\\n\tAmaraji & 0 & 0 & 11 & 0 & 19 & 0 & 0 & 12 & 0 & 42\\\\\n\tAngelim & 0 & 0 &  4 & 0 & 10 & 0 & 0 &  9 & 0 & 19\\\\\n\tAraçoiaba & 0 & 0 &  7 & 0 & 32 & 0 & 0 &  6 & 2 & 61\\\\\n\tAraripina & 0 & 0 &  8 & 0 & 28 & 0 & 0 & 10 & 0 & 65\\\\\n\tArcoverde & 0 & 1 & 18 & 1 & 32 & 0 & 0 & 34 & 0 & 61\\\\\n\tBarra de Guabiraba & 0 & 0 &  3 & 0 &  6 & 0 & 0 &  6 & 0 & 12\\\\\n\tBarreiros & 0 & 0 & 22 & 0 & 27 & 0 & 1 & 31 & 0 & 61\\\\\n\tBelém de Maria & 0 & 0 &  3 & 0 & 19 & 0 & 0 &  2 & 0 & 29\\\\\n\tBelém do São Francisco & 0 & 0 &  6 & 1 & 14 & 0 & 0 & 10 & 0 & 31\\\\\n\tBelo Jardim & 0 & 0 & 30 & 0 & 28 & 0 & 0 & 46 & 1 & 72\\\\\n\tBetânia & 0 & 0 &  7 & 0 &  8 & 0 & 0 &  7 & 0 & 20\\\\\n\tBezerros & 0 & 0 & 22 & 0 & 28 & 0 & 0 & 48 & 0 & 59\\\\\n\tBodocó & 4 & 0 &  4 & 0 &  8 & 9 & 0 & 11 & 0 & 17\\\\\n\tBom Conselho & 0 & 0 & 12 & 0 & 25 & 0 & 0 & 29 & 0 & 38\\\\\n\tBom Jardim & 0 & 0 & 19 & 0 & 18 & 0 & 0 & 31 & 0 & 41\\\\\n\tBonito & 1 & 1 & 29 & 0 &  7 & 1 & 0 & 60 & 0 & 24\\\\\n\tBrejão & 0 & 0 &  8 & 0 &  5 & 0 & 0 &  9 & 0 & 13\\\\\n\tBrejinho & 0 & 0 &  3 & 0 &  7 & 0 & 0 &  4 & 0 & 14\\\\\n\tBrejo da Madre de Deus & 0 & 0 & 17 & 0 & 13 & 0 & 0 & 31 & 0 & 31\\\\\n\tBuenos Aires & 0 & 0 &  6 & 0 & 17 & 0 & 0 & 19 & 0 & 24\\\\\n\tBuíque & 0 & 0 & 11 & 0 & 12 & 0 & 0 & 14 & 2 & 35\\\\\n\t⋮ & ⋮ & ⋮ & ⋮ & ⋮ & ⋮ & ⋮ & ⋮ & ⋮ & ⋮ & ⋮\\\\\n\tSão José do Egito & 0 & 2 & 11 & 0 &  9 & 1 & 3 & 19 & 0 &  24\\\\\n\tSão Lourenço da Mata & 0 & 0 & 43 & 0 & 68 & 0 & 0 & 65 & 0 & 169\\\\\n\tSão Vicente Férrer & 0 & 0 & 11 & 0 &  8 & 0 & 0 & 17 & 0 &  16\\\\\n\tSerra Talhada & 0 & 0 &  7 & 0 & 47 & 0 & 0 & 21 & 0 &  86\\\\\n\tSerrita & 0 & 0 &  8 & 0 &  5 & 0 & 0 & 12 & 0 &  15\\\\\n\tSertânia & 0 & 0 & 12 & 0 &  9 & 0 & 0 & 16 & 0 &  23\\\\\n\tSirinhaém & 0 & 1 & 13 & 0 & 37 & 0 & 1 & 22 & 0 &  80\\\\\n\tSolidão & 0 & 0 &  5 & 0 &  3 & 0 & 0 &  5 & 0 &   3\\\\\n\tSurubim & 0 & 0 & 30 & 0 & 23 & 0 & 0 & 59 & 1 &  42\\\\\n\tTabira & 0 & 0 &  9 & 0 & 11 & 0 & 0 & 17 & 0 &  24\\\\\n\tTacaimbó & 0 & 0 &  7 & 0 & 18 & 0 & 0 & 14 & 0 &  28\\\\\n\tTacaratu & 0 & 0 &  8 & 1 & 11 & 0 & 0 & 24 & 4 &  14\\\\\n\tTamandaré & 0 & 0 &  5 & 0 & 40 & 1 & 0 & 13 & 0 &  73\\\\\n\tTaquaritinga do Norte & 0 & 0 & 16 & 0 & 11 & 0 & 0 & 29 & 0 &  21\\\\\n\tTerezinha & 0 & 0 &  7 & 0 &  2 & 0 & 0 &  4 & 0 &  11\\\\\n\tTerra Nova & 0 & 0 &  2 & 0 &  9 & 0 & 0 &  6 & 0 &  16\\\\\n\tTimbaúba & 0 & 0 & 18 & 0 & 32 & 0 & 2 & 32 & 0 &  64\\\\\n\tToritama & 0 & 0 & 27 & 0 &  6 & 0 & 1 & 35 & 0 &  36\\\\\n\tTracunhaém & 0 & 0 & 11 & 0 & 13 & 0 & 0 & 18 & 0 &  26\\\\\n\tTrindade & 0 & 0 &  2 & 0 & 15 & 0 & 0 & 10 & 0 &  29\\\\\n\tTriunfo & 0 & 0 &  8 & 0 &  8 & 0 & 0 &  7 & 0 &  23\\\\\n\tTupanatinga & 0 & 0 &  6 & 0 & 20 & 0 & 0 &  7 & 0 &  43\\\\\n\tTuparetama & 0 & 0 &  7 & 0 &  6 & 0 & 0 &  7 & 0 &  13\\\\\n\tVenturosa & 0 & 0 &  3 & 0 &  9 & 0 & 0 &  9 & 0 &  13\\\\\n\tVerdejante & 0 & 0 &  5 & 0 &  6 & 0 & 0 &  3 & 0 &  17\\\\\n\tVertente do Lério & 0 & 1 &  9 & 0 &  7 & 0 & 1 & 17 & 0 &  13\\\\\n\tVertentes & 0 & 0 &  7 & 0 &  7 & 0 & 0 & 10 & 0 &  20\\\\\n\tVicência & 0 & 0 &  7 & 0 & 18 & 0 & 0 & 10 & 0 &  43\\\\\n\tVitória de Santo Antão & 0 & 0 & 37 & 0 & 45 & 0 & 0 & 75 & 0 &  99\\\\\n\tXexéu & 0 & 0 &  5 & 0 & 12 & 0 & 0 &  4 & 0 &  24\\\\\n\\end{tabular}\n"
          },
          "metadata": {}
        }
      ]
    },
    {
      "cell_type": "markdown",
      "source": [
        "Perceba que cada municipio agora tem informações relacionadas a cada gênero_raça que informamos. No entanto, da maneira que está não conseguimos avançar muito, pois o nome dos municípios não são uma coluna. Vamos mudar isso!\n",
        "\n",
        "Para transpor de linhas para colunas, vamos criar uma variável chamada município (```tnegras$municipio```), e enviar o conteúdo das linhas com o nome dos municípios (```row.names(tnegras)```).\n",
        "\n",
        "Seu script deve estar semelhante a este abaixo."
      ],
      "metadata": {
        "id": "EQBeBY4oSfvx"
      }
    },
    {
      "cell_type": "code",
      "source": [
        "#Transpondo o nome dos municípios para uma coluna\n",
        "tnegras$municipio <- row.names(tnegras)"
      ],
      "metadata": {
        "id": "hWIWt86rSsIf"
      },
      "execution_count": 18,
      "outputs": []
    },
    {
      "cell_type": "markdown",
      "source": [
        "As colunas criadas sempre ficam no final.\n",
        "Se você visualizar agora..."
      ],
      "metadata": {
        "id": "XRzdPUx9UEDG"
      }
    },
    {
      "cell_type": "code",
      "source": [
        "View(tnegras)"
      ],
      "metadata": {
        "id": "PchQPlAzUDd_",
        "colab": {
          "base_uri": "https://localhost:8080/",
          "height": 1000
        },
        "outputId": "f4f5e4cb-a7bd-44f5-d0ec-8e65cfcc1643"
      },
      "execution_count": 19,
      "outputs": [
        {
          "output_type": "display_data",
          "data": {
            "text/plain": [
              "                       feminino_ feminino_amarela feminino_branca\n",
              "Abreu e Lima           0         0                29             \n",
              "Afogados da Ingazeira  0         0                14             \n",
              "Afrânio                0         0                 7             \n",
              "Agrestina              0         0                11             \n",
              "Água Preta             0         0                 7             \n",
              "Águas Belas            0         0                16             \n",
              "Alagoinha              0         0                 2             \n",
              "Aliança                0         0                13             \n",
              "Altinho                0         0                 7             \n",
              "Amaraji                0         0                11             \n",
              "Angelim                0         0                 4             \n",
              "Araçoiaba              0         0                 7             \n",
              "Araripina              0         0                 8             \n",
              "Arcoverde              0         1                18             \n",
              "Barra de Guabiraba     0         0                 3             \n",
              "Barreiros              0         0                22             \n",
              "Belém de Maria         0         0                 3             \n",
              "Belém do São Francisco 0         0                 6             \n",
              "Belo Jardim            0         0                30             \n",
              "Betânia                0         0                 7             \n",
              "Bezerros               0         0                22             \n",
              "Bodocó                 4         0                 4             \n",
              "Bom Conselho           0         0                12             \n",
              "Bom Jardim             0         0                19             \n",
              "Bonito                 1         1                29             \n",
              "Brejão                 0         0                 8             \n",
              "Brejinho               0         0                 3             \n",
              "Brejo da Madre de Deus 0         0                17             \n",
              "Buenos Aires           0         0                 6             \n",
              "Buíque                 0         0                11             \n",
              "⋮                      ⋮         ⋮                ⋮              \n",
              "São José do Egito      0         2                11             \n",
              "São Lourenço da Mata   0         0                43             \n",
              "São Vicente Férrer     0         0                11             \n",
              "Serra Talhada          0         0                 7             \n",
              "Serrita                0         0                 8             \n",
              "Sertânia               0         0                12             \n",
              "Sirinhaém              0         1                13             \n",
              "Solidão                0         0                 5             \n",
              "Surubim                0         0                30             \n",
              "Tabira                 0         0                 9             \n",
              "Tacaimbó               0         0                 7             \n",
              "Tacaratu               0         0                 8             \n",
              "Tamandaré              0         0                 5             \n",
              "Taquaritinga do Norte  0         0                16             \n",
              "Terezinha              0         0                 7             \n",
              "Terra Nova             0         0                 2             \n",
              "Timbaúba               0         0                18             \n",
              "Toritama               0         0                27             \n",
              "Tracunhaém             0         0                11             \n",
              "Trindade               0         0                 2             \n",
              "Triunfo                0         0                 8             \n",
              "Tupanatinga            0         0                 6             \n",
              "Tuparetama             0         0                 7             \n",
              "Venturosa              0         0                 3             \n",
              "Verdejante             0         0                 5             \n",
              "Vertente do Lério      0         1                 9             \n",
              "Vertentes              0         0                 7             \n",
              "Vicência               0         0                 7             \n",
              "Vitória de Santo Antão 0         0                37             \n",
              "Xexéu                  0         0                 5             \n",
              "                       feminino_indigena feminino_negra masculino_\n",
              "Abreu e Lima           0                 62             0         \n",
              "Afogados da Ingazeira  0                 19             0         \n",
              "Afrânio                0                  6             0         \n",
              "Agrestina              0                 11             0         \n",
              "Água Preta             0                 20             0         \n",
              "Águas Belas            0                 21             0         \n",
              "Alagoinha              0                 11             0         \n",
              "Aliança                0                 15             0         \n",
              "Altinho                0                 14             0         \n",
              "Amaraji                0                 19             0         \n",
              "Angelim                0                 10             0         \n",
              "Araçoiaba              0                 32             0         \n",
              "Araripina              0                 28             0         \n",
              "Arcoverde              1                 32             0         \n",
              "Barra de Guabiraba     0                  6             0         \n",
              "Barreiros              0                 27             0         \n",
              "Belém de Maria         0                 19             0         \n",
              "Belém do São Francisco 1                 14             0         \n",
              "Belo Jardim            0                 28             0         \n",
              "Betânia                0                  8             0         \n",
              "Bezerros               0                 28             0         \n",
              "Bodocó                 0                  8             9         \n",
              "Bom Conselho           0                 25             0         \n",
              "Bom Jardim             0                 18             0         \n",
              "Bonito                 0                  7             1         \n",
              "Brejão                 0                  5             0         \n",
              "Brejinho               0                  7             0         \n",
              "Brejo da Madre de Deus 0                 13             0         \n",
              "Buenos Aires           0                 17             0         \n",
              "Buíque                 0                 12             0         \n",
              "⋮                      ⋮                 ⋮              ⋮         \n",
              "São José do Egito      0                  9             1         \n",
              "São Lourenço da Mata   0                 68             0         \n",
              "São Vicente Férrer     0                  8             0         \n",
              "Serra Talhada          0                 47             0         \n",
              "Serrita                0                  5             0         \n",
              "Sertânia               0                  9             0         \n",
              "Sirinhaém              0                 37             0         \n",
              "Solidão                0                  3             0         \n",
              "Surubim                0                 23             0         \n",
              "Tabira                 0                 11             0         \n",
              "Tacaimbó               0                 18             0         \n",
              "Tacaratu               1                 11             0         \n",
              "Tamandaré              0                 40             1         \n",
              "Taquaritinga do Norte  0                 11             0         \n",
              "Terezinha              0                  2             0         \n",
              "Terra Nova             0                  9             0         \n",
              "Timbaúba               0                 32             0         \n",
              "Toritama               0                  6             0         \n",
              "Tracunhaém             0                 13             0         \n",
              "Trindade               0                 15             0         \n",
              "Triunfo                0                  8             0         \n",
              "Tupanatinga            0                 20             0         \n",
              "Tuparetama             0                  6             0         \n",
              "Venturosa              0                  9             0         \n",
              "Verdejante             0                  6             0         \n",
              "Vertente do Lério      0                  7             0         \n",
              "Vertentes              0                  7             0         \n",
              "Vicência               0                 18             0         \n",
              "Vitória de Santo Antão 0                 45             0         \n",
              "Xexéu                  0                 12             0         \n",
              "                       masculino_amarela masculino_branca masculino_indigena\n",
              "Abreu e Lima           0                 61               0                 \n",
              "Afogados da Ingazeira  0                 28               0                 \n",
              "Afrânio                0                 19               0                 \n",
              "Agrestina              0                 17               0                 \n",
              "Água Preta             0                  9               0                 \n",
              "Águas Belas            0                 13               3                 \n",
              "Alagoinha              0                 11               0                 \n",
              "Aliança                0                 24               0                 \n",
              "Altinho                0                 17               0                 \n",
              "Amaraji                0                 12               0                 \n",
              "Angelim                0                  9               0                 \n",
              "Araçoiaba              0                  6               2                 \n",
              "Araripina              0                 10               0                 \n",
              "Arcoverde              0                 34               0                 \n",
              "Barra de Guabiraba     0                  6               0                 \n",
              "Barreiros              1                 31               0                 \n",
              "Belém de Maria         0                  2               0                 \n",
              "Belém do São Francisco 0                 10               0                 \n",
              "Belo Jardim            0                 46               1                 \n",
              "Betânia                0                  7               0                 \n",
              "Bezerros               0                 48               0                 \n",
              "Bodocó                 0                 11               0                 \n",
              "Bom Conselho           0                 29               0                 \n",
              "Bom Jardim             0                 31               0                 \n",
              "Bonito                 0                 60               0                 \n",
              "Brejão                 0                  9               0                 \n",
              "Brejinho               0                  4               0                 \n",
              "Brejo da Madre de Deus 0                 31               0                 \n",
              "Buenos Aires           0                 19               0                 \n",
              "Buíque                 0                 14               2                 \n",
              "⋮                      ⋮                 ⋮                ⋮                 \n",
              "São José do Egito      3                 19               0                 \n",
              "São Lourenço da Mata   0                 65               0                 \n",
              "São Vicente Férrer     0                 17               0                 \n",
              "Serra Talhada          0                 21               0                 \n",
              "Serrita                0                 12               0                 \n",
              "Sertânia               0                 16               0                 \n",
              "Sirinhaém              1                 22               0                 \n",
              "Solidão                0                  5               0                 \n",
              "Surubim                0                 59               1                 \n",
              "Tabira                 0                 17               0                 \n",
              "Tacaimbó               0                 14               0                 \n",
              "Tacaratu               0                 24               4                 \n",
              "Tamandaré              0                 13               0                 \n",
              "Taquaritinga do Norte  0                 29               0                 \n",
              "Terezinha              0                  4               0                 \n",
              "Terra Nova             0                  6               0                 \n",
              "Timbaúba               2                 32               0                 \n",
              "Toritama               1                 35               0                 \n",
              "Tracunhaém             0                 18               0                 \n",
              "Trindade               0                 10               0                 \n",
              "Triunfo                0                  7               0                 \n",
              "Tupanatinga            0                  7               0                 \n",
              "Tuparetama             0                  7               0                 \n",
              "Venturosa              0                  9               0                 \n",
              "Verdejante             0                  3               0                 \n",
              "Vertente do Lério      1                 17               0                 \n",
              "Vertentes              0                 10               0                 \n",
              "Vicência               0                 10               0                 \n",
              "Vitória de Santo Antão 0                 75               0                 \n",
              "Xexéu                  0                  4               0                 \n",
              "                       masculino_negra municipio             \n",
              "Abreu e Lima           95              Abreu e Lima          \n",
              "Afogados da Ingazeira  39              Afogados da Ingazeira \n",
              "Afrânio                 9              Afrânio               \n",
              "Agrestina              27              Agrestina             \n",
              "Água Preta             46              Água Preta            \n",
              "Águas Belas            66              Águas Belas           \n",
              "Alagoinha              16              Alagoinha             \n",
              "Aliança                28              Aliança               \n",
              "Altinho                25              Altinho               \n",
              "Amaraji                42              Amaraji               \n",
              "Angelim                19              Angelim               \n",
              "Araçoiaba              61              Araçoiaba             \n",
              "Araripina              65              Araripina             \n",
              "Arcoverde              61              Arcoverde             \n",
              "Barra de Guabiraba     12              Barra de Guabiraba    \n",
              "Barreiros              61              Barreiros             \n",
              "Belém de Maria         29              Belém de Maria        \n",
              "Belém do São Francisco 31              Belém do São Francisco\n",
              "Belo Jardim            72              Belo Jardim           \n",
              "Betânia                20              Betânia               \n",
              "Bezerros               59              Bezerros              \n",
              "Bodocó                 17              Bodocó                \n",
              "Bom Conselho           38              Bom Conselho          \n",
              "Bom Jardim             41              Bom Jardim            \n",
              "Bonito                 24              Bonito                \n",
              "Brejão                 13              Brejão                \n",
              "Brejinho               14              Brejinho              \n",
              "Brejo da Madre de Deus 31              Brejo da Madre de Deus\n",
              "Buenos Aires           24              Buenos Aires          \n",
              "Buíque                 35              Buíque                \n",
              "⋮                      ⋮               ⋮                     \n",
              "São José do Egito       24             São José do Egito     \n",
              "São Lourenço da Mata   169             São Lourenço da Mata  \n",
              "São Vicente Férrer      16             São Vicente Férrer    \n",
              "Serra Talhada           86             Serra Talhada         \n",
              "Serrita                 15             Serrita               \n",
              "Sertânia                23             Sertânia              \n",
              "Sirinhaém               80             Sirinhaém             \n",
              "Solidão                  3             Solidão               \n",
              "Surubim                 42             Surubim               \n",
              "Tabira                  24             Tabira                \n",
              "Tacaimbó                28             Tacaimbó              \n",
              "Tacaratu                14             Tacaratu              \n",
              "Tamandaré               73             Tamandaré             \n",
              "Taquaritinga do Norte   21             Taquaritinga do Norte \n",
              "Terezinha               11             Terezinha             \n",
              "Terra Nova              16             Terra Nova            \n",
              "Timbaúba                64             Timbaúba              \n",
              "Toritama                36             Toritama              \n",
              "Tracunhaém              26             Tracunhaém            \n",
              "Trindade                29             Trindade              \n",
              "Triunfo                 23             Triunfo               \n",
              "Tupanatinga             43             Tupanatinga           \n",
              "Tuparetama              13             Tuparetama            \n",
              "Venturosa               13             Venturosa             \n",
              "Verdejante              17             Verdejante            \n",
              "Vertente do Lério       13             Vertente do Lério     \n",
              "Vertentes               20             Vertentes             \n",
              "Vicência                43             Vicência              \n",
              "Vitória de Santo Antão  99             Vitória de Santo Antão\n",
              "Xexéu                   24             Xexéu                 "
            ],
            "text/html": [
              "<table class=\"dataframe\">\n",
              "<caption>A data.frame: 184 × 11</caption>\n",
              "<thead>\n",
              "\t<tr><th></th><th scope=col>feminino_</th><th scope=col>feminino_amarela</th><th scope=col>feminino_branca</th><th scope=col>feminino_indigena</th><th scope=col>feminino_negra</th><th scope=col>masculino_</th><th scope=col>masculino_amarela</th><th scope=col>masculino_branca</th><th scope=col>masculino_indigena</th><th scope=col>masculino_negra</th><th scope=col>municipio</th></tr>\n",
              "\t<tr><th></th><th scope=col>&lt;int&gt;</th><th scope=col>&lt;int&gt;</th><th scope=col>&lt;int&gt;</th><th scope=col>&lt;int&gt;</th><th scope=col>&lt;int&gt;</th><th scope=col>&lt;int&gt;</th><th scope=col>&lt;int&gt;</th><th scope=col>&lt;int&gt;</th><th scope=col>&lt;int&gt;</th><th scope=col>&lt;int&gt;</th><th scope=col>&lt;chr&gt;</th></tr>\n",
              "</thead>\n",
              "<tbody>\n",
              "\t<tr><th scope=row>Abreu e Lima</th><td>0</td><td>0</td><td>29</td><td>0</td><td>62</td><td>0</td><td>0</td><td>61</td><td>0</td><td>95</td><td>Abreu e Lima          </td></tr>\n",
              "\t<tr><th scope=row>Afogados da Ingazeira</th><td>0</td><td>0</td><td>14</td><td>0</td><td>19</td><td>0</td><td>0</td><td>28</td><td>0</td><td>39</td><td>Afogados da Ingazeira </td></tr>\n",
              "\t<tr><th scope=row>Afrânio</th><td>0</td><td>0</td><td> 7</td><td>0</td><td> 6</td><td>0</td><td>0</td><td>19</td><td>0</td><td> 9</td><td>Afrânio               </td></tr>\n",
              "\t<tr><th scope=row>Agrestina</th><td>0</td><td>0</td><td>11</td><td>0</td><td>11</td><td>0</td><td>0</td><td>17</td><td>0</td><td>27</td><td>Agrestina             </td></tr>\n",
              "\t<tr><th scope=row>Água Preta</th><td>0</td><td>0</td><td> 7</td><td>0</td><td>20</td><td>0</td><td>0</td><td> 9</td><td>0</td><td>46</td><td>Água Preta            </td></tr>\n",
              "\t<tr><th scope=row>Águas Belas</th><td>0</td><td>0</td><td>16</td><td>0</td><td>21</td><td>0</td><td>0</td><td>13</td><td>3</td><td>66</td><td>Águas Belas           </td></tr>\n",
              "\t<tr><th scope=row>Alagoinha</th><td>0</td><td>0</td><td> 2</td><td>0</td><td>11</td><td>0</td><td>0</td><td>11</td><td>0</td><td>16</td><td>Alagoinha             </td></tr>\n",
              "\t<tr><th scope=row>Aliança</th><td>0</td><td>0</td><td>13</td><td>0</td><td>15</td><td>0</td><td>0</td><td>24</td><td>0</td><td>28</td><td>Aliança               </td></tr>\n",
              "\t<tr><th scope=row>Altinho</th><td>0</td><td>0</td><td> 7</td><td>0</td><td>14</td><td>0</td><td>0</td><td>17</td><td>0</td><td>25</td><td>Altinho               </td></tr>\n",
              "\t<tr><th scope=row>Amaraji</th><td>0</td><td>0</td><td>11</td><td>0</td><td>19</td><td>0</td><td>0</td><td>12</td><td>0</td><td>42</td><td>Amaraji               </td></tr>\n",
              "\t<tr><th scope=row>Angelim</th><td>0</td><td>0</td><td> 4</td><td>0</td><td>10</td><td>0</td><td>0</td><td> 9</td><td>0</td><td>19</td><td>Angelim               </td></tr>\n",
              "\t<tr><th scope=row>Araçoiaba</th><td>0</td><td>0</td><td> 7</td><td>0</td><td>32</td><td>0</td><td>0</td><td> 6</td><td>2</td><td>61</td><td>Araçoiaba             </td></tr>\n",
              "\t<tr><th scope=row>Araripina</th><td>0</td><td>0</td><td> 8</td><td>0</td><td>28</td><td>0</td><td>0</td><td>10</td><td>0</td><td>65</td><td>Araripina             </td></tr>\n",
              "\t<tr><th scope=row>Arcoverde</th><td>0</td><td>1</td><td>18</td><td>1</td><td>32</td><td>0</td><td>0</td><td>34</td><td>0</td><td>61</td><td>Arcoverde             </td></tr>\n",
              "\t<tr><th scope=row>Barra de Guabiraba</th><td>0</td><td>0</td><td> 3</td><td>0</td><td> 6</td><td>0</td><td>0</td><td> 6</td><td>0</td><td>12</td><td>Barra de Guabiraba    </td></tr>\n",
              "\t<tr><th scope=row>Barreiros</th><td>0</td><td>0</td><td>22</td><td>0</td><td>27</td><td>0</td><td>1</td><td>31</td><td>0</td><td>61</td><td>Barreiros             </td></tr>\n",
              "\t<tr><th scope=row>Belém de Maria</th><td>0</td><td>0</td><td> 3</td><td>0</td><td>19</td><td>0</td><td>0</td><td> 2</td><td>0</td><td>29</td><td>Belém de Maria        </td></tr>\n",
              "\t<tr><th scope=row>Belém do São Francisco</th><td>0</td><td>0</td><td> 6</td><td>1</td><td>14</td><td>0</td><td>0</td><td>10</td><td>0</td><td>31</td><td>Belém do São Francisco</td></tr>\n",
              "\t<tr><th scope=row>Belo Jardim</th><td>0</td><td>0</td><td>30</td><td>0</td><td>28</td><td>0</td><td>0</td><td>46</td><td>1</td><td>72</td><td>Belo Jardim           </td></tr>\n",
              "\t<tr><th scope=row>Betânia</th><td>0</td><td>0</td><td> 7</td><td>0</td><td> 8</td><td>0</td><td>0</td><td> 7</td><td>0</td><td>20</td><td>Betânia               </td></tr>\n",
              "\t<tr><th scope=row>Bezerros</th><td>0</td><td>0</td><td>22</td><td>0</td><td>28</td><td>0</td><td>0</td><td>48</td><td>0</td><td>59</td><td>Bezerros              </td></tr>\n",
              "\t<tr><th scope=row>Bodocó</th><td>4</td><td>0</td><td> 4</td><td>0</td><td> 8</td><td>9</td><td>0</td><td>11</td><td>0</td><td>17</td><td>Bodocó                </td></tr>\n",
              "\t<tr><th scope=row>Bom Conselho</th><td>0</td><td>0</td><td>12</td><td>0</td><td>25</td><td>0</td><td>0</td><td>29</td><td>0</td><td>38</td><td>Bom Conselho          </td></tr>\n",
              "\t<tr><th scope=row>Bom Jardim</th><td>0</td><td>0</td><td>19</td><td>0</td><td>18</td><td>0</td><td>0</td><td>31</td><td>0</td><td>41</td><td>Bom Jardim            </td></tr>\n",
              "\t<tr><th scope=row>Bonito</th><td>1</td><td>1</td><td>29</td><td>0</td><td> 7</td><td>1</td><td>0</td><td>60</td><td>0</td><td>24</td><td>Bonito                </td></tr>\n",
              "\t<tr><th scope=row>Brejão</th><td>0</td><td>0</td><td> 8</td><td>0</td><td> 5</td><td>0</td><td>0</td><td> 9</td><td>0</td><td>13</td><td>Brejão                </td></tr>\n",
              "\t<tr><th scope=row>Brejinho</th><td>0</td><td>0</td><td> 3</td><td>0</td><td> 7</td><td>0</td><td>0</td><td> 4</td><td>0</td><td>14</td><td>Brejinho              </td></tr>\n",
              "\t<tr><th scope=row>Brejo da Madre de Deus</th><td>0</td><td>0</td><td>17</td><td>0</td><td>13</td><td>0</td><td>0</td><td>31</td><td>0</td><td>31</td><td>Brejo da Madre de Deus</td></tr>\n",
              "\t<tr><th scope=row>Buenos Aires</th><td>0</td><td>0</td><td> 6</td><td>0</td><td>17</td><td>0</td><td>0</td><td>19</td><td>0</td><td>24</td><td>Buenos Aires          </td></tr>\n",
              "\t<tr><th scope=row>Buíque</th><td>0</td><td>0</td><td>11</td><td>0</td><td>12</td><td>0</td><td>0</td><td>14</td><td>2</td><td>35</td><td>Buíque                </td></tr>\n",
              "\t<tr><th scope=row>⋮</th><td>⋮</td><td>⋮</td><td>⋮</td><td>⋮</td><td>⋮</td><td>⋮</td><td>⋮</td><td>⋮</td><td>⋮</td><td>⋮</td><td>⋮</td></tr>\n",
              "\t<tr><th scope=row>São José do Egito</th><td>0</td><td>2</td><td>11</td><td>0</td><td> 9</td><td>1</td><td>3</td><td>19</td><td>0</td><td> 24</td><td>São José do Egito     </td></tr>\n",
              "\t<tr><th scope=row>São Lourenço da Mata</th><td>0</td><td>0</td><td>43</td><td>0</td><td>68</td><td>0</td><td>0</td><td>65</td><td>0</td><td>169</td><td>São Lourenço da Mata  </td></tr>\n",
              "\t<tr><th scope=row>São Vicente Férrer</th><td>0</td><td>0</td><td>11</td><td>0</td><td> 8</td><td>0</td><td>0</td><td>17</td><td>0</td><td> 16</td><td>São Vicente Férrer    </td></tr>\n",
              "\t<tr><th scope=row>Serra Talhada</th><td>0</td><td>0</td><td> 7</td><td>0</td><td>47</td><td>0</td><td>0</td><td>21</td><td>0</td><td> 86</td><td>Serra Talhada         </td></tr>\n",
              "\t<tr><th scope=row>Serrita</th><td>0</td><td>0</td><td> 8</td><td>0</td><td> 5</td><td>0</td><td>0</td><td>12</td><td>0</td><td> 15</td><td>Serrita               </td></tr>\n",
              "\t<tr><th scope=row>Sertânia</th><td>0</td><td>0</td><td>12</td><td>0</td><td> 9</td><td>0</td><td>0</td><td>16</td><td>0</td><td> 23</td><td>Sertânia              </td></tr>\n",
              "\t<tr><th scope=row>Sirinhaém</th><td>0</td><td>1</td><td>13</td><td>0</td><td>37</td><td>0</td><td>1</td><td>22</td><td>0</td><td> 80</td><td>Sirinhaém             </td></tr>\n",
              "\t<tr><th scope=row>Solidão</th><td>0</td><td>0</td><td> 5</td><td>0</td><td> 3</td><td>0</td><td>0</td><td> 5</td><td>0</td><td>  3</td><td>Solidão               </td></tr>\n",
              "\t<tr><th scope=row>Surubim</th><td>0</td><td>0</td><td>30</td><td>0</td><td>23</td><td>0</td><td>0</td><td>59</td><td>1</td><td> 42</td><td>Surubim               </td></tr>\n",
              "\t<tr><th scope=row>Tabira</th><td>0</td><td>0</td><td> 9</td><td>0</td><td>11</td><td>0</td><td>0</td><td>17</td><td>0</td><td> 24</td><td>Tabira                </td></tr>\n",
              "\t<tr><th scope=row>Tacaimbó</th><td>0</td><td>0</td><td> 7</td><td>0</td><td>18</td><td>0</td><td>0</td><td>14</td><td>0</td><td> 28</td><td>Tacaimbó              </td></tr>\n",
              "\t<tr><th scope=row>Tacaratu</th><td>0</td><td>0</td><td> 8</td><td>1</td><td>11</td><td>0</td><td>0</td><td>24</td><td>4</td><td> 14</td><td>Tacaratu              </td></tr>\n",
              "\t<tr><th scope=row>Tamandaré</th><td>0</td><td>0</td><td> 5</td><td>0</td><td>40</td><td>1</td><td>0</td><td>13</td><td>0</td><td> 73</td><td>Tamandaré             </td></tr>\n",
              "\t<tr><th scope=row>Taquaritinga do Norte</th><td>0</td><td>0</td><td>16</td><td>0</td><td>11</td><td>0</td><td>0</td><td>29</td><td>0</td><td> 21</td><td>Taquaritinga do Norte </td></tr>\n",
              "\t<tr><th scope=row>Terezinha</th><td>0</td><td>0</td><td> 7</td><td>0</td><td> 2</td><td>0</td><td>0</td><td> 4</td><td>0</td><td> 11</td><td>Terezinha             </td></tr>\n",
              "\t<tr><th scope=row>Terra Nova</th><td>0</td><td>0</td><td> 2</td><td>0</td><td> 9</td><td>0</td><td>0</td><td> 6</td><td>0</td><td> 16</td><td>Terra Nova            </td></tr>\n",
              "\t<tr><th scope=row>Timbaúba</th><td>0</td><td>0</td><td>18</td><td>0</td><td>32</td><td>0</td><td>2</td><td>32</td><td>0</td><td> 64</td><td>Timbaúba              </td></tr>\n",
              "\t<tr><th scope=row>Toritama</th><td>0</td><td>0</td><td>27</td><td>0</td><td> 6</td><td>0</td><td>1</td><td>35</td><td>0</td><td> 36</td><td>Toritama              </td></tr>\n",
              "\t<tr><th scope=row>Tracunhaém</th><td>0</td><td>0</td><td>11</td><td>0</td><td>13</td><td>0</td><td>0</td><td>18</td><td>0</td><td> 26</td><td>Tracunhaém            </td></tr>\n",
              "\t<tr><th scope=row>Trindade</th><td>0</td><td>0</td><td> 2</td><td>0</td><td>15</td><td>0</td><td>0</td><td>10</td><td>0</td><td> 29</td><td>Trindade              </td></tr>\n",
              "\t<tr><th scope=row>Triunfo</th><td>0</td><td>0</td><td> 8</td><td>0</td><td> 8</td><td>0</td><td>0</td><td> 7</td><td>0</td><td> 23</td><td>Triunfo               </td></tr>\n",
              "\t<tr><th scope=row>Tupanatinga</th><td>0</td><td>0</td><td> 6</td><td>0</td><td>20</td><td>0</td><td>0</td><td> 7</td><td>0</td><td> 43</td><td>Tupanatinga           </td></tr>\n",
              "\t<tr><th scope=row>Tuparetama</th><td>0</td><td>0</td><td> 7</td><td>0</td><td> 6</td><td>0</td><td>0</td><td> 7</td><td>0</td><td> 13</td><td>Tuparetama            </td></tr>\n",
              "\t<tr><th scope=row>Venturosa</th><td>0</td><td>0</td><td> 3</td><td>0</td><td> 9</td><td>0</td><td>0</td><td> 9</td><td>0</td><td> 13</td><td>Venturosa             </td></tr>\n",
              "\t<tr><th scope=row>Verdejante</th><td>0</td><td>0</td><td> 5</td><td>0</td><td> 6</td><td>0</td><td>0</td><td> 3</td><td>0</td><td> 17</td><td>Verdejante            </td></tr>\n",
              "\t<tr><th scope=row>Vertente do Lério</th><td>0</td><td>1</td><td> 9</td><td>0</td><td> 7</td><td>0</td><td>1</td><td>17</td><td>0</td><td> 13</td><td>Vertente do Lério     </td></tr>\n",
              "\t<tr><th scope=row>Vertentes</th><td>0</td><td>0</td><td> 7</td><td>0</td><td> 7</td><td>0</td><td>0</td><td>10</td><td>0</td><td> 20</td><td>Vertentes             </td></tr>\n",
              "\t<tr><th scope=row>Vicência</th><td>0</td><td>0</td><td> 7</td><td>0</td><td>18</td><td>0</td><td>0</td><td>10</td><td>0</td><td> 43</td><td>Vicência              </td></tr>\n",
              "\t<tr><th scope=row>Vitória de Santo Antão</th><td>0</td><td>0</td><td>37</td><td>0</td><td>45</td><td>0</td><td>0</td><td>75</td><td>0</td><td> 99</td><td>Vitória de Santo Antão</td></tr>\n",
              "\t<tr><th scope=row>Xexéu</th><td>0</td><td>0</td><td> 5</td><td>0</td><td>12</td><td>0</td><td>0</td><td> 4</td><td>0</td><td> 24</td><td>Xexéu                 </td></tr>\n",
              "</tbody>\n",
              "</table>\n"
            ],
            "text/markdown": "\nA data.frame: 184 × 11\n\n| <!--/--> | feminino_ &lt;int&gt; | feminino_amarela &lt;int&gt; | feminino_branca &lt;int&gt; | feminino_indigena &lt;int&gt; | feminino_negra &lt;int&gt; | masculino_ &lt;int&gt; | masculino_amarela &lt;int&gt; | masculino_branca &lt;int&gt; | masculino_indigena &lt;int&gt; | masculino_negra &lt;int&gt; | municipio &lt;chr&gt; |\n|---|---|---|---|---|---|---|---|---|---|---|---|\n| Abreu e Lima | 0 | 0 | 29 | 0 | 62 | 0 | 0 | 61 | 0 | 95 | Abreu e Lima           |\n| Afogados da Ingazeira | 0 | 0 | 14 | 0 | 19 | 0 | 0 | 28 | 0 | 39 | Afogados da Ingazeira  |\n| Afrânio | 0 | 0 |  7 | 0 |  6 | 0 | 0 | 19 | 0 |  9 | Afrânio                |\n| Agrestina | 0 | 0 | 11 | 0 | 11 | 0 | 0 | 17 | 0 | 27 | Agrestina              |\n| Água Preta | 0 | 0 |  7 | 0 | 20 | 0 | 0 |  9 | 0 | 46 | Água Preta             |\n| Águas Belas | 0 | 0 | 16 | 0 | 21 | 0 | 0 | 13 | 3 | 66 | Águas Belas            |\n| Alagoinha | 0 | 0 |  2 | 0 | 11 | 0 | 0 | 11 | 0 | 16 | Alagoinha              |\n| Aliança | 0 | 0 | 13 | 0 | 15 | 0 | 0 | 24 | 0 | 28 | Aliança                |\n| Altinho | 0 | 0 |  7 | 0 | 14 | 0 | 0 | 17 | 0 | 25 | Altinho                |\n| Amaraji | 0 | 0 | 11 | 0 | 19 | 0 | 0 | 12 | 0 | 42 | Amaraji                |\n| Angelim | 0 | 0 |  4 | 0 | 10 | 0 | 0 |  9 | 0 | 19 | Angelim                |\n| Araçoiaba | 0 | 0 |  7 | 0 | 32 | 0 | 0 |  6 | 2 | 61 | Araçoiaba              |\n| Araripina | 0 | 0 |  8 | 0 | 28 | 0 | 0 | 10 | 0 | 65 | Araripina              |\n| Arcoverde | 0 | 1 | 18 | 1 | 32 | 0 | 0 | 34 | 0 | 61 | Arcoverde              |\n| Barra de Guabiraba | 0 | 0 |  3 | 0 |  6 | 0 | 0 |  6 | 0 | 12 | Barra de Guabiraba     |\n| Barreiros | 0 | 0 | 22 | 0 | 27 | 0 | 1 | 31 | 0 | 61 | Barreiros              |\n| Belém de Maria | 0 | 0 |  3 | 0 | 19 | 0 | 0 |  2 | 0 | 29 | Belém de Maria         |\n| Belém do São Francisco | 0 | 0 |  6 | 1 | 14 | 0 | 0 | 10 | 0 | 31 | Belém do São Francisco |\n| Belo Jardim | 0 | 0 | 30 | 0 | 28 | 0 | 0 | 46 | 1 | 72 | Belo Jardim            |\n| Betânia | 0 | 0 |  7 | 0 |  8 | 0 | 0 |  7 | 0 | 20 | Betânia                |\n| Bezerros | 0 | 0 | 22 | 0 | 28 | 0 | 0 | 48 | 0 | 59 | Bezerros               |\n| Bodocó | 4 | 0 |  4 | 0 |  8 | 9 | 0 | 11 | 0 | 17 | Bodocó                 |\n| Bom Conselho | 0 | 0 | 12 | 0 | 25 | 0 | 0 | 29 | 0 | 38 | Bom Conselho           |\n| Bom Jardim | 0 | 0 | 19 | 0 | 18 | 0 | 0 | 31 | 0 | 41 | Bom Jardim             |\n| Bonito | 1 | 1 | 29 | 0 |  7 | 1 | 0 | 60 | 0 | 24 | Bonito                 |\n| Brejão | 0 | 0 |  8 | 0 |  5 | 0 | 0 |  9 | 0 | 13 | Brejão                 |\n| Brejinho | 0 | 0 |  3 | 0 |  7 | 0 | 0 |  4 | 0 | 14 | Brejinho               |\n| Brejo da Madre de Deus | 0 | 0 | 17 | 0 | 13 | 0 | 0 | 31 | 0 | 31 | Brejo da Madre de Deus |\n| Buenos Aires | 0 | 0 |  6 | 0 | 17 | 0 | 0 | 19 | 0 | 24 | Buenos Aires           |\n| Buíque | 0 | 0 | 11 | 0 | 12 | 0 | 0 | 14 | 2 | 35 | Buíque                 |\n| ⋮ | ⋮ | ⋮ | ⋮ | ⋮ | ⋮ | ⋮ | ⋮ | ⋮ | ⋮ | ⋮ | ⋮ |\n| São José do Egito | 0 | 2 | 11 | 0 |  9 | 1 | 3 | 19 | 0 |  24 | São José do Egito      |\n| São Lourenço da Mata | 0 | 0 | 43 | 0 | 68 | 0 | 0 | 65 | 0 | 169 | São Lourenço da Mata   |\n| São Vicente Férrer | 0 | 0 | 11 | 0 |  8 | 0 | 0 | 17 | 0 |  16 | São Vicente Férrer     |\n| Serra Talhada | 0 | 0 |  7 | 0 | 47 | 0 | 0 | 21 | 0 |  86 | Serra Talhada          |\n| Serrita | 0 | 0 |  8 | 0 |  5 | 0 | 0 | 12 | 0 |  15 | Serrita                |\n| Sertânia | 0 | 0 | 12 | 0 |  9 | 0 | 0 | 16 | 0 |  23 | Sertânia               |\n| Sirinhaém | 0 | 1 | 13 | 0 | 37 | 0 | 1 | 22 | 0 |  80 | Sirinhaém              |\n| Solidão | 0 | 0 |  5 | 0 |  3 | 0 | 0 |  5 | 0 |   3 | Solidão                |\n| Surubim | 0 | 0 | 30 | 0 | 23 | 0 | 0 | 59 | 1 |  42 | Surubim                |\n| Tabira | 0 | 0 |  9 | 0 | 11 | 0 | 0 | 17 | 0 |  24 | Tabira                 |\n| Tacaimbó | 0 | 0 |  7 | 0 | 18 | 0 | 0 | 14 | 0 |  28 | Tacaimbó               |\n| Tacaratu | 0 | 0 |  8 | 1 | 11 | 0 | 0 | 24 | 4 |  14 | Tacaratu               |\n| Tamandaré | 0 | 0 |  5 | 0 | 40 | 1 | 0 | 13 | 0 |  73 | Tamandaré              |\n| Taquaritinga do Norte | 0 | 0 | 16 | 0 | 11 | 0 | 0 | 29 | 0 |  21 | Taquaritinga do Norte  |\n| Terezinha | 0 | 0 |  7 | 0 |  2 | 0 | 0 |  4 | 0 |  11 | Terezinha              |\n| Terra Nova | 0 | 0 |  2 | 0 |  9 | 0 | 0 |  6 | 0 |  16 | Terra Nova             |\n| Timbaúba | 0 | 0 | 18 | 0 | 32 | 0 | 2 | 32 | 0 |  64 | Timbaúba               |\n| Toritama | 0 | 0 | 27 | 0 |  6 | 0 | 1 | 35 | 0 |  36 | Toritama               |\n| Tracunhaém | 0 | 0 | 11 | 0 | 13 | 0 | 0 | 18 | 0 |  26 | Tracunhaém             |\n| Trindade | 0 | 0 |  2 | 0 | 15 | 0 | 0 | 10 | 0 |  29 | Trindade               |\n| Triunfo | 0 | 0 |  8 | 0 |  8 | 0 | 0 |  7 | 0 |  23 | Triunfo                |\n| Tupanatinga | 0 | 0 |  6 | 0 | 20 | 0 | 0 |  7 | 0 |  43 | Tupanatinga            |\n| Tuparetama | 0 | 0 |  7 | 0 |  6 | 0 | 0 |  7 | 0 |  13 | Tuparetama             |\n| Venturosa | 0 | 0 |  3 | 0 |  9 | 0 | 0 |  9 | 0 |  13 | Venturosa              |\n| Verdejante | 0 | 0 |  5 | 0 |  6 | 0 | 0 |  3 | 0 |  17 | Verdejante             |\n| Vertente do Lério | 0 | 1 |  9 | 0 |  7 | 0 | 1 | 17 | 0 |  13 | Vertente do Lério      |\n| Vertentes | 0 | 0 |  7 | 0 |  7 | 0 | 0 | 10 | 0 |  20 | Vertentes              |\n| Vicência | 0 | 0 |  7 | 0 | 18 | 0 | 0 | 10 | 0 |  43 | Vicência               |\n| Vitória de Santo Antão | 0 | 0 | 37 | 0 | 45 | 0 | 0 | 75 | 0 |  99 | Vitória de Santo Antão |\n| Xexéu | 0 | 0 |  5 | 0 | 12 | 0 | 0 |  4 | 0 |  24 | Xexéu                  |\n\n",
            "text/latex": "A data.frame: 184 × 11\n\\begin{tabular}{r|lllllllllll}\n  & feminino\\_ & feminino\\_amarela & feminino\\_branca & feminino\\_indigena & feminino\\_negra & masculino\\_ & masculino\\_amarela & masculino\\_branca & masculino\\_indigena & masculino\\_negra & municipio\\\\\n  & <int> & <int> & <int> & <int> & <int> & <int> & <int> & <int> & <int> & <int> & <chr>\\\\\n\\hline\n\tAbreu e Lima & 0 & 0 & 29 & 0 & 62 & 0 & 0 & 61 & 0 & 95 & Abreu e Lima          \\\\\n\tAfogados da Ingazeira & 0 & 0 & 14 & 0 & 19 & 0 & 0 & 28 & 0 & 39 & Afogados da Ingazeira \\\\\n\tAfrânio & 0 & 0 &  7 & 0 &  6 & 0 & 0 & 19 & 0 &  9 & Afrânio               \\\\\n\tAgrestina & 0 & 0 & 11 & 0 & 11 & 0 & 0 & 17 & 0 & 27 & Agrestina             \\\\\n\tÁgua Preta & 0 & 0 &  7 & 0 & 20 & 0 & 0 &  9 & 0 & 46 & Água Preta            \\\\\n\tÁguas Belas & 0 & 0 & 16 & 0 & 21 & 0 & 0 & 13 & 3 & 66 & Águas Belas           \\\\\n\tAlagoinha & 0 & 0 &  2 & 0 & 11 & 0 & 0 & 11 & 0 & 16 & Alagoinha             \\\\\n\tAliança & 0 & 0 & 13 & 0 & 15 & 0 & 0 & 24 & 0 & 28 & Aliança               \\\\\n\tAltinho & 0 & 0 &  7 & 0 & 14 & 0 & 0 & 17 & 0 & 25 & Altinho               \\\\\n\tAmaraji & 0 & 0 & 11 & 0 & 19 & 0 & 0 & 12 & 0 & 42 & Amaraji               \\\\\n\tAngelim & 0 & 0 &  4 & 0 & 10 & 0 & 0 &  9 & 0 & 19 & Angelim               \\\\\n\tAraçoiaba & 0 & 0 &  7 & 0 & 32 & 0 & 0 &  6 & 2 & 61 & Araçoiaba             \\\\\n\tAraripina & 0 & 0 &  8 & 0 & 28 & 0 & 0 & 10 & 0 & 65 & Araripina             \\\\\n\tArcoverde & 0 & 1 & 18 & 1 & 32 & 0 & 0 & 34 & 0 & 61 & Arcoverde             \\\\\n\tBarra de Guabiraba & 0 & 0 &  3 & 0 &  6 & 0 & 0 &  6 & 0 & 12 & Barra de Guabiraba    \\\\\n\tBarreiros & 0 & 0 & 22 & 0 & 27 & 0 & 1 & 31 & 0 & 61 & Barreiros             \\\\\n\tBelém de Maria & 0 & 0 &  3 & 0 & 19 & 0 & 0 &  2 & 0 & 29 & Belém de Maria        \\\\\n\tBelém do São Francisco & 0 & 0 &  6 & 1 & 14 & 0 & 0 & 10 & 0 & 31 & Belém do São Francisco\\\\\n\tBelo Jardim & 0 & 0 & 30 & 0 & 28 & 0 & 0 & 46 & 1 & 72 & Belo Jardim           \\\\\n\tBetânia & 0 & 0 &  7 & 0 &  8 & 0 & 0 &  7 & 0 & 20 & Betânia               \\\\\n\tBezerros & 0 & 0 & 22 & 0 & 28 & 0 & 0 & 48 & 0 & 59 & Bezerros              \\\\\n\tBodocó & 4 & 0 &  4 & 0 &  8 & 9 & 0 & 11 & 0 & 17 & Bodocó                \\\\\n\tBom Conselho & 0 & 0 & 12 & 0 & 25 & 0 & 0 & 29 & 0 & 38 & Bom Conselho          \\\\\n\tBom Jardim & 0 & 0 & 19 & 0 & 18 & 0 & 0 & 31 & 0 & 41 & Bom Jardim            \\\\\n\tBonito & 1 & 1 & 29 & 0 &  7 & 1 & 0 & 60 & 0 & 24 & Bonito                \\\\\n\tBrejão & 0 & 0 &  8 & 0 &  5 & 0 & 0 &  9 & 0 & 13 & Brejão                \\\\\n\tBrejinho & 0 & 0 &  3 & 0 &  7 & 0 & 0 &  4 & 0 & 14 & Brejinho              \\\\\n\tBrejo da Madre de Deus & 0 & 0 & 17 & 0 & 13 & 0 & 0 & 31 & 0 & 31 & Brejo da Madre de Deus\\\\\n\tBuenos Aires & 0 & 0 &  6 & 0 & 17 & 0 & 0 & 19 & 0 & 24 & Buenos Aires          \\\\\n\tBuíque & 0 & 0 & 11 & 0 & 12 & 0 & 0 & 14 & 2 & 35 & Buíque                \\\\\n\t⋮ & ⋮ & ⋮ & ⋮ & ⋮ & ⋮ & ⋮ & ⋮ & ⋮ & ⋮ & ⋮ & ⋮\\\\\n\tSão José do Egito & 0 & 2 & 11 & 0 &  9 & 1 & 3 & 19 & 0 &  24 & São José do Egito     \\\\\n\tSão Lourenço da Mata & 0 & 0 & 43 & 0 & 68 & 0 & 0 & 65 & 0 & 169 & São Lourenço da Mata  \\\\\n\tSão Vicente Férrer & 0 & 0 & 11 & 0 &  8 & 0 & 0 & 17 & 0 &  16 & São Vicente Férrer    \\\\\n\tSerra Talhada & 0 & 0 &  7 & 0 & 47 & 0 & 0 & 21 & 0 &  86 & Serra Talhada         \\\\\n\tSerrita & 0 & 0 &  8 & 0 &  5 & 0 & 0 & 12 & 0 &  15 & Serrita               \\\\\n\tSertânia & 0 & 0 & 12 & 0 &  9 & 0 & 0 & 16 & 0 &  23 & Sertânia              \\\\\n\tSirinhaém & 0 & 1 & 13 & 0 & 37 & 0 & 1 & 22 & 0 &  80 & Sirinhaém             \\\\\n\tSolidão & 0 & 0 &  5 & 0 &  3 & 0 & 0 &  5 & 0 &   3 & Solidão               \\\\\n\tSurubim & 0 & 0 & 30 & 0 & 23 & 0 & 0 & 59 & 1 &  42 & Surubim               \\\\\n\tTabira & 0 & 0 &  9 & 0 & 11 & 0 & 0 & 17 & 0 &  24 & Tabira                \\\\\n\tTacaimbó & 0 & 0 &  7 & 0 & 18 & 0 & 0 & 14 & 0 &  28 & Tacaimbó              \\\\\n\tTacaratu & 0 & 0 &  8 & 1 & 11 & 0 & 0 & 24 & 4 &  14 & Tacaratu              \\\\\n\tTamandaré & 0 & 0 &  5 & 0 & 40 & 1 & 0 & 13 & 0 &  73 & Tamandaré             \\\\\n\tTaquaritinga do Norte & 0 & 0 & 16 & 0 & 11 & 0 & 0 & 29 & 0 &  21 & Taquaritinga do Norte \\\\\n\tTerezinha & 0 & 0 &  7 & 0 &  2 & 0 & 0 &  4 & 0 &  11 & Terezinha             \\\\\n\tTerra Nova & 0 & 0 &  2 & 0 &  9 & 0 & 0 &  6 & 0 &  16 & Terra Nova            \\\\\n\tTimbaúba & 0 & 0 & 18 & 0 & 32 & 0 & 2 & 32 & 0 &  64 & Timbaúba              \\\\\n\tToritama & 0 & 0 & 27 & 0 &  6 & 0 & 1 & 35 & 0 &  36 & Toritama              \\\\\n\tTracunhaém & 0 & 0 & 11 & 0 & 13 & 0 & 0 & 18 & 0 &  26 & Tracunhaém            \\\\\n\tTrindade & 0 & 0 &  2 & 0 & 15 & 0 & 0 & 10 & 0 &  29 & Trindade              \\\\\n\tTriunfo & 0 & 0 &  8 & 0 &  8 & 0 & 0 &  7 & 0 &  23 & Triunfo               \\\\\n\tTupanatinga & 0 & 0 &  6 & 0 & 20 & 0 & 0 &  7 & 0 &  43 & Tupanatinga           \\\\\n\tTuparetama & 0 & 0 &  7 & 0 &  6 & 0 & 0 &  7 & 0 &  13 & Tuparetama            \\\\\n\tVenturosa & 0 & 0 &  3 & 0 &  9 & 0 & 0 &  9 & 0 &  13 & Venturosa             \\\\\n\tVerdejante & 0 & 0 &  5 & 0 &  6 & 0 & 0 &  3 & 0 &  17 & Verdejante            \\\\\n\tVertente do Lério & 0 & 1 &  9 & 0 &  7 & 0 & 1 & 17 & 0 &  13 & Vertente do Lério     \\\\\n\tVertentes & 0 & 0 &  7 & 0 &  7 & 0 & 0 & 10 & 0 &  20 & Vertentes             \\\\\n\tVicência & 0 & 0 &  7 & 0 & 18 & 0 & 0 & 10 & 0 &  43 & Vicência              \\\\\n\tVitória de Santo Antão & 0 & 0 & 37 & 0 & 45 & 0 & 0 & 75 & 0 &  99 & Vitória de Santo Antão\\\\\n\tXexéu & 0 & 0 &  5 & 0 & 12 & 0 & 0 &  4 & 0 &  24 & Xexéu                 \\\\\n\\end{tabular}\n"
          },
          "metadata": {}
        }
      ]
    },
    {
      "cell_type": "markdown",
      "source": [
        "Legal! Vamos em frente! o/"
      ],
      "metadata": {
        "id": "u4BFW_m-UsT9"
      }
    },
    {
      "cell_type": "markdown",
      "source": [
        "## Certo, mas e a base de eleitas? 🧐"
      ],
      "metadata": {
        "id": "oWm8g3g2Up5l"
      }
    },
    {
      "cell_type": "markdown",
      "source": [
        "Hahaha! Boa!\n",
        "\n",
        "Organizamos a base de candidaturas, mas ainda precisamos saber quem dessas pessoas foram eleitas. O processo de tratamento será muito semelhante ao anterior, então aqui vou ser mais prática e apenas incluir os scripts comentados."
      ],
      "metadata": {
        "id": "JmH0eVh9NyvK"
      }
    },
    {
      "cell_type": "code",
      "source": [
        "#o que temos de resultados?\n",
        "table(elei$resultado)"
      ],
      "metadata": {
        "colab": {
          "base_uri": "https://localhost:8080/",
          "height": 69
        },
        "id": "NL_r8qitVrnN",
        "outputId": "60ee5c86-2949-433b-c361-1fdf4047e834"
      },
      "execution_count": 20,
      "outputs": [
        {
          "output_type": "display_data",
          "data": {
            "text/plain": [
              "\n",
              "eleito por media    eleito por qp       nao eleito         suplente \n",
              "             554             1594             4961            11621 "
            ]
          },
          "metadata": {}
        }
      ]
    },
    {
      "cell_type": "code",
      "source": [
        "#Pra nós interessa só o que tem a ver com eleitos. Vamos deixar só eles.\n",
        "elei <- subset(elei, resultado ==\"eleito por media\" | resultado==\"eleito por qp\")"
      ],
      "metadata": {
        "id": "9TgAcVcIVP9Y"
      },
      "execution_count": 21,
      "outputs": []
    },
    {
      "cell_type": "markdown",
      "source": [
        "Certo, temos uma coisa nova, mas é bem simples. O ```|``` significa **ou**. O script está indicando a criação de um subconjunto de dados que contenha informações apenas sobre ```eleito por media``` **ou** ```eleito por qp```."
      ],
      "metadata": {
        "id": "mBehCuS1WE8-"
      }
    },
    {
      "cell_type": "code",
      "source": [
        "#fazendo merge de cand com eleit em uma nova variável chamada total\n",
        "total <- merge(cand, elei, by=\"id_candidato_bd\", all.x = F, all.y = T, incomparables = NA)"
      ],
      "metadata": {
        "id": "_eS9jqGqXKro"
      },
      "execution_count": 22,
      "outputs": []
    },
    {
      "cell_type": "code",
      "source": [
        "#criando uma tabela de eleito por municipio\n",
        "elei_muni <- table(total$Nome_Município, total$gen_raca)"
      ],
      "metadata": {
        "id": "h3qHEhGPXX97"
      },
      "execution_count": 23,
      "outputs": []
    },
    {
      "cell_type": "code",
      "source": [
        "#Transformando em um dataframe\n",
        "elei_muni <- as.data.frame.matrix(elei_muni)"
      ],
      "metadata": {
        "id": "n9kyo9wGXnXe"
      },
      "execution_count": 26,
      "outputs": []
    },
    {
      "cell_type": "code",
      "source": [
        "#Transpondo o nome dos municípios para uma coluna de municípios\n",
        "elei_muni$municipio <- row.names(elei_muni)"
      ],
      "metadata": {
        "id": "rj4lqIeoXtI0"
      },
      "execution_count": 27,
      "outputs": []
    },
    {
      "cell_type": "code",
      "source": [
        "#Visualizando o resultado\n",
        "View(elei_muni)"
      ],
      "metadata": {
        "id": "rHcqIIBKY_5A"
      },
      "execution_count": null,
      "outputs": []
    },
    {
      "cell_type": "markdown",
      "source": [
        "Prontinho! Rápido, não é?!"
      ],
      "metadata": {
        "id": "3BNmmPP5ZQzU"
      }
    },
    {
      "cell_type": "markdown",
      "source": [
        "## Exportando os dados 📥\n",
        "\n"
      ],
      "metadata": {
        "id": "G8fuJtULalN2"
      }
    },
    {
      "cell_type": "markdown",
      "source": [
        "*Certo, mas se eu quisesse fazer visualizações ou análises fora do collab com essa base que eu criei. Tem como?*\n",
        "\n",
        "Claro que tem! Vamos exportar ela.\n",
        "\n",
        "Para isso, basta usar o método ```write.csv```, passando como parâmetro o nome da base que você quer importar (```tnegras```), o nome que você quer dar ao arquivo (```candidatos_gen_raca_pe_2020.csv```) e indicar que não exista mais o nome das linhas (```row.names = F```).\n",
        "\n",
        "Seu script deve estar semelhante a este abaixo."
      ],
      "metadata": {
        "id": "lLrOPwqPapGq"
      }
    },
    {
      "cell_type": "code",
      "source": [
        "write.csv(tnegras, \"candidatos_gen_raca_pe_2020.csv\", row.names = F)"
      ],
      "metadata": {
        "id": "JYIhHXAXZUBX"
      },
      "execution_count": 29,
      "outputs": []
    },
    {
      "cell_type": "markdown",
      "source": [
        "Faremos o mesmo para a base de eleitos."
      ],
      "metadata": {
        "id": "7hAnJLp1fOyn"
      }
    },
    {
      "cell_type": "code",
      "source": [
        "write.csv(elei_muni, \"eleitos_gen_raca_pe_2020.csv\", row.names = F)"
      ],
      "metadata": {
        "id": "2tMSMJswfSJ5"
      },
      "execution_count": 30,
      "outputs": []
    },
    {
      "cell_type": "markdown",
      "source": [
        "*Socorrooo! Não deu erro, mas também não aconteceu nada. Onde meus arquivos foram parar?*\n",
        "\n",
        "Calma! 🧘‍♀️\n",
        "\n",
        "Clique no ícone de pasta aqui no Collab (lado esquerdo). Arquivos que são exportando no Collab aparecem aí. Passe o mouse em cima, clique nos 3 pontinhos e escolha **fazer download**. Baixe para o seu computador."
      ],
      "metadata": {
        "id": "1pzOrL3sb47R"
      }
    },
    {
      "cell_type": "markdown",
      "source": [
        "![image.png](data:image/png;base64,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)"
      ],
      "metadata": {
        "id": "bzZY24idcPTZ"
      }
    },
    {
      "cell_type": "markdown",
      "source": [
        "## Voltando para análise... 🕵🏾‍♀️"
      ],
      "metadata": {
        "id": "o0QwEEW-flu5"
      }
    },
    {
      "cell_type": "markdown",
      "source": [
        "Agora nós temos duas bases: uma nos mostra o total de candidaturas por município (```tnegras```) e a outra nos mostra o totald e eleitas por município (```eleit_muni```). Vamos integrar uma a outra.\n",
        "\n",
        "Queremos criar uma tabela onde tenha apenas o gênero e os municípios. Você já fez isso antes.\n",
        "\n",
        "Seu script deve estar semelhante a este abaixo."
      ],
      "metadata": {
        "id": "dIVCaEu9fpq8"
      }
    },
    {
      "cell_type": "code",
      "source": [
        "#olhando as variáveis que eu quero de fato\n",
        "names(elei_muni)"
      ],
      "metadata": {
        "colab": {
          "base_uri": "https://localhost:8080/",
          "height": 34
        },
        "id": "CoWvR4qRgo3N",
        "outputId": "3b010bd0-753c-4931-c61a-7f5431f7af18"
      },
      "execution_count": 31,
      "outputs": [
        {
          "output_type": "display_data",
          "data": {
            "text/html": [
              "<style>\n",
              ".list-inline {list-style: none; margin:0; padding: 0}\n",
              ".list-inline>li {display: inline-block}\n",
              ".list-inline>li:not(:last-child)::after {content: \"\\00b7\"; padding: 0 .5ex}\n",
              "</style>\n",
              "<ol class=list-inline><li>'feminino_'</li><li>'feminino_branca'</li><li>'feminino_indigena'</li><li>'feminino_negra'</li><li>'masculino_'</li><li>'masculino_amarela'</li><li>'masculino_branca'</li><li>'masculino_indigena'</li><li>'masculino_negra'</li><li>'municipio'</li></ol>\n"
            ],
            "text/markdown": "1. 'feminino_'\n2. 'feminino_branca'\n3. 'feminino_indigena'\n4. 'feminino_negra'\n5. 'masculino_'\n6. 'masculino_amarela'\n7. 'masculino_branca'\n8. 'masculino_indigena'\n9. 'masculino_negra'\n10. 'municipio'\n\n\n",
            "text/latex": "\\begin{enumerate*}\n\\item 'feminino\\_'\n\\item 'feminino\\_branca'\n\\item 'feminino\\_indigena'\n\\item 'feminino\\_negra'\n\\item 'masculino\\_'\n\\item 'masculino\\_amarela'\n\\item 'masculino\\_branca'\n\\item 'masculino\\_indigena'\n\\item 'masculino\\_negra'\n\\item 'municipio'\n\\end{enumerate*}\n",
            "text/plain": [
              " [1] \"feminino_\"          \"feminino_branca\"    \"feminino_indigena\" \n",
              " [4] \"feminino_negra\"     \"masculino_\"         \"masculino_amarela\" \n",
              " [7] \"masculino_branca\"   \"masculino_indigena\" \"masculino_negra\"   \n",
              "[10] \"municipio\"         "
            ]
          },
          "metadata": {}
        }
      ]
    },
    {
      "cell_type": "code",
      "source": [
        "#deixando apenas os municipios e o total de mulheres negras eleitas\n",
        "elei_muni <- elei_muni[,c(10,4)]"
      ],
      "metadata": {
        "id": "TpjhoIlqgvtT"
      },
      "execution_count": 32,
      "outputs": []
    },
    {
      "cell_type": "markdown",
      "source": [
        "E preciamos retirar o nome das linhas."
      ],
      "metadata": {
        "id": "whW3dJGaolKi"
      }
    },
    {
      "cell_type": "code",
      "source": [
        "#tirando o nome das linhas\n",
        "row.names(elei_muni) <- NULL"
      ],
      "metadata": {
        "id": "rPIMvX89hDa7"
      },
      "execution_count": 33,
      "outputs": []
    },
    {
      "cell_type": "markdown",
      "source": [
        "Faremos a mesma coisa para a tabela que criamos a partir da tabela de candidatas (```tnegras```)."
      ],
      "metadata": {
        "id": "DMvQD2t_pzuD"
      }
    },
    {
      "cell_type": "code",
      "source": [
        "#olhando as variáveis que eu quero de fato\n",
        "names(tnegras)"
      ],
      "metadata": {
        "colab": {
          "base_uri": "https://localhost:8080/",
          "height": 34
        },
        "id": "bL4LVgLip9ci",
        "outputId": "2a5291f0-3bb5-4dd5-f0e2-e569cfc55f83"
      },
      "execution_count": 34,
      "outputs": [
        {
          "output_type": "display_data",
          "data": {
            "text/html": [
              "<style>\n",
              ".list-inline {list-style: none; margin:0; padding: 0}\n",
              ".list-inline>li {display: inline-block}\n",
              ".list-inline>li:not(:last-child)::after {content: \"\\00b7\"; padding: 0 .5ex}\n",
              "</style>\n",
              "<ol class=list-inline><li>'feminino_'</li><li>'feminino_amarela'</li><li>'feminino_branca'</li><li>'feminino_indigena'</li><li>'feminino_negra'</li><li>'masculino_'</li><li>'masculino_amarela'</li><li>'masculino_branca'</li><li>'masculino_indigena'</li><li>'masculino_negra'</li><li>'municipio'</li></ol>\n"
            ],
            "text/markdown": "1. 'feminino_'\n2. 'feminino_amarela'\n3. 'feminino_branca'\n4. 'feminino_indigena'\n5. 'feminino_negra'\n6. 'masculino_'\n7. 'masculino_amarela'\n8. 'masculino_branca'\n9. 'masculino_indigena'\n10. 'masculino_negra'\n11. 'municipio'\n\n\n",
            "text/latex": "\\begin{enumerate*}\n\\item 'feminino\\_'\n\\item 'feminino\\_amarela'\n\\item 'feminino\\_branca'\n\\item 'feminino\\_indigena'\n\\item 'feminino\\_negra'\n\\item 'masculino\\_'\n\\item 'masculino\\_amarela'\n\\item 'masculino\\_branca'\n\\item 'masculino\\_indigena'\n\\item 'masculino\\_negra'\n\\item 'municipio'\n\\end{enumerate*}\n",
            "text/plain": [
              " [1] \"feminino_\"          \"feminino_amarela\"   \"feminino_branca\"   \n",
              " [4] \"feminino_indigena\"  \"feminino_negra\"     \"masculino_\"        \n",
              " [7] \"masculino_amarela\"  \"masculino_branca\"   \"masculino_indigena\"\n",
              "[10] \"masculino_negra\"    \"municipio\"         "
            ]
          },
          "metadata": {}
        }
      ]
    },
    {
      "cell_type": "code",
      "source": [
        "#deixando apenas os municipios e o total de mulheres negras eleitas\n",
        "tnegras <- tnegras[,c(11,5)]"
      ],
      "metadata": {
        "id": "S7uINfDPqE8H"
      },
      "execution_count": 35,
      "outputs": []
    },
    {
      "cell_type": "code",
      "source": [
        "#tirando o nome das linhas\n",
        "row.names(tnegras) <- NULL"
      ],
      "metadata": {
        "id": "g9YhDEVgqQhP"
      },
      "execution_count": 36,
      "outputs": []
    },
    {
      "cell_type": "markdown",
      "source": [
        "Agora que as duas bases estão bem bonitas, vamos integrar isso para criar uma base a partir da variável ```municipio```."
      ],
      "metadata": {
        "id": "GcNjRKrCqhdk"
      }
    },
    {
      "cell_type": "code",
      "source": [
        "base_final <- merge(elei_muni, tnegras, by=\"municipio\")"
      ],
      "metadata": {
        "id": "HMcbjzAarY3y"
      },
      "execution_count": 37,
      "outputs": []
    },
    {
      "cell_type": "markdown",
      "source": [
        "Para deixar mais legível, vamos mudar o nome das colunas, passando os nomes em suas respectivas ordens na base."
      ],
      "metadata": {
        "id": "8gL_EaGNr7Ln"
      }
    },
    {
      "cell_type": "code",
      "source": [
        "names(base_final) <- c(\"municipio\", \"eleitas_negras\", \"candidatas_negras\")"
      ],
      "metadata": {
        "id": "wzyrpxBfr-yJ"
      },
      "execution_count": 38,
      "outputs": []
    },
    {
      "cell_type": "code",
      "source": [
        "names(base_final)"
      ],
      "metadata": {
        "colab": {
          "base_uri": "https://localhost:8080/",
          "height": 34
        },
        "id": "dG1-LK1Nrs_f",
        "outputId": "390527dc-d798-4ac8-f88c-505214b14654"
      },
      "execution_count": 39,
      "outputs": [
        {
          "output_type": "display_data",
          "data": {
            "text/html": [
              "<style>\n",
              ".list-inline {list-style: none; margin:0; padding: 0}\n",
              ".list-inline>li {display: inline-block}\n",
              ".list-inline>li:not(:last-child)::after {content: \"\\00b7\"; padding: 0 .5ex}\n",
              "</style>\n",
              "<ol class=list-inline><li>'municipio'</li><li>'eleitas_negras'</li><li>'candidatas_negras'</li></ol>\n"
            ],
            "text/markdown": "1. 'municipio'\n2. 'eleitas_negras'\n3. 'candidatas_negras'\n\n\n",
            "text/latex": "\\begin{enumerate*}\n\\item 'municipio'\n\\item 'eleitas\\_negras'\n\\item 'candidatas\\_negras'\n\\end{enumerate*}\n",
            "text/plain": [
              "[1] \"municipio\"         \"eleitas_negras\"    \"candidatas_negras\""
            ]
          },
          "metadata": {}
        }
      ]
    },
    {
      "cell_type": "markdown",
      "source": [
        "Agora você tem uma base que consegue responder nossa pergunta inicial. PARABÉNS! 🎉"
      ],
      "metadata": {
        "id": "U4BmdNIaBQmR"
      }
    },
    {
      "cell_type": "markdown",
      "source": [
        "# Acelera 🏃🏿‍♀️"
      ],
      "metadata": {
        "id": "OvQ6tOID693F"
      }
    },
    {
      "cell_type": "markdown",
      "source": [
        "Se você começou aqui é porque já tem algum conhecimento básico da linguagem.\n",
        "\n",
        "Como prometido, nesta sessão você vai encontrar apenas os scripts e comentários.\n",
        "\n",
        "Vamos lá!"
      ],
      "metadata": {
        "id": "WRGgPtbe7VEp"
      }
    },
    {
      "cell_type": "code",
      "source": [
        "#Carregando as bases de dados no Collab\n",
        "cand <- read.csv(\"https://raw.githubusercontent.com/escola-de-dados/tutorial-eleicoes/main/candidaturas_pe.csv\", colClasses = \"character\")\n",
        "elei <- read.csv(\"https://raw.githubusercontent.com/escola-de-dados/tutorial-eleicoes/main/resultado.csv\", colClasses = \"character\")\n",
        "muni <- read.csv(\"https://raw.githubusercontent.com/escola-de-dados/tutorial-eleicoes/main/webinar-analisando-representatividade-eleitorais/codigos_municipais.csv\", sep=\";\", colClasses = \"character\")"
      ],
      "metadata": {
        "id": "pPbMJAuN7kSv"
      },
      "execution_count": null,
      "outputs": []
    },
    {
      "cell_type": "code",
      "source": [
        "#Criando um conjunto de dados sem campos vazio\n",
        "cand <- subset(cand, id_candidato_bd!=\"\")\n",
        "elei <- subset(elei, id_candidato_bd!=\"\")"
      ],
      "metadata": {
        "id": "ZyMQdS617uZJ"
      },
      "execution_count": null,
      "outputs": []
    },
    {
      "cell_type": "code",
      "source": [
        "#consultando as variáveis que tem na base dos municipios\n",
        "names(muni)"
      ],
      "metadata": {
        "id": "D8QgZWId797z"
      },
      "execution_count": null,
      "outputs": []
    },
    {
      "cell_type": "code",
      "source": [
        "#deixando só as 2 variáveis que tenho interesse (código e nome do munícipio)\n",
        "muni <- muni[,c(12,13)]\n",
        "names(muni)"
      ],
      "metadata": {
        "id": "kDnDumyU8CfZ"
      },
      "execution_count": null,
      "outputs": []
    },
    {
      "cell_type": "code",
      "source": [
        "#dando o merge da base de candidatos com a de municípios. Está salvo no objeto cand, mas você pode utilizar outro objeto.\n",
        "cand <- merge(cand, muni, by.x=\"id_municipio\", by.y = \"Código.Município.Completo\",\n",
        "              all.x = T, all.y = F, incomparables = NA)"
      ],
      "metadata": {
        "id": "ZcXLEf8i8ExZ"
      },
      "execution_count": null,
      "outputs": []
    },
    {
      "cell_type": "code",
      "source": [
        "#transformando parda em negra\n",
        "cand$raca[which(cand$raca==\"parda\")] <- \"negra\""
      ],
      "metadata": {
        "id": "KPwun7Y78I48"
      },
      "execution_count": null,
      "outputs": []
    },
    {
      "cell_type": "code",
      "source": [
        "#transformando preta em negra\n",
        "cand$raca[which(cand$raca==\"preta\")] <- \"negra\""
      ],
      "metadata": {
        "id": "YdoD-qUo8OS9"
      },
      "execution_count": null,
      "outputs": []
    },
    {
      "cell_type": "code",
      "source": [
        "#juntando a variável gênero e raça\n",
        "cand$gen_raca <- paste(cand$genero, cand$raca, sep = \"_\")"
      ],
      "metadata": {
        "id": "g-ZLm8rI8QWX"
      },
      "execution_count": null,
      "outputs": []
    },
    {
      "cell_type": "code",
      "source": [
        "tnegras <- table(cand$Nome_Município, cand$gen_raca)"
      ],
      "metadata": {
        "id": "HCu2Tlt48T1P"
      },
      "execution_count": null,
      "outputs": []
    },
    {
      "cell_type": "code",
      "source": [
        "tnegras <- as.data.frame.matrix(tnegras)"
      ],
      "metadata": {
        "id": "aN4s9J2J8e_1"
      },
      "execution_count": null,
      "outputs": []
    },
    {
      "cell_type": "code",
      "source": [
        "#transpondo o nome dos municípios para uma coluna\n",
        "tnegras$municipio <- row.names(tnegras)"
      ],
      "metadata": {
        "id": "WDsWh9fm8him"
      },
      "execution_count": null,
      "outputs": []
    },
    {
      "cell_type": "code",
      "source": [
        "#criando uma base só com os resultados de eleitos\n",
        "elei <- subset(elei, resultado ==\"eleito por media\" | resultado==\"eleito por qp\")"
      ],
      "metadata": {
        "id": "Deuuzfa_8lld"
      },
      "execution_count": null,
      "outputs": []
    },
    {
      "cell_type": "code",
      "source": [
        "#fazendo merge de cand com eleit em uma nova variável chamada total\n",
        "total <- merge(cand, elei, by=\"id_candidato_bd\", all.x = F, all.y = T, incomparables = NA)"
      ],
      "metadata": {
        "id": "s-aBvMEJ82nd"
      },
      "execution_count": null,
      "outputs": []
    },
    {
      "cell_type": "code",
      "source": [
        "#criando uma tabela de eleito por municipio\n",
        "elei_muni <- table(total$Nome_Município, total$gen_raca)"
      ],
      "metadata": {
        "id": "RJx6WW1g86fT"
      },
      "execution_count": null,
      "outputs": []
    },
    {
      "cell_type": "code",
      "source": [
        "#transformando em um dataframe\n",
        "elei_muni <- as.data.frame.matrix(elei_muni)"
      ],
      "metadata": {
        "id": "tcYDQsGf88gC"
      },
      "execution_count": null,
      "outputs": []
    },
    {
      "cell_type": "code",
      "source": [
        "#transpondo o nome dos municípios para uma coluna de municípios\n",
        "elei_muni$municipio <- row.names(elei_muni"
      ],
      "metadata": {
        "id": "YRtqEUkG9A1g"
      },
      "execution_count": null,
      "outputs": []
    },
    {
      "cell_type": "code",
      "source": [
        "#exportando a base\n",
        "write.csv(tnegras, \"candidatos_gen_raca_pe_2020.csv\", row.names = F)"
      ],
      "metadata": {
        "id": "h3Arfjq79FN4"
      },
      "execution_count": null,
      "outputs": []
    },
    {
      "cell_type": "code",
      "source": [
        "#olhando as variáveis que eu quero de fato\n",
        "names(elei_muni)"
      ],
      "metadata": {
        "id": "jDj8LIy59MIo"
      },
      "execution_count": null,
      "outputs": []
    },
    {
      "cell_type": "code",
      "source": [
        "#deixando apenas os municipios e o total de mulheres negras eleitas\n",
        "elei_muni <- elei_muni[,c(10,4)]"
      ],
      "metadata": {
        "id": "h5VVWw6Z9Ohn"
      },
      "execution_count": null,
      "outputs": []
    },
    {
      "cell_type": "code",
      "source": [
        "#retirando o nome das linhas\n",
        "row.names(elei_muni) <- NULL"
      ],
      "metadata": {
        "id": "zE4e8KTQ9Qlf"
      },
      "execution_count": null,
      "outputs": []
    },
    {
      "cell_type": "code",
      "source": [
        "#olhando as variáveis que eu quero de fato\n",
        "names(tnegras)"
      ],
      "metadata": {
        "id": "utE0q04A9SrY"
      },
      "execution_count": null,
      "outputs": []
    },
    {
      "cell_type": "code",
      "source": [
        "#retirando o nome das linhas\n",
        "row.names(tnegras) <- NULL"
      ],
      "metadata": {
        "id": "_EWavZnT9YCP"
      },
      "execution_count": null,
      "outputs": []
    },
    {
      "cell_type": "code",
      "source": [
        "#integrando para criar uma base só\n",
        "base_final <- merge(elei_muni, tnegras, by=\"municipio\")"
      ],
      "metadata": {
        "id": "cfXBGMuj9bRM"
      },
      "execution_count": null,
      "outputs": []
    },
    {
      "cell_type": "code",
      "source": [
        "#mudando o nome das colunas para um mais amigável\n",
        "names(base_final) <- c(\"municipio\", \"eleitas_negras\", \"candidatas_negras\")"
      ],
      "metadata": {
        "id": "tl8GRfX89eSi"
      },
      "execution_count": null,
      "outputs": []
    },
    {
      "cell_type": "markdown",
      "source": [
        "# Para ir além... 🚀"
      ],
      "metadata": {
        "id": "p4tU9iV_B-yt"
      }
    },
    {
      "cell_type": "markdown",
      "source": [
        "Você pode fazer mais entrevista a sua base, como por exemplo:\n",
        "\n",
        "*Qual município teve mais candidaturas negras?*"
      ],
      "metadata": {
        "id": "Peb2vrAwBjCp"
      }
    },
    {
      "cell_type": "code",
      "source": [
        "#coloca os municipios em ordem decrescente a partir da coluna de eleitas\n",
        "ordena_eleitas <- base_final[order(base_final$eleitas_negras, decreasing = TRUE), ]"
      ],
      "metadata": {
        "id": "KnrfOHd1AZei"
      },
      "execution_count": 40,
      "outputs": []
    },
    {
      "cell_type": "markdown",
      "source": [
        "*Qual a porcentagem de eleitas em relação as candidaturas?*"
      ],
      "metadata": {
        "id": "6P_MdIZfCj2A"
      }
    },
    {
      "cell_type": "code",
      "source": [
        "#coeficiente de eleicao de mulheres negras\n",
        "base_final$coeficiente <- base_final$eleitas_negras/base_final$candidatas_negras"
      ],
      "metadata": {
        "id": "Atstu6MFBfH2"
      },
      "execution_count": 41,
      "outputs": []
    },
    {
      "cell_type": "code",
      "source": [
        "#para melhorar a leitura dos coeficientes\n",
        "base_final$coeficiente <- base_final$coeficiente*100"
      ],
      "metadata": {
        "id": "06UywBTmDcyk"
      },
      "execution_count": 42,
      "outputs": []
    },
    {
      "cell_type": "code",
      "source": [
        "#formada números decimais para duas casas após a vírgula\n",
        "base_final$coeficiente <- round(base_final$coeficiente, 2)"
      ],
      "metadata": {
        "id": "z9ubr-51E4yX"
      },
      "execution_count": 43,
      "outputs": []
    },
    {
      "cell_type": "code",
      "source": [
        "base_final"
      ],
      "metadata": {
        "id": "MHtjVAIPGfLZ"
      },
      "execution_count": null,
      "outputs": []
    },
    {
      "cell_type": "markdown",
      "source": [
        "*Qual os 10 municípios com maior coeficiente de eleitas?*"
      ],
      "metadata": {
        "id": "gNC_f7WLEBHJ"
      }
    },
    {
      "cell_type": "code",
      "source": [
        "ordena_coeficiente <- base_final[order(base_final$coeficiente, decreasing = TRUE),]\n",
        "ordena_10 <- head(ordena_coeficiente, 10)\n",
        "ordena_10"
      ],
      "metadata": {
        "id": "OWuE0uEtEOH3"
      },
      "execution_count": null,
      "outputs": []
    },
    {
      "cell_type": "markdown",
      "source": [
        "Você pode também exporta esses dados e criar uma visualização em plataformas como online como [Flourish](https://flourish.studio/), por exemplo. Enfim, dê asas a sua imaginação!\n",
        "\n",
        "A linguagem não se esgota aqui. Caso tenha interesse, continue seus estudos utilizando a cartilha Dados sem caô (link na seção de links úteis) e siga avançando com outros materiais.\n",
        "\n",
        "Qualquer dúvida, manda a pergunta no nosso [fórum de jornalismo de dados](https://forum.jornalismodedados.org/).\n",
        "\n",
        "Até a próxima! 👋"
      ],
      "metadata": {
        "id": "kZuHBRfbH47s"
      }
    }
  ]
}